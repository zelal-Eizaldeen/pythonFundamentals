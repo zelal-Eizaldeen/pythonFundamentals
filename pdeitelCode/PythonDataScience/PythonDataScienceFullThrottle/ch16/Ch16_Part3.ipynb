{
 "cells": [
  {
   "cell_type": "markdown",
   "metadata": {},
   "source": [
    "&copy; 2024 by Pearson Education, Inc. All Rights Reserved. The content in this notebook is based on the book [**Python for Programmers**](https://amzn.to/2VvdnxE)."
   ]
  },
  {
   "cell_type": "code",
   "execution_count": null,
   "metadata": {},
   "outputs": [],
   "source": [
    "# enable high-res images in notebook \n",
    "%config InlineBackend.figure_format = 'retina'"
   ]
  },
  {
   "cell_type": "code",
   "execution_count": 1,
   "metadata": {
    "tags": []
   },
   "outputs": [
    {
     "data": {
      "text/html": [
       "<!-- CSS settings for this notbook -->\n",
       "<style>\n",
       "    h1 {color:#BB0000}\n",
       "    h2 {color:purple}\n",
       "    h3 {color:#0099ff}\n",
       "    hr {    \n",
       "        border: 0;\n",
       "        height: 3px;\n",
       "        background: #333;\n",
       "        background-image: linear-gradient(to right, #ccc, black, #ccc);\n",
       "    }\n",
       "</style>\n"
      ],
      "text/plain": [
       "<IPython.core.display.HTML object>"
      ]
     },
     "metadata": {},
     "output_type": "display_data"
    }
   ],
   "source": [
    "%%html\n",
    "<!-- CSS settings for this notbook -->\n",
    "<style>\n",
    "    h1 {color:#BB0000}\n",
    "    h2 {color:purple}\n",
    "    h3 {color:#0099ff}\n",
    "    hr {    \n",
    "        border: 0;\n",
    "        height: 3px;\n",
    "        background: #333;\n",
    "        background-image: linear-gradient(to right, #ccc, black, #ccc);\n",
    "    }\n",
    "</style>"
   ]
  },
  {
   "cell_type": "markdown",
   "metadata": {
    "tags": []
   },
   "source": [
    "# 16. Big Data: Hadoop, Spark, NoSQL and IoT \n"
   ]
  },
  {
   "cell_type": "markdown",
   "metadata": {},
   "source": [
    "# 16.8 Internet of Things and Dashboards\n",
    "\n",
    "| Small subset of IoT device types and applications |\n",
    "| --- |\n",
    "| **activity trackers**—Apple Watch, FitBit, …\n",
    "| **personal assistants**—Amazon Echo (Alexa), Apple HomePod (Siri), Google Home (Google Assistant)\n",
    "| **appliances**—ovens, coffee makers, refrigerators, …\n",
    "| **driverless cars**\n",
    "| **earthquake sensors**\n",
    "| **healthcare**—blood glucose monitors for diabetics, blood pressure monitors, electrocardiograms (EKG/ECG), electroencephalograms (EEG), heart monitors, ingestible sensors, pacemakers, sleep trackers, …\n",
    "| **sensors**—chemical, gas, GPS, humidity, light, motion, pressure, temperature, …\n",
    "| **smart home**—lights, garage openers, video cameras, doorbells, irrigation controllers, security devices, smart locks, smart plugs, smoke detectors, thermostats, air vents\n",
    "| **tracking devices**\n",
    "| **wireless network devices**"
   ]
  },
  {
   "cell_type": "markdown",
   "metadata": {},
   "source": [
    "<hr style=\"height:2px; border:none; color:#000; background-color:#000;\">"
   ]
  },
  {
   "cell_type": "markdown",
   "metadata": {},
   "source": [
    "## Publish and Subscribe \n",
    "* **IoT devices** (and more) commonly communicate via **pub/sub (publisher/subscriber) systems**\n",
    "* **Publisher** &mdash; Anything that **sends a message** to a **cloud-based service**, which in turn **sends** that **message** to all **subscribers**\n",
    "    * **Publisher** specifies a **topic** or **channel**\n",
    "* **Subscriber** specifies one or more **topics** or **channels** for which they’d like to **receive messages**"
   ]
  },
  {
   "cell_type": "markdown",
   "metadata": {},
   "source": [
    "<hr style=\"height:2px; border:none; color:#000; background-color:#000;\">"
   ]
  },
  {
   "cell_type": "markdown",
   "metadata": {},
   "source": [
    "## Visualizing a PubNub Sample Live Stream \n",
    "* **PubNub** is geared to **real-time pub/sub applications**\n",
    "    * Up to 1 million free transactions per month\n",
    "    * https://www.pubnub.com/pricing/\n",
    "* Many **use-cases** \n",
    "    * IoT, chat, online multiplayer games, social apps, collaborative apps\n",
    "* Provides several **demo live streams**, including one that **simulates IoT sensors** \n",
    "* Common to **visualize** live data **streams** for **monitoring purposes**"
   ]
  },
  {
   "cell_type": "markdown",
   "metadata": {},
   "source": [
    "<hr style=\"height:2px; border:none; color:#000; background-color:#000;\">"
   ]
  },
  {
   "cell_type": "markdown",
   "metadata": {
    "tags": []
   },
   "source": [
    "## Creating a Python PubNub Subscriber (1 of 2)\n",
    "* **`pubnub` module** for performing **pub/sub operations**\n",
    "* Provides several [**sample streams for you to experiment with**](https://www.pubnub.com/demos/real-time-data-streaming/?show=demo), including\n",
    "\t* **Twitter** live feed\n",
    "\t* **Wikipedia Changes**\n",
    "\t* **Game State Sync**—**Simulated**: multiplayer game data\n",
    "\t* **Sensor Network**—**Simulated sensor data**: radiation, humidity, temperature and ambient light\n",
    "\t* **Market Orders**: **Simulated stock orders** for five fake companies"
   ]
  },
  {
   "cell_type": "markdown",
   "metadata": {},
   "source": [
    "<hr style=\"height:2px; border:none; color:#000; background-color:#000;\">"
   ]
  },
  {
   "cell_type": "markdown",
   "metadata": {},
   "source": [
    "## Creating a Python PubNub Subscriber (2 of 2)\n",
    "* We'll **subscribe** to their **Market Orders stream**, then **visualize** changing stock prices in a **barplot**\n",
    "* `pip install \"pubnub>=7.3.2\"`\n",
    "* [PubNub Python SDK documentation](https://www.pubnub.com/docs/sdks/python)\n",
    "* **`stocklistener.py`** subscribes to the stream and visualizes the stock prices"
   ]
  },
  {
   "cell_type": "markdown",
   "metadata": {},
   "source": [
    "<hr style=\"height:2px; border:none; color:#000; background-color:#000;\">"
   ]
  },
  {
   "cell_type": "markdown",
   "metadata": {},
   "source": [
    "### Message Format\n",
    "* **Simulated Market Orders** stream returns **JSON objects** containing five key–value pairs with the keys **`'bid_price'`**, **`'order_quantity'`**, **`'symbol'`**, **`'timestamp'`** and **`'trade_type'`**\n",
    "    * We’ll use `'bid_price'` and `'symbol'`\n",
    "* **PubNub client** returns **JSON objects** as Python **dictionaries**"
   ]
  },
  {
   "cell_type": "markdown",
   "metadata": {},
   "source": [
    "<hr style=\"height:2px; border:none; color:#000; background-color:#000;\">"
   ]
  },
  {
   "cell_type": "markdown",
   "metadata": {},
   "source": [
    "### Importing the Libraries\n",
    "```python\n",
    "# stocklistener.py\n",
    "\"\"\"Visualizing a PubNub live stream.\"\"\"\n",
    "from matplotlib import animation\n",
    "import matplotlib.pyplot as plt\n",
    "import pandas as pd\n",
    "import random \n",
    "import seaborn as sns\n",
    "import sys\n",
    "import keys\n",
    "\n",
    "from pubnub.callbacks import SubscribeCallback\n",
    "from pubnub.enums import PNStatusCategory\n",
    "from pubnub.pnconfiguration import PNConfiguration\n",
    "from pubnub.pubnub import PubNub\n",
    "\n",
    "```"
   ]
  },
  {
   "cell_type": "markdown",
   "metadata": {},
   "source": [
    "<hr style=\"height:2px; border:none; color:#000; background-color:#000;\">"
   ]
  },
  {
   "cell_type": "markdown",
   "metadata": {},
   "source": [
    "### Class `StockSubscriberCallback`\n",
    "* A PubNub stream **listener** receives **status notifications** and **messages from the channel**\n",
    "* Subclass of **`SubscribeCallback`** (module `pubnub.callbacks`)\n",
    "* **Overridden method `status`** &mdash; called by PubNub client each time a **status notification arrives**\n",
    "    * We check for **subscribed to** or **unsubscribed from** a channel messages\n",
    "* **Overridden method `message`** &mdash; called when a **message arrives from the channel**\n",
    "    * Stores new stock price\n",
    "\n",
    "```python\n",
    "class StockSubscriberCallback(SubscribeCallback):\n",
    "    \"\"\"StockSubscriberCallback receives messages from PubNub.\"\"\"\n",
    "    def __init__(self, df, limit=1000):\n",
    "        \"\"\"Create instance variables for tracking number of tweets.\"\"\"\n",
    "        self.df = df  # DataFrame to store last stock prices\n",
    "        self.order_count = 0\n",
    "        self.MAX_ORDERS = limit  # 1000 by default\n",
    "        super().__init__()  # call superclass's init\n",
    "```"
   ]
  },
  {
   "cell_type": "markdown",
   "metadata": {},
   "source": [
    "```python\n",
    "    def status(self, pubnub, status):\n",
    "        if status.category == PNStatusCategory.PNConnectedCategory:\n",
    "            print('Connected to PubNub')\n",
    "        elif status.category == PNStatusCategory.PNAcknowledgmentCategory:\n",
    "            print('Disconnected from PubNub')\n",
    "```"
   ]
  },
  {
   "cell_type": "markdown",
   "metadata": {},
   "source": [
    "```python\n",
    "    def message(self, pubnub, message):\n",
    "        symbol = message.message['symbol']\n",
    "        bid_price = message.message['bid_price']\n",
    "        print(symbol, bid_price)\n",
    "        self.df.at[companies.index(symbol), 'price'] = bid_price\n",
    "        self.order_count += 1\n",
    "        \n",
    "        # if MAX_ORDERS is reached, unsubscribe from PubNub channel\n",
    "        if self.order_count == self.MAX_ORDERS:\n",
    "            pubnub.unsubscribe_all()\n",
    "```"
   ]
  },
  {
   "cell_type": "markdown",
   "metadata": {},
   "source": [
    "<hr style=\"height:2px; border:none; color:#000; background-color:#000;\">"
   ]
  },
  {
   "cell_type": "markdown",
   "metadata": {},
   "source": [
    "### Function `update` Visualizes the Stock Prices \n",
    "\n",
    "```python\n",
    "def update(frame_number):\n",
    "    \"\"\"Configures bar plot contents for each animation frame.\"\"\"\n",
    "    plt.cla()  # clear old barplot\n",
    "    axes = sns.barplot(\n",
    "        data=companies_df, x='company', y='price', palette='cool')\n",
    "    axes.set(xlabel='Company', ylabel='Price')  \n",
    "    plt.tight_layout()\n",
    "```"
   ]
  },
  {
   "cell_type": "markdown",
   "metadata": {},
   "source": [
    "<hr style=\"height:2px; border:none; color:#000; background-color:#000;\">"
   ]
  },
  {
   "cell_type": "markdown",
   "metadata": {},
   "source": [
    "### Configuring the Application\n",
    "\n",
    "```python\n",
    "if __name__ == '__main__':\n",
    "    sns.set_style('whitegrid')  # white background with gray grid lines\n",
    "    figure = plt.figure('Stock Prices')  # Figure for animation\n",
    "```"
   ]
  },
  {
   "cell_type": "markdown",
   "metadata": {},
   "source": [
    "<hr style=\"height:2px; border:none; color:#000; background-color:#000;\">"
   ]
  },
  {
   "cell_type": "markdown",
   "metadata": {},
   "source": [
    "### Configuring the PubNub Client\n",
    "* Specify the **PubNub subscription key**\n",
    "    * **Used with the channel name** to **subscribe to the channel**\n",
    "* The `SensorSubscriberCallback` object is passed to the **`PubNub` client’s `add_listener` method** to register it to **receive messages from the channel**\n",
    "\n",
    "```python\n",
    "    # set up pubnub-market-orders sensor stream key\n",
    "    config = PNConfiguration()\n",
    "    config.subscribe_key = 'sub-c-4377ab04-f100-11e3-bffd-02ee2ddab7fe'\n",
    "    config.user_id = keys.pubnub_user_id \n",
    "\n",
    "    # create PubNub client and register a SubscribeCallback\n",
    "    pubnub = PubNub(config) \n",
    "    pubnub.add_listener(\n",
    "        StockSubscriberCallback(df=companies_df, \n",
    "            limit=int(sys.argv[1] if len(sys.argv) > 1 else 1000))\n",
    "```"
   ]
  },
  {
   "cell_type": "markdown",
   "metadata": {},
   "source": [
    "<hr style=\"height:2px; border:none; color:#000; background-color:#000;\">"
   ]
  },
  {
   "cell_type": "markdown",
   "metadata": {
    "tags": []
   },
   "source": [
    "### Subscribing to the Channel\n",
    "* **Completes subscription process** by indicating that we wish to **receive messages** from **channel `'pubnub-market-orders'`**\n",
    "* **`execute()`** tells client to **begin listening** for messages\n",
    "\n",
    "```python\n",
    "    # subscribe to pubnub-sensor-network channel and begin streaming\n",
    "    pubnub.subscribe().channels('pubnub-market-orders').execute()\n",
    "```"
   ]
  },
  {
   "cell_type": "markdown",
   "metadata": {},
   "source": [
    "<hr style=\"height:2px; border:none; color:#000; background-color:#000;\">"
   ]
  },
  {
   "cell_type": "markdown",
   "metadata": {
    "tags": []
   },
   "source": [
    "### Configuring the FuncAnimation and Displaying the Window\n",
    "* **Matplotlib’s `show` method** normally **blocks** a script from continuing until you close the `Figure`\n",
    "    * **`block=False`** allows execution to continue \n",
    "    * we'll **configure Pubnub client** next\n",
    "* For **detailed intro to Matplotlib `FuncAnimation`**, see my [**Python Fundamentals LiveLessons videos**](https://learning.oreilly.com/videos/python-fundamentals/9780135917411/9780135917411-PFLL_Lesson06_17) (two videos) and in [**Python for Programmers, Section 6.4**](https://learning.oreilly.com/library/view/python-for-programmers/9780135231364/ch06.xhtml#ch06lev1sec4)\n",
    "\n",
    "```python\n",
    "    # configure and start animation that calls function update\n",
    "    stock_animation = animation.FuncAnimation(\n",
    "        figure, update, repeat=False, interval=33)\n",
    "    plt.show()  # keeps graph on screen until you dismiss its window\n",
    "```"
   ]
  },
  {
   "cell_type": "code",
   "execution_count": null,
   "metadata": {
    "jupyter": {
     "source_hidden": true
    },
    "tags": []
   },
   "outputs": [],
   "source": [
    "%matplotlib widget"
   ]
  },
  {
   "cell_type": "code",
   "execution_count": null,
   "metadata": {
    "jupyter": {
     "source_hidden": true
    },
    "tags": []
   },
   "outputs": [],
   "source": [
    "# stocklistener.py\n",
    "\"\"\"Visualizing a PubNub live stream.\"\"\"\n",
    "from matplotlib import animation\n",
    "import matplotlib.pyplot as plt\n",
    "import pandas as pd\n",
    "import random \n",
    "import seaborn as sns\n",
    "import sys\n",
    "import uuid\n",
    "\n",
    "from pubnub.callbacks import SubscribeCallback\n",
    "from pubnub.enums import PNStatusCategory\n",
    "from pubnub.pnconfiguration import PNConfiguration\n",
    "from pubnub.pubnub import PubNub\n",
    "\n",
    "companies = ['Apple', 'Bespin Gas', 'Elerium', 'Google', 'Linen Cloth']\n",
    "\n",
    "# DataFrame to store last stock prices \n",
    "companies_df = pd.DataFrame(\n",
    "    {'company': companies, 'price' : [0, 0, 0, 0, 0]})\n",
    " \n",
    "class SensorSubscriberCallback(SubscribeCallback):\n",
    "    \"\"\"SensorSubscriberCallback receives messages from PubNub.\"\"\"\n",
    "    def __init__(self, df, limit=1000):\n",
    "        \"\"\"Create instance variables for tracking number of tweets.\"\"\"\n",
    "        self.df = df  # DataFrame to store last stock prices\n",
    "        self.order_count = 0\n",
    "        self.MAX_ORDERS = limit  # 1000 by default\n",
    "        super().__init__()  # call superclass's init\n",
    "\n",
    "    def status(self, pubnub, status):\n",
    "        if status.category == PNStatusCategory.PNConnectedCategory:\n",
    "            print('Subscribed')\n",
    "        elif status.category == PNStatusCategory.PNAcknowledgmentCategory:\n",
    "            print('Unsubscribed')\n",
    " \n",
    "    def message(self, pubnub, message):\n",
    "        symbol = message.message['symbol']\n",
    "        bid_price = message.message['bid_price']\n",
    "        print(symbol, bid_price)\n",
    "        self.df.at[companies.index(symbol), 'price'] = bid_price\n",
    "        self.order_count += 1\n",
    "        \n",
    "        # if MAX_ORDERS is reached, unsubscribe from PubNub channel\n",
    "        if self.order_count == self.MAX_ORDERS:\n",
    "            pubnub.unsubscribe_all()\n",
    "            \n",
    "def update(frame_number):\n",
    "    \"\"\"Configures bar plot contents for each animation frame.\"\"\"\n",
    "    plt.cla()  # clear old barplot\n",
    "    axes = sns.barplot(\n",
    "        data=companies_df, x='company', y='price', palette='cool') \n",
    "    axes.set(xlabel='Company', ylabel='Price')  \n",
    "\n",
    "#if __name__ == '__main__':\n",
    "sns.set_style('whitegrid')  # white background with gray grid lines\n",
    "figure = plt.figure('Stock Prices')  # Figure for animation\n",
    "\n",
    "# set up pubnub-market-orders sensor stream key\n",
    "config = PNConfiguration()\n",
    "config.subscribe_key = 'sub-c-99084bc5-1844-4e1c-82ca-a01b18166ca8'\n",
    "config.uuid = 'UUID_DeitelHeartbeatUnitTest' # new requirement in SDK 6.x\n",
    "\n",
    "# create PubNub client and register a SubscribeCallback\n",
    "pubnub = PubNub(config) \n",
    "pubnub.add_listener(\n",
    "    SensorSubscriberCallback(df=companies_df, \n",
    "        limit=1000)) #int(sys.argv[1] if len(sys.argv) > 1 else 1000)))\n",
    "\n",
    "# subscribe to pubnub-sensor-network channel and begin streaming\n",
    "pubnub.subscribe().channels('pubnub-market-orders').execute()\n",
    "\n",
    "# configure and start animation that calls function update\n",
    "stock_animation = animation.FuncAnimation(\n",
    "    figure, update, frames=1000, repeat=False, interval=33)\n",
    "plt.tight_layout()\n",
    "plt.show()  # keeps graph on screen until you dismiss its window\n",
    "\n",
    "\n",
    "#**************************************************************************\n",
    "#* (C) Copyright 1992-2018 by Deitel & Associates, Inc. and               *\n",
    "#* Pearson Education, Inc. All Rights Reserved.                           *\n",
    "#*                                                                        *\n",
    "#* DISCLAIMER: The authors and publisher of this book have used their     *\n",
    "#* best efforts in preparing the book. These efforts include the          *\n",
    "#* development, research, and testing of the theories and programs        *\n",
    "#* to determine their effectiveness. The authors and publisher make       *\n",
    "#* no warranty of any kind, expressed or implied, with regard to these    *\n",
    "#* programs or to the documentation contained in these books. The authors *\n",
    "#* and publisher shall not be liable in any event for incidental or       *\n",
    "#* consequential damages in connection with, or arising out of, the       *\n",
    "#* furnishing, performance, or use of these programs.                     *\n",
    "#**************************************************************************    \n",
    "    \n",
    "    \n",
    "\n"
   ]
  },
  {
   "cell_type": "markdown",
   "metadata": {},
   "source": [
    "<hr style=\"height:2px; border:none; color:#000; background-color:#000;\">"
   ]
  },
  {
   "cell_type": "markdown",
   "metadata": {},
   "source": [
    "## Simulating an Internet-Connected Thermostat in Python (1 of 2)\n",
    "* Common to use **IoT simulators** for **testing**, especially if you **do not have access to actual devices and sensors** during development\n",
    "* Many **cloud vendors** have **IoT simulation** capabilities\n",
    "    * **IBM Watson IoT Platform**, **IOTIFY.io**, ...\n",
    "* We'll create a **script** that **simulates IoT thermostat** \n",
    "    * Uses **PubNub** free tier to publish **JSON messages**"
   ]
  },
  {
   "cell_type": "markdown",
   "metadata": {},
   "source": [
    "<hr style=\"height:2px; border:none; color:#000; background-color:#000;\">"
   ]
  },
  {
   "cell_type": "markdown",
   "metadata": {},
   "source": [
    "## Simulating an Internet-Connected Thermostat in Python (2 of 2)\n",
    "* We'll simulate a **temperature sensor** that can issue\n",
    "    * **low-temperature warnings** before pipes freeze\n",
    "    * **high-temperature warnings** to indicate there might be a fire\n",
    "* Our messages will contain \n",
    "    * **location** \n",
    "    * **temperature**\n",
    "    * **low** or **high temperature warnings** if the temperature drops to **3 degrees Celsius** or rises to **35 degrees Celsius**\n",
    "* Use Plotly's **`dash`** to create a simple **dashboard**"
   ]
  },
  {
   "cell_type": "markdown",
   "metadata": {},
   "source": [
    "<hr style=\"height:2px; border:none; color:#000; background-color:#000;\">"
   ]
  },
  {
   "cell_type": "markdown",
   "metadata": {},
   "source": [
    "### Installing Libraries\n",
    "* `pip install dash plotly`\n",
    "* [Plotly's Dash documentation](https://dash.plotly.com/)"
   ]
  },
  {
   "cell_type": "markdown",
   "metadata": {},
   "source": [
    "<hr style=\"height:2px; border:none; color:#000; background-color:#000;\">"
   ]
  },
  {
   "cell_type": "markdown",
   "metadata": {},
   "source": [
    "### Invoking the `simulator_pubnub.py` Script\n",
    "* Script `simulator_pubnub.py` simulates our thermostat \n",
    "* Invoke script with two command-line arguments\n",
    "\n",
    "> `ipython simulator_pubnub.py 1000 1`\n",
    "\n",
    "* **number of total messages** to simulate \n",
    "* **delay** in seconds **between sending dweets**\n",
    "* Can **immediately begin tracking** messages on `pubnub.com` site at \n",
    "> https://admin.pubnub.com/\n",
    "* Go to **Debug Console**\n",
    "* Set active channel to **`deitel-thermostat-simulator`** and click **UPDATE**\n",
    "* Delete the default client panels\n",
    "* Click **+ Create Client** — messages should begin appearing in the new client"
   ]
  },
  {
   "cell_type": "markdown",
   "metadata": {},
   "source": [
    "<hr style=\"height:2px; border:none; color:#000; background-color:#000;\">"
   ]
  },
  {
   "cell_type": "markdown",
   "metadata": {},
   "source": [
    "### Publishing Messages \n",
    "* **`dweet.io`** is a public service, so **any app** can **publish** or **subscribe** to messages\n",
    "* **Do not need to register** to use the service\n",
    "* When publishing, specify a **unique name for your device** \n",
    "    * We used `'temperature-simulator-deitel-python'` \n",
    "* On first call to **`dweepy`’s `dweet_for` function** to send a dweet, `dweet.io` **creates the device name**\n",
    "    * Function receives **device name** and a **dictionary** representing the **message to send**\n",
    "    * Sends dictionary in **JSON** format"
   ]
  },
  {
   "cell_type": "markdown",
   "metadata": {},
   "source": [
    "<hr style=\"height:2px; border:none; color:#000; background-color:#000;\">"
   ]
  },
  {
   "cell_type": "markdown",
   "metadata": {},
   "source": [
    "### Script That Publishes Messages Through PubNub \n",
    " \n",
    "```python\n",
    "# simulator_pubnub.py\n",
    "\"\"\"A connected thermostat simulator that publishes JSON\n",
    "messages using PubNub\"\"\"\n",
    "import keys\n",
    "from pubnub.pnconfiguration import PNConfiguration\n",
    "from pubnub.pubnub import PubNub\n",
    "from pubnub.exceptions import PubNubException\n",
    "import random\n",
    "import sys\n",
    "import time\n",
    "\n",
    "MIN_CELSIUS_TEMP = -25  \n",
    "MAX_CELSIUS_TEMP = 45 \n",
    "MAX_TEMP_CHANGE = 2\n",
    "\n",
    "# get the number of messages to simulate and delay between them\n",
    "NUMBER_OF_MESSAGES = int(sys.argv[1]) \n",
    "MESSAGE_DELAY = int(sys.argv[2])\n",
    "\n",
    "# PubNub configuration\n",
    "config = PNConfiguration()\n",
    "config.user_id = keys.pubnub_user_id\n",
    "config.publish_key = keys.pubnub_publish_key \n",
    "config.subscribe_key = keys.pubnub_subscribe_key \n",
    "pubnub = PubNub(config)\n",
    "\n",
    "channel = 'deitel-thermostat-simulator'  # provide a unique name\n",
    "\n",
    "thermostat = {'Location': 'Home',\n",
    "              'Temperature': 20, \n",
    "              'Too_Low': False,\n",
    "              'Too_High': False}\n",
    "\n",
    "print('Temperature simulator starting')\n",
    "\n",
    "def publish_callback(envelope, status):\n",
    "    # Handle PUBLISH response and status\n",
    "    if status.is_error():\n",
    "        print(f'Failed to publish message: {status}')\n",
    "\n",
    "for message in range(1, NUMBER_OF_MESSAGES + 1):\n",
    "    # generate a random number in the range -MAX_TEMP_CHANGE \n",
    "    # through MAX_TEMP_CHANGE and add it to the current temperature\n",
    "    thermostat['Temperature'] += random.randrange(\n",
    "        -MAX_TEMP_CHANGE, MAX_TEMP_CHANGE + 1)\n",
    "    \n",
    "    # ensure that the temperature stays within range\n",
    "    if thermostat['Temperature'] < MIN_CELSIUS_TEMP:\n",
    "        thermostat['Temperature'] = MIN_CELSIUS_TEMP\n",
    "    \n",
    "    if thermostat['Temperature'] > MAX_CELSIUS_TEMP:\n",
    "        thermostat['Temperature'] = MAX_CELSIUS_TEMP\n",
    "    \n",
    "    # check for low temperature warning\n",
    "    if thermostat['Temperature'] < 3:\n",
    "        thermostat['Too_Low'] = True\n",
    "    else:\n",
    "        thermostat['Too_Low'] = False\n",
    "\n",
    "    # check for high temperature warning\n",
    "    if thermostat['Temperature'] > 35:\n",
    "        thermostat['Too_High'] = True\n",
    "    else:\n",
    "        thermostat['Too_High'] = False\n",
    "\n",
    "    # Publish the message to PubNub\n",
    "    try:\n",
    "        pubnub.publish().channel(channel).message(\n",
    "            thermostat).pn_async(publish_callback)\n",
    "    except PubNubException as e:\n",
    "        print(f\"An error occurred: {e}\")\n",
    "        sys.exit(1)\n",
    "    else:\n",
    "        print(f'Message {message}: {thermostat}\\r', end='')\n",
    "        \n",
    "    time.sleep(MESSAGE_DELAY)\n",
    "\n",
    "print('\\nTemperature simulator finished')\n",
    "```"
   ]
  },
  {
   "cell_type": "markdown",
   "metadata": {},
   "source": [
    "<hr style=\"height:2px; border:none; color:#000; background-color:#000;\">"
   ]
  },
  {
   "cell_type": "markdown",
   "metadata": {},
   "source": [
    "### Script That Subscribes to the Thermostat Messages and Visualizes them Using Plotly's Dash \n",
    "* View the dashboard at http://localhost:8050\n",
    " \n",
    "```python\n",
    "# simulator_dashboard.py\n",
    "\"\"\"Script That Subscribes to the Thermostat Messages \n",
    "and Visualizes them Using Plotly's Dash\"\"\"\n",
    "import dash\n",
    "from dash import dcc, html, Output, Input\n",
    "import plotly.graph_objs as go\n",
    "from pubnub.enums import PNStatusCategory\n",
    "from pubnub.pubnub import PubNub\n",
    "from pubnub.pnconfiguration import PNConfiguration\n",
    "from pubnub.callbacks import SubscribeCallback\n",
    "import keys \n",
    "\n",
    "# create Dash app named with the global variable __name__ \n",
    "app = dash.Dash(__name__)\n",
    "\n",
    "# create app's layout\n",
    "app.layout = html.Div([\n",
    "    dcc.Graph(id='temperature-gauge', style={'marginBottom': '0px'}),  \n",
    "    html.Div(id='fahrenheit-text', \n",
    "             style={'textAlign': 'center', \n",
    "                    'fontSize': 30, 'fontFamily': 'Arial'}),\n",
    "    html.Div([\n",
    "        html.Div([\n",
    "            html.Div(id='low-warning-light', \n",
    "                     style={'display': 'inline-block', 'width': '20px', \n",
    "                            'height': '20px', 'borderRadius': '50%'}),\n",
    "            html.Div(\"Too Low\", \n",
    "                     style={'display': 'inline-block', \n",
    "                            'fontSize': 16, 'fontFamily': 'Arial'})\n",
    "        ], style={'textAlign': 'center', 'marginTop': '10px'}),\n",
    "        html.Div([\n",
    "            html.Div(id='high-warning-light', \n",
    "                     style={'display': 'inline-block', 'width': '20px', \n",
    "                            'height': '20px', 'borderRadius': '50%'}),\n",
    "            html.Div(\"Too High\", \n",
    "                     style={'display': 'inline-block', \n",
    "                            'fontSize': 16, 'fontFamily': 'Arial'})\n",
    "        ], style={'textAlign': 'center', \n",
    "                  'marginTop': '10px'})\n",
    "    ]),\n",
    "    dcc.Interval(id='interval-component', \n",
    "                 interval=1000)  # refresh once per second\n",
    "], style={'fontFamily': 'Arial', 'width': '500px', 'margin': '0 auto'})\n",
    "\n",
    "# global variable to store latest message received from thermostat\n",
    "latest_message = None\n",
    "\n",
    "class ThermostatSubscribeCallback(SubscribeCallback):\n",
    "    \"\"\"ThermostatSubscribeCallback receives messages from PubNub.\"\"\"\n",
    "    \n",
    "    def __init__(self, max_messages=1000):\n",
    "        \"\"\"Creates instance variables for tracking number of messages.\"\"\"\n",
    "        self.message_count = 0\n",
    "        self.MAX_MESSAGES = max_messages  # 1000 by default\n",
    "        super().__init__()  # call superclass's init\n",
    "\n",
    "    def status(self, pubnub, status):\n",
    "        \"\"\"Processes status notifications from PubNub.\"\"\"\n",
    "        if status.category == PNStatusCategory.PNConnectedCategory:\n",
    "            print('Subscribed')\n",
    "        elif status.category == PNStatusCategory.PNAcknowledgmentCategory:\n",
    "            print('Unsubscribed')\n",
    "        else:\n",
    "            print(status.category)\n",
    " \n",
    "    def message(self, pubnub, message):\n",
    "        \"\"\"Receives each message PubNub pushes.\"\"\"\n",
    "        global latest_message\n",
    "        self.message_count += 1\n",
    "        latest_message = message.message\n",
    "         \n",
    "        # if MAX_MESSAGES reached, unsubscribe from PubNub channel\n",
    "        if self.message_count == self.MAX_MESSAGES:\n",
    "            pubnub.unsubscribe_all()\n",
    "         \n",
    "# set up the Dash app's callback that updates the UI \n",
    "@app.callback(\n",
    "    [Output('temperature-gauge', 'figure'),\n",
    "     Output('fahrenheit-text', 'children'),\n",
    "     Output('low-warning-light', 'style'),\n",
    "     Output('high-warning-light', 'style')],\n",
    "    [Input('interval-component', 'n_intervals')]\n",
    ")\n",
    "def update_dashboard(n):\n",
    "    # do not update unless latest_message contains a message\n",
    "    if latest_message is None:\n",
    "        raise dash.exceptions.PreventUpdate\n",
    "\n",
    "    # get the temperature from the message and convert it to Fahrenheit\n",
    "    temperature_c = latest_message.get('Temperature', 0)\n",
    "    temperature_f = temperature_c * 9 / 5 + 32\n",
    "    fahrenheit_text = f\"{temperature_f:.1f}°F\"\n",
    "\n",
    "    # create the gauge graph object (go) for the next update\n",
    "    gauge = go.Figure(go.Indicator(\n",
    "        mode=\"gauge+number\",\n",
    "        value=temperature_c,\n",
    "        domain={'x': [0, 1], 'y': [0, 1]},\n",
    "        title={'text': \"Temperature (°C)\"},\n",
    "        number={'font': {'family': \"Arial\"}}, \n",
    "        gauge={\n",
    "            'axis': {'range': [-25, 45], \n",
    "                     'tickfont': {'size': 12, 'family': 'Arial'}},\n",
    "            'bar': {'color': \"darkblue\"},\n",
    "            'steps': [\n",
    "                {'range': [-25, 0], 'color': 'cyan'},\n",
    "                {'range': [0, 45], 'color': 'orange'}\n",
    "            ],\n",
    "            'threshold': {\n",
    "                'line': {'color': \"red\", 'width': 4},\n",
    "                'thickness': 0.75,\n",
    "                'value': temperature_c\n",
    "            }\n",
    "        }\n",
    "    ))\n",
    "\n",
    "    # update warning lights based on values in latest message\n",
    "    low_light = latest_message.get('Too_Low', False)\n",
    "    high_light = latest_message.get('Too_High', False)\n",
    "\n",
    "    low_light_style = {\n",
    "        'display': 'inline-block',\n",
    "        'width': '20px', \n",
    "        'height': '20px', \n",
    "        'borderRadius': '50%', \n",
    "        'backgroundColor': 'red' if low_light else 'grey',\n",
    "        'marginRight': '10px'\n",
    "    }\n",
    "    high_light_style = {\n",
    "        'display': 'inline-block',\n",
    "        'width': '20px', \n",
    "        'height': '20px', \n",
    "        'borderRadius': '50%', \n",
    "        'backgroundColor': 'red' if high_light else 'grey',\n",
    "        'marginRight': '10px'\n",
    "    }\n",
    "\n",
    "    return gauge, fahrenheit_text, low_light_style, high_light_style\n",
    "\n",
    "# launch Dash server when this file is run as a script\n",
    "if __name__ == '__main__':\n",
    "    # PubNub client subscription info\n",
    "    config = PNConfiguration()\n",
    "    config.subscribe_key = keys.pubnub_subscribe_key\n",
    "    config.user_id = keys.pubnub_user_id # your login ID\n",
    "    \n",
    "    # create the pubnub client\n",
    "    pubnub = PubNub(config)\n",
    "    \n",
    "    # channel we'll subscribe to\n",
    "    CHANNEL_NAME = 'deitel-thermostat-simulator'\n",
    "    \n",
    "    # set up the listener and subscribe to the channel\n",
    "    pubnub.add_listener(ThermostatSubscribeCallback())\n",
    "    pubnub.subscribe().channels(CHANNEL_NAME).execute()\n",
    "\n",
    "    app.run_server(debug=True)\n",
    "```"
   ]
  },
  {
   "cell_type": "markdown",
   "metadata": {},
   "source": [
    "### `app.layout` defines structure and appearance of the dashboard\n",
    "* `html.Div([...], style={'fontFamily': 'Arial', 'width': '500px', 'margin': '0 auto'})`\n",
    "    * Main container for app's layout\n",
    "    * Subcontainers define various dashboard components\n",
    "* `dcc.Graph(id='temperature-gauge', style={'marginBottom': '0px'})`\n",
    "    * Creates a graph to display the temperature gauge\n",
    "    * `id` `'temperature-gauge'` links used by callback function that updates the gauge\n",
    "* `dcc.Interval(id='interval-component', interval=1000)`\n",
    "    * triggers dashboard update every 1000 milliseconds\n",
    "* `id` properties of components like `'temperature-gauge'`, `'fahrenheit-text'`, `'low-warning-light'`, `'high-warning-light'` are referenced in the `@app.callback` decorator to dynamically update these components based on data received from the PubNub subscription"
   ]
  },
  {
   "cell_type": "markdown",
   "metadata": {},
   "source": [
    "### `@app.callback` decorator and `update_dashboard` function dynamically update the dashboard\n",
    "* `@app.callback` Decorator\n",
    "    * Defines a callback function that updates the dashboard in response to input changes\n",
    "    * Connects callback function's inputs and outputs to specific app components \n",
    "    * Outputs: `Output('id', 'property')` specifies which component property to update\n",
    "        * `'temperature-gauge', 'figure'` updates the `figure` of the `temperature-gauge`.\n",
    "        * `'fahrenheit-text', 'children'` updates text (`children`) of `div` `fahrenheit-text`\n",
    "        * `'low-warning-light', 'style'` updates style of `div` `low-warning-light`\n",
    "        * `'high-warning-light', 'style'` updates style `div` `high-warning-light`\n",
    "    * Inputs: `Input('component_id', 'component_property')` determines what triggers the callback\n",
    "        * `'interval-component', 'n_intervals'` triggers callback every time the interval defined by `dcc.Interval` completes\n",
    "* `update_dashboard` Function\n",
    "    * Parameter is number of intervals that have passed\n",
    "    * Not used but necessary to receive callback's input is `n_intervals` property of `Interval` component\n",
    "    * Creates temperature gauge using Plotly's `go.Indicator`\n",
    "    * Updates styles of warning lights based on `Too_Low` or `Too_High`\n",
    "    * Returns to Dash a tuple of outputs specified in the `@app.callback`\n",
    "        * Figure for temperature gauge\n",
    "        * Text for Fahrenheit temperature\n",
    "        * Styles for low and high warning lights\n",
    "    * Dash updates the onscreen presentation"
   ]
  },
  {
   "cell_type": "markdown",
   "metadata": {},
   "source": [
    "### `go.Indicator`\n",
    "* From Plotly's Graph Objects (`go`) library\n",
    "* For gauges/dials that display single values\n",
    "* `mode=\"gauge+number\"`: indicator displays gauge + numeric value\n",
    "* `value=temperature_c`: current value to display\n",
    "* `domain={'x': [0, 1], 'y': [0, 1]}`: use plot's full available area \n",
    "* `title={'text': \"Temperature (°C)\"}`: gauge title \n",
    "* `number={'font': {'family': \"Arial\"}}`: customizes number's appearance\n",
    "* Gauge customizations\n",
    "    * `axis`: defines range of values and tick label attributes\n",
    "    * `bar`: defines appearance of bar indicating current value\n",
    "    * `steps`: subranges on the gauge, each with its own color\n",
    "    * `threshold`: draws a line with specified attributes at a specific value on the gauge"
   ]
  },
  {
   "cell_type": "markdown",
   "metadata": {},
   "source": [
    "<hr style=\"height:2px; border:none; color:#000; background-color:#000;\">"
   ]
  },
  {
   "cell_type": "markdown",
   "metadata": {},
   "source": [
    "# Resources\n",
    "### Many Free Big-Data Sources\n",
    "* Articles and sites with links to **hundreds of free big data sources**\n",
    "\n",
    "| Big-data sources |\n",
    "| :--- |\n",
    "| [**“The Best Tools for Using Twitter as a Data Source”**](https://www.methodspace.com/best-tools-twitter-data-source) |\n",
    "| [**“How to Use Wikipedia as a Data Source”**](https://www.thedataschool.co.uk/jeremy-kneebone/use-wikipedia-data-source/) |\n",
    "| [**“Awesome-Public-Datasets”**](https://github.com/caesar0301/awesome-public-datasets) |\n",
    "| [**“AWS Public Datasets”**](https://aws.amazon.com/public-datasets/) |\n",
    "| [**“Big Data And AI: 30 Amazing (And Free) Public Data Sources For 2018,”** by B. Marr](https://www.forbes.com/sites/bernardmarr/2018/02/26/big-data-and-ai-30-amazing-and-free-public-data-sources-for-2018/) |\n",
    "| [**“Datasets for Data Mining and Data Science”**](http://www.kdnuggets.com/datasets/index.html) |\n",
    "| [**“Exploring Open Data Sets”**](https://datascience.berkeley.edu/open-data-sets/) |\n",
    "| [**“Free Big Data Sources”**](http://datamics.com/free-big-data-sources/) |\n",
    "| [**_Hadoop Illuminated_, Chapter 16. Publicly Available Big Data Sets**](http://hadoopilluminated.com/hadoop_illuminated/Public_Bigdata_Sets.html) |\n",
    "| [**“List of Public Data Sources Fit for Machine Learning”**](https://blog.bigml.com/list-of-public-data-sources-fit-for-machine-learning/) |\n",
    "| [**“Open Data,”** Wikipedia](https://en.wikipedia.org/wiki/Open_data) |\n",
    "| [**“Open Data 500 Companies**”](http://www.opendata500.com/us/list/) |\n",
    "| [**“Other Interesting Resources/Big Data and Analytics Educational Resources and Research,”**, Bernard Marr](http://computing.derby.ac.uk/bigdatares/?page_id=223) |\n",
    "| [**“6 Amazing Sources of Practice Data Sets”**](https://www.jigsawacademy.com/6-amazing-sources-of-practice-data-sets/) |\n",
    "| [**“20 Big Data Repositories You Should Check Out”** M. Krivanek](http://www.datasciencecentral.com/profiles/blogs/20-free-big-data-sources-everyone-should-check-out) |\n",
    "| [**“70+ Websites to Get Large Data Repositories for Free”**](http://bigdata-madesimple.com/70-websites-to-get-large-data-repositories-for-free/) |\n",
    "| [**“Ten Sources of Free Big Data on Internet,”** A. Brown](https://www.linkedin.com/pulse/ten-sources-free-big-data-internet-alan-brown) |\n",
    "| [**“Top 20 Open Data Sources”**](https://www.linkedin.com/pulse/top-20-open-data-sources-zygimantas-jacikevicius) |\n",
    "| [**“We’re Setting Data, Code and APIs Free,”** NASA](https://open.nasa.gov/open-data/) |\n",
    "| [**“Where Can I Find Large Datasets Open to the Public?”** Quora](https://www.quora.com/Where-can-I-find-large-datasets-open-to-the-public) |"
   ]
  },
  {
   "cell_type": "markdown",
   "metadata": {},
   "source": [
    "<hr style=\"height:2px; border:none; color:#000; background-color:#000;\">"
   ]
  },
  {
   "cell_type": "markdown",
   "metadata": {},
   "source": [
    "### Kaggle Competition Site \n",
    "* **No obvious optimal solutions** for many **machine learning** and **deep learning tasks**\n",
    "* People’s **creativity is really the only limit**\n",
    "* Companies and organizations **fund competitions** \n",
    "    * Encourage people worldwide to **develop better-performing solutions** for something that’s important to their business or organization\n",
    "* Some companies offer **prize money** &mdash; Netflix once offered **\\$1,000,000** \n",
    "    * [Netflix wanted to get a 10% or better improvement in their model for determining whether people will like a movie, based on how they rated previous ones](https://netflixprize.com/rules.html)\n",
    "    * Used to help make better recommendations to members\n",
    "* Even if you do not win, **Kaggle** is a great way to get experience working on problems of current interest"
   ]
  },
  {
   "cell_type": "markdown",
   "metadata": {},
   "source": [
    "<hr style=\"height:2px; border:none; color:#000; background-color:#000;\">"
   ]
  },
  {
   "cell_type": "markdown",
   "metadata": {},
   "source": [
    "# More Info \n",
    "* See Lesson 16 in [**Python Fundamentals LiveLessons** here on O'Reilly Online Learning](https://learning.oreilly.com/videos/python-fundamentals/9780135917411)\n",
    "* See Chapter 16 in [**Python for Programmers** on O'Reilly Online Learning](https://learning.oreilly.com/library/view/python-for-programmers/9780135231364/)\n",
    "* See Chapter 17 in [**Intro Python for Computer Science and Data Science** on O'Reilly Online Learning](https://learning.oreilly.com/library/view/intro-to-python/9780135404799/)\n",
    "* Interested in a print book? Check out:\n",
    "\n",
    "| Python for Programmers<br>(640-page professional book) | Intro to Python for Computer<br>Science and Data Science<br>(880-page college textbook)\n",
    "| :------ | :------\n",
    "| <a href=\"https://amzn.to/2VvdnxE\"><img alt=\"Python for Programmers cover\" src=\"../images/PyFPCover.png\" width=\"150\" border=\"1\"/></a> | <a href=\"https://amzn.to/2LiDCmt\"><img alt=\"Intro to Python for Computer Science and Data Science: Learning to Program with AI, Big Data and the Cloud\" src=\"../images/IntroToPythonCover.png\" width=\"159\" border=\"1\"></a>\n",
    "\n",
    ">Please **do not** purchase both books&mdash;_Python for Programmers_ is a subset of _Intro to Python for Computer Science and Data Science_"
   ]
  },
  {
   "cell_type": "markdown",
   "metadata": {},
   "source": [
    "&copy; 1992-2024 by Pearson Education, Inc. All Rights Reserved. The content in this notebook is based on the book [**Python for Programmers**](https://amzn.to/2VvdnxE)."
   ]
  }
 ],
 "metadata": {
  "kernelspec": {
   "display_name": "Python 3 (ipykernel)",
   "language": "python",
   "name": "python3"
  },
  "language_info": {
   "codemirror_mode": {
    "name": "ipython",
    "version": 3
   },
   "file_extension": ".py",
   "mimetype": "text/x-python",
   "name": "python",
   "nbconvert_exporter": "python",
   "pygments_lexer": "ipython3",
   "version": "3.11.5"
  }
 },
 "nbformat": 4,
 "nbformat_minor": 4
}

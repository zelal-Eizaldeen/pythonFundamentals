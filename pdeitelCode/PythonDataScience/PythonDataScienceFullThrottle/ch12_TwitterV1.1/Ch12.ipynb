{
 "cells": [
  {
   "cell_type": "markdown",
   "metadata": {},
   "source": [
    "&copy; 2019 by Pearson Education, Inc. All Rights Reserved. The content in this notebook is based on the book [**Python for Programmers**](https://amzn.to/2VvdnxE)."
   ]
  },
  {
   "cell_type": "code",
   "execution_count": null,
   "metadata": {},
   "outputs": [],
   "source": [
    "# enable high-res images in notebook \n",
    "%config InlineBackend.figure_format = 'retina'"
   ]
  },
  {
   "cell_type": "markdown",
   "metadata": {},
   "source": [
    "# 12. Data Mining Twitter \n",
    "# Objectives\n",
    "* **Data-mine Twitter** with **Tweepy** library\n",
    "* Search **past tweets** with the **Twitter Search API**\n",
    "* Sample the **live tweet stream** with the **Twitter Streaming API**\n",
    "* Tweet object **meta data** \n",
    "* Use **NLP** to **clean and preprocess tweets** for analysis\n",
    "* Perform **sentiment analysis** on tweets\n",
    "* **Spot trends** with **Twitter’s Trends API**\n",
    "* **Map tweets** using **folium** and **OpenStreetMap**"
   ]
  },
  {
   "cell_type": "markdown",
   "metadata": {},
   "source": [
    "<hr style=\"height:2px; border:none; color:#000; background-color:#000;\">"
   ]
  },
  {
   "cell_type": "markdown",
   "metadata": {},
   "source": [
    "# 12.1 Introduction \n",
    "* Popular **big-data source**  \n",
    "* **Data mining** &mdash; searching large collections of data for **insights**\n",
    "* **Sentiment** in tweets can help **make predictions**  \n",
    "    * **Stock prices**\n",
    "    * **Election results**\n",
    "    * Likely **revenues** for a **new movie**\n",
    "    * **Success** of a company’s **marketing campaign**\n",
    "* Spot **faults in competitors’ products** \n",
    "* Spot **trending topics**\n",
    "* **Connect to Twitter** with easy-to-use **Web services**"
   ]
  },
  {
   "cell_type": "markdown",
   "metadata": {},
   "source": [
    "<hr style=\"height:2px; border:none; color:#000; background-color:#000;\">"
   ]
  },
  {
   "cell_type": "markdown",
   "metadata": {},
   "source": [
    "### What Is Twitter? \n",
    "* **Tweets**\n",
    "    * Short messages\n",
    "    * Initially limited to **140 characters**\n",
    "    * Increased in 2017 for most languages to **280 characters**\n",
    "* **Most open social network**&mdash;anyone can generally choose to follow anyone else\n",
    "* **Free programmatic access** to a small portion of **last 7 days' tweets**\n",
    "    * Can get **paid access** to larger portions the **all-time tweets database**\n",
    "* [**Hundreds of millions of tweets are sent every day** with many thousands sent per second](http://www.internetlivestats.com/twitter-statistics/)\n",
    "* Can tap into the **live stream** and get up to 1% of live tweets\n",
    "    * **Like “drinking from a fire hose”** "
   ]
  },
  {
   "cell_type": "markdown",
   "metadata": {},
   "source": [
    "<hr style=\"height:2px; border:none; color:#000; background-color:#000;\">"
   ]
  },
  {
   "cell_type": "markdown",
   "metadata": {},
   "source": [
    "# 12.2 Overview of the Twitter APIs \n",
    "* **Web services** are **methods** that you call in the **cloud**\n",
    "* Each **method** has a **web service endpoint** represented by a **URL**\n",
    "* **Caution**: **apps can be brittle**\n",
    "    * Internet connections can be lost, services can change, some services not available everywhere, ... \n",
    "* [Twitter API categories, subcategories and individual methods](https://developer.twitter.com/en/docs/api-reference-index.html)"
   ]
  },
  {
   "cell_type": "markdown",
   "metadata": {},
   "source": [
    "<hr style=\"height:2px; border:none; color:#000; background-color:#000;\">"
   ]
  },
  {
   "cell_type": "markdown",
   "metadata": {},
   "source": [
    "### Rate Limits and Restrictions\n",
    "* Twitter expects developers to **use its services responsibly**\n",
    "* **Understand rate limits** before using any method or you could get **blocked**\n",
    "* Some methods list both **user rate limits** and **app rate limits**\n",
    "    * We use **app rate limits** in the demos\n",
    "    * **User rate limits** for apps in which individuals to log into own Twitter accounts\n",
    "    * [Details on rate limiting](https://developer.twitter.com/en/docs/basics/rate-limiting)\n",
    "    * [Specific rate limits on individual API methods](https://developer.twitter.com/en/docs/basics/rate-limits) — also see each API method’s docs\n",
    "* **Follow Twitter’s rules/regulations or your developer account could be terminated.** \n",
    "\t* [Terms of Service](https://twitter.com/tos), [Developer Agreement](https://developer.twitter.com/en/developer-terms/agreement-and-policy.html), [Developer Policy](https://developer.twitter.com/en/developer-terms/policy.html), [Other restrictions](https://developer.twitter.com/en/developer-terms/more-on-restricted-use-cases)"
   ]
  },
  {
   "cell_type": "markdown",
   "metadata": {},
   "source": [
    "<hr style=\"height:2px; border:none; color:#000; background-color:#000;\">"
   ]
  },
  {
   "cell_type": "markdown",
   "metadata": {},
   "source": [
    "# 12.4 Getting Twitter Credentials—Creating an App \n",
    "* [Apply for a developer account](https://developer.twitter.com/en/apply-for-access) to use the APIs\n",
    "* Must get **credentials** to use Twitter APIs\n",
    "    * Part of the **OAuth 2.0 authentication process**\n",
    "    * **Tweepy handles OAuth 2.0 authentication details for you**\n",
    "* To get credentials, you’ll [**create an app**](https://developer.twitter.com) \n",
    "    * **Each app has separate credentials**\n",
    "    * I present **details on creating apps** in my [**Python Fundamentals LiveLessons videos for Section 12.4**](https://learning.oreilly.com/videos/python-fundamentals/9780135917411/9780135917411-PFLL_Lesson12_04) and [**Python for Programmers Section 12.4**](https://learning.oreilly.com/library/view/Python+for+Programmers,+First+Edition/9780135231364/ch12.xhtml#ch12lev1sec4)"
   ]
  },
  {
   "cell_type": "markdown",
   "metadata": {},
   "source": [
    "<hr style=\"height:2px; border:none; color:#000; background-color:#000;\">"
   ]
  },
  {
   "cell_type": "markdown",
   "metadata": {},
   "source": [
    "# 12.5 What’s in a Tweet? \n",
    "* Twitter API returns **JSON (JavaScript Object Notation)** objects\n",
    "* Text-based, human and computer readable\n",
    "* Like Python **dictionaries**\n",
    "* **JSON object format** &mdash; **all strings in double quotes (\")**\n",
    ">```python\n",
    ">{propertyName1: value1, propertyName2: value2}\n",
    ">```\n",
    "* **JSON array format (like Python list)**:\n",
    ">```python\n",
    ">[value1, value2, value3]\n",
    ">```\n",
    "* **Tweepy handles the JSON for you** behind the scenes"
   ]
  },
  {
   "cell_type": "markdown",
   "metadata": {},
   "source": [
    "<hr style=\"height:2px; border:none; color:#000; background-color:#000;\">"
   ]
  },
  {
   "cell_type": "markdown",
   "metadata": {},
   "source": [
    "### Key Properties of a Tweet Object \n",
    "* **Tweet object** contains **metadata**, including\n",
    "    * **text** of the tweet\n",
    "    * **extended tweet** for tweets up to **280 characters**\n",
    "\t* **when** it was created \n",
    "\t* **who** created it,\n",
    "\t* lists of **hashtags**, **URLs**, **`@`-mentions**, **images**, **videos** and more\n",
    "* [Our table of many key **tweet metadata attributes**](https://learning.oreilly.com/library/view/python-for-programmers/9780135231364/ch12.xhtml#ch12lev1sec5)\n",
    "* [Complete list of the tweet object attributes](https://developer.twitter.com/en/docs/tweets/data-dictionary/overview/tweet-object.html)\n",
    "* [General overview of all the JSON objects that Twitter APIs return, and links to the specific object details](https://developer.twitter.com/en/docs/tweets/data-dictionary/overview/intro-to-tweet-json)"
   ]
  },
  {
   "cell_type": "markdown",
   "metadata": {},
   "source": [
    "<hr style=\"height:2px; border:none; color:#000; background-color:#000;\">"
   ]
  },
  {
   "cell_type": "markdown",
   "metadata": {},
   "source": [
    "### Sample Tweet JSON\n",
    "* **Sample JSON** for this tweet from the **`@nasa`** account: \n",
    ">```\n",
    ">@NoFear1075 Great question, Anthony! Throughout its seven-year \n",
    ">mission, our Parker #SolarProbe spacecraft... https://t.co/xKd6ym8waT'\n",
    ">```"
   ]
  },
  {
   "cell_type": "markdown",
   "metadata": {},
   "source": [
    "<hr style=\"height:2px; border:none; color:#000; background-color:#000;\">"
   ]
  },
  {
   "cell_type": "markdown",
   "metadata": {},
   "source": [
    "```python\n",
    "{'created_at': 'Wed Sep 05 18:19:34 +0000 2018',\n",
    " 'id': 1037404890354606082,\n",
    " 'id_str': '1037404890354606082',\n",
    " 'text': '@NoFear1075 Great question, Anthony! Throughout its seven-year \n",
    "          mission, our Parker #SolarProbe spacecraft… https://t.co/xKd6ym8waT',\n",
    " 'truncated': True,\n",
    " 'entities': {'hashtags': [{'text': 'SolarProbe', 'indices': [84, 95]}],\n",
    "    'symbols': [],\n",
    "    'user_mentions': [{'screen_name': 'NoFear1075',\n",
    "        'name': 'Anthony Perrone',\n",
    "        'id': 284339791,\n",
    "        'id_str': '284339791',\n",
    "        'indices': [0, 11]}],\n",
    "    'urls': [{'url': 'https://t.co/xKd6ym8waT',\n",
    "        'expanded_url': 'https://twitter.com/i/web/status/1037404890354606082',\n",
    "        'display_url': 'twitter.com/i/web/status/1…',\n",
    "        'indices': [117, 140]}]},\n",
    " 'source': '<a href=\"http://twitter.com\" rel=\"nofollow\">Twitter Web Client</a>',\n",
    "```"
   ]
  },
  {
   "cell_type": "markdown",
   "metadata": {},
   "source": [
    "```python\n",
    " 'in_reply_to_status_id': 1037390542424956928,\n",
    " 'in_reply_to_status_id_str': '1037390542424956928',\n",
    " 'in_reply_to_user_id': 284339791,\n",
    " 'in_reply_to_user_id_str': '284339791',\n",
    " 'in_reply_to_screen_name': 'NoFear1075',\n",
    " 'user': {'id': 11348282,\n",
    "    'id_str': '11348282',\n",
    "    'name': 'NASA',\n",
    "    'screen_name': 'NASA',\n",
    "    'location': '',\n",
    "    'description': 'Explore the universe and discover our home planet with \n",
    "            @NASA. We usually post in EST (UTC-5)',\n",
    "    'url': 'https://t.co/TcEE6NS8nD',\n",
    "    'entities': {'url': {'urls': [{'url': 'https://t.co/TcEE6NS8nD',\n",
    "            'expanded_url': 'http://www.nasa.gov',\n",
    "            'display_url': 'nasa.gov',\n",
    "            'indices': [0, 23]}]},\n",
    "    'description': {'urls': []}},\n",
    "    'protected': False,\n",
    "    'followers_count': 29486081,\n",
    "    'friends_count': 287,\n",
    "    'listed_count': 91928,\n",
    "    'created_at': 'Wed Dec 19 20:20:32 +0000 2007',\n",
    "    'favourites_count': 3963,\n",
    "    'time_zone': None,\n",
    "    'geo_enabled': False,\n",
    "    'verified': True,\n",
    "    'statuses_count': 53147,\n",
    "    'lang': 'en',\n",
    "```"
   ]
  },
  {
   "cell_type": "markdown",
   "metadata": {},
   "source": [
    "```python\n",
    "    'contributors_enabled': False,\n",
    "    'is_translator': False,\n",
    "    'is_translation_enabled': False,\n",
    "    'profile_background_color': '000000',\n",
    "    'profile_background_image_url': 'http://abs.twimg.com/images/themes/theme1/bg.png',\n",
    "    'profile_background_image_url_https': 'https://abs.twimg.com/images/themes/theme1/bg.png',\n",
    "    'profile_image_url': 'http://pbs.twimg.com/profile_images/188302352/nasalogo_twitter_normal.jpg',\n",
    "    'profile_image_url_https': 'https://pbs.twimg.com/profile_images/188302352/nasalogo_twitter_normal.jpg',\n",
    "    'profile_banner_url': 'https://pbs.twimg.com/profile_banners/11348282/1535145490',\n",
    "    'profile_link_color': '205BA7',\n",
    "    'profile_sidebar_border_color': '000000',\n",
    "    'profile_sidebar_fill_color': 'F3F2F2',\n",
    "    'profile_text_color': '000000',\n",
    "    'profile_use_background_image': True,\n",
    "    'has_extended_profile': True,\n",
    "    'default_profile': False,\n",
    "    'default_profile_image': False,\n",
    "    'following': True,\n",
    "    'follow_request_sent': False,\n",
    "    'notifications': False,\n",
    "    'translator_type': 'regular'},\n",
    " 'geo': None,\n",
    " 'coordinates': None,\n",
    " 'place': None,\n",
    " 'contributors': None,\n",
    " 'is_quote_status': False,\n",
    " 'retweet_count': 7,\n",
    " 'favorite_count': 19,\n",
    " 'favorited': False,\n",
    " 'retweeted': False,\n",
    " 'possibly_sensitive': False,\n",
    " 'lang': 'en'}\n",
    "\n",
    "```"
   ]
  },
  {
   "cell_type": "markdown",
   "metadata": {},
   "source": [
    "<hr style=\"height:2px; border:none; color:#000; background-color:#000;\">"
   ]
  },
  {
   "cell_type": "markdown",
   "metadata": {},
   "source": [
    "# 12.6 Tweepy\n",
    "* [**Tweepy library**](http://www.tweepy.org/)—**one of the most popular Python Twitter clients**\n",
    "> `pip install tweepy>=4.3`\n",
    "* Easy access to Twitter’s capabilities\n",
    "* [Tweepy’s documentation](http://docs.tweepy.org/en/latest/)\n",
    "* One function in `tweetutilities.py` file depends on [**geopy**](https://github.com/geopy/geopy) (used later to **plot tweet locations**)\n",
    ">`conda install -c conda-forge geopy`"
   ]
  },
  {
   "cell_type": "markdown",
   "metadata": {},
   "source": [
    "<hr style=\"height:2px; border:none; color:#000; background-color:#000;\">"
   ]
  },
  {
   "cell_type": "markdown",
   "metadata": {},
   "source": [
    "# 12.7 Authenticating with Twitter Via Tweepy\n",
    "* **Authentication API**—Authenticate with your **Twitter credentials** to use other Twitter APIs\n",
    "* **`keys.py`** must contain your credentials"
   ]
  },
  {
   "cell_type": "code",
   "execution_count": null,
   "metadata": {},
   "outputs": [],
   "source": [
    "import tweepy"
   ]
  },
  {
   "cell_type": "code",
   "execution_count": null,
   "metadata": {},
   "outputs": [],
   "source": [
    "import keys"
   ]
  },
  {
   "cell_type": "code",
   "execution_count": null,
   "metadata": {},
   "outputs": [],
   "source": [
    "auth = tweepy.OAuthHandler(keys.consumer_key,\n",
    "                           keys.consumer_secret)"
   ]
  },
  {
   "cell_type": "code",
   "execution_count": null,
   "metadata": {},
   "outputs": [],
   "source": [
    "auth.set_access_token(keys.access_token,\n",
    "                      keys.access_token_secret)"
   ]
  },
  {
   "cell_type": "markdown",
   "metadata": {},
   "source": [
    "<hr style=\"height:2px; border:none; color:#000; background-color:#000;\">"
   ]
  },
  {
   "cell_type": "markdown",
   "metadata": {},
   "source": [
    "### Creating the Tweepy API Object\n",
    "* A **Tweepy `API` object** is your **gateway** to Twitter APIs"
   ]
  },
  {
   "cell_type": "markdown",
   "metadata": {},
   "source": [
    "* **CHANGE:** `wait_on_rate_limit_notify=True` (all errors are now reported, so they removed this)"
   ]
  },
  {
   "cell_type": "code",
   "execution_count": null,
   "metadata": {},
   "outputs": [],
   "source": [
    "api = tweepy.API(auth, wait_on_rate_limit=True) # , wait_on_rate_limit_notify=True)"
   ]
  },
  {
   "cell_type": "markdown",
   "metadata": {},
   "source": [
    "* **`auth`** is the **`OAuthHandler`**\n",
    "* **`wait_on_rate_limit=True`** &mdash; **wait 15 minutes** when app reaches an API method’s rate limit\n",
    "    * prevents violations\n",
    "* **`wait_on_rate_limit_notify=True`** &mdash; **display a command-line message** when you hit a rate limit"
   ]
  },
  {
   "cell_type": "markdown",
   "metadata": {},
   "source": [
    "<hr style=\"height:2px; border:none; color:#000; background-color:#000;\">"
   ]
  },
  {
   "cell_type": "markdown",
   "metadata": {},
   "source": [
    "# 12.8 Getting Information About a Twitter Account\n",
    "* **Accounts and Users API**—Access information about an account\n",
    "* `API` object’s **`get_user` method** returns a **`tweepy.models.User` object** for an account"
   ]
  },
  {
   "cell_type": "code",
   "execution_count": null,
   "metadata": {},
   "outputs": [],
   "source": [
    "nasa = api.get_user(screen_name='nasa')"
   ]
  },
  {
   "cell_type": "markdown",
   "metadata": {},
   "source": [
    "* Calls the **Twitter API’s [`users/show` method](https://developer.twitter.com/en/docs/accounts-and-users/follow-search-get-users/api-reference/get-users-show)**\n",
    "* **`tweepy.models` classes** correspond to returned **JSON objects**\n",
    "* **`User` class** corresponds to a Twitter [**user object**](https://developer.twitter.com/en/docs/tweets/data-dictionary/overview/user-object)\n",
    "* **`tweepy.models` classes** turn **JSON** into **Tweepy objects** "
   ]
  },
  {
   "cell_type": "markdown",
   "metadata": {},
   "source": [
    "<hr style=\"height:2px; border:none; color:#000; background-color:#000;\">"
   ]
  },
  {
   "cell_type": "markdown",
   "metadata": {},
   "source": [
    "### Getting Basic Account Information for `@nasa`\n",
    "* IDs and twitter handles can be used to **track tweets to, from and about users**"
   ]
  },
  {
   "cell_type": "code",
   "execution_count": null,
   "metadata": {},
   "outputs": [],
   "source": [
    "nasa.id  # account ID created when the user joined Twitter"
   ]
  },
  {
   "cell_type": "code",
   "execution_count": null,
   "metadata": {},
   "outputs": [],
   "source": [
    "nasa.screen_name  # user’s Twitter handle"
   ]
  },
  {
   "cell_type": "code",
   "execution_count": null,
   "metadata": {},
   "outputs": [],
   "source": [
    "nasa.description  # description from the user’s profile"
   ]
  },
  {
   "cell_type": "markdown",
   "metadata": {},
   "source": [
    "* Lots of additional attributes, like `name`, `description`, `followers_count`, `friends_count`, etc."
   ]
  },
  {
   "cell_type": "code",
   "execution_count": null,
   "metadata": {},
   "outputs": [],
   "source": [
    "nasa.followers_count"
   ]
  },
  {
   "cell_type": "markdown",
   "metadata": {},
   "source": [
    "<hr style=\"height:2px; border:none; color:#000; background-color:#000;\">"
   ]
  },
  {
   "cell_type": "markdown",
   "metadata": {},
   "source": [
    "### Getting `@nasa`'s Most Recent Status Update\n",
    "* `User` object’s **`status` property** returns a **`tweepy.models.Status`** object\n",
    "* Corresponds to a Twitter [**tweet object**](https://developer.twitter.com/en/docs/tweets/data-dictionary/overview/tweet-object)"
   ]
  },
  {
   "cell_type": "code",
   "execution_count": null,
   "metadata": {},
   "outputs": [],
   "source": [
    "nasa.status.text  # most recent tweet's text"
   ]
  },
  {
   "cell_type": "markdown",
   "metadata": {},
   "source": [
    "* **...** indicates **truncated** tweet text\n",
    "* **`extended_tweet` property** for tweets between 141 and 280 characters (as of Nov. 2017) \n",
    "* **Retweeting** often results in truncation"
   ]
  },
  {
   "cell_type": "markdown",
   "metadata": {},
   "source": [
    "<hr style=\"height:2px; border:none; color:#000; background-color:#000;\">"
   ]
  },
  {
   "cell_type": "markdown",
   "metadata": {},
   "source": [
    "# 12.9 Introduction to Tweepy Cursors: Getting an Account’s Followers \n",
    "* Twitter API methods often return collections of objects \n",
    "    * E.g., list of tweets that match specified search criteria \n",
    "* Each method has **maximum number of items returned by one call**\n",
    "    * A **\"page\"** of results\n",
    "* **JSON responses** indicate whether there are **more pages**\n",
    "* A **`Cursor`** handles **paging** \n",
    "    * Invokes a method and **checks for more pages**\n",
    "    * If so, **calls the method again**  \n",
    "    * Continues until there are no more results to process\n",
    "    * If `API` object configured to **wait on rate limits**, **`Cursor`s wait as needed**\n",
    "* [Tweepy `Cursor` tutorial](http://docs.tweepy.org/en/latest/cursor_tutorial.html)"
   ]
  },
  {
   "cell_type": "markdown",
   "metadata": {},
   "source": [
    "<hr style=\"height:2px; border:none; color:#000; background-color:#000;\">"
   ]
  },
  {
   "cell_type": "markdown",
   "metadata": {},
   "source": [
    "## 12.9.1 Determining an Account’s Followers  Via the `API` object’s **`get_followers` Method**\n",
    "* Calls Twitter’s [**followers/list** method](https://developer.twitter.com/en/docs/accounts-and-users/follow-search-get-users/api-reference/get-followers-list.html)\n",
    "* Returns groups of 20 by default, but can request up to 200 \n",
    "* For demonstration purposes, we’ll grab 100 of NASA’s followers"
   ]
  },
  {
   "cell_type": "markdown",
   "metadata": {},
   "source": [
    "<hr style=\"height:2px; border:none; color:#000; background-color:#000;\">"
   ]
  },
  {
   "cell_type": "markdown",
   "metadata": {},
   "source": [
    "### Creating a Cursor That Will Call the `get_followers` Method for NASA’s account"
   ]
  },
  {
   "cell_type": "code",
   "execution_count": null,
   "metadata": {},
   "outputs": [],
   "source": [
    "followers = []  # for storing followers' User objects"
   ]
  },
  {
   "cell_type": "markdown",
   "metadata": {},
   "source": [
    "**CHANGE:** `api.get_followers` used to be `api.followers`"
   ]
  },
  {
   "cell_type": "code",
   "execution_count": null,
   "metadata": {},
   "outputs": [],
   "source": [
    "cursor = tweepy.Cursor(api.get_followers, screen_name='nasa')"
   ]
  },
  {
   "cell_type": "markdown",
   "metadata": {},
   "source": [
    "* First argument is **name of Tweepy method to call**\n",
    "* Additional keyword arguments are passed to method named in first argument"
   ]
  },
  {
   "cell_type": "markdown",
   "metadata": {},
   "source": [
    "<hr style=\"height:2px; border:none; color:#000; background-color:#000;\">"
   ]
  },
  {
   "cell_type": "markdown",
   "metadata": {},
   "source": [
    "### Get Results from `Cursor` and Display in Ascending Alphabetical Order  \n",
    "* Cursor’s **`items` method** calls `api.get_followers` and returns the `get_followers`s method’s results"
   ]
  },
  {
   "cell_type": "code",
   "execution_count": null,
   "metadata": {},
   "outputs": [],
   "source": [
    "for account in cursor.items(100):  # request only 100 results\n",
    "    followers.append(account.screen_name)"
   ]
  },
  {
   "cell_type": "code",
   "execution_count": null,
   "metadata": {},
   "outputs": [],
   "source": [
    "followers"
   ]
  },
  {
   "cell_type": "markdown",
   "metadata": {},
   "source": [
    "<hr style=\"height:2px; border:none; color:#000; background-color:#000;\">"
   ]
  },
  {
   "cell_type": "markdown",
   "metadata": {},
   "source": [
    "### Automatic Paging\n",
    "* To **get up to 200 followers at a time**, create the `Cursor` with the **`count`** keyword argument\n",
    ">```python\n",
    ">cursor = tweepy.Cursor(api.get_followers, screen_name='nasa', count=200)\n",
    ">```\n",
    "* Calling `Cursor` method **`items`** with no argument attempts to get **all followers**\n",
    "    * Could **take significant time** due to **rate limits**"
   ]
  },
  {
   "cell_type": "markdown",
   "metadata": {},
   "source": [
    "<hr style=\"height:2px; border:none; color:#000; background-color:#000;\">"
   ]
  },
  {
   "cell_type": "markdown",
   "metadata": {},
   "source": [
    "# 12.10 Searching Recent Tweets with Tweepy `API` method **`search_tweets`** \n",
    "* **Tweets API**—Search **past 7 days' tweets**, access **live tweet streams** and more\n",
    "* Returns tweets that **match a query string**\n",
    "* Only for the **previous seven days’ tweets**\n",
    "* **Not guaranteed to return all matching tweets**\n",
    "* Calls Twitter’s **`search/tweets` method**\n",
    "* Returns 15 tweets at a time by default, but can return up to 100"
   ]
  },
  {
   "cell_type": "markdown",
   "metadata": {},
   "source": [
    "<hr style=\"height:2px; border:none; color:#000; background-color:#000;\">"
   ]
  },
  {
   "cell_type": "markdown",
   "metadata": {},
   "source": [
    "### Utility Function `print_tweets` from `tweetutilities.py` "
   ]
  },
  {
   "cell_type": "code",
   "execution_count": null,
   "metadata": {},
   "outputs": [],
   "source": [
    "from tweetutilities import print_tweets\n"
   ]
  },
  {
   "cell_type": "markdown",
   "metadata": {},
   "source": [
    "```python\n",
    "def print_tweets(tweets):\n",
    "    \"\"\"For each Tweepy Status object in tweets, display the \n",
    "    user's screen_name and tweet text. If the language is not\n",
    "    English, translate the text with TextBlob.\"\"\"\n",
    "    for tweet in tweets:\n",
    "        print(f'{tweet.user.screen_name}:', end=' ')\n",
    "        print(f'{tweet.text}\\n')\n",
    "```"
   ]
  },
  {
   "cell_type": "markdown",
   "metadata": {},
   "source": [
    "<hr style=\"height:2px; border:none; color:#000; background-color:#000;\">"
   ]
  },
  {
   "cell_type": "markdown",
   "metadata": {},
   "source": [
    "### Searching for Specific Words\n",
    "* **`q` keyword argument** specifies the **query string**\n",
    "* Should use **`Cursor`** for more than max results"
   ]
  },
  {
   "cell_type": "markdown",
   "metadata": {},
   "source": [
    "**NOTE: Modified to search only English due to current known issue in TextBlob**\n",
    "* **CHANGE:** `api.search_tweets` used to be `api.search`"
   ]
  },
  {
   "cell_type": "code",
   "execution_count": null,
   "metadata": {},
   "outputs": [],
   "source": [
    "tweets = api.search_tweets(q='football', count=10) #lang='en',"
   ]
  },
  {
   "cell_type": "code",
   "execution_count": null,
   "metadata": {},
   "outputs": [],
   "source": [
    "print_tweets(tweets)"
   ]
  },
  {
   "cell_type": "markdown",
   "metadata": {},
   "source": [
    "<hr style=\"height:2px; border:none; color:#000; background-color:#000;\">"
   ]
  },
  {
   "cell_type": "markdown",
   "metadata": {},
   "source": [
    "### Searching with Twitter Search Operators (1 of 2)\n",
    "* Use **Twitter search operators** to refine search results\n",
    "* The following table shows several Twitter search operators. \n",
    "* [For all the operators, click the `operators` link here](https://twitter.com/search-home)\n",
    "* Example:\n",
    ">```python\n",
    ">tweets = api.search(q='from:nasa since:2022-08-07', count=3)\n",
    ">```\n",
    "\n",
    "|Example|Finds tweets containing|\n",
    "|----|----|\n",
    "| `python twitter` \t| **Implicit _logical and_ operator**—Finds tweets containing `python` _and_ `twitter`.|\n",
    "| `python OR twitter` \t| **Logical `OR` operator**—Finds tweets containing `python` or `twitter` or both.|\n",
    "| `python ?` \t| `?` (question mark)—Finds tweets asking questions about `python`.|\n",
    "| `planets -mars` \t| `-` (minus sign)—Finds tweets containing `planets` but not `mars`.|\n",
    "| `python :)` \t| `:)` (happy face)—Finds **positive sentiment** tweets containing `python`.|\n",
    "| `python :(` \t| `:(` (sad face)—Finds **negative sentiment** tweets containing `python`.|\n",
    "| `since:2018-09-01` \t| **Finds tweets **on or after** the specified date**, which must be in the form **`YYYY-MM-DD`**.|\n",
    "| `near:\"New York City\" `\t| **Finds tweets that were sent near `\"New York City\"`**.|\n",
    "| `from:nasa` \t| **Finds tweets from the account `@nasa`**.|\n",
    "| `to:nasa` \t| **Finds tweets to the account `@nasa`**.|"
   ]
  },
  {
   "cell_type": "markdown",
   "metadata": {},
   "source": [
    "<hr style=\"height:2px; border:none; color:#000; background-color:#000;\">"
   ]
  },
  {
   "cell_type": "markdown",
   "metadata": {},
   "source": [
    "# 12.11 Spotting Trends: Twitter Trends API\n",
    "* **“Going viral”** &mdash; thousands or millions of people tweeting at once \n",
    "* Twitter maintains a list of **trending topics** worldwide \n",
    "* **Twitter Trends API** can return lists of **trending-topic locations** and the **top 50 trending topics** for each **location**"
   ]
  },
  {
   "cell_type": "markdown",
   "metadata": {},
   "source": [
    "<hr style=\"height:2px; border:none; color:#000; background-color:#000;\">"
   ]
  },
  {
   "cell_type": "markdown",
   "metadata": {},
   "source": [
    "## 12.11.1 Places with Trending Topics \n",
    "* See how to find places with trending topics: https://learning.oreilly.com/videos/python-fundamentals/9780135917411/9780135917411-PFLL_Lesson12_15"
   ]
  },
  {
   "cell_type": "markdown",
   "metadata": {},
   "source": [
    "<hr style=\"height:2px; border:none; color:#000; background-color:#000;\">"
   ]
  },
  {
   "cell_type": "markdown",
   "metadata": {},
   "source": [
    "## 12.11.2 Getting a List of Trending Topics with the Tweepy `API`’s **`get_place_trends` Method** \n",
    "* Calls **Twitter Trends API’s [`trends/place` method](https://developer.twitter.com/en/docs/trends/trends-for-location/api-reference/get-trends-place)**\n",
    "* Returns top **50 trending topics for the location**\n",
    "* [Look up WOEIDs](http://www.woeidlookup.com) (**Yahoo! Where on Earth IDs**)\n",
    "* Look up WOEID’s programmatically using **Yahoo!’s web services** via [Python libraries like `woeid`](https://github.com/Ray-SunR/woeid)"
   ]
  },
  {
   "cell_type": "markdown",
   "metadata": {},
   "source": [
    "<hr style=\"height:2px; border:none; color:#000; background-color:#000;\">"
   ]
  },
  {
   "cell_type": "markdown",
   "metadata": {},
   "source": [
    "### Get Today's Worldwide Trending Topics (1 of 3)"
   ]
  },
  {
   "cell_type": "markdown",
   "metadata": {},
   "source": [
    "* **CHANGE:** `api.get_place_trends` used to be `api.trends_place`"
   ]
  },
  {
   "cell_type": "code",
   "execution_count": null,
   "metadata": {},
   "outputs": [],
   "source": [
    "world_trends = api.get_place_trends(id=1)  # list containing one dictionary"
   ]
  },
  {
   "cell_type": "markdown",
   "metadata": {},
   "source": [
    "* **`'trends'` key** refers to a **list of dictionaries representing each trend**"
   ]
  },
  {
   "cell_type": "code",
   "execution_count": null,
   "metadata": {},
   "outputs": [],
   "source": [
    "trends_list = world_trends[0]['trends']"
   ]
  },
  {
   "cell_type": "markdown",
   "metadata": {},
   "source": [
    "<hr style=\"height:2px; border:none; color:#000; background-color:#000;\">"
   ]
  },
  {
   "cell_type": "markdown",
   "metadata": {},
   "source": [
    "### Get Today's Worldwide Trending Topics (2 of 3)\n",
    "* Each trend has **`name`**, **`url`**, **`promoted_content`** (whether it's an **advertisement**), **`query`** and **`tweet_volume`** keys"
   ]
  },
  {
   "cell_type": "code",
   "execution_count": null,
   "metadata": {},
   "outputs": [],
   "source": [
    "trends_list[0]"
   ]
  },
  {
   "cell_type": "markdown",
   "metadata": {},
   "source": [
    "<hr style=\"height:2px; border:none; color:#000; background-color:#000;\">"
   ]
  },
  {
   "cell_type": "markdown",
   "metadata": {},
   "source": [
    "### Get Today's Worldwide Trending Topics (3 of 3)\n",
    "* For **trends with more than 10,000 tweets**, the **`tweet_volume`** is the **number of tweets**; otherwise, it’s `None`\n",
    "* Filter the list so that it contains only trends with more than 10,000 tweets:"
   ]
  },
  {
   "cell_type": "code",
   "execution_count": null,
   "metadata": {},
   "outputs": [],
   "source": [
    "trends_list = [t for t in trends_list if t['tweet_volume']]"
   ]
  },
  {
   "cell_type": "code",
   "execution_count": null,
   "metadata": {},
   "outputs": [],
   "source": [
    "from operator import itemgetter "
   ]
  },
  {
   "cell_type": "code",
   "execution_count": null,
   "metadata": {},
   "outputs": [],
   "source": [
    "trends_list.sort(key=itemgetter('tweet_volume'), reverse=True) "
   ]
  },
  {
   "cell_type": "code",
   "execution_count": null,
   "metadata": {},
   "outputs": [],
   "source": [
    "for trend in trends_list:  # show top trending topics\n",
    "    print(trend['name'])"
   ]
  },
  {
   "cell_type": "markdown",
   "metadata": {},
   "source": [
    "<hr style=\"height:2px; border:none; color:#000; background-color:#000;\">"
   ]
  },
  {
   "cell_type": "markdown",
   "metadata": {},
   "source": [
    "# 12.12 Cleaning/Preprocessing Tweets for Analysis\n",
    "* **Data cleaning** is one of data scientists' most common tasks \n",
    "* Some **NLP tasks** for **normalizing tweets**\n",
    "    * Converting text to **same case**\n",
    "    * Removing **`#` from hashtags**, **`@`-mentions**, **duplicates**, **hashtags**\n",
    "    * Removing **excess whitespace**, **punctuation**, **stop words**, **URLs**\n",
    "    * Removing tweet keywords **`RT`** (retweet) and **`FAV`** (favorite) \n",
    "    * **Stemming** and **lemmatization**\n",
    "    * **Tokenization**"
   ]
  },
  {
   "cell_type": "markdown",
   "metadata": {},
   "source": [
    "<hr style=\"height:2px; border:none; color:#000; background-color:#000;\">"
   ]
  },
  {
   "cell_type": "markdown",
   "metadata": {},
   "source": [
    "### [**tweet-preprocessor**](https://github.com/s/preprocessor) Library and TextBlob Utility Functions\n",
    "* `pip install tweet-preprocessor`\n",
    "* Can automatically remove any combination of:\n",
    "\n",
    "| Option | Option constant |\n",
    "| :--- | :--- |\n",
    "| **`OPT.MENTION`** | @-Mentions (e.g., `@nasa`) |\n",
    "| **`OPT.EMOJI`** | Emoji |\n",
    "| **`OPT.HASHTAG`** | Hashtag (e.g., `#mars`) |\n",
    "| **`OPT.NUMBER`** | Number |\n",
    "| **`OPT.RESERVED`** | Reserved Words (`RT` and `FAV`) |\n",
    "| **`OPT.SMILEY`** | Smiley |\n",
    "| **`OPT.URL`** | URL |\n"
   ]
  },
  {
   "cell_type": "markdown",
   "metadata": {},
   "source": [
    "<hr style=\"height:2px; border:none; color:#000; background-color:#000;\">"
   ]
  },
  {
   "cell_type": "markdown",
   "metadata": {},
   "source": [
    "### Cleaning a Tweet Containing a Reserved Word and a URL\n",
    "* The tweet-preprocessor library’s module name is **`preprocessor`** "
   ]
  },
  {
   "cell_type": "code",
   "execution_count": null,
   "metadata": {},
   "outputs": [],
   "source": [
    "import preprocessor as p  # p recommended by docs"
   ]
  },
  {
   "cell_type": "code",
   "execution_count": null,
   "metadata": {},
   "outputs": [],
   "source": [
    "p.set_options(p.OPT.URL, p.OPT.RESERVED)  # specify what to clean"
   ]
  },
  {
   "cell_type": "code",
   "execution_count": null,
   "metadata": {},
   "outputs": [],
   "source": [
    "tweet_text = 'RT A sample retweet with a URL https://nasa.gov'"
   ]
  },
  {
   "cell_type": "code",
   "execution_count": null,
   "metadata": {},
   "outputs": [],
   "source": [
    "p.clean(tweet_text)"
   ]
  },
  {
   "cell_type": "markdown",
   "metadata": {},
   "source": [
    "<hr style=\"height:2px; border:none; color:#000; background-color:#000;\">"
   ]
  },
  {
   "cell_type": "markdown",
   "metadata": {},
   "source": [
    "# 12.13 Twitter Streaming API\n",
    "* Streams **randomly selected** live tweets up to a **maximum of 1% of the tweets per day**\n",
    "* According to https://InternetLiveStats.com\n",
    "    * **~8500 tweets per second**\n",
    "    * Nearly **750 million tweets per day**\n",
    "* So Streaming API gives you **free access to approximately 7.5 million tweets/day**"
   ]
  },
  {
   "cell_type": "markdown",
   "metadata": {},
   "source": [
    "<hr style=\"height:2px; border:none; color:#000; background-color:#000;\">"
   ]
  },
  {
   "cell_type": "markdown",
   "metadata": {},
   "source": [
    "## 12.13.1 Creating a Subclass of `Stream` \n",
    "* A stream **pushes** tweets to your app via a **persistent connection** \n",
    "* **Streaming rate** varies tremendously, based on search criteria\n",
    "* Subclass of Tweepy’s **`Stream`** listens for tweets\n",
    "    * **Notified** when each **new tweet** or other **Twitter message** **arrives**\n",
    "    * Each message results in a call to a **`Stream` method**\n",
    "    * **Override** only the **methods you need**\n"
   ]
  },
  {
   "cell_type": "markdown",
   "metadata": {},
   "source": [
    "<hr style=\"height:2px; border:none; color:#000; background-color:#000;\">"
   ]
  },
  {
   "cell_type": "markdown",
   "metadata": {},
   "source": [
    "### `Stream` Methods\n",
    "* [`Stream` methods](https://github.com/tweepy/tweepy/blob/master/tweepy/streaming.py)  \n",
    "\n",
    "|Method&nbsp;&nbsp;&nbsp;&nbsp;&nbsp;&nbsp;&nbsp;&nbsp;&nbsp;&nbsp;&nbsp;&nbsp;&nbsp;&nbsp;&nbsp;&nbsp;&nbsp;&nbsp;&nbsp;&nbsp;&nbsp;&nbsp;&nbsp;&nbsp;&nbsp;&nbsp;&nbsp;&nbsp;&nbsp;&nbsp;&nbsp;&nbsp;&nbsp;&nbsp;&nbsp;&nbsp;&nbsp;&nbsp;&nbsp;&nbsp;&nbsp;&nbsp;&nbsp;&nbsp;&nbsp;&nbsp;&nbsp;&nbsp;&nbsp;&nbsp;&nbsp;|Called when...|\n",
    "|----|----|\n",
    "| **`on_connect(self)`** \t| App **successfully connects** to the Twitter stream. This is for statements that should execute only if your app is connected to the stream.|\n",
    "| **`on_status(self, status)`** \t| A **tweet arrives** — **`status`** is a Tweepy **`Status`** object.|\n",
    "| **`on_data(self, data)`** \t| A **tweet arrives** — **`data`** is the **raw JSON** of a Twitter status (tweet).|\n",
    "| **`on_limit(self, track)`** \t| A **limit notice** arrives. This occurs if your search matches more tweets than Twitter can deliver based on its current streaming rate limits. In this case, the limit notice contains the number of matching tweets that could not be delivered.|\n",
    "| **`on_error(self, status_code)`** \t| An **error code** arrives. |\n",
    "| **`on_timeout(self)`** \t| The **connection times out**—that is, the Twitter server is not responding.|\n",
    "| **`on_warning(self, notice)`** \t| **Twitter sends a disconnect warning** to indicate that the connection might be closed. For example, Twitter maintains a queue of the tweets it’s pushing to your app. If the app does not read the tweets fast enough, `on_warning`’s notice argument will contain a warning message indicating that the connection will terminate if the queue becomes full. |"
   ]
  },
  {
   "cell_type": "markdown",
   "metadata": {},
   "source": [
    "<hr style=\"height:2px; border:none; color:#000; background-color:#000;\">"
   ]
  },
  {
   "cell_type": "markdown",
   "metadata": {},
   "source": [
    "### Class `TweetListener` Defined in `tweetlistener.py`\n"
   ]
  },
  {
   "cell_type": "markdown",
   "metadata": {},
   "source": [
    "<hr style=\"height:2px; border:none; color:#000; background-color:#000;\">"
   ]
  },
  {
   "cell_type": "markdown",
   "metadata": {},
   "source": [
    "## 12.13.2 Initiating Stream Processing\n",
    "\n",
    "### Subclass of `tweepy.Stream` Receives Tweets"
   ]
  },
  {
   "cell_type": "code",
   "execution_count": null,
   "metadata": {},
   "outputs": [],
   "source": [
    "import sys\n",
    "sys.stderr = sys.stdout"
   ]
  },
  {
   "cell_type": "code",
   "execution_count": null,
   "metadata": {},
   "outputs": [],
   "source": [
    "from tweetlistener import TweetListener"
   ]
  },
  {
   "cell_type": "code",
   "execution_count": null,
   "metadata": {},
   "outputs": [],
   "source": [
    "tweet_listener = TweetListener(keys.consumer_key, keys.consumer_secret, \n",
    "                               keys.access_token, keys.access_token_secret, limit=5)"
   ]
  },
  {
   "cell_type": "markdown",
   "metadata": {},
   "source": [
    "<hr style=\"height:2px; border:none; color:#000; background-color:#000;\">"
   ]
  },
  {
   "cell_type": "markdown",
   "metadata": {},
   "source": [
    "<!--### Creating a Tweepy **`Stream`** Object to Manage the Connection to the Twitter Stream\n",
    "* Passes the messages to your `TweetListener` \n",
    "\n",
    "# OLD: tweet_stream = tweepy.Stream(auth=api.auth, listener=tweet_listener)\n",
    "\n",
    "<hr style=\"height:2px; border:none; color:#000; background-color:#000;\">\n",
    "-->"
   ]
  },
  {
   "cell_type": "markdown",
   "metadata": {},
   "source": [
    "### Starting the Tweet Stream with the `Stream` Object’s **`filter` Method** \n",
    "* `track` parameter specifies a list of search terms\n",
    "* [Other `filter` method parameters](https://developer.twitter.com/en/docs/tweets/filter-realtime/guides/basic-stream-parameters) for refining your tweet searches\n",
    "* Streaming API returns full tweet **JSON objects** for tweets that match any of the terms, **not just in the tweet’s text, but also in @-mentions, hashtags, expanded URLs and other information**  \n",
    "* Might not see search terms in **tweets' text**"
   ]
  },
  {
   "cell_type": "code",
   "execution_count": null,
   "metadata": {},
   "outputs": [],
   "source": [
    "tweet_listener.filter(track=['football'])  #, is_async=True) "
   ]
  },
  {
   "cell_type": "markdown",
   "metadata": {},
   "source": [
    "<hr style=\"height:2px; border:none; color:#000; background-color:#000;\">"
   ]
  },
  {
   "cell_type": "markdown",
   "metadata": {
    "tags": []
   },
   "source": [
    "### **Lecture note: Run remaining cells now so we don't have to wait for streamed tweets later.**\n",
    "\n",
    "### Asynchronous vs. Synchronous Streams\n",
    "* **`is_async=True`** &mdash; would initiate an **asynchronous tweet stream** \n",
    "* Without `is_async=True`, the stream is **synchronous** and the next In [] prompt appears **after the stream terminates**    \n",
    "* in Jupyter, we used a **synchronous stream** ensure that all tweets display\n",
    "* In IPython, can terminate an asynchronous tweet stream early:  \n",
    ">`tweet_stream.running=False`    \n"
   ]
  },
  {
   "cell_type": "markdown",
   "metadata": {},
   "source": [
    "<hr style=\"height:2px; border:none; color:#000; background-color:#000;\">"
   ]
  },
  {
   "cell_type": "markdown",
   "metadata": {},
   "source": [
    "# 12.14 Tweet Sentiment Analysis \n",
    "* Political researchers might use to understand **how people are likely to vote**\n",
    "* Companies might use to see what people are saying about **their products** and **competitors’ products**\n",
    "* Script **`sentimentlistener.py`** checks **sentiment** on a specified topic for a specified number of tweets\n",
    "* The script in this example is substantially the same as the previous example, but uses TextBlob to check the sentiment of each tweet as we did in the NLP presentation"
   ]
  },
  {
   "cell_type": "code",
   "execution_count": null,
   "metadata": {},
   "outputs": [],
   "source": [
    "run sentimentlistener.py football 10"
   ]
  },
  {
   "cell_type": "markdown",
   "metadata": {},
   "source": [
    "<hr style=\"height:2px; border:none; color:#000; background-color:#000;\">"
   ]
  },
  {
   "cell_type": "markdown",
   "metadata": {},
   "source": [
    "# 12.15 Geocoding and Mapping\n",
    "* Collect **streaming tweets**, then **plot** their **locations** on an **interactive map**\n",
    "* **Twitter disables precise location info (latitude/longitude) by default** (users must opt in to allowing Twitter to track locations) \n",
    "* Large percentage include the user’s home location information\n",
    "    * Sometimes invalid or fictitious \n",
    "* **Map markers** will show `location` from each tweet’s `User` object"
   ]
  },
  {
   "cell_type": "markdown",
   "metadata": {},
   "source": [
    "<hr style=\"height:2px; border:none; color:#000; background-color:#000;\">"
   ]
  },
  {
   "cell_type": "markdown",
   "metadata": {},
   "source": [
    "### [**geopy** library](https://github.com/geopy/geopy)\n",
    "* **Geocoding**&mdash;translate locations into **latitude** and **longitude**\n",
    "* **geopy** supports dozens of **geocoding web services**, many with **free or lite tiers**\n",
    "* We’ll use **OpenMapQuest geocoding service** "
   ]
  },
  {
   "cell_type": "markdown",
   "metadata": {},
   "source": [
    "<hr style=\"height:2px; border:none; color:#000; background-color:#000;\">"
   ]
  },
  {
   "cell_type": "markdown",
   "metadata": {},
   "source": [
    "### OpenMapQuest Geocoding API (1 of 2)\n",
    "* Convert locations, such as **Boston, MA** into their **latitudes** and **longitudes**, such as **42.3602534** and **-71.0582912**, for plotting on maps\n",
    "* Currently allows **15,000 transactions per month** on their free tier\n",
    "* [Sign up](https://developer.mapquest.com/)\n",
    "* For a presentation of **signing up** and **getting your credentials**, see my [**Python Fundamentals LiveLessons video**](https://learning.oreilly.com/videos/python-fundamentals/9780135917411/9780135917411-PFLL_Lesson12_24) or the [**beginning of Section 12.15 in Python for Programmers**](https://learning.oreilly.com/library/view/python-for-programmers/9780135231364/ch12.xhtml#ch12lev1sec15)"
   ]
  },
  {
   "cell_type": "markdown",
   "metadata": {},
   "source": [
    "<hr style=\"height:2px; border:none; color:#000; background-color:#000;\">"
   ]
  },
  {
   "cell_type": "markdown",
   "metadata": {},
   "source": [
    "### [**folium library**](https://github.com/python-visualization/folium) and Leaflet.js JavaScript Mapping Library\n",
    "* Uses **Leaflet.js JavaScript mapping library** to display maps in a web page \n",
    "* Folium can output **HTML documents** for viewing in a **web browser**\n",
    "* `pip install folium`"
   ]
  },
  {
   "cell_type": "markdown",
   "metadata": {},
   "source": [
    "<hr style=\"height:2px; border:none; color:#000; background-color:#000;\">"
   ]
  },
  {
   "cell_type": "markdown",
   "metadata": {},
   "source": [
    "### Maps from OpenStreetMap.org\n",
    "By default, **Leaflet.js** uses **open source maps** from **`OpenStreetMap.org`**\n",
    "* To use these maps, **they require the following copyright notice**:\n",
    "\n",
    "> `Map data © OpenStreetMap contributors`\n",
    "\n",
    "* They also say: **You must make it clear that the data is available under the Open Database License. This can be achieved by providing a “License” or “Terms” link which links to https://www.openstreetmap.org/copyright or https://www.opendatacommons.org/licenses/odbl/index.html**"
   ]
  },
  {
   "cell_type": "markdown",
   "metadata": {},
   "source": [
    "<hr style=\"height:2px; border:none; color:#000; background-color:#000;\">"
   ]
  },
  {
   "cell_type": "markdown",
   "metadata": {},
   "source": [
    "### Collections Required By `LocationListener`\n",
    "* Requires two collections\n",
    "    * A **list (`tweets`)** to store the tweets we collect \n",
    "    * A **dictionary (`counts`)** to track the **total number of tweets** we collect and the **number that have location data**"
   ]
  },
  {
   "cell_type": "code",
   "execution_count": null,
   "metadata": {},
   "outputs": [],
   "source": [
    "tweets = [] "
   ]
  },
  {
   "cell_type": "code",
   "execution_count": null,
   "metadata": {},
   "outputs": [],
   "source": [
    "counts = {'total_tweets': 0, 'locations': 0}"
   ]
  },
  {
   "cell_type": "markdown",
   "metadata": {},
   "source": [
    "<hr style=\"height:2px; border:none; color:#000; background-color:#000;\">"
   ]
  },
  {
   "cell_type": "markdown",
   "metadata": {},
   "source": [
    "### Creating the LocationListener "
   ]
  },
  {
   "cell_type": "code",
   "execution_count": null,
   "metadata": {},
   "outputs": [],
   "source": [
    "from locationlistener import LocationListener"
   ]
  },
  {
   "cell_type": "code",
   "execution_count": null,
   "metadata": {},
   "outputs": [],
   "source": [
    "location_listener = LocationListener(keys.consumer_key, keys.consumer_secret, \n",
    "    keys.access_token, keys.access_token_secret, counts_dict=counts, \n",
    "    tweets_list=tweets, topic='football', limit=50)"
   ]
  },
  {
   "cell_type": "markdown",
   "metadata": {},
   "source": [
    "* **`LocationListener`** uses our **utility function `get_tweet_content`** to place each tweets **screen name**, **tweet text** and **location** into a **dictionary**"
   ]
  },
  {
   "cell_type": "markdown",
   "metadata": {},
   "source": [
    "<hr style=\"height:2px; border:none; color:#000; background-color:#000;\">"
   ]
  },
  {
   "cell_type": "markdown",
   "metadata": {},
   "source": [
    "### Configure and Start the Stream of Tweets"
   ]
  },
  {
   "cell_type": "code",
   "execution_count": null,
   "metadata": {},
   "outputs": [],
   "source": [
    "import tweepy"
   ]
  },
  {
   "cell_type": "code",
   "execution_count": null,
   "metadata": {},
   "outputs": [],
   "source": [
    "location_listener.filter(track=['football'], languages=['en'])"
   ]
  },
  {
   "cell_type": "markdown",
   "metadata": {},
   "source": [
    "<hr style=\"height:2px; border:none; color:#000; background-color:#000;\">"
   ]
  },
  {
   "cell_type": "markdown",
   "metadata": {},
   "source": [
    "### Displaying the Location Statistics "
   ]
  },
  {
   "cell_type": "code",
   "execution_count": null,
   "metadata": {
    "tags": []
   },
   "outputs": [],
   "source": [
    "counts['total_tweets']"
   ]
  },
  {
   "cell_type": "code",
   "execution_count": null,
   "metadata": {},
   "outputs": [],
   "source": [
    "counts['locations']"
   ]
  },
  {
   "cell_type": "code",
   "execution_count": null,
   "metadata": {},
   "outputs": [],
   "source": [
    "print(f'{counts[\"locations\"] / counts[\"total_tweets\"]:.1%}')"
   ]
  },
  {
   "cell_type": "markdown",
   "metadata": {},
   "source": [
    "<hr style=\"height:2px; border:none; color:#000; background-color:#000;\">"
   ]
  },
  {
   "cell_type": "markdown",
   "metadata": {},
   "source": [
    "### Geocoding the Locations with Our `get_geocodes` Utility Function \n",
    "* **OpenMapQuest** geocoding service **times out** when it **cannot handle your request immediately**\n",
    "* If so, **`get_geocodes`** **notifies** you, **waits**, then **retries** the request"
   ]
  },
  {
   "cell_type": "code",
   "execution_count": null,
   "metadata": {},
   "outputs": [],
   "source": [
    "from tweetutilities import get_geocodes"
   ]
  },
  {
   "cell_type": "code",
   "execution_count": null,
   "metadata": {},
   "outputs": [],
   "source": [
    "bad_locations = get_geocodes(tweets)"
   ]
  },
  {
   "cell_type": "markdown",
   "metadata": {},
   "source": [
    "<hr style=\"height:2px; border:none; color:#000; background-color:#000;\">"
   ]
  },
  {
   "cell_type": "markdown",
   "metadata": {},
   "source": [
    "### Displaying the Bad Location Statistics"
   ]
  },
  {
   "cell_type": "code",
   "execution_count": null,
   "metadata": {},
   "outputs": [],
   "source": [
    "bad_locations"
   ]
  },
  {
   "cell_type": "code",
   "execution_count": null,
   "metadata": {},
   "outputs": [],
   "source": [
    "print(f'{bad_locations / counts[\"locations\"]:.1%}')"
   ]
  },
  {
   "cell_type": "markdown",
   "metadata": {},
   "source": [
    "<hr style=\"height:2px; border:none; color:#000; background-color:#000;\">"
   ]
  },
  {
   "cell_type": "markdown",
   "metadata": {},
   "source": [
    "### Cleaning the Data with a pandas `DataFrame` Before Displaying the Data on a Map\n",
    "* `DataFrame` will contain **`NaN`** for the **`latitude`** and **`longitude`** of any tweet that **did not have a valid location**\n",
    "* Remove any such via `DataFrame`’s **`dropna` method** "
   ]
  },
  {
   "cell_type": "code",
   "execution_count": null,
   "metadata": {},
   "outputs": [],
   "source": [
    "import pandas as pd"
   ]
  },
  {
   "cell_type": "code",
   "execution_count": null,
   "metadata": {},
   "outputs": [],
   "source": [
    "df = pd.DataFrame(tweets)"
   ]
  },
  {
   "cell_type": "code",
   "execution_count": null,
   "metadata": {},
   "outputs": [],
   "source": [
    "df"
   ]
  },
  {
   "cell_type": "code",
   "execution_count": null,
   "metadata": {},
   "outputs": [],
   "source": [
    "df = df.dropna()"
   ]
  },
  {
   "cell_type": "code",
   "execution_count": null,
   "metadata": {},
   "outputs": [],
   "source": [
    "df"
   ]
  },
  {
   "cell_type": "markdown",
   "metadata": {},
   "source": [
    "<hr style=\"height:2px; border:none; color:#000; background-color:#000;\">"
   ]
  },
  {
   "cell_type": "markdown",
   "metadata": {},
   "source": [
    "### Creating a Map with Folium"
   ]
  },
  {
   "cell_type": "code",
   "execution_count": null,
   "metadata": {},
   "outputs": [],
   "source": [
    "import folium"
   ]
  },
  {
   "cell_type": "code",
   "execution_count": null,
   "metadata": {},
   "outputs": [],
   "source": [
    "usmap = folium.Map(location=[39.8283, -98.5795],  # center of U.S.\n",
    "                   tiles='Stamen Terrain',\n",
    "                   zoom_start=4, detect_retina=True)"
   ]
  },
  {
   "cell_type": "markdown",
   "metadata": {},
   "source": [
    "* **`location`** &mdash; sequence containing **latitude** and **longitude** of **map center point**\n",
    "    * [Geographic center of the continental United States](http://bit.ly/CenterOfTheUS) \n",
    "* **`zoom_start`** &mdash; **map’s initial zoom level**\n",
    "* **`detect_retina`** &mdash; enables folium to use **higher-resolution maps**"
   ]
  },
  {
   "cell_type": "markdown",
   "metadata": {},
   "source": [
    "<hr style=\"height:2px; border:none; color:#000; background-color:#000;\">"
   ]
  },
  {
   "cell_type": "markdown",
   "metadata": {},
   "source": [
    "### Creating Folium `Popup` Objects for the Tweet Locations\n",
    "* **`itertuples`** creates **tuples** from **each row** of the **`DataFrame`**\n",
    "* Each **tuple** contains a **property** for each **`DataFrame` column**"
   ]
  },
  {
   "cell_type": "code",
   "execution_count": null,
   "metadata": {},
   "outputs": [],
   "source": [
    "for t in df.itertuples():\n",
    "    text = ': '.join([t.screen_name, t.text])\n",
    "    popup = folium.Popup(text)\n",
    "    marker = folium.Marker((t.latitude, t.longitude), \n",
    "                           popup=popup)\n",
    "    marker.add_to(usmap)"
   ]
  },
  {
   "cell_type": "markdown",
   "metadata": {},
   "source": [
    "<hr style=\"height:2px; border:none; color:#000; background-color:#000;\">"
   ]
  },
  {
   "cell_type": "markdown",
   "metadata": {},
   "source": [
    "### Saving the Map with Map’s **`save`** Method "
   ]
  },
  {
   "cell_type": "code",
   "execution_count": null,
   "metadata": {},
   "outputs": [],
   "source": [
    "usmap.save('tweet_map.html')"
   ]
  },
  {
   "cell_type": "markdown",
   "metadata": {},
   "source": [
    "<hr style=\"height:2px; border:none; color:#000; background-color:#000;\">"
   ]
  },
  {
   "cell_type": "markdown",
   "metadata": {},
   "source": [
    "### Displaying the Map in Jupyter \n",
    "* The resulting map follows. \n",
    "<a href=\"./tweet_map.html\">Interactive tweet map</a>"
   ]
  },
  {
   "cell_type": "code",
   "execution_count": null,
   "metadata": {},
   "outputs": [],
   "source": [
    "usmap"
   ]
  },
  {
   "cell_type": "markdown",
   "metadata": {},
   "source": [
    "<!--\n",
    "#from IPython.display import IFrame\n",
    "#IFrame(src=\"./tweet_map.html\", width=800, height=450)\n",
    "-->"
   ]
  },
  {
   "cell_type": "markdown",
   "metadata": {},
   "source": [
    "<hr style=\"height:2px; border:none; color:#000; background-color:#000;\">"
   ]
  },
  {
   "cell_type": "markdown",
   "metadata": {},
   "source": [
    "## Utility Functions\n",
    "See the following for details: \n",
    "* [**Python Fundamentals LiveLessons video**](https://learning.oreilly.com/videos/python-fundamentals/9780135917411/9780135917411-PFLL_Lesson12_26) \n",
    "* [Sections 12.5.2-12.5.3 in **Python for Programmers**](https://learning.oreilly.com/library/view/python-for-programmers/9780135231364/ch12.xhtml#ch12lev2sec10)\n",
    "\n",
    "### `get_tweet_content` Utility Function (2 of 2)\n",
    "```python\n",
    "def get_tweet_content(tweet, location=False):\n",
    "    \"\"\"Return dictionary with data from tweet (a Status object).\"\"\"\n",
    "    fields = {}\n",
    "    fields['screen_name'] = tweet.user.screen_name\n",
    "\n",
    "    # get the tweet's text\n",
    "    try:  \n",
    "        fields['text'] = tweet.extended_tweet[\"full_text\"]\n",
    "    except: \n",
    "        fields['text'] = tweet.text\n",
    "\n",
    "    if location:\n",
    "        fields['location'] = tweet.user.location\n",
    "\n",
    "    return fields\n",
    "\n",
    "```"
   ]
  },
  {
   "cell_type": "markdown",
   "metadata": {},
   "source": [
    "<hr style=\"height:2px; border:none; color:#000; background-color:#000;\">"
   ]
  },
  {
   "cell_type": "markdown",
   "metadata": {},
   "source": [
    "### `get_geocodes` Utility Function (1 of 3)\n",
    "* Receives a **list of dictionaries** containing tweets and **geocodes their locations**\n",
    "* If **geocoding** is **successful** for a tweet, adds the **latitude** and **longitude** to the tweet’s **dictionary in `tweet_list`**\n",
    "* Requires class **`OpenMapQuest`** from the **geopy module**"
   ]
  },
  {
   "cell_type": "markdown",
   "metadata": {},
   "source": [
    "<hr style=\"height:2px; border:none; color:#000; background-color:#000;\">"
   ]
  },
  {
   "cell_type": "markdown",
   "metadata": {},
   "source": [
    "### `get_geocodes` Utility Function (2 of 3)\n",
    "```python\n",
    "from geopy import OpenMapQuest\n",
    "```\n",
    "\n",
    "```python\n",
    "def get_geocodes(tweet_list):\n",
    "    \"\"\"Get the latitude and longitude for each tweet's location.\n",
    "    Returns the number of tweets with invalid location data.\"\"\"\n",
    "    print('Getting coordinates for tweet locations...')\n",
    "    geo = OpenMapQuest(api_key=keys.mapquest_key)  # geocoder\n",
    "    bad_locations = 0  \n",
    "\n",
    "    for tweet in tweet_list:\n",
    "        processed = False\n",
    "        delay = .1  # used if OpenMapQuest times out to delay next call\n",
    "        while not processed:\n",
    "            try:  # get coordinates for tweet['location']\n",
    "                geo_location = geo.geocode(tweet['location'])\n",
    "                processed = True\n",
    "            except:  # timed out, so wait before trying again\n",
    "                print('OpenMapQuest service timed out. Waiting.')\n",
    "                time.sleep(delay)\n",
    "                delay += .1\n",
    "\n",
    "        if geo_location:  \n",
    "            tweet['latitude'] = geo_location.latitude\n",
    "            tweet['longitude'] = geo_location.longitude\n",
    "        else:  \n",
    "            bad_locations += 1  # tweet['location'] was invalid\n",
    "    \n",
    "    print('Done geocoding')\n",
    "    return bad_locations\n",
    "\n",
    "```"
   ]
  },
  {
   "cell_type": "markdown",
   "metadata": {},
   "source": [
    "<hr style=\"height:2px; border:none; color:#000; background-color:#000;\">"
   ]
  },
  {
   "cell_type": "markdown",
   "metadata": {},
   "source": [
    "## 12.15.3 Class `LocationListener`\n",
    "See the file `LocationListener.py` in this chapter's folder\n"
   ]
  },
  {
   "cell_type": "markdown",
   "metadata": {},
   "source": [
    "<hr style=\"height:2px; border:none; color:#000; background-color:#000;\">"
   ]
  },
  {
   "cell_type": "markdown",
   "metadata": {},
   "source": [
    "# More Info \n",
    "* See Lesson 12 in [**Python Fundamentals LiveLessons** here on O'Reilly Online Learning](https://learning.oreilly.com/videos/python-fundamentals/9780135917411)\n",
    "* See Chapter 12 in [**Python for Programmers** on O'Reilly Online Learning](https://learning.oreilly.com/library/view/python-for-programmers/9780135231364/)\n",
    "* See Chapter 13 in [**Intro Python for Computer Science and Data Science** on O'Reilly Online Learning](https://learning.oreilly.com/library/view/intro-to-python/9780135404799/)\n",
    "* Interested in a print book? Check out:\n",
    "\n",
    "| Python for Programmers<br>(640-page professional book) | Intro to Python for Computer<br>Science and Data Science<br>(880-page college textbook)\n",
    "| :------ | :------\n",
    "| <a href=\"https://amzn.to/2VvdnxE\"><img alt=\"Python for Programmers cover\" src=\"../images/PyFPCover.png\" width=\"150\" border=\"1\"/></a> | <a href=\"https://amzn.to/2LiDCmt\"><img alt=\"Intro to Python for Computer Science and Data Science: Learning to Program with AI, Big Data and the Cloud\" src=\"../images/IntroToPythonCover.png\" width=\"159\" border=\"1\"></a>\n",
    "\n",
    ">Please **do not** purchase both books&mdash;_Python for Programmers_ is a subset of _Intro to Python for Computer Science and Data Science_"
   ]
  },
  {
   "cell_type": "markdown",
   "metadata": {},
   "source": [
    "&copy; 2019 by Pearson Education, Inc. All Rights Reserved. The content in this notebook is based on the book [**Python for Programmers**](https://amzn.to/2VvdnxE)."
   ]
  }
 ],
 "metadata": {
  "kernelspec": {
   "display_name": "Python 3 (ipykernel)",
   "language": "python",
   "name": "python3"
  },
  "language_info": {
   "codemirror_mode": {
    "name": "ipython",
    "version": 3
   },
   "file_extension": ".py",
   "mimetype": "text/x-python",
   "name": "python",
   "nbconvert_exporter": "python",
   "pygments_lexer": "ipython3",
   "version": "3.10.5"
  }
 },
 "nbformat": 4,
 "nbformat_minor": 4
}

{
 "cells": [
  {
   "cell_type": "markdown",
   "metadata": {},
   "source": [
    "&copy; 2019 by Pearson Education, Inc. All Rights Reserved. The content in this notebook is based on the book [**Python for Programmers**](https://amzn.to/2VvdnxE)."
   ]
  },
  {
   "cell_type": "code",
   "execution_count": 1,
   "metadata": {},
   "outputs": [],
   "source": [
    "# enable high-res images in notebook \n",
    "%config InlineBackend.figure_format = 'retina'"
   ]
  },
  {
   "cell_type": "markdown",
   "metadata": {},
   "source": [
    "# 12. Data Mining Twitter \n",
    "# Objectives\n",
    "* **Data-mine Twitter** with **Tweepy** library\n",
    "* Search **past tweets** with the **Twitter Search API**\n",
    "* Sample the **live tweet stream** with the **Twitter Streaming API**\n",
    "* Tweet object **meta data** \n",
    "* Use **NLP** to **clean and preprocess tweets** for analysis\n",
    "* Perform **sentiment analysis** on tweets\n",
    "* **Spot trends** with **Twitter’s Trends API**\n",
    "* **Map tweets** using **folium** and **OpenStreetMap**"
   ]
  },
  {
   "cell_type": "markdown",
   "metadata": {},
   "source": [
    "<hr style=\"height:2px; border:none; color:#000; background-color:#000;\">"
   ]
  },
  {
   "cell_type": "markdown",
   "metadata": {},
   "source": [
    "# 12.1 Introduction \n",
    "* Popular **big-data source**  \n",
    "* **Data mining** &mdash; searching large collections of data for **insights**\n",
    "* **Sentiment** in tweets can help **make predictions**  \n",
    "    * **Stock prices**\n",
    "    * **Election results**\n",
    "    * Likely **revenues** for a **new movie**\n",
    "    * **Success** of a company’s **marketing campaign**\n",
    "* Spot **faults in competitors’ products** \n",
    "* Spot **trending topics**\n",
    "* **Connect to Twitter** with easy-to-use **Web services**"
   ]
  },
  {
   "cell_type": "markdown",
   "metadata": {},
   "source": [
    "<hr style=\"height:2px; border:none; color:#000; background-color:#000;\">"
   ]
  },
  {
   "cell_type": "markdown",
   "metadata": {},
   "source": [
    "### What Is Twitter? \n",
    "* **Tweets**\n",
    "    * Short messages\n",
    "    * Initially limited to **140 characters**\n",
    "    * Increased in 2017 for most languages to **280 characters**\n",
    "* **Most open social network**&mdash;anyone can generally choose to follow anyone else\n",
    "* **Free programmatic access** to a small portion of **last 7 days' tweets**\n",
    "    * Can get **paid access** to larger portions the **all-time tweets database**\n",
    "* [**Hundreds of millions of tweets are sent every day** with many thousands sent per second](http://www.internetlivestats.com/twitter-statistics/)\n",
    "* Can tap into the **live stream** and get up to 1% of live tweets\n",
    "    * **Like “drinking from a fire hose”** "
   ]
  },
  {
   "cell_type": "markdown",
   "metadata": {},
   "source": [
    "<hr style=\"height:2px; border:none; color:#000; background-color:#000;\">"
   ]
  },
  {
   "cell_type": "markdown",
   "metadata": {},
   "source": [
    "# 12.2 Overview of the Twitter APIs \n",
    "* **Web services** are **methods** that you call in the **cloud**\n",
    "* Each **method** has a **web service endpoint** represented by a **URL**\n",
    "* **Caution**: **apps can be brittle**\n",
    "    * Internet connections can be lost, services can change, some services not available everywhere, ... \n",
    "* [Twitter API categories, subcategories and individual methods](https://developer.twitter.com/en/docs/api-reference-index.html)"
   ]
  },
  {
   "cell_type": "markdown",
   "metadata": {},
   "source": [
    "<hr style=\"height:2px; border:none; color:#000; background-color:#000;\">"
   ]
  },
  {
   "cell_type": "markdown",
   "metadata": {},
   "source": [
    "### Rate Limits and Restrictions\n",
    "* Twitter expects developers to **use its services responsibly**\n",
    "* **Understand rate limits** before using any method or you could get **blocked**\n",
    "* Some methods list both **user rate limits** and **app rate limits**\n",
    "    * We use **app rate limits** in the demos\n",
    "    * **User rate limits** for apps in which individuals to log into own Twitter accounts\n",
    "    * [Details on rate limiting](https://developer.twitter.com/en/docs/basics/rate-limiting)\n",
    "    * [Specific rate limits on individual API methods](https://developer.twitter.com/en/docs/basics/rate-limits) — also see each API method’s docs\n",
    "* **Follow Twitter’s rules/regulations or your developer account could be terminated.** \n",
    "\t* [Terms of Service](https://twitter.com/tos), [Developer Agreement](https://developer.twitter.com/en/developer-terms/agreement-and-policy.html), [Developer Policy](https://developer.twitter.com/en/developer-terms/policy.html), [Other restrictions](https://developer.twitter.com/en/developer-terms/more-on-restricted-use-cases)"
   ]
  },
  {
   "cell_type": "markdown",
   "metadata": {},
   "source": [
    "<hr style=\"height:2px; border:none; color:#000; background-color:#000;\">"
   ]
  },
  {
   "cell_type": "markdown",
   "metadata": {},
   "source": [
    "# 12.4 Getting Twitter Credentials—Creating an App \n",
    "* [Apply for a developer account](https://developer.twitter.com/en/apply-for-access) to use the APIs\n",
    "* Must get **credentials** to use Twitter APIs\n",
    "    * Part of the **OAuth 2.0 authentication process**\n",
    "    * **Tweepy handles OAuth 2.0 authentication details for you**\n",
    "* To get credentials, you’ll [**create an app**](https://developer.twitter.com) \n",
    "    * **Each app has separate credentials**\n",
    "    * I present **details on creating apps** in my [**Python Fundamentals LiveLessons videos for Section 12.4**](https://learning.oreilly.com/videos/python-fundamentals/9780135917411/9780135917411-PFLL_Lesson12_04) and [**Python for Programmers Section 12.4**](https://learning.oreilly.com/library/view/Python+for+Programmers,+First+Edition/9780135231364/ch12.xhtml#ch12lev1sec4)"
   ]
  },
  {
   "cell_type": "markdown",
   "metadata": {},
   "source": [
    "<hr style=\"height:2px; border:none; color:#000; background-color:#000;\">"
   ]
  },
  {
   "cell_type": "markdown",
   "metadata": {},
   "source": [
    "# 12.5 What’s in a Tweet? \n",
    "* Twitter API returns **JSON (JavaScript Object Notation)** objects\n",
    "* Text-based, human and computer readable\n",
    "* Like Python **dictionaries**\n",
    "* **JSON object format** &mdash; **all strings in double quotes (\")**\n",
    ">```python\n",
    "{propertyName1: value1, propertyName2: value2}\n",
    "```\n",
    "* **JSON array format (like Python list)**:\n",
    ">```python\n",
    "[value1, value2, value3]\n",
    "```\n",
    "* **Tweepy handles the JSON for you** behind the scenes"
   ]
  },
  {
   "cell_type": "markdown",
   "metadata": {},
   "source": [
    "<hr style=\"height:2px; border:none; color:#000; background-color:#000;\">"
   ]
  },
  {
   "cell_type": "markdown",
   "metadata": {},
   "source": [
    "### Key Properties of a Tweet Object \n",
    "* **Tweet object** contains **metadata**, including\n",
    "    * **text** of the tweet\n",
    "    * **extended tweet** for tweets up to **280 characters**\n",
    "\t* **when** it was created \n",
    "\t* **who** created it,\n",
    "\t* lists of **hashtags**, **URLs**, **`@`-mentions**, **images**, **videos** and more\n",
    "* [Our table of many key **tweet metadata attributes**](https://learning.oreilly.com/library/view/python-for-programmers/9780135231364/ch12.xhtml#ch12lev1sec5)\n",
    "* [Complete list of the tweet object attributes](https://developer.twitter.com/en/docs/tweets/data-dictionary/overview/tweet-object.html)\n",
    "* [General overview of all the JSON objects that Twitter APIs return, and links to the specific object details](https://developer.twitter.com/en/docs/tweets/data-dictionary/overview/intro-to-tweet-json)"
   ]
  },
  {
   "cell_type": "markdown",
   "metadata": {},
   "source": [
    "<hr style=\"height:2px; border:none; color:#000; background-color:#000;\">"
   ]
  },
  {
   "cell_type": "markdown",
   "metadata": {},
   "source": [
    "### Sample Tweet JSON\n",
    "* **Sample JSON** for this tweet from the **`@nasa`** account: \n",
    ">```\n",
    "@NoFear1075 Great question, Anthony! Throughout its seven-year \n",
    "mission, our Parker #SolarProbe spacecraft... https://t.co/xKd6ym8waT'\n",
    "```"
   ]
  },
  {
   "cell_type": "markdown",
   "metadata": {},
   "source": [
    "<hr style=\"height:2px; border:none; color:#000; background-color:#000;\">"
   ]
  },
  {
   "cell_type": "markdown",
   "metadata": {},
   "source": [
    "```python\n",
    "{'created_at': 'Wed Sep 05 18:19:34 +0000 2018',\n",
    " 'id': 1037404890354606082,\n",
    " 'id_str': '1037404890354606082',\n",
    " 'text': '@NoFear1075 Great question, Anthony! Throughout its seven-year \n",
    "          mission, our Parker #SolarProbe spacecraft… https://t.co/xKd6ym8waT',\n",
    " 'truncated': True,\n",
    " 'entities': {'hashtags': [{'text': 'SolarProbe', 'indices': [84, 95]}],\n",
    "    'symbols': [],\n",
    "    'user_mentions': [{'screen_name': 'NoFear1075',\n",
    "        'name': 'Anthony Perrone',\n",
    "        'id': 284339791,\n",
    "        'id_str': '284339791',\n",
    "        'indices': [0, 11]}],\n",
    "    'urls': [{'url': 'https://t.co/xKd6ym8waT',\n",
    "        'expanded_url': 'https://twitter.com/i/web/status/1037404890354606082',\n",
    "        'display_url': 'twitter.com/i/web/status/1…',\n",
    "        'indices': [117, 140]}]},\n",
    " 'source': '<a href=\"http://twitter.com\" rel=\"nofollow\">Twitter Web Client</a>',\n",
    "```"
   ]
  },
  {
   "cell_type": "markdown",
   "metadata": {},
   "source": [
    "```python\n",
    " 'in_reply_to_status_id': 1037390542424956928,\n",
    " 'in_reply_to_status_id_str': '1037390542424956928',\n",
    " 'in_reply_to_user_id': 284339791,\n",
    " 'in_reply_to_user_id_str': '284339791',\n",
    " 'in_reply_to_screen_name': 'NoFear1075',\n",
    " 'user': {'id': 11348282,\n",
    "    'id_str': '11348282',\n",
    "    'name': 'NASA',\n",
    "    'screen_name': 'NASA',\n",
    "    'location': '',\n",
    "    'description': 'Explore the universe and discover our home planet with \n",
    "            @NASA. We usually post in EST (UTC-5)',\n",
    "    'url': 'https://t.co/TcEE6NS8nD',\n",
    "    'entities': {'url': {'urls': [{'url': 'https://t.co/TcEE6NS8nD',\n",
    "            'expanded_url': 'http://www.nasa.gov',\n",
    "            'display_url': 'nasa.gov',\n",
    "            'indices': [0, 23]}]},\n",
    "    'description': {'urls': []}},\n",
    "    'protected': False,\n",
    "    'followers_count': 29486081,\n",
    "    'friends_count': 287,\n",
    "    'listed_count': 91928,\n",
    "    'created_at': 'Wed Dec 19 20:20:32 +0000 2007',\n",
    "    'favourites_count': 3963,\n",
    "    'time_zone': None,\n",
    "    'geo_enabled': False,\n",
    "    'verified': True,\n",
    "    'statuses_count': 53147,\n",
    "    'lang': 'en',\n",
    "```"
   ]
  },
  {
   "cell_type": "markdown",
   "metadata": {},
   "source": [
    "```python\n",
    "    'contributors_enabled': False,\n",
    "    'is_translator': False,\n",
    "    'is_translation_enabled': False,\n",
    "    'profile_background_color': '000000',\n",
    "    'profile_background_image_url': 'http://abs.twimg.com/images/themes/theme1/bg.png',\n",
    "    'profile_background_image_url_https': 'https://abs.twimg.com/images/themes/theme1/bg.png',\n",
    "    'profile_image_url': 'http://pbs.twimg.com/profile_images/188302352/nasalogo_twitter_normal.jpg',\n",
    "    'profile_image_url_https': 'https://pbs.twimg.com/profile_images/188302352/nasalogo_twitter_normal.jpg',\n",
    "    'profile_banner_url': 'https://pbs.twimg.com/profile_banners/11348282/1535145490',\n",
    "    'profile_link_color': '205BA7',\n",
    "    'profile_sidebar_border_color': '000000',\n",
    "    'profile_sidebar_fill_color': 'F3F2F2',\n",
    "    'profile_text_color': '000000',\n",
    "    'profile_use_background_image': True,\n",
    "    'has_extended_profile': True,\n",
    "    'default_profile': False,\n",
    "    'default_profile_image': False,\n",
    "    'following': True,\n",
    "    'follow_request_sent': False,\n",
    "    'notifications': False,\n",
    "    'translator_type': 'regular'},\n",
    " 'geo': None,\n",
    " 'coordinates': None,\n",
    " 'place': None,\n",
    " 'contributors': None,\n",
    " 'is_quote_status': False,\n",
    " 'retweet_count': 7,\n",
    " 'favorite_count': 19,\n",
    " 'favorited': False,\n",
    " 'retweeted': False,\n",
    " 'possibly_sensitive': False,\n",
    " 'lang': 'en'}\n",
    "\n",
    "```"
   ]
  },
  {
   "cell_type": "markdown",
   "metadata": {},
   "source": [
    "<hr style=\"height:2px; border:none; color:#000; background-color:#000;\">"
   ]
  },
  {
   "cell_type": "markdown",
   "metadata": {},
   "source": [
    "# 12.6 Tweepy\n",
    "* [**Tweepy library**](http://www.tweepy.org/)—**one of the most popular Python Twitter clients**\n",
    "> `pip install tweepy>=4.3`\n",
    "* Easy access to Twitter’s capabilities\n",
    "* [Tweepy’s documentation](http://docs.tweepy.org/en/latest/)\n",
    "* One function in `tweetutilities.py` file depends on [**geopy**](https://github.com/geopy/geopy) (used later to **plot tweet locations**)\n",
    ">`conda install -c conda-forge geopy`"
   ]
  },
  {
   "cell_type": "markdown",
   "metadata": {},
   "source": [
    "<hr style=\"height:2px; border:none; color:#000; background-color:#000;\">"
   ]
  },
  {
   "cell_type": "markdown",
   "metadata": {},
   "source": [
    "# 12.7 Authenticating with Twitter Via Tweepy\n",
    "* **Authentication API**—Authenticate with your **Twitter credentials** to use other Twitter APIs\n",
    "* **`keys.py`** must contain your credentials"
   ]
  },
  {
   "cell_type": "code",
   "execution_count": 2,
   "metadata": {},
   "outputs": [],
   "source": [
    "import tweepy"
   ]
  },
  {
   "cell_type": "code",
   "execution_count": 3,
   "metadata": {},
   "outputs": [],
   "source": [
    "import keys"
   ]
  },
  {
   "cell_type": "code",
   "execution_count": 4,
   "metadata": {},
   "outputs": [],
   "source": [
    "auth = tweepy.OAuthHandler(keys.consumer_key,\n",
    "                           keys.consumer_secret)"
   ]
  },
  {
   "cell_type": "code",
   "execution_count": 5,
   "metadata": {},
   "outputs": [],
   "source": [
    "auth.set_access_token(keys.access_token,\n",
    "                      keys.access_token_secret)"
   ]
  },
  {
   "cell_type": "markdown",
   "metadata": {},
   "source": [
    "<hr style=\"height:2px; border:none; color:#000; background-color:#000;\">"
   ]
  },
  {
   "cell_type": "markdown",
   "metadata": {},
   "source": [
    "### Creating the Tweepy API Object\n",
    "* A **Tweepy `API` object** is your **gateway** to Twitter APIs"
   ]
  },
  {
   "cell_type": "markdown",
   "metadata": {},
   "source": [
    "* **CHANGE:** `wait_on_rate_limit_notify=True` (all errors are now reported, so they removed this)"
   ]
  },
  {
   "cell_type": "code",
   "execution_count": 6,
   "metadata": {},
   "outputs": [],
   "source": [
    "api = tweepy.API(auth, wait_on_rate_limit=True) # , wait_on_rate_limit_notify=True)"
   ]
  },
  {
   "cell_type": "markdown",
   "metadata": {},
   "source": [
    "* **`auth`** is the **`OAuthHandler`**\n",
    "* **`wait_on_rate_limit=True`** &mdash; **wait 15 minutes** when app reaches an API method’s rate limit\n",
    "    * prevents violations\n",
    "* **`wait_on_rate_limit_notify=True`** &mdash; **display a command-line message** when you hit a rate limit"
   ]
  },
  {
   "cell_type": "markdown",
   "metadata": {},
   "source": [
    "<hr style=\"height:2px; border:none; color:#000; background-color:#000;\">"
   ]
  },
  {
   "cell_type": "markdown",
   "metadata": {},
   "source": [
    "# 12.8 Getting Information About a Twitter Account\n",
    "* **Accounts and Users API**—Access information about an account\n",
    "* `API` object’s **`get_user` method** returns a **`tweepy.models.User` object** for an account"
   ]
  },
  {
   "cell_type": "code",
   "execution_count": 7,
   "metadata": {},
   "outputs": [],
   "source": [
    "nasa = api.get_user(screen_name='nasa')"
   ]
  },
  {
   "cell_type": "markdown",
   "metadata": {},
   "source": [
    "* Calls the **Twitter API’s [`users/show` method](https://developer.twitter.com/en/docs/accounts-and-users/follow-search-get-users/api-reference/get-users-show)**\n",
    "* **`tweepy.models` classes** correspond to returned **JSON objects**\n",
    "* **`User` class** corresponds to a Twitter [**user object**](https://developer.twitter.com/en/docs/tweets/data-dictionary/overview/user-object)\n",
    "* **`tweepy.models` classes** turn **JSON** into **Tweepy objects** "
   ]
  },
  {
   "cell_type": "markdown",
   "metadata": {},
   "source": [
    "<hr style=\"height:2px; border:none; color:#000; background-color:#000;\">"
   ]
  },
  {
   "cell_type": "markdown",
   "metadata": {},
   "source": [
    "### Getting Basic Account Information for `@nasa`\n",
    "* IDs and twitter handles can be used to **track tweets to, from and about users**"
   ]
  },
  {
   "cell_type": "code",
   "execution_count": 8,
   "metadata": {},
   "outputs": [
    {
     "data": {
      "text/plain": [
       "11348282"
      ]
     },
     "execution_count": 8,
     "metadata": {},
     "output_type": "execute_result"
    }
   ],
   "source": [
    "nasa.id  # account ID created when the user joined Twitter"
   ]
  },
  {
   "cell_type": "code",
   "execution_count": 9,
   "metadata": {},
   "outputs": [
    {
     "data": {
      "text/plain": [
       "'NASA'"
      ]
     },
     "execution_count": 9,
     "metadata": {},
     "output_type": "execute_result"
    }
   ],
   "source": [
    "nasa.screen_name  # user’s Twitter handle"
   ]
  },
  {
   "cell_type": "code",
   "execution_count": 10,
   "metadata": {},
   "outputs": [
    {
     "data": {
      "text/plain": [
       "\"There's space for everybody. ✨\""
      ]
     },
     "execution_count": 10,
     "metadata": {},
     "output_type": "execute_result"
    }
   ],
   "source": [
    "nasa.description  # description from the user’s profile"
   ]
  },
  {
   "cell_type": "markdown",
   "metadata": {},
   "source": [
    "* Lots of additional attributes, like `name`, `description`, `followers_count`, `friends_count`, etc."
   ]
  },
  {
   "cell_type": "code",
   "execution_count": 11,
   "metadata": {},
   "outputs": [
    {
     "data": {
      "text/plain": [
       "59560739"
      ]
     },
     "execution_count": 11,
     "metadata": {},
     "output_type": "execute_result"
    }
   ],
   "source": [
    "nasa.followers_count"
   ]
  },
  {
   "cell_type": "markdown",
   "metadata": {},
   "source": [
    "<hr style=\"height:2px; border:none; color:#000; background-color:#000;\">"
   ]
  },
  {
   "cell_type": "markdown",
   "metadata": {},
   "source": [
    "### Getting `@nasa`'s Most Recent Status Update\n",
    "* `User` object’s **`status` property** returns a **`tweepy.models.Status`** object\n",
    "* Corresponds to a Twitter [**tweet object**](https://developer.twitter.com/en/docs/tweets/data-dictionary/overview/tweet-object)"
   ]
  },
  {
   "cell_type": "code",
   "execution_count": 12,
   "metadata": {},
   "outputs": [
    {
     "data": {
      "text/plain": [
       "'RT @NASAWebb: Webb is ready for science! 🎉\\n\\nAll 4 of Webb’s science instruments are 100% set to #UnfoldTheUniverse: https://t.co/7Hvp5BJ4IT…'"
      ]
     },
     "execution_count": 12,
     "metadata": {},
     "output_type": "execute_result"
    }
   ],
   "source": [
    "nasa.status.text  # most recent tweet's text"
   ]
  },
  {
   "cell_type": "markdown",
   "metadata": {},
   "source": [
    "* **...** indicates **truncated** tweet text\n",
    "* **`extended_tweet` property** for tweets between 141 and 280 characters (as of Nov. 2017) \n",
    "* **Retweeting** often results in truncation"
   ]
  },
  {
   "cell_type": "markdown",
   "metadata": {},
   "source": [
    "<hr style=\"height:2px; border:none; color:#000; background-color:#000;\">"
   ]
  },
  {
   "cell_type": "markdown",
   "metadata": {},
   "source": [
    "# 12.9 Introduction to Tweepy Cursors: Getting an Account’s Followers \n",
    "* Twitter API methods often return collections of objects \n",
    "    * E.g., list of tweets that match specified search criteria \n",
    "* Each method has **maximum number of items returned by one call**\n",
    "    * A **\"page\"** of results\n",
    "* **JSON responses** indicate whether there are **more pages**\n",
    "* A **`Cursor`** handles **paging** \n",
    "    * Invokes a method and **checks for more pages**\n",
    "    * If so, **calls the method again**  \n",
    "    * Continues until there are no more results to process\n",
    "    * If `API` object configured to **wait on rate limits**, **`Cursor`s wait as needed**\n",
    "* [Tweepy `Cursor` tutorial](http://docs.tweepy.org/en/latest/cursor_tutorial.html)"
   ]
  },
  {
   "cell_type": "markdown",
   "metadata": {},
   "source": [
    "<hr style=\"height:2px; border:none; color:#000; background-color:#000;\">"
   ]
  },
  {
   "cell_type": "markdown",
   "metadata": {},
   "source": [
    "## 12.9.1 Determining an Account’s Followers  Via the `API` object’s **`get_followers` Method**\n",
    "* Calls Twitter’s [**followers/list** method](https://developer.twitter.com/en/docs/accounts-and-users/follow-search-get-users/api-reference/get-followers-list.html)\n",
    "* Returns groups of 20 by default, but can request up to 200 \n",
    "* For demonstration purposes, we’ll grab 100 of NASA’s followers"
   ]
  },
  {
   "cell_type": "markdown",
   "metadata": {},
   "source": [
    "<hr style=\"height:2px; border:none; color:#000; background-color:#000;\">"
   ]
  },
  {
   "cell_type": "markdown",
   "metadata": {},
   "source": [
    "### Creating a Cursor That Will Call the `get_followers` Method for NASA’s account"
   ]
  },
  {
   "cell_type": "code",
   "execution_count": 13,
   "metadata": {},
   "outputs": [],
   "source": [
    "followers = []  # for storing followers' User objects"
   ]
  },
  {
   "cell_type": "markdown",
   "metadata": {},
   "source": [
    "**CHANGE:** `api.get_followers` used to be `api.followers`"
   ]
  },
  {
   "cell_type": "code",
   "execution_count": 14,
   "metadata": {},
   "outputs": [],
   "source": [
    "cursor = tweepy.Cursor(api.get_followers, screen_name='nasa')"
   ]
  },
  {
   "cell_type": "markdown",
   "metadata": {},
   "source": [
    "* First argument is **name of Tweepy method to call**\n",
    "* Additional keyword arguments are passed to method named in first argument"
   ]
  },
  {
   "cell_type": "markdown",
   "metadata": {},
   "source": [
    "<hr style=\"height:2px; border:none; color:#000; background-color:#000;\">"
   ]
  },
  {
   "cell_type": "markdown",
   "metadata": {},
   "source": [
    "### Get Results from `Cursor` and Display in Ascending Alphabetical Order  \n",
    "* Cursor’s **`items` method** calls `api.get_followers` and returns the `get_followers`s method’s results"
   ]
  },
  {
   "cell_type": "code",
   "execution_count": 15,
   "metadata": {},
   "outputs": [],
   "source": [
    "for account in cursor.items(100):  # request only 100 results\n",
    "    followers.append(account.screen_name)"
   ]
  },
  {
   "cell_type": "code",
   "execution_count": 16,
   "metadata": {},
   "outputs": [
    {
     "data": {
      "text/plain": [
       "['sdf102971',\n",
       " 'merimerismaria',\n",
       " 'guereca_brayan',\n",
       " 'iamCastro15',\n",
       " 'goldleeef',\n",
       " 'sedat_asl',\n",
       " '0Jorgenx',\n",
       " 'LydiaBNace',\n",
       " 'Blues_BLS',\n",
       " 'MariCar040883',\n",
       " 'npwd131',\n",
       " 'MariaRi37994337',\n",
       " 'yuzhet6',\n",
       " 'maarcyo',\n",
       " 'xochloejeanxo',\n",
       " 'VenScn',\n",
       " 'ChalametV',\n",
       " 'DGh0st007',\n",
       " 'LadyHistoriai',\n",
       " 'OguzhanTeker5',\n",
       " 'hajmola_addict',\n",
       " 'f_baharii',\n",
       " 'magicspellcast1',\n",
       " 'Yermi89900553',\n",
       " 'EdgarlPitogo',\n",
       " 'Raiden13484496',\n",
       " 'RaulJimenezDz',\n",
       " 'Aries_0042',\n",
       " 'DustyGreyfox',\n",
       " 'ZeddyZeco',\n",
       " 'stelianfc',\n",
       " 'shit_mere',\n",
       " '_LRoque',\n",
       " 'sawanzeon',\n",
       " 'BorisLazarevic7',\n",
       " 'cyrilmartins_',\n",
       " 'JoaquinHoward',\n",
       " 'amirchra831',\n",
       " 'salah_salim0',\n",
       " 'anqahasan',\n",
       " 'Suprise10484619',\n",
       " 'Felixmrj',\n",
       " 'frankinwini14',\n",
       " 'Abhithakuri4',\n",
       " 'aibuaishupiane1',\n",
       " 'HR1367hr1367',\n",
       " 'dryyhwdh8',\n",
       " 'Lipezin2d',\n",
       " 'fpeglow10',\n",
       " 'JaysonJ38285184',\n",
       " 'tolicr1',\n",
       " 'SJCrawford4',\n",
       " 'zariumontilla',\n",
       " 'Serby93',\n",
       " 'EricsonG93',\n",
       " 'momo72283',\n",
       " 'Eduardo40117451',\n",
       " 'thompsonjb',\n",
       " 'ehsan27079740',\n",
       " 'bolatmecann',\n",
       " 'Anguianoespi',\n",
       " '_Eslam_Elnaggar',\n",
       " 'NinjaHa97908095',\n",
       " 'Victori07028282',\n",
       " 'BoabyDouche',\n",
       " 'JaffretDylan',\n",
       " 'DanielC27762270',\n",
       " 'Mushab35988276',\n",
       " 'AnaisDiquet',\n",
       " 'MeyerDehn',\n",
       " 'TheSirKelsier',\n",
       " 'KKravos',\n",
       " 'AnguloMardoqueo',\n",
       " 'reyeszf66',\n",
       " 'connorbennett93',\n",
       " 'trincaseis',\n",
       " 'SemenTurnikov',\n",
       " 'DNKESN',\n",
       " 'JayMehra38',\n",
       " 'zahra39247047',\n",
       " 'GoraAva',\n",
       " 'kevin_jhos',\n",
       " 'hjuwair',\n",
       " 'Abdul34155315',\n",
       " '_Just_for_fuun',\n",
       " 'MarioVPapadakis',\n",
       " 'Stopme45034395',\n",
       " 'hotbrian_',\n",
       " 'jessypikman008',\n",
       " 'BrahimBM16',\n",
       " 'SabbaticalSage1',\n",
       " 'viassley',\n",
       " 'techbharatco',\n",
       " 'xfreecoin',\n",
       " 'F_Alrajhii',\n",
       " 'onlyhead200',\n",
       " '2legitD1',\n",
       " 'hot85694943',\n",
       " 'AyranciFurkan1',\n",
       " 'popZMin1']"
      ]
     },
     "execution_count": 16,
     "metadata": {},
     "output_type": "execute_result"
    }
   ],
   "source": [
    "followers"
   ]
  },
  {
   "cell_type": "markdown",
   "metadata": {},
   "source": [
    "<hr style=\"height:2px; border:none; color:#000; background-color:#000;\">"
   ]
  },
  {
   "cell_type": "markdown",
   "metadata": {},
   "source": [
    "### Automatic Paging\n",
    "* To **get up to 200 followers at a time**, create the `Cursor` with the **`count`** keyword argument\n",
    ">```python\n",
    "cursor = tweepy.Cursor(api.get_followers, screen_name='nasa', count=200)\n",
    "```\n",
    "* Calling `Cursor` method **`items`** with no argument attempts to get **all followers**\n",
    "    * Could **take significant time** due to **rate limits**"
   ]
  },
  {
   "cell_type": "markdown",
   "metadata": {},
   "source": [
    "<hr style=\"height:2px; border:none; color:#000; background-color:#000;\">"
   ]
  },
  {
   "cell_type": "markdown",
   "metadata": {},
   "source": [
    "# 12.10 Searching Recent Tweets with Tweepy `API` method **`search_tweets`** \n",
    "* **Tweets API**—Search **past 7 days' tweets**, access **live tweet streams** and more\n",
    "* Returns tweets that **match a query string**\n",
    "* Only for the **previous seven days’ tweets**\n",
    "* **Not guaranteed to return all matching tweets**\n",
    "* Calls Twitter’s **`search/tweets` method**\n",
    "* Returns 15 tweets at a time by default, but can return up to 100"
   ]
  },
  {
   "cell_type": "markdown",
   "metadata": {},
   "source": [
    "<hr style=\"height:2px; border:none; color:#000; background-color:#000;\">"
   ]
  },
  {
   "cell_type": "markdown",
   "metadata": {},
   "source": [
    "### Utility Function `print_tweets` from `tweetutilities.py` "
   ]
  },
  {
   "cell_type": "code",
   "execution_count": 17,
   "metadata": {},
   "outputs": [],
   "source": [
    "from tweetutilities import print_tweets"
   ]
  },
  {
   "cell_type": "markdown",
   "metadata": {},
   "source": [
    "```python\n",
    "def print_tweets(tweets):\n",
    "    \"\"\"For each Tweepy Status object in tweets, display the \n",
    "    user's screen_name and tweet text. If the language is not\n",
    "    English, translate the text with TextBlob.\"\"\"\n",
    "    for tweet in tweets:\n",
    "        print(f'{tweet.user.screen_name}:', end=' ')\n",
    "        print(f'{tweet.text}\\n')\n",
    "```"
   ]
  },
  {
   "cell_type": "markdown",
   "metadata": {},
   "source": [
    "<hr style=\"height:2px; border:none; color:#000; background-color:#000;\">"
   ]
  },
  {
   "cell_type": "markdown",
   "metadata": {},
   "source": [
    "### Searching for Specific Words\n",
    "* **`q` keyword argument** specifies the **query string**\n",
    "* Should use **`Cursor`** for more than max results"
   ]
  },
  {
   "cell_type": "markdown",
   "metadata": {},
   "source": [
    "**NOTE: Modified to search only English due to current known issue in TextBlob**\n",
    "* **CHANGE:** `api.search_tweets` used to be `api.search`"
   ]
  },
  {
   "cell_type": "code",
   "execution_count": 18,
   "metadata": {},
   "outputs": [],
   "source": [
    "tweets = api.search_tweets(q='football', count=10) #lang='en',"
   ]
  },
  {
   "cell_type": "code",
   "execution_count": 19,
   "metadata": {},
   "outputs": [
    {
     "name": "stdout",
     "output_type": "stream",
     "text": [
      "CaryNelson20: https://t.co/BuEg641om9\n",
      "\n",
      "Peter99909802: RT @IH8FakeNews: @AsifBurhan @ellsbells89 @GaryLineker @HKane @char_moves @ChrisSlegg @FreeLionesses @justaballgame @MCWFC_OSC @Phil_Footba…\n",
      "\n",
      "rich301179: @knaggsy097 All forms of cancer which actually includes Liverpool football club and their fans.\n",
      "\n",
      "elitetakes_: Will we still get the Matthew Berry sound effects during fantasy football drafts?\n",
      "\n",
      "AlkireBrandon: RT @RapSheet: Long-time #Cowboys National Scout Drew Fabianich is making a move to big-time college football. He accepted the job of Genera…\n",
      "\n",
      "Scott_M_Fitness: information regarding sessions ⚽️🥅💻📧\n",
      "\n",
      "#personaltrainer #football #footballfitness #footballtraining #glasgow… https://t.co/rRF1o4MUo1\n",
      "\n",
      "_iisa24: @football_ll55 مانعرفه .\n",
      "\n",
      "Tony2Step_: @UnderDog12389 @THOMAS_LONG17 Hey it’s the all American pass time I’m super bullish on football\n",
      "\n",
      "obrien_jonathan: @UinsionnMac @little_football @Eamonn120 It would be physically difficult for the next government to be worse than the current one.\n",
      "\n",
      "202FSUNole: Too bad FSU cant do some type of bankruptcy to wipe the slate clean and walk away or do what corporations do - spin… https://t.co/Yae9rcCqB8\n",
      "\n"
     ]
    }
   ],
   "source": [
    "print_tweets(tweets)"
   ]
  },
  {
   "cell_type": "markdown",
   "metadata": {},
   "source": [
    "<hr style=\"height:2px; border:none; color:#000; background-color:#000;\">"
   ]
  },
  {
   "cell_type": "markdown",
   "metadata": {},
   "source": [
    "### Searching with Twitter Search Operators (1 of 2)\n",
    "* Use **Twitter search operators** to refine search results\n",
    "* The following table shows several Twitter search operators. \n",
    "* [For all the operators, click the `operators` link here](https://twitter.com/search-home)\n",
    "* ```python\n",
    "tweets = api.search(q='from:nasa since:2019-11-15', count=3)\n",
    "```\n",
    "\n",
    "|Example|Finds tweets containing|\n",
    "|----|----|\n",
    "| `python twitter` \t| **Implicit _logical and_ operator**—Finds tweets containing `python` _and_ `twitter`.|\n",
    "| `python OR twitter` \t| **Logical `OR` operator**—Finds tweets containing `python` or `twitter` or both.|\n",
    "| `python ?` \t| `?` (question mark)—Finds tweets asking questions about `python`.|\n",
    "| `planets -mars` \t| `-` (minus sign)—Finds tweets containing `planets` but not `mars`.|\n",
    "| `python :)` \t| `:)` (happy face)—Finds **positive sentiment** tweets containing `python`.|\n",
    "| `python :(` \t| `:(` (sad face)—Finds **negative sentiment** tweets containing `python`.|\n",
    "| `since:2018-09-01` \t| **Finds tweets **on or after** the specified date**, which must be in the form **`YYYY-MM-DD`**.|\n",
    "| `near:\"New York City\" `\t| **Finds tweets that were sent near `\"New York City\"`**.|\n",
    "| `from:nasa` \t| **Finds tweets from the account `@nasa`**.|\n",
    "| `to:nasa` \t| **Finds tweets to the account `@nasa`**.|"
   ]
  },
  {
   "cell_type": "markdown",
   "metadata": {},
   "source": [
    "<hr style=\"height:2px; border:none; color:#000; background-color:#000;\">"
   ]
  },
  {
   "cell_type": "markdown",
   "metadata": {},
   "source": [
    "# 12.11 Spotting Trends: Twitter Trends API\n",
    "* **“Going viral”** &mdash; thousands or millions of people tweeting at once \n",
    "* Twitter maintains a list of **trending topics** worldwide \n",
    "* **Twitter Trends API** can return lists of **trending-topic locations** and the **top 50 trending topics** for each **location**"
   ]
  },
  {
   "cell_type": "markdown",
   "metadata": {},
   "source": [
    "<hr style=\"height:2px; border:none; color:#000; background-color:#000;\">"
   ]
  },
  {
   "cell_type": "markdown",
   "metadata": {},
   "source": [
    "## 12.11.1 Places with Trending Topics \n",
    "* See how to find places with trending topics: https://learning.oreilly.com/videos/python-fundamentals/9780135917411/9780135917411-PFLL_Lesson12_15"
   ]
  },
  {
   "cell_type": "markdown",
   "metadata": {},
   "source": [
    "<hr style=\"height:2px; border:none; color:#000; background-color:#000;\">"
   ]
  },
  {
   "cell_type": "markdown",
   "metadata": {},
   "source": [
    "## 12.11.2 Getting a List of Trending Topics with the Tweepy `API`’s **`get_place_trends` Method** \n",
    "* Calls **Twitter Trends API’s [`trends/place` method](https://developer.twitter.com/en/docs/trends/trends-for-location/api-reference/get-trends-place)**\n",
    "* Returns top **50 trending topics for the location**\n",
    "* [Look up WOEIDs](http://www.woeidlookup.com) (**Yahoo! Where on Earth IDs**)\n",
    "* Look up WOEID’s programmatically using **Yahoo!’s web services** via [Python libraries like `woeid`](https://github.com/Ray-SunR/woeid)"
   ]
  },
  {
   "cell_type": "markdown",
   "metadata": {},
   "source": [
    "<hr style=\"height:2px; border:none; color:#000; background-color:#000;\">"
   ]
  },
  {
   "cell_type": "markdown",
   "metadata": {},
   "source": [
    "### Get Today's Worldwide Trending Topics (1 of 3)"
   ]
  },
  {
   "cell_type": "markdown",
   "metadata": {},
   "source": [
    "* **CHANGE:** `api.get_place_trends` used to be `api.trends_place`"
   ]
  },
  {
   "cell_type": "code",
   "execution_count": 20,
   "metadata": {},
   "outputs": [],
   "source": [
    "world_trends = api.get_place_trends(id=1)  # list containing one dictionary"
   ]
  },
  {
   "cell_type": "markdown",
   "metadata": {},
   "source": [
    "* **`'trends'` key** refers to a **list of dictionaries representing each trend**"
   ]
  },
  {
   "cell_type": "code",
   "execution_count": 21,
   "metadata": {},
   "outputs": [],
   "source": [
    "trends_list = world_trends[0]['trends']"
   ]
  },
  {
   "cell_type": "markdown",
   "metadata": {},
   "source": [
    "<hr style=\"height:2px; border:none; color:#000; background-color:#000;\">"
   ]
  },
  {
   "cell_type": "markdown",
   "metadata": {},
   "source": [
    "### Get Today's Worldwide Trending Topics (2 of 3)\n",
    "* Each trend has **`name`**, **`url`**, **`promoted_content`** (whether it's an **advertisement**), **`query`** and **`tweet_volume`** keys"
   ]
  },
  {
   "cell_type": "code",
   "execution_count": 22,
   "metadata": {},
   "outputs": [
    {
     "data": {
      "text/plain": [
       "{'name': '#ENGNOR',\n",
       " 'url': 'http://twitter.com/search?q=%23ENGNOR',\n",
       " 'promoted_content': None,\n",
       " 'query': '%23ENGNOR',\n",
       " 'tweet_volume': None}"
      ]
     },
     "execution_count": 22,
     "metadata": {},
     "output_type": "execute_result"
    }
   ],
   "source": [
    "trends_list[0]"
   ]
  },
  {
   "cell_type": "markdown",
   "metadata": {},
   "source": [
    "<hr style=\"height:2px; border:none; color:#000; background-color:#000;\">"
   ]
  },
  {
   "cell_type": "markdown",
   "metadata": {},
   "source": [
    "### Get Today's Worldwide Trending Topics (3 of 3)\n",
    "* For **trends with more than 10,000 tweets**, the **`tweet_volume`** is the **number of tweets**; otherwise, it’s `None`\n",
    "* Filter the list so that it contains only trends with more than 10,000 tweets:"
   ]
  },
  {
   "cell_type": "code",
   "execution_count": 23,
   "metadata": {},
   "outputs": [],
   "source": [
    "trends_list = [t for t in trends_list if t['tweet_volume']]"
   ]
  },
  {
   "cell_type": "code",
   "execution_count": 24,
   "metadata": {},
   "outputs": [],
   "source": [
    "from operator import itemgetter "
   ]
  },
  {
   "cell_type": "code",
   "execution_count": 25,
   "metadata": {},
   "outputs": [],
   "source": [
    "trends_list.sort(key=itemgetter('tweet_volume'), reverse=True) "
   ]
  },
  {
   "cell_type": "code",
   "execution_count": 26,
   "metadata": {},
   "outputs": [
    {
     "name": "stdout",
     "output_type": "stream",
     "text": [
      "Hunter Biden\n",
      "LATE NIGHT TALKING\n",
      "Sakaja\n",
      "Igathe\n",
      "ERCOT\n",
      "Lea Michele\n",
      "Funny Girl\n",
      "#NairobiGovDebate2022\n",
      "MY BOYFRIEND\n",
      "Pibe\n",
      "#WEURO2022\n",
      "James Webb\n",
      "Norway\n",
      "Herschel Walker\n",
      "Danica\n",
      "Lamar\n",
      "Broadway\n",
      "Beanie\n",
      "Gohan\n",
      "Glee\n",
      "#Totti\n",
      "Fethullah Gülen\n",
      "Inglaterra\n",
      "Heinz Field\n",
      "Fabiola Campillai\n",
      "Gnabry\n"
     ]
    }
   ],
   "source": [
    "for trend in trends_list:  # show top trending topics\n",
    "    print(trend['name'])"
   ]
  },
  {
   "cell_type": "markdown",
   "metadata": {},
   "source": [
    "<hr style=\"height:2px; border:none; color:#000; background-color:#000;\">"
   ]
  },
  {
   "cell_type": "markdown",
   "metadata": {},
   "source": [
    "# 12.12 Cleaning/Preprocessing Tweets for Analysis\n",
    "* **Data cleaning** is one of data scientists' most common tasks \n",
    "* Some **NLP tasks** for **normalizing tweets**\n",
    "    * Converting text to **same case**\n",
    "    * Removing **`#` from hashtags**, **`@`-mentions**, **duplicates**, **hashtags**\n",
    "    * Removing **excess whitespace**, **punctuation**, **stop words**, **URLs**\n",
    "    * Removing tweet keywords **`RT`** (retweet) and **`FAV`** (favorite) \n",
    "    * **Stemming** and **lemmatization**\n",
    "    * **Tokenization**"
   ]
  },
  {
   "cell_type": "markdown",
   "metadata": {},
   "source": [
    "<hr style=\"height:2px; border:none; color:#000; background-color:#000;\">"
   ]
  },
  {
   "cell_type": "markdown",
   "metadata": {},
   "source": [
    "### [**tweet-preprocessor**](https://github.com/s/preprocessor) Library and TextBlob Utility Functions\n",
    "* `pip install tweet-preprocessor`\n",
    "* Can automatically remove any combination of:\n",
    "\n",
    "| Option\t| Option constant\n",
    "| :---\t| :---\n",
    "| **`OPT.MENTION`** | @-Mentions (e.g., `@nasa`)\t\n",
    "| **`OPT.EMOJI`** | Emoji\t\n",
    "| **`OPT.HASHTAG`** | Hashtag (e.g., `#mars`)\t\n",
    "| **`OPT.NUMBER`** | Number\t\n",
    "| **`OPT.RESERVED`** | Reserved Words (`RT` and `FAV`)\t\n",
    "| **`OPT.SMILEY`** | Smiley\t\n",
    "| **`OPT.URL`** | URL\t"
   ]
  },
  {
   "cell_type": "markdown",
   "metadata": {},
   "source": [
    "<hr style=\"height:2px; border:none; color:#000; background-color:#000;\">"
   ]
  },
  {
   "cell_type": "markdown",
   "metadata": {},
   "source": [
    "### Cleaning a Tweet Containing a Reserved Word and a URL\n",
    "* The tweet-preprocessor library’s module name is **`preprocessor`** "
   ]
  },
  {
   "cell_type": "code",
   "execution_count": 27,
   "metadata": {},
   "outputs": [],
   "source": [
    "import preprocessor as p  # p recommended by docs"
   ]
  },
  {
   "cell_type": "code",
   "execution_count": 28,
   "metadata": {},
   "outputs": [],
   "source": [
    "p.set_options(p.OPT.URL, p.OPT.RESERVED)  # specify what to clean"
   ]
  },
  {
   "cell_type": "code",
   "execution_count": 29,
   "metadata": {},
   "outputs": [],
   "source": [
    "tweet_text = 'RT A sample retweet with a URL https://nasa.gov'"
   ]
  },
  {
   "cell_type": "code",
   "execution_count": 30,
   "metadata": {},
   "outputs": [
    {
     "data": {
      "text/plain": [
       "'A sample retweet with a URL'"
      ]
     },
     "execution_count": 30,
     "metadata": {},
     "output_type": "execute_result"
    }
   ],
   "source": [
    "p.clean(tweet_text)"
   ]
  },
  {
   "cell_type": "markdown",
   "metadata": {},
   "source": [
    "<hr style=\"height:2px; border:none; color:#000; background-color:#000;\">"
   ]
  },
  {
   "cell_type": "markdown",
   "metadata": {},
   "source": [
    "# 12.13 Twitter Streaming API\n",
    "* Streams **randomly selected** live tweets up to a **maximum of 1% of the tweets per day**\n",
    "* According to https://InternetLiveStats.com\n",
    "    * **~8500 tweets per second**\n",
    "    * Nearly **750 million tweets per day**\n",
    "* So Streaming API gives you **free access to approximately 7.5 million tweets/day**"
   ]
  },
  {
   "cell_type": "markdown",
   "metadata": {},
   "source": [
    "<hr style=\"height:2px; border:none; color:#000; background-color:#000;\">"
   ]
  },
  {
   "cell_type": "markdown",
   "metadata": {},
   "source": [
    "## 12.13.1 Creating a Subclass of `Stream` \n",
    "* A stream **pushes** tweets to your app via a **persistent connection** \n",
    "* **Streaming rate** varies tremendously, based on search criteria\n",
    "* Subclass of Tweepy’s **`Stream`** listens for tweets\n",
    "    * **Notified** when each **new tweet** or other **Twitter message** **arrives**\n",
    "    * Each message results in a call to a **`Stream` method**\n",
    "    * **Override** only the **methods you need**\n"
   ]
  },
  {
   "cell_type": "markdown",
   "metadata": {},
   "source": [
    "<hr style=\"height:2px; border:none; color:#000; background-color:#000;\">"
   ]
  },
  {
   "cell_type": "markdown",
   "metadata": {},
   "source": [
    "### `Stream` Methods\n",
    "* [`Stream` methods](https://github.com/tweepy/tweepy/blob/master/tweepy/streaming.py)  \n",
    "\n",
    "|Method&nbsp;&nbsp;&nbsp;&nbsp;&nbsp;&nbsp;&nbsp;&nbsp;&nbsp;&nbsp;&nbsp;&nbsp;&nbsp;&nbsp;&nbsp;&nbsp;&nbsp;&nbsp;&nbsp;&nbsp;&nbsp;&nbsp;&nbsp;&nbsp;&nbsp;&nbsp;&nbsp;&nbsp;&nbsp;&nbsp;&nbsp;&nbsp;&nbsp;&nbsp;&nbsp;&nbsp;&nbsp;&nbsp;&nbsp;&nbsp;&nbsp;&nbsp;&nbsp;&nbsp;&nbsp;&nbsp;&nbsp;&nbsp;&nbsp;&nbsp;&nbsp;|Called when...|\n",
    "|----|----|\n",
    "| **`on_connect(self)`** \t| App **successfully connects** to the Twitter stream. This is for statements that should execute only if your app is connected to the stream.|\n",
    "| **`on_status(self, status)`** \t| A **tweet arrives**—**`status`** is a Tweepy **`Status`** object.|\n",
    "| **`on_data(self, data)`** \t| A **tweet arrives**—**`data`** is the **raw JSON** of a Twitter status (tweet).|\n",
    "| **`on_limit(self, track)`** \t| A **limit notice** arrives. This occurs if your search matches more tweets than Twitter can deliver based on its current streaming rate limits. In this case, the limit notice contains the number of matching tweets that could not be delivered.|\n",
    "| **`on_error(self, status_code)`** \t| An **error code** arrives. |\n",
    "| **`on_timeout(self)`** \t| The **connection times out**—that is, the Twitter server is not responding.|\n",
    "| **`on_warning(self, notice)`** \t| **Twitter sends a disconnect warning** to indicate that the connection might be closed. For example, Twitter maintains a queue of the tweets it’s pushing to your app. If the app does not read the tweets fast enough, `on_warning`’s notice argument will contain a warning message indicating that the connection will terminate if the queue becomes full. |"
   ]
  },
  {
   "cell_type": "markdown",
   "metadata": {},
   "source": [
    "<hr style=\"height:2px; border:none; color:#000; background-color:#000;\">"
   ]
  },
  {
   "cell_type": "markdown",
   "metadata": {},
   "source": [
    "### Class `TweetListener` Defined in `tweetlistener.py`\n"
   ]
  },
  {
   "cell_type": "markdown",
   "metadata": {},
   "source": [
    "<hr style=\"height:2px; border:none; color:#000; background-color:#000;\">"
   ]
  },
  {
   "cell_type": "markdown",
   "metadata": {},
   "source": [
    "## 12.13.2 Initiating Stream Processing\n",
    "\n",
    "### Subclass of `tweepy.Stream` Receives Tweets"
   ]
  },
  {
   "cell_type": "code",
   "execution_count": 31,
   "metadata": {},
   "outputs": [],
   "source": [
    "import sys\n",
    "sys.stderr = sys.stdout"
   ]
  },
  {
   "cell_type": "code",
   "execution_count": 32,
   "metadata": {},
   "outputs": [],
   "source": [
    "from tweetlistener import TweetListener"
   ]
  },
  {
   "cell_type": "code",
   "execution_count": 33,
   "metadata": {},
   "outputs": [],
   "source": [
    "tweet_listener = TweetListener(keys.consumer_key, keys.consumer_secret, \n",
    "                               keys.access_token, keys.access_token_secret, limit=5)"
   ]
  },
  {
   "cell_type": "markdown",
   "metadata": {},
   "source": [
    "<hr style=\"height:2px; border:none; color:#000; background-color:#000;\">"
   ]
  },
  {
   "cell_type": "markdown",
   "metadata": {},
   "source": [
    "<!--### Creating a Tweepy **`Stream`** Object to Manage the Connection to the Twitter Stream\n",
    "* Passes the messages to your `TweetListener` \n",
    "\n",
    "# OLD: tweet_stream = tweepy.Stream(auth=api.auth, listener=tweet_listener)\n",
    "\n",
    "<hr style=\"height:2px; border:none; color:#000; background-color:#000;\">\n",
    "-->"
   ]
  },
  {
   "cell_type": "markdown",
   "metadata": {},
   "source": [
    "### Starting the Tweet Stream with the `Stream` Object’s **`filter` Method** \n",
    "* `track` parameter specifies a list of search terms\n",
    "* [Other `filter` method parameters](https://developer.twitter.com/en/docs/tweets/filter-realtime/guides/basic-stream-parameters) for refining your tweet searches\n",
    "* Streaming API returns full tweet **JSON objects** for tweets that match any of the terms, **not just in the tweet’s text, but also in @-mentions, hashtags, expanded URLs and other information**  \n",
    "* Might not see search terms in **tweets' text**"
   ]
  },
  {
   "cell_type": "code",
   "execution_count": 34,
   "metadata": {},
   "outputs": [
    {
     "name": "stdout",
     "output_type": "stream",
     "text": [
      "Connection successful\n",
      "\n",
      "Screen name: chikis410:\n",
      "   Language: en\n",
      "     Status: RT @AtlasFC_en: 🔥 off the press!! \n",
      "\n",
      "Check out our latest Saturday’s Football designs: https://t.co/oatdDSg5xJ https://t.co/4sKkDDBYEm\n",
      "\n",
      "Screen name: BrosephSZN:\n",
      "   Language: zxx\n",
      "     Status: RT @awildmaxdisapp1: https://t.co/3LgMwfFnUF\n",
      "\n",
      "Screen name: 202FSUNole:\n",
      "   Language: en\n",
      "     Status: Too bad FSU cant do some type of bankruptcy to wipe the slate clean and walk away or do what corporations do - spinoff the bad assets and reform a new company. Like disband football then restart a few months later as an independent\n",
      "\n",
      "Screen name: Tony2Step_:\n",
      "   Language: en\n",
      "     Status: @UnderDog12389 @THOMAS_LONG17 Hey it’s the all American pass time I’m super bullish on football\n",
      "\n",
      "Screen name: AlkireBrandon:\n",
      "   Language: en\n",
      "     Status: RT @RapSheet: Long-time #Cowboys National Scout Drew Fabianich is making a move to big-time college football. He accepted the job of Genera…\n",
      "\n",
      "Stream connection closed by Twitter\n"
     ]
    }
   ],
   "source": [
    "tweet_listener.filter(track=['football'])  #, is_async=True) "
   ]
  },
  {
   "cell_type": "markdown",
   "metadata": {},
   "source": [
    "<hr style=\"height:2px; border:none; color:#000; background-color:#000;\">"
   ]
  },
  {
   "cell_type": "markdown",
   "metadata": {
    "tags": []
   },
   "source": [
    "### **Lecture note: Run remaining cells now so we don't have to wait for streamed tweets later.**\n",
    "\n",
    "### Asynchronous vs. Synchronous Streams\n",
    "* **`is_async=True`** &mdash; would initiate an **asynchronous tweet stream** \n",
    "* Without `is_async=True`, the stream is **synchronous** and the next In [] prompt appears **after the stream terminates**    \n",
    "* in Jupyter, we used a **synchronous stream** ensure that all tweets display\n",
    "* In IPython, can terminate an asynchronous tweet stream early:  \n",
    ">`tweet_stream.running=False`    \n"
   ]
  },
  {
   "cell_type": "markdown",
   "metadata": {},
   "source": [
    "<hr style=\"height:2px; border:none; color:#000; background-color:#000;\">"
   ]
  },
  {
   "cell_type": "markdown",
   "metadata": {},
   "source": [
    "# 12.14 Tweet Sentiment Analysis \n",
    "* Political researchers might use to understand **how people are likely to vote**\n",
    "* Companies might use to see what people are saying about **their products** and **competitors’ products**\n",
    "* Script **`sentimentlistener.py`** checks **sentiment** on a specified topic for a specified number of tweets\n",
    "* The script in this example is substantially the same as the previous example, but uses TextBlob to check the sentiment of each tweet as we did in the NLP presentation"
   ]
  },
  {
   "cell_type": "code",
   "execution_count": 35,
   "metadata": {},
   "outputs": [
    {
     "name": "stdout",
     "output_type": "stream",
     "text": [
      "  ThatKiddKieran: @senorhi3bs @Lmasoli Stfu bitch I’m not a redblacks fan but as a football player I need to shut ur fuckin mouth injuries r serious it’s his mom obviously she’s gonna say shit reading ur tweet has me brain dead\n",
      "\n",
      "  ChiefPunter: Norway are not a serious football country.\n",
      "\n",
      "+ jimmylad86: I thought Nirway were supposed to be pretty decent when it comes to women's football. Don't they have that Hegerberg? How comes they are losing 8-0 then? #WEuro2022\n",
      "\n",
      "+ AndrePepin1: @pattonoswalt That proves that many students with scholarships to play college football don't really need to study or pass their courses to play... 🤦🏼‍♂️\n",
      "\n",
      "+ VIVENKLOVZERE: When you get the answer tell me bc it’s own thing she’s apart of the college football commission but an owner of a nfl team??? It’s giving sugar baby\n",
      "\n",
      "  wires44: @RonFilipkowski No, he's a football something who never finished college, doesn't understand politics, doesn't give a shit about the country and is as weak as u and every other Republican. Enjoy crying when he loses\n",
      "\n",
      "  ruliashino: @Clinton4112 He sponsors B/R Football 💀 That explains a lot.\n",
      "\n",
      "- Jamie_SCFC1986: @Jibbering_Jenny I respect the women's game unlike some dinosaurs of the men's game saying it's not real football\n",
      "\n",
      "  Eltr171: @TelegraphDucker Wooooow shape, lets see ehat he cam do with ball, cause we playing football not gymnastics\n",
      "\n",
      "  sosoo_samuel: Is this Ghana football? @SaddickAdams @thenanaaba\n",
      "\n",
      "Stream connection closed by Twitter\n",
      "Tweet sentiment for \"football\"\n",
      "Positive: 3\n",
      " Neutral: 6\n",
      "Negative: 1\n"
     ]
    }
   ],
   "source": [
    "run sentimentlistener.py football 10"
   ]
  },
  {
   "cell_type": "markdown",
   "metadata": {},
   "source": [
    "<hr style=\"height:2px; border:none; color:#000; background-color:#000;\">"
   ]
  },
  {
   "cell_type": "markdown",
   "metadata": {},
   "source": [
    "# 12.15 Geocoding and Mapping\n",
    "* Collect **streaming tweets**, then **plot** their **locations** on an **interactive map**\n",
    "* **Twitter disables precise location info (latitude/longitude) by default** (users must opt in to allowing Twitter to track locations) \n",
    "* Large percentage include the user’s home location information\n",
    "    * Sometimes invalid or fictitious \n",
    "* **Map markers** will show `location` from each tweet’s `User` object"
   ]
  },
  {
   "cell_type": "markdown",
   "metadata": {},
   "source": [
    "<hr style=\"height:2px; border:none; color:#000; background-color:#000;\">"
   ]
  },
  {
   "cell_type": "markdown",
   "metadata": {},
   "source": [
    "### [**geopy** library](https://github.com/geopy/geopy)\n",
    "* **Geocoding**&mdash;translate locations into **latitude** and **longitude**\n",
    "* **geopy** supports dozens of **geocoding web services**, many with **free or lite tiers**\n",
    "* We’ll use **OpenMapQuest geocoding service** "
   ]
  },
  {
   "cell_type": "markdown",
   "metadata": {},
   "source": [
    "<hr style=\"height:2px; border:none; color:#000; background-color:#000;\">"
   ]
  },
  {
   "cell_type": "markdown",
   "metadata": {},
   "source": [
    "### OpenMapQuest Geocoding API (1 of 2)\n",
    "* Convert locations, such as **Boston, MA** into their **latitudes** and **longitudes**, such as **42.3602534** and **-71.0582912**, for plotting on maps\n",
    "* Currently allows **15,000 transactions per month** on their free tier\n",
    "* [Sign up](https://developer.mapquest.com/)\n",
    "* For a presentation of **signing up** and **getting your credentials**, see my [**Python Fundamentals LiveLessons video**](https://learning.oreilly.com/videos/python-fundamentals/9780135917411/9780135917411-PFLL_Lesson12_24) or the [**beginning of Section 12.15 in Python for Programmers**](https://learning.oreilly.com/library/view/python-for-programmers/9780135231364/ch12.xhtml#ch12lev1sec15)"
   ]
  },
  {
   "cell_type": "markdown",
   "metadata": {},
   "source": [
    "<hr style=\"height:2px; border:none; color:#000; background-color:#000;\">"
   ]
  },
  {
   "cell_type": "markdown",
   "metadata": {},
   "source": [
    "### [**folium library**](https://github.com/python-visualization/folium) and Leaflet.js JavaScript Mapping Library\n",
    "* Uses **Leaflet.js JavaScript mapping library** to display maps in a web page \n",
    "* Folium can output **HTML documents** for viewing in a **web browser**\n",
    "* `pip install folium`"
   ]
  },
  {
   "cell_type": "markdown",
   "metadata": {},
   "source": [
    "<hr style=\"height:2px; border:none; color:#000; background-color:#000;\">"
   ]
  },
  {
   "cell_type": "markdown",
   "metadata": {},
   "source": [
    "### Maps from OpenStreetMap.org\n",
    "By default, **Leaflet.js** uses **open source maps** from **`OpenStreetMap.org`**\n",
    "* To use these maps, **they require the following copyright notice**:\n",
    "\n",
    "> `Map data © OpenStreetMap contributors`\n",
    "\n",
    "* They also say: **You must make it clear that the data is available under the Open Database License. This can be achieved by providing a “License” or “Terms” link which links to https://www.openstreetmap.org/copyright or https://www.opendatacommons.org/licenses/odbl/index.html**"
   ]
  },
  {
   "cell_type": "markdown",
   "metadata": {},
   "source": [
    "<hr style=\"height:2px; border:none; color:#000; background-color:#000;\">"
   ]
  },
  {
   "cell_type": "markdown",
   "metadata": {},
   "source": [
    "### Collections Required By `LocationListener`\n",
    "* Requires two collections\n",
    "    * A **list (`tweets`)** to store the tweets we collect \n",
    "    * A **dictionary (`counts`)** to track the **total number of tweets** we collect and the **number that have location data**"
   ]
  },
  {
   "cell_type": "code",
   "execution_count": 36,
   "metadata": {},
   "outputs": [],
   "source": [
    "tweets = [] "
   ]
  },
  {
   "cell_type": "code",
   "execution_count": 37,
   "metadata": {},
   "outputs": [],
   "source": [
    "counts = {'total_tweets': 0, 'locations': 0}"
   ]
  },
  {
   "cell_type": "markdown",
   "metadata": {},
   "source": [
    "<hr style=\"height:2px; border:none; color:#000; background-color:#000;\">"
   ]
  },
  {
   "cell_type": "markdown",
   "metadata": {},
   "source": [
    "### Creating the LocationListener "
   ]
  },
  {
   "cell_type": "code",
   "execution_count": 38,
   "metadata": {},
   "outputs": [],
   "source": [
    "from locationlistener import LocationListener"
   ]
  },
  {
   "cell_type": "code",
   "execution_count": 39,
   "metadata": {},
   "outputs": [],
   "source": [
    "location_listener = LocationListener(keys.consumer_key, keys.consumer_secret, \n",
    "    keys.access_token, keys.access_token_secret, counts_dict=counts, \n",
    "    tweets_list=tweets, topic='football', limit=50)"
   ]
  },
  {
   "cell_type": "markdown",
   "metadata": {},
   "source": [
    "* **`LocationListener`** uses our **utility function `get_tweet_content`** to place each tweets **screen name**, **tweet text** and **location** into a **dictionary**"
   ]
  },
  {
   "cell_type": "markdown",
   "metadata": {},
   "source": [
    "<hr style=\"height:2px; border:none; color:#000; background-color:#000;\">"
   ]
  },
  {
   "cell_type": "markdown",
   "metadata": {},
   "source": [
    "### Configure and Start the Stream of Tweets"
   ]
  },
  {
   "cell_type": "code",
   "execution_count": 40,
   "metadata": {},
   "outputs": [],
   "source": [
    "import tweepy"
   ]
  },
  {
   "cell_type": "code",
   "execution_count": 41,
   "metadata": {},
   "outputs": [
    {
     "name": "stdout",
     "output_type": "stream",
     "text": [
      "50: simontodd89: But according to some 🦖🦖 people don’t watch Women’s football.\n",
      "\n",
      "Stream connection closed by Twitter\n"
     ]
    }
   ],
   "source": [
    "location_listener.filter(track=['football'], languages=['en'])"
   ]
  },
  {
   "cell_type": "markdown",
   "metadata": {},
   "source": [
    "<hr style=\"height:2px; border:none; color:#000; background-color:#000;\">"
   ]
  },
  {
   "cell_type": "markdown",
   "metadata": {},
   "source": [
    "### Displaying the Location Statistics "
   ]
  },
  {
   "cell_type": "code",
   "execution_count": 42,
   "metadata": {
    "tags": []
   },
   "outputs": [
    {
     "data": {
      "text/plain": [
       "84"
      ]
     },
     "execution_count": 42,
     "metadata": {},
     "output_type": "execute_result"
    }
   ],
   "source": [
    "counts['total_tweets']"
   ]
  },
  {
   "cell_type": "code",
   "execution_count": 43,
   "metadata": {},
   "outputs": [
    {
     "data": {
      "text/plain": [
       "50"
      ]
     },
     "execution_count": 43,
     "metadata": {},
     "output_type": "execute_result"
    }
   ],
   "source": [
    "counts['locations']"
   ]
  },
  {
   "cell_type": "code",
   "execution_count": 44,
   "metadata": {},
   "outputs": [
    {
     "name": "stdout",
     "output_type": "stream",
     "text": [
      "59.5%\n"
     ]
    }
   ],
   "source": [
    "print(f'{counts[\"locations\"] / counts[\"total_tweets\"]:.1%}')"
   ]
  },
  {
   "cell_type": "markdown",
   "metadata": {},
   "source": [
    "<hr style=\"height:2px; border:none; color:#000; background-color:#000;\">"
   ]
  },
  {
   "cell_type": "markdown",
   "metadata": {},
   "source": [
    "### Geocoding the Locations with Our `get_geocodes` Utility Function \n",
    "* **OpenMapQuest** geocoding service **times out** when it **cannot handle your request immediately**\n",
    "* If so, **`get_geocodes`** **notifies** you, **waits**, then **retries** the request"
   ]
  },
  {
   "cell_type": "code",
   "execution_count": 45,
   "metadata": {},
   "outputs": [],
   "source": [
    "from tweetutilities import get_geocodes"
   ]
  },
  {
   "cell_type": "code",
   "execution_count": 46,
   "metadata": {},
   "outputs": [
    {
     "name": "stdout",
     "output_type": "stream",
     "text": [
      "Getting coordinates for tweet locations...\n",
      "Done geocoding\n"
     ]
    }
   ],
   "source": [
    "bad_locations = get_geocodes(tweets)"
   ]
  },
  {
   "cell_type": "markdown",
   "metadata": {},
   "source": [
    "<hr style=\"height:2px; border:none; color:#000; background-color:#000;\">"
   ]
  },
  {
   "cell_type": "markdown",
   "metadata": {},
   "source": [
    "### Displaying the Bad Location Statistics"
   ]
  },
  {
   "cell_type": "code",
   "execution_count": 47,
   "metadata": {},
   "outputs": [
    {
     "data": {
      "text/plain": [
       "9"
      ]
     },
     "execution_count": 47,
     "metadata": {},
     "output_type": "execute_result"
    }
   ],
   "source": [
    "bad_locations"
   ]
  },
  {
   "cell_type": "code",
   "execution_count": 48,
   "metadata": {},
   "outputs": [
    {
     "name": "stdout",
     "output_type": "stream",
     "text": [
      "18.0%\n"
     ]
    }
   ],
   "source": [
    "print(f'{bad_locations / counts[\"locations\"]:.1%}')"
   ]
  },
  {
   "cell_type": "markdown",
   "metadata": {},
   "source": [
    "<hr style=\"height:2px; border:none; color:#000; background-color:#000;\">"
   ]
  },
  {
   "cell_type": "markdown",
   "metadata": {},
   "source": [
    "### Cleaning the Data with a pandas `DataFrame` Before Displaying the Data on a Map\n",
    "* `DataFrame` will contain **`NaN`** for the **`latitude`** and **`longitude`** of any tweet that **did not have a valid location**\n",
    "* Remove any such via `DataFrame`’s **`dropna` method** "
   ]
  },
  {
   "cell_type": "code",
   "execution_count": 49,
   "metadata": {},
   "outputs": [],
   "source": [
    "import pandas as pd"
   ]
  },
  {
   "cell_type": "code",
   "execution_count": 50,
   "metadata": {},
   "outputs": [],
   "source": [
    "df = pd.DataFrame(tweets)"
   ]
  },
  {
   "cell_type": "code",
   "execution_count": 51,
   "metadata": {},
   "outputs": [
    {
     "data": {
      "text/html": [
       "<div>\n",
       "<style scoped>\n",
       "    .dataframe tbody tr th:only-of-type {\n",
       "        vertical-align: middle;\n",
       "    }\n",
       "\n",
       "    .dataframe tbody tr th {\n",
       "        vertical-align: top;\n",
       "    }\n",
       "\n",
       "    .dataframe thead th {\n",
       "        text-align: right;\n",
       "    }\n",
       "</style>\n",
       "<table border=\"1\" class=\"dataframe\">\n",
       "  <thead>\n",
       "    <tr style=\"text-align: right;\">\n",
       "      <th></th>\n",
       "      <th>screen_name</th>\n",
       "      <th>text</th>\n",
       "      <th>location</th>\n",
       "      <th>latitude</th>\n",
       "      <th>longitude</th>\n",
       "    </tr>\n",
       "  </thead>\n",
       "  <tbody>\n",
       "    <tr>\n",
       "      <th>0</th>\n",
       "      <td>TundeIaG</td>\n",
       "      <td>Shouldn't there be a mercy rule in football? E...</td>\n",
       "      <td>32746</td>\n",
       "      <td>28.733791</td>\n",
       "      <td>-81.369715</td>\n",
       "    </tr>\n",
       "    <tr>\n",
       "      <th>1</th>\n",
       "      <td>debolaadebanjo_</td>\n",
       "      <td>Comparing the quality of football at Euros and...</td>\n",
       "      <td>🇳🇬🇬🇧🇮🇹🇨🇭</td>\n",
       "      <td>NaN</td>\n",
       "      <td>NaN</td>\n",
       "    </tr>\n",
       "    <tr>\n",
       "      <th>2</th>\n",
       "      <td>AFCW_Foundation</td>\n",
       "      <td>Girls' Football Week\\nkicked off today with a ...</td>\n",
       "      <td>Plough Lane Stadium</td>\n",
       "      <td>51.430492</td>\n",
       "      <td>-0.185646</td>\n",
       "    </tr>\n",
       "    <tr>\n",
       "      <th>3</th>\n",
       "      <td>pahpies</td>\n",
       "      <td>@olarewa25023764 @EBIONOME Please focus on foo...</td>\n",
       "      <td>Nigeria</td>\n",
       "      <td>9.600036</td>\n",
       "      <td>7.999972</td>\n",
       "    </tr>\n",
       "    <tr>\n",
       "      <th>4</th>\n",
       "      <td>DejahRondeau</td>\n",
       "      <td>When somehow your football skills kick in and ...</td>\n",
       "      <td>Exeter, NH</td>\n",
       "      <td>42.981477</td>\n",
       "      <td>-70.947834</td>\n",
       "    </tr>\n",
       "    <tr>\n",
       "      <th>5</th>\n",
       "      <td>malikobansa</td>\n",
       "      <td>Omoh  today codeShinobi played ball since last...</td>\n",
       "      <td>Shinobi</td>\n",
       "      <td>48.912451</td>\n",
       "      <td>2.272462</td>\n",
       "    </tr>\n",
       "    <tr>\n",
       "      <th>6</th>\n",
       "      <td>ravenwizardd</td>\n",
       "      <td>@dking2999 @Jokicbetta @GetUpESPN Yeah if you ...</td>\n",
       "      <td>Frederick, MD</td>\n",
       "      <td>39.414219</td>\n",
       "      <td>-77.410927</td>\n",
       "    </tr>\n",
       "    <tr>\n",
       "      <th>7</th>\n",
       "      <td>MarkMoore45_</td>\n",
       "      <td>@Joecb09 She is quite decent at the ol football</td>\n",
       "      <td>Ireland</td>\n",
       "      <td>52.865196</td>\n",
       "      <td>-7.979460</td>\n",
       "    </tr>\n",
       "    <tr>\n",
       "      <th>8</th>\n",
       "      <td>Seahawks</td>\n",
       "      <td>Complementary football on all three phases is ...</td>\n",
       "      <td>Seattle, WA</td>\n",
       "      <td>47.603832</td>\n",
       "      <td>-122.330062</td>\n",
       "    </tr>\n",
       "    <tr>\n",
       "      <th>9</th>\n",
       "      <td>MelClements91</td>\n",
       "      <td>@currys Making her mark in womens football in ...</td>\n",
       "      <td>Edinburgh</td>\n",
       "      <td>55.949563</td>\n",
       "      <td>-3.191497</td>\n",
       "    </tr>\n",
       "    <tr>\n",
       "      <th>10</th>\n",
       "      <td>ChiomaL0ve</td>\n",
       "      <td>@saintevegreen I love foot ball so much... I c...</td>\n",
       "      <td>Awka, Nigeria</td>\n",
       "      <td>6.210095</td>\n",
       "      <td>7.074115</td>\n",
       "    </tr>\n",
       "    <tr>\n",
       "      <th>11</th>\n",
       "      <td>PMTsportsbiz</td>\n",
       "      <td>Fantasy Football Legend Matthew Berry Is Leavi...</td>\n",
       "      <td>New York, NY</td>\n",
       "      <td>40.730646</td>\n",
       "      <td>-73.986614</td>\n",
       "    </tr>\n",
       "    <tr>\n",
       "      <th>12</th>\n",
       "      <td>MorningJoey</td>\n",
       "      <td>@CathyCeekay It’s just football star lake now ...</td>\n",
       "      <td>Northside, Pittsburgh, PA</td>\n",
       "      <td>40.444220</td>\n",
       "      <td>-79.997343</td>\n",
       "    </tr>\n",
       "    <tr>\n",
       "      <th>13</th>\n",
       "      <td>Mustaph54804641</td>\n",
       "      <td>@goal Humanity and values in football is over ...</td>\n",
       "      <td>London, England</td>\n",
       "      <td>51.507322</td>\n",
       "      <td>-0.127647</td>\n",
       "    </tr>\n",
       "    <tr>\n",
       "      <th>14</th>\n",
       "      <td>tifosileclerc16</td>\n",
       "      <td>this game is so bad for the reputation of wome...</td>\n",
       "      <td>Republiek Ierland 🇮🇪</td>\n",
       "      <td>52.865196</td>\n",
       "      <td>-7.979460</td>\n",
       "    </tr>\n",
       "    <tr>\n",
       "      <th>15</th>\n",
       "      <td>BBoytaiwo</td>\n",
       "      <td>I know but this is modern football you can't j...</td>\n",
       "      <td>I dey with olosho🔞</td>\n",
       "      <td>NaN</td>\n",
       "      <td>NaN</td>\n",
       "    </tr>\n",
       "    <tr>\n",
       "      <th>16</th>\n",
       "      <td>The_Kitsman</td>\n",
       "      <td>🤔 Could you design a football shirt?</td>\n",
       "      <td>Lincoln, UK</td>\n",
       "      <td>53.233630</td>\n",
       "      <td>-0.539217</td>\n",
       "    </tr>\n",
       "    <tr>\n",
       "      <th>17</th>\n",
       "      <td>AshlyElamSports</td>\n",
       "      <td>Lamar AD Jeff O’Malley says Cardinals will pla...</td>\n",
       "      <td>Groves, TX</td>\n",
       "      <td>29.948269</td>\n",
       "      <td>-93.917115</td>\n",
       "    </tr>\n",
       "    <tr>\n",
       "      <th>18</th>\n",
       "      <td>iammrazul</td>\n",
       "      <td>Eight for England! A real Oslo in Norwegian fo...</td>\n",
       "      <td>Doha, London, Geneva</td>\n",
       "      <td>NaN</td>\n",
       "      <td>NaN</td>\n",
       "    </tr>\n",
       "    <tr>\n",
       "      <th>19</th>\n",
       "      <td>MarkKeenan5</td>\n",
       "      <td>@PaulD_70 I would absolutely love it if they m...</td>\n",
       "      <td>Swindon</td>\n",
       "      <td>51.561368</td>\n",
       "      <td>-1.785685</td>\n",
       "    </tr>\n",
       "    <tr>\n",
       "      <th>20</th>\n",
       "      <td>tar_uwu</td>\n",
       "      <td>was watching the women's england vs norway foo...</td>\n",
       "      <td>کراچی, پاکستان</td>\n",
       "      <td>24.866779</td>\n",
       "      <td>67.031129</td>\n",
       "    </tr>\n",
       "    <tr>\n",
       "      <th>21</th>\n",
       "      <td>RomeoKimss_RK47</td>\n",
       "      <td>@TheHerd @ColinCowherd It’s because they know ...</td>\n",
       "      <td>Somewhere in Amerikkka</td>\n",
       "      <td>NaN</td>\n",
       "      <td>NaN</td>\n",
       "    </tr>\n",
       "    <tr>\n",
       "      <th>22</th>\n",
       "      <td>itss_autumn</td>\n",
       "      <td>yall know where to find me at. my room, work o...</td>\n",
       "      <td>LLNH</td>\n",
       "      <td>NaN</td>\n",
       "      <td>NaN</td>\n",
       "    </tr>\n",
       "    <tr>\n",
       "      <th>23</th>\n",
       "      <td>Airsculpture</td>\n",
       "      <td>Football is what football does Brian 8-0 https...</td>\n",
       "      <td>New Brunswick, Canada</td>\n",
       "      <td>46.500283</td>\n",
       "      <td>-66.750183</td>\n",
       "    </tr>\n",
       "    <tr>\n",
       "      <th>24</th>\n",
       "      <td>hardmandesign</td>\n",
       "      <td>How are Norway ranked 11th in the FIFA ranking...</td>\n",
       "      <td>North West, England</td>\n",
       "      <td>51.335169</td>\n",
       "      <td>7.263209</td>\n",
       "    </tr>\n",
       "    <tr>\n",
       "      <th>25</th>\n",
       "      <td>LFC_Hunt96</td>\n",
       "      <td>It's actually very refreshing watching an Engl...</td>\n",
       "      <td>England, United Kingdom</td>\n",
       "      <td>52.795479</td>\n",
       "      <td>-0.540240</td>\n",
       "    </tr>\n",
       "    <tr>\n",
       "      <th>26</th>\n",
       "      <td>mark_hokie</td>\n",
       "      <td>@CFBNerds The NFL has a salary cap, player dra...</td>\n",
       "      <td>Charlotte, NC</td>\n",
       "      <td>35.227087</td>\n",
       "      <td>-80.843127</td>\n",
       "    </tr>\n",
       "    <tr>\n",
       "      <th>27</th>\n",
       "      <td>ENiedfeldt</td>\n",
       "      <td>Does anybody feel that the Badgers football re...</td>\n",
       "      <td>Walworth, WI</td>\n",
       "      <td>42.671151</td>\n",
       "      <td>-88.546772</td>\n",
       "    </tr>\n",
       "    <tr>\n",
       "      <th>28</th>\n",
       "      <td>ImThatSupi</td>\n",
       "      <td>@MatthewBerryTMR Congratulations and thank you...</td>\n",
       "      <td>New Haven, CT</td>\n",
       "      <td>41.308214</td>\n",
       "      <td>-72.925052</td>\n",
       "    </tr>\n",
       "    <tr>\n",
       "      <th>29</th>\n",
       "      <td>Andrewswain11</td>\n",
       "      <td>Double England winner love womens football htt...</td>\n",
       "      <td>England, United Kingdom</td>\n",
       "      <td>52.795479</td>\n",
       "      <td>-0.540240</td>\n",
       "    </tr>\n",
       "    <tr>\n",
       "      <th>30</th>\n",
       "      <td>RidzHuncho</td>\n",
       "      <td>Imagine a world without football, life wouldn’...</td>\n",
       "      <td>London, England</td>\n",
       "      <td>51.507322</td>\n",
       "      <td>-0.127647</td>\n",
       "    </tr>\n",
       "    <tr>\n",
       "      <th>31</th>\n",
       "      <td>GigEm247</td>\n",
       "      <td>GigEm247 Podcast: Texas A&amp;amp;M football and r...</td>\n",
       "      <td>College Station, TX</td>\n",
       "      <td>30.625346</td>\n",
       "      <td>-96.327154</td>\n",
       "    </tr>\n",
       "    <tr>\n",
       "      <th>32</th>\n",
       "      <td>ozerthinking</td>\n",
       "      <td>Football's coming home</td>\n",
       "      <td>London</td>\n",
       "      <td>51.507322</td>\n",
       "      <td>-0.127647</td>\n",
       "    </tr>\n",
       "    <tr>\n",
       "      <th>33</th>\n",
       "      <td>opeolu_wa</td>\n",
       "      <td>@Glued2C You're mad and I'm here to tell you t...</td>\n",
       "      <td>Nigeria</td>\n",
       "      <td>9.600036</td>\n",
       "      <td>7.999972</td>\n",
       "    </tr>\n",
       "    <tr>\n",
       "      <th>34</th>\n",
       "      <td>dannypea</td>\n",
       "      <td>Knowing nothing about women's football I actua...</td>\n",
       "      <td>Nottingham, UK</td>\n",
       "      <td>52.953416</td>\n",
       "      <td>-1.149277</td>\n",
       "    </tr>\n",
       "    <tr>\n",
       "      <th>35</th>\n",
       "      <td>KayeVentures</td>\n",
       "      <td>I'm convinced we need to have a white wash rul...</td>\n",
       "      <td>England, United Kingdom</td>\n",
       "      <td>52.795479</td>\n",
       "      <td>-0.540240</td>\n",
       "    </tr>\n",
       "    <tr>\n",
       "      <th>36</th>\n",
       "      <td>MrMaxMaster</td>\n",
       "      <td>𝓛𝓲𝓷𝓴 𝓲𝓷 𝓑𝓲𝓸\\n༺•⭕•༻𝕆𝕌𝕋𝔻𝕆𝕆ℝ𝕊༺•⭕•༻\\n#football #le...</td>\n",
       "      <td>MrMaxMaster1969@gmail.com</td>\n",
       "      <td>NaN</td>\n",
       "      <td>NaN</td>\n",
       "    </tr>\n",
       "    <tr>\n",
       "      <th>37</th>\n",
       "      <td>explodeyourself</td>\n",
       "      <td>Hot Take:  if the future of college football i...</td>\n",
       "      <td>Maryland</td>\n",
       "      <td>39.516223</td>\n",
       "      <td>-76.938207</td>\n",
       "    </tr>\n",
       "    <tr>\n",
       "      <th>38</th>\n",
       "      <td>Rardeenus</td>\n",
       "      <td>It’s all well and good playing football, their...</td>\n",
       "      <td>Carfax Hospital, floor 5...</td>\n",
       "      <td>36.890659</td>\n",
       "      <td>-82.377646</td>\n",
       "    </tr>\n",
       "    <tr>\n",
       "      <th>39</th>\n",
       "      <td>Fr_SheehysGAA</td>\n",
       "      <td>WedJuly 13\\nU19B Football\\nKMD Gaels v Carrick...</td>\n",
       "      <td>South Tipperary, Ireland</td>\n",
       "      <td>52.341068</td>\n",
       "      <td>-8.145015</td>\n",
       "    </tr>\n",
       "    <tr>\n",
       "      <th>40</th>\n",
       "      <td>ChesneyStalks</td>\n",
       "      <td>Maybe, just maybe our mens team FULL of talent...</td>\n",
       "      <td>SW London</td>\n",
       "      <td>51.507322</td>\n",
       "      <td>-0.127647</td>\n",
       "    </tr>\n",
       "    <tr>\n",
       "      <th>41</th>\n",
       "      <td>WCPO</td>\n",
       "      <td>Lakota West football player Ben Minich in spot...</td>\n",
       "      <td>Cincinnati, Ohio</td>\n",
       "      <td>39.101454</td>\n",
       "      <td>-84.512460</td>\n",
       "    </tr>\n",
       "    <tr>\n",
       "      <th>42</th>\n",
       "      <td>StableGenius84</td>\n",
       "      <td>@OwnWorstEnemy25 @TheValuesVoter @AP Football ...</td>\n",
       "      <td>USA</td>\n",
       "      <td>39.783730</td>\n",
       "      <td>-100.445882</td>\n",
       "    </tr>\n",
       "    <tr>\n",
       "      <th>43</th>\n",
       "      <td>GridironHelmets</td>\n",
       "      <td>Biggest News and Rumors in College Football.. ...</td>\n",
       "      <td>Florida</td>\n",
       "      <td>27.756767</td>\n",
       "      <td>-81.463983</td>\n",
       "    </tr>\n",
       "    <tr>\n",
       "      <th>44</th>\n",
       "      <td>TheLocalYidiot</td>\n",
       "      <td>Can’t we swap mangers with the ladies team, sh...</td>\n",
       "      <td>SHELF SIDE YID BLOCK 30/258</td>\n",
       "      <td>NaN</td>\n",
       "      <td>NaN</td>\n",
       "    </tr>\n",
       "    <tr>\n",
       "      <th>45</th>\n",
       "      <td>Sabah_ChotuAFC</td>\n",
       "      <td>I always said players play better when they’ve...</td>\n",
       "      <td>London</td>\n",
       "      <td>51.507322</td>\n",
       "      <td>-0.127647</td>\n",
       "    </tr>\n",
       "    <tr>\n",
       "      <th>46</th>\n",
       "      <td>mmhiggins7</td>\n",
       "      <td>@loumacarichippy @BBCSport @BBCOne @BBCiPlayer...</td>\n",
       "      <td>Uk</td>\n",
       "      <td>54.702354</td>\n",
       "      <td>-3.276575</td>\n",
       "    </tr>\n",
       "    <tr>\n",
       "      <th>47</th>\n",
       "      <td>misuperfan</td>\n",
       "      <td>Rest In Peace Coach Moe… You are one of the fo...</td>\n",
       "      <td>ÜT: 42.217784,-83.538375</td>\n",
       "      <td>NaN</td>\n",
       "      <td>NaN</td>\n",
       "    </tr>\n",
       "    <tr>\n",
       "      <th>48</th>\n",
       "      <td>odejayiolaolu</td>\n",
       "      <td>@genakhena Baba G they are playing football bu...</td>\n",
       "      <td>#lasgidi</td>\n",
       "      <td>NaN</td>\n",
       "      <td>NaN</td>\n",
       "    </tr>\n",
       "    <tr>\n",
       "      <th>49</th>\n",
       "      <td>simontodd89</td>\n",
       "      <td>But according to some 🦖🦖 people don’t watch Wo...</td>\n",
       "      <td>Coventry</td>\n",
       "      <td>52.408181</td>\n",
       "      <td>-1.510477</td>\n",
       "    </tr>\n",
       "  </tbody>\n",
       "</table>\n",
       "</div>"
      ],
      "text/plain": [
       "        screen_name                                               text  \\\n",
       "0          TundeIaG  Shouldn't there be a mercy rule in football? E...   \n",
       "1   debolaadebanjo_  Comparing the quality of football at Euros and...   \n",
       "2   AFCW_Foundation  Girls' Football Week\\nkicked off today with a ...   \n",
       "3           pahpies  @olarewa25023764 @EBIONOME Please focus on foo...   \n",
       "4      DejahRondeau  When somehow your football skills kick in and ...   \n",
       "5       malikobansa  Omoh  today codeShinobi played ball since last...   \n",
       "6      ravenwizardd  @dking2999 @Jokicbetta @GetUpESPN Yeah if you ...   \n",
       "7      MarkMoore45_    @Joecb09 She is quite decent at the ol football   \n",
       "8          Seahawks  Complementary football on all three phases is ...   \n",
       "9     MelClements91  @currys Making her mark in womens football in ...   \n",
       "10       ChiomaL0ve  @saintevegreen I love foot ball so much... I c...   \n",
       "11     PMTsportsbiz  Fantasy Football Legend Matthew Berry Is Leavi...   \n",
       "12      MorningJoey  @CathyCeekay It’s just football star lake now ...   \n",
       "13  Mustaph54804641  @goal Humanity and values in football is over ...   \n",
       "14  tifosileclerc16  this game is so bad for the reputation of wome...   \n",
       "15        BBoytaiwo  I know but this is modern football you can't j...   \n",
       "16      The_Kitsman               🤔 Could you design a football shirt?   \n",
       "17  AshlyElamSports  Lamar AD Jeff O’Malley says Cardinals will pla...   \n",
       "18        iammrazul  Eight for England! A real Oslo in Norwegian fo...   \n",
       "19      MarkKeenan5  @PaulD_70 I would absolutely love it if they m...   \n",
       "20          tar_uwu  was watching the women's england vs norway foo...   \n",
       "21  RomeoKimss_RK47  @TheHerd @ColinCowherd It’s because they know ...   \n",
       "22      itss_autumn  yall know where to find me at. my room, work o...   \n",
       "23     Airsculpture  Football is what football does Brian 8-0 https...   \n",
       "24    hardmandesign  How are Norway ranked 11th in the FIFA ranking...   \n",
       "25       LFC_Hunt96  It's actually very refreshing watching an Engl...   \n",
       "26       mark_hokie  @CFBNerds The NFL has a salary cap, player dra...   \n",
       "27       ENiedfeldt  Does anybody feel that the Badgers football re...   \n",
       "28       ImThatSupi  @MatthewBerryTMR Congratulations and thank you...   \n",
       "29    Andrewswain11  Double England winner love womens football htt...   \n",
       "30       RidzHuncho  Imagine a world without football, life wouldn’...   \n",
       "31         GigEm247  GigEm247 Podcast: Texas A&amp;M football and r...   \n",
       "32     ozerthinking                             Football's coming home   \n",
       "33        opeolu_wa  @Glued2C You're mad and I'm here to tell you t...   \n",
       "34         dannypea  Knowing nothing about women's football I actua...   \n",
       "35     KayeVentures  I'm convinced we need to have a white wash rul...   \n",
       "36      MrMaxMaster  𝓛𝓲𝓷𝓴 𝓲𝓷 𝓑𝓲𝓸\\n༺•⭕•༻𝕆𝕌𝕋𝔻𝕆𝕆ℝ𝕊༺•⭕•༻\\n#football #le...   \n",
       "37  explodeyourself  Hot Take:  if the future of college football i...   \n",
       "38        Rardeenus  It’s all well and good playing football, their...   \n",
       "39    Fr_SheehysGAA  WedJuly 13\\nU19B Football\\nKMD Gaels v Carrick...   \n",
       "40    ChesneyStalks  Maybe, just maybe our mens team FULL of talent...   \n",
       "41             WCPO  Lakota West football player Ben Minich in spot...   \n",
       "42   StableGenius84  @OwnWorstEnemy25 @TheValuesVoter @AP Football ...   \n",
       "43  GridironHelmets  Biggest News and Rumors in College Football.. ...   \n",
       "44   TheLocalYidiot  Can’t we swap mangers with the ladies team, sh...   \n",
       "45   Sabah_ChotuAFC  I always said players play better when they’ve...   \n",
       "46       mmhiggins7  @loumacarichippy @BBCSport @BBCOne @BBCiPlayer...   \n",
       "47       misuperfan  Rest In Peace Coach Moe… You are one of the fo...   \n",
       "48    odejayiolaolu  @genakhena Baba G they are playing football bu...   \n",
       "49      simontodd89  But according to some 🦖🦖 people don’t watch Wo...   \n",
       "\n",
       "                       location   latitude   longitude  \n",
       "0                         32746  28.733791  -81.369715  \n",
       "1                      🇳🇬🇬🇧🇮🇹🇨🇭        NaN         NaN  \n",
       "2           Plough Lane Stadium  51.430492   -0.185646  \n",
       "3                       Nigeria   9.600036    7.999972  \n",
       "4                    Exeter, NH  42.981477  -70.947834  \n",
       "5                       Shinobi  48.912451    2.272462  \n",
       "6                 Frederick, MD  39.414219  -77.410927  \n",
       "7                       Ireland  52.865196   -7.979460  \n",
       "8                   Seattle, WA  47.603832 -122.330062  \n",
       "9                     Edinburgh  55.949563   -3.191497  \n",
       "10                Awka, Nigeria   6.210095    7.074115  \n",
       "11                 New York, NY  40.730646  -73.986614  \n",
       "12    Northside, Pittsburgh, PA  40.444220  -79.997343  \n",
       "13              London, England  51.507322   -0.127647  \n",
       "14         Republiek Ierland 🇮🇪  52.865196   -7.979460  \n",
       "15           I dey with olosho🔞        NaN         NaN  \n",
       "16                  Lincoln, UK  53.233630   -0.539217  \n",
       "17                   Groves, TX  29.948269  -93.917115  \n",
       "18         Doha, London, Geneva        NaN         NaN  \n",
       "19                      Swindon  51.561368   -1.785685  \n",
       "20               کراچی, پاکستان  24.866779   67.031129  \n",
       "21       Somewhere in Amerikkka        NaN         NaN  \n",
       "22                         LLNH        NaN         NaN  \n",
       "23        New Brunswick, Canada  46.500283  -66.750183  \n",
       "24          North West, England  51.335169    7.263209  \n",
       "25      England, United Kingdom  52.795479   -0.540240  \n",
       "26                Charlotte, NC  35.227087  -80.843127  \n",
       "27                 Walworth, WI  42.671151  -88.546772  \n",
       "28                New Haven, CT  41.308214  -72.925052  \n",
       "29      England, United Kingdom  52.795479   -0.540240  \n",
       "30              London, England  51.507322   -0.127647  \n",
       "31          College Station, TX  30.625346  -96.327154  \n",
       "32                       London  51.507322   -0.127647  \n",
       "33                      Nigeria   9.600036    7.999972  \n",
       "34               Nottingham, UK  52.953416   -1.149277  \n",
       "35      England, United Kingdom  52.795479   -0.540240  \n",
       "36    MrMaxMaster1969@gmail.com        NaN         NaN  \n",
       "37                     Maryland  39.516223  -76.938207  \n",
       "38  Carfax Hospital, floor 5...  36.890659  -82.377646  \n",
       "39     South Tipperary, Ireland  52.341068   -8.145015  \n",
       "40                    SW London  51.507322   -0.127647  \n",
       "41             Cincinnati, Ohio  39.101454  -84.512460  \n",
       "42                         USA   39.783730 -100.445882  \n",
       "43                      Florida  27.756767  -81.463983  \n",
       "44  SHELF SIDE YID BLOCK 30/258        NaN         NaN  \n",
       "45                       London  51.507322   -0.127647  \n",
       "46                           Uk  54.702354   -3.276575  \n",
       "47     ÜT: 42.217784,-83.538375        NaN         NaN  \n",
       "48                     #lasgidi        NaN         NaN  \n",
       "49                     Coventry  52.408181   -1.510477  "
      ]
     },
     "execution_count": 51,
     "metadata": {},
     "output_type": "execute_result"
    }
   ],
   "source": [
    "df"
   ]
  },
  {
   "cell_type": "code",
   "execution_count": 52,
   "metadata": {},
   "outputs": [],
   "source": [
    "df = df.dropna()"
   ]
  },
  {
   "cell_type": "code",
   "execution_count": 53,
   "metadata": {},
   "outputs": [
    {
     "data": {
      "text/html": [
       "<div>\n",
       "<style scoped>\n",
       "    .dataframe tbody tr th:only-of-type {\n",
       "        vertical-align: middle;\n",
       "    }\n",
       "\n",
       "    .dataframe tbody tr th {\n",
       "        vertical-align: top;\n",
       "    }\n",
       "\n",
       "    .dataframe thead th {\n",
       "        text-align: right;\n",
       "    }\n",
       "</style>\n",
       "<table border=\"1\" class=\"dataframe\">\n",
       "  <thead>\n",
       "    <tr style=\"text-align: right;\">\n",
       "      <th></th>\n",
       "      <th>screen_name</th>\n",
       "      <th>text</th>\n",
       "      <th>location</th>\n",
       "      <th>latitude</th>\n",
       "      <th>longitude</th>\n",
       "    </tr>\n",
       "  </thead>\n",
       "  <tbody>\n",
       "    <tr>\n",
       "      <th>0</th>\n",
       "      <td>TundeIaG</td>\n",
       "      <td>Shouldn't there be a mercy rule in football? E...</td>\n",
       "      <td>32746</td>\n",
       "      <td>28.733791</td>\n",
       "      <td>-81.369715</td>\n",
       "    </tr>\n",
       "    <tr>\n",
       "      <th>2</th>\n",
       "      <td>AFCW_Foundation</td>\n",
       "      <td>Girls' Football Week\\nkicked off today with a ...</td>\n",
       "      <td>Plough Lane Stadium</td>\n",
       "      <td>51.430492</td>\n",
       "      <td>-0.185646</td>\n",
       "    </tr>\n",
       "    <tr>\n",
       "      <th>3</th>\n",
       "      <td>pahpies</td>\n",
       "      <td>@olarewa25023764 @EBIONOME Please focus on foo...</td>\n",
       "      <td>Nigeria</td>\n",
       "      <td>9.600036</td>\n",
       "      <td>7.999972</td>\n",
       "    </tr>\n",
       "    <tr>\n",
       "      <th>4</th>\n",
       "      <td>DejahRondeau</td>\n",
       "      <td>When somehow your football skills kick in and ...</td>\n",
       "      <td>Exeter, NH</td>\n",
       "      <td>42.981477</td>\n",
       "      <td>-70.947834</td>\n",
       "    </tr>\n",
       "    <tr>\n",
       "      <th>5</th>\n",
       "      <td>malikobansa</td>\n",
       "      <td>Omoh  today codeShinobi played ball since last...</td>\n",
       "      <td>Shinobi</td>\n",
       "      <td>48.912451</td>\n",
       "      <td>2.272462</td>\n",
       "    </tr>\n",
       "    <tr>\n",
       "      <th>6</th>\n",
       "      <td>ravenwizardd</td>\n",
       "      <td>@dking2999 @Jokicbetta @GetUpESPN Yeah if you ...</td>\n",
       "      <td>Frederick, MD</td>\n",
       "      <td>39.414219</td>\n",
       "      <td>-77.410927</td>\n",
       "    </tr>\n",
       "    <tr>\n",
       "      <th>7</th>\n",
       "      <td>MarkMoore45_</td>\n",
       "      <td>@Joecb09 She is quite decent at the ol football</td>\n",
       "      <td>Ireland</td>\n",
       "      <td>52.865196</td>\n",
       "      <td>-7.979460</td>\n",
       "    </tr>\n",
       "    <tr>\n",
       "      <th>8</th>\n",
       "      <td>Seahawks</td>\n",
       "      <td>Complementary football on all three phases is ...</td>\n",
       "      <td>Seattle, WA</td>\n",
       "      <td>47.603832</td>\n",
       "      <td>-122.330062</td>\n",
       "    </tr>\n",
       "    <tr>\n",
       "      <th>9</th>\n",
       "      <td>MelClements91</td>\n",
       "      <td>@currys Making her mark in womens football in ...</td>\n",
       "      <td>Edinburgh</td>\n",
       "      <td>55.949563</td>\n",
       "      <td>-3.191497</td>\n",
       "    </tr>\n",
       "    <tr>\n",
       "      <th>10</th>\n",
       "      <td>ChiomaL0ve</td>\n",
       "      <td>@saintevegreen I love foot ball so much... I c...</td>\n",
       "      <td>Awka, Nigeria</td>\n",
       "      <td>6.210095</td>\n",
       "      <td>7.074115</td>\n",
       "    </tr>\n",
       "    <tr>\n",
       "      <th>11</th>\n",
       "      <td>PMTsportsbiz</td>\n",
       "      <td>Fantasy Football Legend Matthew Berry Is Leavi...</td>\n",
       "      <td>New York, NY</td>\n",
       "      <td>40.730646</td>\n",
       "      <td>-73.986614</td>\n",
       "    </tr>\n",
       "    <tr>\n",
       "      <th>12</th>\n",
       "      <td>MorningJoey</td>\n",
       "      <td>@CathyCeekay It’s just football star lake now ...</td>\n",
       "      <td>Northside, Pittsburgh, PA</td>\n",
       "      <td>40.444220</td>\n",
       "      <td>-79.997343</td>\n",
       "    </tr>\n",
       "    <tr>\n",
       "      <th>13</th>\n",
       "      <td>Mustaph54804641</td>\n",
       "      <td>@goal Humanity and values in football is over ...</td>\n",
       "      <td>London, England</td>\n",
       "      <td>51.507322</td>\n",
       "      <td>-0.127647</td>\n",
       "    </tr>\n",
       "    <tr>\n",
       "      <th>14</th>\n",
       "      <td>tifosileclerc16</td>\n",
       "      <td>this game is so bad for the reputation of wome...</td>\n",
       "      <td>Republiek Ierland 🇮🇪</td>\n",
       "      <td>52.865196</td>\n",
       "      <td>-7.979460</td>\n",
       "    </tr>\n",
       "    <tr>\n",
       "      <th>16</th>\n",
       "      <td>The_Kitsman</td>\n",
       "      <td>🤔 Could you design a football shirt?</td>\n",
       "      <td>Lincoln, UK</td>\n",
       "      <td>53.233630</td>\n",
       "      <td>-0.539217</td>\n",
       "    </tr>\n",
       "    <tr>\n",
       "      <th>17</th>\n",
       "      <td>AshlyElamSports</td>\n",
       "      <td>Lamar AD Jeff O’Malley says Cardinals will pla...</td>\n",
       "      <td>Groves, TX</td>\n",
       "      <td>29.948269</td>\n",
       "      <td>-93.917115</td>\n",
       "    </tr>\n",
       "    <tr>\n",
       "      <th>19</th>\n",
       "      <td>MarkKeenan5</td>\n",
       "      <td>@PaulD_70 I would absolutely love it if they m...</td>\n",
       "      <td>Swindon</td>\n",
       "      <td>51.561368</td>\n",
       "      <td>-1.785685</td>\n",
       "    </tr>\n",
       "    <tr>\n",
       "      <th>20</th>\n",
       "      <td>tar_uwu</td>\n",
       "      <td>was watching the women's england vs norway foo...</td>\n",
       "      <td>کراچی, پاکستان</td>\n",
       "      <td>24.866779</td>\n",
       "      <td>67.031129</td>\n",
       "    </tr>\n",
       "    <tr>\n",
       "      <th>23</th>\n",
       "      <td>Airsculpture</td>\n",
       "      <td>Football is what football does Brian 8-0 https...</td>\n",
       "      <td>New Brunswick, Canada</td>\n",
       "      <td>46.500283</td>\n",
       "      <td>-66.750183</td>\n",
       "    </tr>\n",
       "    <tr>\n",
       "      <th>24</th>\n",
       "      <td>hardmandesign</td>\n",
       "      <td>How are Norway ranked 11th in the FIFA ranking...</td>\n",
       "      <td>North West, England</td>\n",
       "      <td>51.335169</td>\n",
       "      <td>7.263209</td>\n",
       "    </tr>\n",
       "    <tr>\n",
       "      <th>25</th>\n",
       "      <td>LFC_Hunt96</td>\n",
       "      <td>It's actually very refreshing watching an Engl...</td>\n",
       "      <td>England, United Kingdom</td>\n",
       "      <td>52.795479</td>\n",
       "      <td>-0.540240</td>\n",
       "    </tr>\n",
       "    <tr>\n",
       "      <th>26</th>\n",
       "      <td>mark_hokie</td>\n",
       "      <td>@CFBNerds The NFL has a salary cap, player dra...</td>\n",
       "      <td>Charlotte, NC</td>\n",
       "      <td>35.227087</td>\n",
       "      <td>-80.843127</td>\n",
       "    </tr>\n",
       "    <tr>\n",
       "      <th>27</th>\n",
       "      <td>ENiedfeldt</td>\n",
       "      <td>Does anybody feel that the Badgers football re...</td>\n",
       "      <td>Walworth, WI</td>\n",
       "      <td>42.671151</td>\n",
       "      <td>-88.546772</td>\n",
       "    </tr>\n",
       "    <tr>\n",
       "      <th>28</th>\n",
       "      <td>ImThatSupi</td>\n",
       "      <td>@MatthewBerryTMR Congratulations and thank you...</td>\n",
       "      <td>New Haven, CT</td>\n",
       "      <td>41.308214</td>\n",
       "      <td>-72.925052</td>\n",
       "    </tr>\n",
       "    <tr>\n",
       "      <th>29</th>\n",
       "      <td>Andrewswain11</td>\n",
       "      <td>Double England winner love womens football htt...</td>\n",
       "      <td>England, United Kingdom</td>\n",
       "      <td>52.795479</td>\n",
       "      <td>-0.540240</td>\n",
       "    </tr>\n",
       "    <tr>\n",
       "      <th>30</th>\n",
       "      <td>RidzHuncho</td>\n",
       "      <td>Imagine a world without football, life wouldn’...</td>\n",
       "      <td>London, England</td>\n",
       "      <td>51.507322</td>\n",
       "      <td>-0.127647</td>\n",
       "    </tr>\n",
       "    <tr>\n",
       "      <th>31</th>\n",
       "      <td>GigEm247</td>\n",
       "      <td>GigEm247 Podcast: Texas A&amp;amp;M football and r...</td>\n",
       "      <td>College Station, TX</td>\n",
       "      <td>30.625346</td>\n",
       "      <td>-96.327154</td>\n",
       "    </tr>\n",
       "    <tr>\n",
       "      <th>32</th>\n",
       "      <td>ozerthinking</td>\n",
       "      <td>Football's coming home</td>\n",
       "      <td>London</td>\n",
       "      <td>51.507322</td>\n",
       "      <td>-0.127647</td>\n",
       "    </tr>\n",
       "    <tr>\n",
       "      <th>33</th>\n",
       "      <td>opeolu_wa</td>\n",
       "      <td>@Glued2C You're mad and I'm here to tell you t...</td>\n",
       "      <td>Nigeria</td>\n",
       "      <td>9.600036</td>\n",
       "      <td>7.999972</td>\n",
       "    </tr>\n",
       "    <tr>\n",
       "      <th>34</th>\n",
       "      <td>dannypea</td>\n",
       "      <td>Knowing nothing about women's football I actua...</td>\n",
       "      <td>Nottingham, UK</td>\n",
       "      <td>52.953416</td>\n",
       "      <td>-1.149277</td>\n",
       "    </tr>\n",
       "    <tr>\n",
       "      <th>35</th>\n",
       "      <td>KayeVentures</td>\n",
       "      <td>I'm convinced we need to have a white wash rul...</td>\n",
       "      <td>England, United Kingdom</td>\n",
       "      <td>52.795479</td>\n",
       "      <td>-0.540240</td>\n",
       "    </tr>\n",
       "    <tr>\n",
       "      <th>37</th>\n",
       "      <td>explodeyourself</td>\n",
       "      <td>Hot Take:  if the future of college football i...</td>\n",
       "      <td>Maryland</td>\n",
       "      <td>39.516223</td>\n",
       "      <td>-76.938207</td>\n",
       "    </tr>\n",
       "    <tr>\n",
       "      <th>38</th>\n",
       "      <td>Rardeenus</td>\n",
       "      <td>It’s all well and good playing football, their...</td>\n",
       "      <td>Carfax Hospital, floor 5...</td>\n",
       "      <td>36.890659</td>\n",
       "      <td>-82.377646</td>\n",
       "    </tr>\n",
       "    <tr>\n",
       "      <th>39</th>\n",
       "      <td>Fr_SheehysGAA</td>\n",
       "      <td>WedJuly 13\\nU19B Football\\nKMD Gaels v Carrick...</td>\n",
       "      <td>South Tipperary, Ireland</td>\n",
       "      <td>52.341068</td>\n",
       "      <td>-8.145015</td>\n",
       "    </tr>\n",
       "    <tr>\n",
       "      <th>40</th>\n",
       "      <td>ChesneyStalks</td>\n",
       "      <td>Maybe, just maybe our mens team FULL of talent...</td>\n",
       "      <td>SW London</td>\n",
       "      <td>51.507322</td>\n",
       "      <td>-0.127647</td>\n",
       "    </tr>\n",
       "    <tr>\n",
       "      <th>41</th>\n",
       "      <td>WCPO</td>\n",
       "      <td>Lakota West football player Ben Minich in spot...</td>\n",
       "      <td>Cincinnati, Ohio</td>\n",
       "      <td>39.101454</td>\n",
       "      <td>-84.512460</td>\n",
       "    </tr>\n",
       "    <tr>\n",
       "      <th>42</th>\n",
       "      <td>StableGenius84</td>\n",
       "      <td>@OwnWorstEnemy25 @TheValuesVoter @AP Football ...</td>\n",
       "      <td>USA</td>\n",
       "      <td>39.783730</td>\n",
       "      <td>-100.445882</td>\n",
       "    </tr>\n",
       "    <tr>\n",
       "      <th>43</th>\n",
       "      <td>GridironHelmets</td>\n",
       "      <td>Biggest News and Rumors in College Football.. ...</td>\n",
       "      <td>Florida</td>\n",
       "      <td>27.756767</td>\n",
       "      <td>-81.463983</td>\n",
       "    </tr>\n",
       "    <tr>\n",
       "      <th>45</th>\n",
       "      <td>Sabah_ChotuAFC</td>\n",
       "      <td>I always said players play better when they’ve...</td>\n",
       "      <td>London</td>\n",
       "      <td>51.507322</td>\n",
       "      <td>-0.127647</td>\n",
       "    </tr>\n",
       "    <tr>\n",
       "      <th>46</th>\n",
       "      <td>mmhiggins7</td>\n",
       "      <td>@loumacarichippy @BBCSport @BBCOne @BBCiPlayer...</td>\n",
       "      <td>Uk</td>\n",
       "      <td>54.702354</td>\n",
       "      <td>-3.276575</td>\n",
       "    </tr>\n",
       "    <tr>\n",
       "      <th>49</th>\n",
       "      <td>simontodd89</td>\n",
       "      <td>But according to some 🦖🦖 people don’t watch Wo...</td>\n",
       "      <td>Coventry</td>\n",
       "      <td>52.408181</td>\n",
       "      <td>-1.510477</td>\n",
       "    </tr>\n",
       "  </tbody>\n",
       "</table>\n",
       "</div>"
      ],
      "text/plain": [
       "        screen_name                                               text  \\\n",
       "0          TundeIaG  Shouldn't there be a mercy rule in football? E...   \n",
       "2   AFCW_Foundation  Girls' Football Week\\nkicked off today with a ...   \n",
       "3           pahpies  @olarewa25023764 @EBIONOME Please focus on foo...   \n",
       "4      DejahRondeau  When somehow your football skills kick in and ...   \n",
       "5       malikobansa  Omoh  today codeShinobi played ball since last...   \n",
       "6      ravenwizardd  @dking2999 @Jokicbetta @GetUpESPN Yeah if you ...   \n",
       "7      MarkMoore45_    @Joecb09 She is quite decent at the ol football   \n",
       "8          Seahawks  Complementary football on all three phases is ...   \n",
       "9     MelClements91  @currys Making her mark in womens football in ...   \n",
       "10       ChiomaL0ve  @saintevegreen I love foot ball so much... I c...   \n",
       "11     PMTsportsbiz  Fantasy Football Legend Matthew Berry Is Leavi...   \n",
       "12      MorningJoey  @CathyCeekay It’s just football star lake now ...   \n",
       "13  Mustaph54804641  @goal Humanity and values in football is over ...   \n",
       "14  tifosileclerc16  this game is so bad for the reputation of wome...   \n",
       "16      The_Kitsman               🤔 Could you design a football shirt?   \n",
       "17  AshlyElamSports  Lamar AD Jeff O’Malley says Cardinals will pla...   \n",
       "19      MarkKeenan5  @PaulD_70 I would absolutely love it if they m...   \n",
       "20          tar_uwu  was watching the women's england vs norway foo...   \n",
       "23     Airsculpture  Football is what football does Brian 8-0 https...   \n",
       "24    hardmandesign  How are Norway ranked 11th in the FIFA ranking...   \n",
       "25       LFC_Hunt96  It's actually very refreshing watching an Engl...   \n",
       "26       mark_hokie  @CFBNerds The NFL has a salary cap, player dra...   \n",
       "27       ENiedfeldt  Does anybody feel that the Badgers football re...   \n",
       "28       ImThatSupi  @MatthewBerryTMR Congratulations and thank you...   \n",
       "29    Andrewswain11  Double England winner love womens football htt...   \n",
       "30       RidzHuncho  Imagine a world without football, life wouldn’...   \n",
       "31         GigEm247  GigEm247 Podcast: Texas A&amp;M football and r...   \n",
       "32     ozerthinking                             Football's coming home   \n",
       "33        opeolu_wa  @Glued2C You're mad and I'm here to tell you t...   \n",
       "34         dannypea  Knowing nothing about women's football I actua...   \n",
       "35     KayeVentures  I'm convinced we need to have a white wash rul...   \n",
       "37  explodeyourself  Hot Take:  if the future of college football i...   \n",
       "38        Rardeenus  It’s all well and good playing football, their...   \n",
       "39    Fr_SheehysGAA  WedJuly 13\\nU19B Football\\nKMD Gaels v Carrick...   \n",
       "40    ChesneyStalks  Maybe, just maybe our mens team FULL of talent...   \n",
       "41             WCPO  Lakota West football player Ben Minich in spot...   \n",
       "42   StableGenius84  @OwnWorstEnemy25 @TheValuesVoter @AP Football ...   \n",
       "43  GridironHelmets  Biggest News and Rumors in College Football.. ...   \n",
       "45   Sabah_ChotuAFC  I always said players play better when they’ve...   \n",
       "46       mmhiggins7  @loumacarichippy @BBCSport @BBCOne @BBCiPlayer...   \n",
       "49      simontodd89  But according to some 🦖🦖 people don’t watch Wo...   \n",
       "\n",
       "                       location   latitude   longitude  \n",
       "0                         32746  28.733791  -81.369715  \n",
       "2           Plough Lane Stadium  51.430492   -0.185646  \n",
       "3                       Nigeria   9.600036    7.999972  \n",
       "4                    Exeter, NH  42.981477  -70.947834  \n",
       "5                       Shinobi  48.912451    2.272462  \n",
       "6                 Frederick, MD  39.414219  -77.410927  \n",
       "7                       Ireland  52.865196   -7.979460  \n",
       "8                   Seattle, WA  47.603832 -122.330062  \n",
       "9                     Edinburgh  55.949563   -3.191497  \n",
       "10                Awka, Nigeria   6.210095    7.074115  \n",
       "11                 New York, NY  40.730646  -73.986614  \n",
       "12    Northside, Pittsburgh, PA  40.444220  -79.997343  \n",
       "13              London, England  51.507322   -0.127647  \n",
       "14         Republiek Ierland 🇮🇪  52.865196   -7.979460  \n",
       "16                  Lincoln, UK  53.233630   -0.539217  \n",
       "17                   Groves, TX  29.948269  -93.917115  \n",
       "19                      Swindon  51.561368   -1.785685  \n",
       "20               کراچی, پاکستان  24.866779   67.031129  \n",
       "23        New Brunswick, Canada  46.500283  -66.750183  \n",
       "24          North West, England  51.335169    7.263209  \n",
       "25      England, United Kingdom  52.795479   -0.540240  \n",
       "26                Charlotte, NC  35.227087  -80.843127  \n",
       "27                 Walworth, WI  42.671151  -88.546772  \n",
       "28                New Haven, CT  41.308214  -72.925052  \n",
       "29      England, United Kingdom  52.795479   -0.540240  \n",
       "30              London, England  51.507322   -0.127647  \n",
       "31          College Station, TX  30.625346  -96.327154  \n",
       "32                       London  51.507322   -0.127647  \n",
       "33                      Nigeria   9.600036    7.999972  \n",
       "34               Nottingham, UK  52.953416   -1.149277  \n",
       "35      England, United Kingdom  52.795479   -0.540240  \n",
       "37                     Maryland  39.516223  -76.938207  \n",
       "38  Carfax Hospital, floor 5...  36.890659  -82.377646  \n",
       "39     South Tipperary, Ireland  52.341068   -8.145015  \n",
       "40                    SW London  51.507322   -0.127647  \n",
       "41             Cincinnati, Ohio  39.101454  -84.512460  \n",
       "42                         USA   39.783730 -100.445882  \n",
       "43                      Florida  27.756767  -81.463983  \n",
       "45                       London  51.507322   -0.127647  \n",
       "46                           Uk  54.702354   -3.276575  \n",
       "49                     Coventry  52.408181   -1.510477  "
      ]
     },
     "execution_count": 53,
     "metadata": {},
     "output_type": "execute_result"
    }
   ],
   "source": [
    "df"
   ]
  },
  {
   "cell_type": "markdown",
   "metadata": {},
   "source": [
    "<hr style=\"height:2px; border:none; color:#000; background-color:#000;\">"
   ]
  },
  {
   "cell_type": "markdown",
   "metadata": {},
   "source": [
    "### Creating a Map with Folium"
   ]
  },
  {
   "cell_type": "code",
   "execution_count": 54,
   "metadata": {},
   "outputs": [],
   "source": [
    "import folium"
   ]
  },
  {
   "cell_type": "code",
   "execution_count": 55,
   "metadata": {},
   "outputs": [],
   "source": [
    "usmap = folium.Map(location=[39.8283, -98.5795],  # center of U.S.\n",
    "                   tiles='Stamen Terrain',\n",
    "                   zoom_start=4, detect_retina=True)"
   ]
  },
  {
   "cell_type": "markdown",
   "metadata": {},
   "source": [
    "* **`location`** &mdash; sequence containing **latitude** and **longitude** of **map center point**\n",
    "    * [Geographic center of the continental United States](http://bit.ly/CenterOfTheUS) \n",
    "* **`zoom_start`** &mdash; **map’s initial zoom level**\n",
    "* **`detect_retina`** &mdash; enables folium to use **higher-resolution maps**"
   ]
  },
  {
   "cell_type": "markdown",
   "metadata": {},
   "source": [
    "<hr style=\"height:2px; border:none; color:#000; background-color:#000;\">"
   ]
  },
  {
   "cell_type": "markdown",
   "metadata": {},
   "source": [
    "### Creating Folium `Popup` Objects for the Tweet Locations\n",
    "* **`itertuples`** creates **tuples** from **each row** of the **`DataFrame`**\n",
    "* Each **tuple** contains a **property** for each **`DataFrame` column**"
   ]
  },
  {
   "cell_type": "code",
   "execution_count": 56,
   "metadata": {},
   "outputs": [],
   "source": [
    "for t in df.itertuples():\n",
    "    text = ': '.join([t.screen_name, t.text])\n",
    "    popup = folium.Popup(text)\n",
    "    marker = folium.Marker((t.latitude, t.longitude), \n",
    "                           popup=popup)\n",
    "    marker.add_to(usmap)"
   ]
  },
  {
   "cell_type": "markdown",
   "metadata": {},
   "source": [
    "<hr style=\"height:2px; border:none; color:#000; background-color:#000;\">"
   ]
  },
  {
   "cell_type": "markdown",
   "metadata": {},
   "source": [
    "### Saving the Map with Map’s **`save`** Method "
   ]
  },
  {
   "cell_type": "code",
   "execution_count": 57,
   "metadata": {},
   "outputs": [],
   "source": [
    "usmap.save('tweet_map.html')"
   ]
  },
  {
   "cell_type": "markdown",
   "metadata": {},
   "source": [
    "<hr style=\"height:2px; border:none; color:#000; background-color:#000;\">"
   ]
  },
  {
   "cell_type": "markdown",
   "metadata": {},
   "source": [
    "### Displaying the Map in Jupyter \n",
    "* The resulting map follows. \n",
    "<a href=\"./tweet_map.html\">Interactive tweet map</a>"
   ]
  },
  {
   "cell_type": "code",
   "execution_count": 58,
   "metadata": {},
   "outputs": [
    {
     "data": {
      "text/html": [
       "<div style=\"width:100%;\"><div style=\"position:relative;width:100%;height:0;padding-bottom:60%;\"><span style=\"color:#565656\">Make this Notebook Trusted to load map: File -> Trust Notebook</span><iframe srcdoc=\"&lt;!DOCTYPE html&gt;\n",
       "&lt;head&gt;    \n",
       "    &lt;meta http-equiv=&quot;content-type&quot; content=&quot;text/html; charset=UTF-8&quot; /&gt;\n",
       "    \n",
       "        &lt;script&gt;\n",
       "            L_NO_TOUCH = false;\n",
       "            L_DISABLE_3D = false;\n",
       "        &lt;/script&gt;\n",
       "    \n",
       "    &lt;style&gt;html, body {width: 100%;height: 100%;margin: 0;padding: 0;}&lt;/style&gt;\n",
       "    &lt;style&gt;#map {position:absolute;top:0;bottom:0;right:0;left:0;}&lt;/style&gt;\n",
       "    &lt;script src=&quot;https://cdn.jsdelivr.net/npm/leaflet@1.6.0/dist/leaflet.js&quot;&gt;&lt;/script&gt;\n",
       "    &lt;script src=&quot;https://code.jquery.com/jquery-1.12.4.min.js&quot;&gt;&lt;/script&gt;\n",
       "    &lt;script src=&quot;https://maxcdn.bootstrapcdn.com/bootstrap/3.2.0/js/bootstrap.min.js&quot;&gt;&lt;/script&gt;\n",
       "    &lt;script src=&quot;https://cdnjs.cloudflare.com/ajax/libs/Leaflet.awesome-markers/2.0.2/leaflet.awesome-markers.js&quot;&gt;&lt;/script&gt;\n",
       "    &lt;link rel=&quot;stylesheet&quot; href=&quot;https://cdn.jsdelivr.net/npm/leaflet@1.6.0/dist/leaflet.css&quot;/&gt;\n",
       "    &lt;link rel=&quot;stylesheet&quot; href=&quot;https://maxcdn.bootstrapcdn.com/bootstrap/3.2.0/css/bootstrap.min.css&quot;/&gt;\n",
       "    &lt;link rel=&quot;stylesheet&quot; href=&quot;https://maxcdn.bootstrapcdn.com/bootstrap/3.2.0/css/bootstrap-theme.min.css&quot;/&gt;\n",
       "    &lt;link rel=&quot;stylesheet&quot; href=&quot;https://maxcdn.bootstrapcdn.com/font-awesome/4.6.3/css/font-awesome.min.css&quot;/&gt;\n",
       "    &lt;link rel=&quot;stylesheet&quot; href=&quot;https://cdnjs.cloudflare.com/ajax/libs/Leaflet.awesome-markers/2.0.2/leaflet.awesome-markers.css&quot;/&gt;\n",
       "    &lt;link rel=&quot;stylesheet&quot; href=&quot;https://cdn.jsdelivr.net/gh/python-visualization/folium/folium/templates/leaflet.awesome.rotate.min.css&quot;/&gt;\n",
       "    \n",
       "            &lt;meta name=&quot;viewport&quot; content=&quot;width=device-width,\n",
       "                initial-scale=1.0, maximum-scale=1.0, user-scalable=no&quot; /&gt;\n",
       "            &lt;style&gt;\n",
       "                #map_934602b9a569e2efb9c830ba02ef65f4 {\n",
       "                    position: relative;\n",
       "                    width: 100.0%;\n",
       "                    height: 100.0%;\n",
       "                    left: 0.0%;\n",
       "                    top: 0.0%;\n",
       "                }\n",
       "            &lt;/style&gt;\n",
       "        \n",
       "&lt;/head&gt;\n",
       "&lt;body&gt;    \n",
       "    \n",
       "            &lt;div class=&quot;folium-map&quot; id=&quot;map_934602b9a569e2efb9c830ba02ef65f4&quot; &gt;&lt;/div&gt;\n",
       "        \n",
       "&lt;/body&gt;\n",
       "&lt;script&gt;    \n",
       "    \n",
       "            var map_934602b9a569e2efb9c830ba02ef65f4 = L.map(\n",
       "                &quot;map_934602b9a569e2efb9c830ba02ef65f4&quot;,\n",
       "                {\n",
       "                    center: [39.8283, -98.5795],\n",
       "                    crs: L.CRS.EPSG3857,\n",
       "                    zoom: 4,\n",
       "                    zoomControl: true,\n",
       "                    preferCanvas: false,\n",
       "                    detectRetina: true,\n",
       "                }\n",
       "            );\n",
       "\n",
       "            \n",
       "\n",
       "        \n",
       "    \n",
       "            var tile_layer_75137b15fc6f2a7e9f50313d9f3f8bfe = L.tileLayer(\n",
       "                &quot;https://stamen-tiles-{s}.a.ssl.fastly.net/terrain/{z}/{x}/{y}.jpg&quot;,\n",
       "                {&quot;attribution&quot;: &quot;Map tiles by \\u003ca href=\\&quot;http://stamen.com\\&quot;\\u003eStamen Design\\u003c/a\\u003e, under \\u003ca href=\\&quot;http://creativecommons.org/licenses/by/3.0\\&quot;\\u003eCC BY 3.0\\u003c/a\\u003e. Data by \\u0026copy; \\u003ca href=\\&quot;http://openstreetmap.org\\&quot;\\u003eOpenStreetMap\\u003c/a\\u003e, under \\u003ca href=\\&quot;http://creativecommons.org/licenses/by-sa/3.0\\&quot;\\u003eCC BY SA\\u003c/a\\u003e.&quot;, &quot;detectRetina&quot;: false, &quot;maxNativeZoom&quot;: 18, &quot;maxZoom&quot;: 18, &quot;minZoom&quot;: 0, &quot;noWrap&quot;: false, &quot;opacity&quot;: 1, &quot;subdomains&quot;: &quot;abc&quot;, &quot;tms&quot;: false}\n",
       "            ).addTo(map_934602b9a569e2efb9c830ba02ef65f4);\n",
       "        \n",
       "    \n",
       "            var marker_0c5a9a35778d196a1055bd1ed2fa6484 = L.marker(\n",
       "                [28.7337908, -81.3697152],\n",
       "                {}\n",
       "            ).addTo(map_934602b9a569e2efb9c830ba02ef65f4);\n",
       "        \n",
       "    \n",
       "        var popup_4defdfa31600190d3694f2855e7d316a = L.popup({&quot;maxWidth&quot;: &quot;100%&quot;});\n",
       "\n",
       "        \n",
       "            var html_182dea8d98f1c86bd35322c9bc7f7da2 = $(`&lt;div id=&quot;html_182dea8d98f1c86bd35322c9bc7f7da2&quot; style=&quot;width: 100.0%; height: 100.0%;&quot;&gt;TundeIaG: Shouldn&#x27;t there be a mercy rule in football? English ladies doing a number on Norway. 8 nil after 80 minutes should call for an end to the match.&lt;/div&gt;`)[0];\n",
       "            popup_4defdfa31600190d3694f2855e7d316a.setContent(html_182dea8d98f1c86bd35322c9bc7f7da2);\n",
       "        \n",
       "\n",
       "        marker_0c5a9a35778d196a1055bd1ed2fa6484.bindPopup(popup_4defdfa31600190d3694f2855e7d316a)\n",
       "        ;\n",
       "\n",
       "        \n",
       "    \n",
       "    \n",
       "            var marker_4296a94c8ffef0efbc0ac80a675d34cf = L.marker(\n",
       "                [51.4304917, -0.1856462],\n",
       "                {}\n",
       "            ).addTo(map_934602b9a569e2efb9c830ba02ef65f4);\n",
       "        \n",
       "    \n",
       "        var popup_bc5b0e32cfaaf577e6e23509502656b9 = L.popup({&quot;maxWidth&quot;: &quot;100%&quot;});\n",
       "\n",
       "        \n",
       "            var html_0402f3162ccfae982e300cc44166e8bc = $(`&lt;div id=&quot;html_0402f3162ccfae982e300cc44166e8bc&quot; style=&quot;width: 100.0%; height: 100.0%;&quot;&gt;AFCW_Foundation: Girls&#x27; Football Week kicked off today with a friendly fixture at Plough Lane ⚽️  🏟 The group included Sellincourt and Allfarthing Primary Schools&#x27; Year 5s and 6s who were also treated to a Ground Tour   A massive thanks to @wandsworthschoolgames Work Experience for helping out! https://t.co/2fHrLCSh8i&lt;/div&gt;`)[0];\n",
       "            popup_bc5b0e32cfaaf577e6e23509502656b9.setContent(html_0402f3162ccfae982e300cc44166e8bc);\n",
       "        \n",
       "\n",
       "        marker_4296a94c8ffef0efbc0ac80a675d34cf.bindPopup(popup_bc5b0e32cfaaf577e6e23509502656b9)\n",
       "        ;\n",
       "\n",
       "        \n",
       "    \n",
       "    \n",
       "            var marker_83045fc6013c17c8e60928cc2430a325 = L.marker(\n",
       "                [9.6000359, 7.9999721],\n",
       "                {}\n",
       "            ).addTo(map_934602b9a569e2efb9c830ba02ef65f4);\n",
       "        \n",
       "    \n",
       "        var popup_235380b5ceda1ab059b22543981203c3 = L.popup({&quot;maxWidth&quot;: &quot;100%&quot;});\n",
       "\n",
       "        \n",
       "            var html_6e2ca91a2614767ea5e5d06fb1a0520b = $(`&lt;div id=&quot;html_6e2ca91a2614767ea5e5d06fb1a0520b&quot; style=&quot;width: 100.0%; height: 100.0%;&quot;&gt;pahpies: @olarewa25023764 @EBIONOME Please focus on football 🤝&lt;/div&gt;`)[0];\n",
       "            popup_235380b5ceda1ab059b22543981203c3.setContent(html_6e2ca91a2614767ea5e5d06fb1a0520b);\n",
       "        \n",
       "\n",
       "        marker_83045fc6013c17c8e60928cc2430a325.bindPopup(popup_235380b5ceda1ab059b22543981203c3)\n",
       "        ;\n",
       "\n",
       "        \n",
       "    \n",
       "    \n",
       "            var marker_be225d82adff21f4011ff3d6dc3fa3ee = L.marker(\n",
       "                [42.981477, -70.9478343],\n",
       "                {}\n",
       "            ).addTo(map_934602b9a569e2efb9c830ba02ef65f4);\n",
       "        \n",
       "    \n",
       "        var popup_3148c2bc8452e9dffd5999f92e98d060 = L.popup({&quot;maxWidth&quot;: &quot;100%&quot;});\n",
       "\n",
       "        \n",
       "            var html_6642b8215593383487ba135ee3fd70e4 = $(`&lt;div id=&quot;html_6642b8215593383487ba135ee3fd70e4&quot; style=&quot;width: 100.0%; height: 100.0%;&quot;&gt;DejahRondeau: When somehow your football skills kick in and you tuck, roll and pop up. Don&#x27;t look just run and avoid the tag......yeah I thought she had the ball. 🤣🤷‍♀️ @IHartFastpitch https://t.co/8tRdxYiIb3&lt;/div&gt;`)[0];\n",
       "            popup_3148c2bc8452e9dffd5999f92e98d060.setContent(html_6642b8215593383487ba135ee3fd70e4);\n",
       "        \n",
       "\n",
       "        marker_be225d82adff21f4011ff3d6dc3fa3ee.bindPopup(popup_3148c2bc8452e9dffd5999f92e98d060)\n",
       "        ;\n",
       "\n",
       "        \n",
       "    \n",
       "    \n",
       "            var marker_6afac342346efbe947fbfb4e46295486 = L.marker(\n",
       "                [48.912451, 2.272462],\n",
       "                {}\n",
       "            ).addTo(map_934602b9a569e2efb9c830ba02ef65f4);\n",
       "        \n",
       "    \n",
       "        var popup_92781311b332b3f6e2bb4c6c5ca76bd4 = L.popup({&quot;maxWidth&quot;: &quot;100%&quot;});\n",
       "\n",
       "        \n",
       "            var html_ab408cad4ecf6c9055ddcefc48b239bd = $(`&lt;div id=&quot;html_ab408cad4ecf6c9055ddcefc48b239bd&quot; style=&quot;width: 100.0%; height: 100.0%;&quot;&gt;malikobansa: Omoh  today codeShinobi played ball since last year I bin no touch, see saves 🥅🧤  When a Techies tries football   ASAP Allison Becker I bin stop balls today.   Lol Not your regular tech bro 🤣   Liverpool suppose sign me or which team you want make I play for 😀 https://t.co/VTE7hV0Cvo&lt;/div&gt;`)[0];\n",
       "            popup_92781311b332b3f6e2bb4c6c5ca76bd4.setContent(html_ab408cad4ecf6c9055ddcefc48b239bd);\n",
       "        \n",
       "\n",
       "        marker_6afac342346efbe947fbfb4e46295486.bindPopup(popup_92781311b332b3f6e2bb4c6c5ca76bd4)\n",
       "        ;\n",
       "\n",
       "        \n",
       "    \n",
       "    \n",
       "            var marker_245c73e147408fb282613e7dd97581dc = L.marker(\n",
       "                [39.4142186, -77.4109269],\n",
       "                {}\n",
       "            ).addTo(map_934602b9a569e2efb9c830ba02ef65f4);\n",
       "        \n",
       "    \n",
       "        var popup_0e1b03bb3efa66e231146464722f7f80 = L.popup({&quot;maxWidth&quot;: &quot;100%&quot;});\n",
       "\n",
       "        \n",
       "            var html_36bf05dd341a4e726920ab94b18fa5ae = $(`&lt;div id=&quot;html_36bf05dd341a4e726920ab94b18fa5ae&quot; style=&quot;width: 100.0%; height: 100.0%;&quot;&gt;ravenwizardd: @dking2999 @Jokicbetta @GetUpESPN Yeah if you would’ve read the comments you would’ve seen my point. But it’s the fact you’re gonna tell me to stop watching football- lmao. That’s enough for me to be reminded of either the little kid or super basic fan you are. Think stuff out more next time&lt;/div&gt;`)[0];\n",
       "            popup_0e1b03bb3efa66e231146464722f7f80.setContent(html_36bf05dd341a4e726920ab94b18fa5ae);\n",
       "        \n",
       "\n",
       "        marker_245c73e147408fb282613e7dd97581dc.bindPopup(popup_0e1b03bb3efa66e231146464722f7f80)\n",
       "        ;\n",
       "\n",
       "        \n",
       "    \n",
       "    \n",
       "            var marker_b19a217921a49f7823c2153d49bdc418 = L.marker(\n",
       "                [52.865196, -7.9794599],\n",
       "                {}\n",
       "            ).addTo(map_934602b9a569e2efb9c830ba02ef65f4);\n",
       "        \n",
       "    \n",
       "        var popup_00d7f298a14c569f27c20d45520c5373 = L.popup({&quot;maxWidth&quot;: &quot;100%&quot;});\n",
       "\n",
       "        \n",
       "            var html_9a0529b0ecb192bf9b9e8d0312b944bc = $(`&lt;div id=&quot;html_9a0529b0ecb192bf9b9e8d0312b944bc&quot; style=&quot;width: 100.0%; height: 100.0%;&quot;&gt;MarkMoore45_: @Joecb09 She is quite decent at the ol football&lt;/div&gt;`)[0];\n",
       "            popup_00d7f298a14c569f27c20d45520c5373.setContent(html_9a0529b0ecb192bf9b9e8d0312b944bc);\n",
       "        \n",
       "\n",
       "        marker_b19a217921a49f7823c2153d49bdc418.bindPopup(popup_00d7f298a14c569f27c20d45520c5373)\n",
       "        ;\n",
       "\n",
       "        \n",
       "    \n",
       "    \n",
       "            var marker_474a829229dac1c48619f5c57e1f2701 = L.marker(\n",
       "                [47.6038321, -122.3300624],\n",
       "                {}\n",
       "            ).addTo(map_934602b9a569e2efb9c830ba02ef65f4);\n",
       "        \n",
       "    \n",
       "        var popup_aa5a5a75fc2efe7904b4d0632c73e30c = L.popup({&quot;maxWidth&quot;: &quot;100%&quot;});\n",
       "\n",
       "        \n",
       "            var html_011725dbfb55782f1dc7476d7b5d948f = $(`&lt;div id=&quot;html_011725dbfb55782f1dc7476d7b5d948f&quot; style=&quot;width: 100.0%; height: 100.0%;&quot;&gt;Seahawks: Complementary football on all three phases is key 🔑  @johnpboyle takes a look at our special teams unit as we head into training camp later this month.&lt;/div&gt;`)[0];\n",
       "            popup_aa5a5a75fc2efe7904b4d0632c73e30c.setContent(html_011725dbfb55782f1dc7476d7b5d948f);\n",
       "        \n",
       "\n",
       "        marker_474a829229dac1c48619f5c57e1f2701.bindPopup(popup_aa5a5a75fc2efe7904b4d0632c73e30c)\n",
       "        ;\n",
       "\n",
       "        \n",
       "    \n",
       "    \n",
       "            var marker_9646c0acc8bae479645ae2e013d8e337 = L.marker(\n",
       "                [55.9495628, -3.1914972],\n",
       "                {}\n",
       "            ).addTo(map_934602b9a569e2efb9c830ba02ef65f4);\n",
       "        \n",
       "    \n",
       "        var popup_3dd83db95fa5500684ff73afce9360e7 = L.popup({&quot;maxWidth&quot;: &quot;100%&quot;});\n",
       "\n",
       "        \n",
       "            var html_1921a4c83571cf0d8178765fe08b110f = $(`&lt;div id=&quot;html_1921a4c83571cf0d8178765fe08b110f&quot; style=&quot;width: 100.0%; height: 100.0%;&quot;&gt;MelClements91: @currys Making her mark in womens football in Scotland, @JLMurray17 Academy Manager with Hibs Community Foundation giving opportunities to the next gen of women &amp;amp; girls &amp;amp; sharing her experience / talent. A proper professional &amp;amp; ambassador.&lt;/div&gt;`)[0];\n",
       "            popup_3dd83db95fa5500684ff73afce9360e7.setContent(html_1921a4c83571cf0d8178765fe08b110f);\n",
       "        \n",
       "\n",
       "        marker_9646c0acc8bae479645ae2e013d8e337.bindPopup(popup_3dd83db95fa5500684ff73afce9360e7)\n",
       "        ;\n",
       "\n",
       "        \n",
       "    \n",
       "    \n",
       "            var marker_d437efd1452be2b827d724de0df275a8 = L.marker(\n",
       "                [6.2100945, 7.0741145],\n",
       "                {}\n",
       "            ).addTo(map_934602b9a569e2efb9c830ba02ef65f4);\n",
       "        \n",
       "    \n",
       "        var popup_73838a39ea65f795bbe97c911a68663f = L.popup({&quot;maxWidth&quot;: &quot;100%&quot;});\n",
       "\n",
       "        \n",
       "            var html_3f0ed822585bef3fe55edbdb1586a4b8 = $(`&lt;div id=&quot;html_3f0ed822585bef3fe55edbdb1586a4b8&quot; style=&quot;width: 100.0%; height: 100.0%;&quot;&gt;ChiomaL0ve: @saintevegreen I love foot ball so much... I choose football ova anything ☺️&lt;/div&gt;`)[0];\n",
       "            popup_73838a39ea65f795bbe97c911a68663f.setContent(html_3f0ed822585bef3fe55edbdb1586a4b8);\n",
       "        \n",
       "\n",
       "        marker_d437efd1452be2b827d724de0df275a8.bindPopup(popup_73838a39ea65f795bbe97c911a68663f)\n",
       "        ;\n",
       "\n",
       "        \n",
       "    \n",
       "    \n",
       "            var marker_aac6ca9d5e4d300cb43e18b386387b06 = L.marker(\n",
       "                [40.7306458, -73.9866136],\n",
       "                {}\n",
       "            ).addTo(map_934602b9a569e2efb9c830ba02ef65f4);\n",
       "        \n",
       "    \n",
       "        var popup_7d8d0d38603f5f4945c0e21a6c068b18 = L.popup({&quot;maxWidth&quot;: &quot;100%&quot;});\n",
       "\n",
       "        \n",
       "            var html_57016cdf9dbbbda2142094b0aad000a5 = $(`&lt;div id=&quot;html_57016cdf9dbbbda2142094b0aad000a5&quot; style=&quot;width: 100.0%; height: 100.0%;&quot;&gt;PMTsportsbiz: Fantasy Football Legend Matthew Berry Is Leaving ESPN After 15 Years At The Company  https://t.co/mc52EL3wsN&lt;/div&gt;`)[0];\n",
       "            popup_7d8d0d38603f5f4945c0e21a6c068b18.setContent(html_57016cdf9dbbbda2142094b0aad000a5);\n",
       "        \n",
       "\n",
       "        marker_aac6ca9d5e4d300cb43e18b386387b06.bindPopup(popup_7d8d0d38603f5f4945c0e21a6c068b18)\n",
       "        ;\n",
       "\n",
       "        \n",
       "    \n",
       "    \n",
       "            var marker_1cd7d5963f79d7d0bef46acdcf93583d = L.marker(\n",
       "                [40.4442198, -79.9973426],\n",
       "                {}\n",
       "            ).addTo(map_934602b9a569e2efb9c830ba02ef65f4);\n",
       "        \n",
       "    \n",
       "        var popup_695dc76a744adc55f86c4e421b57fa3f = L.popup({&quot;maxWidth&quot;: &quot;100%&quot;});\n",
       "\n",
       "        \n",
       "            var html_e0289d097a4f821d92e21becc64430b6 = $(`&lt;div id=&quot;html_e0289d097a4f821d92e21becc64430b6&quot; style=&quot;width: 100.0%; height: 100.0%;&quot;&gt;MorningJoey: @CathyCeekay It’s just football star lake now 🤷‍♂️&lt;/div&gt;`)[0];\n",
       "            popup_695dc76a744adc55f86c4e421b57fa3f.setContent(html_e0289d097a4f821d92e21becc64430b6);\n",
       "        \n",
       "\n",
       "        marker_1cd7d5963f79d7d0bef46acdcf93583d.bindPopup(popup_695dc76a744adc55f86c4e421b57fa3f)\n",
       "        ;\n",
       "\n",
       "        \n",
       "    \n",
       "    \n",
       "            var marker_a132e2e2b8bad431bc31c9849b3666a0 = L.marker(\n",
       "                [51.5073219, -0.1276474],\n",
       "                {}\n",
       "            ).addTo(map_934602b9a569e2efb9c830ba02ef65f4);\n",
       "        \n",
       "    \n",
       "        var popup_44a46cd7b7bbd0c5b01b4470e4a12369 = L.popup({&quot;maxWidth&quot;: &quot;100%&quot;});\n",
       "\n",
       "        \n",
       "            var html_59ba3e3adf139c3254f67f47dfe27198 = $(`&lt;div id=&quot;html_59ba3e3adf139c3254f67f47dfe27198&quot; style=&quot;width: 100.0%; height: 100.0%;&quot;&gt;Mustaph54804641: @goal Humanity and values in football is over it&#x27;s only business players are like disposable shavers 😁😁😁😁&lt;/div&gt;`)[0];\n",
       "            popup_44a46cd7b7bbd0c5b01b4470e4a12369.setContent(html_59ba3e3adf139c3254f67f47dfe27198);\n",
       "        \n",
       "\n",
       "        marker_a132e2e2b8bad431bc31c9849b3666a0.bindPopup(popup_44a46cd7b7bbd0c5b01b4470e4a12369)\n",
       "        ;\n",
       "\n",
       "        \n",
       "    \n",
       "    \n",
       "            var marker_e8d7b70433ffa3b203eb209b25fbb41b = L.marker(\n",
       "                [52.865196, -7.9794599],\n",
       "                {}\n",
       "            ).addTo(map_934602b9a569e2efb9c830ba02ef65f4);\n",
       "        \n",
       "    \n",
       "        var popup_6b30881f89adc0b97abbeed39c71a044 = L.popup({&quot;maxWidth&quot;: &quot;100%&quot;});\n",
       "\n",
       "        \n",
       "            var html_a2db5e6376bc255c065f5454df947c8b = $(`&lt;div id=&quot;html_a2db5e6376bc255c065f5454df947c8b&quot; style=&quot;width: 100.0%; height: 100.0%;&quot;&gt;tifosileclerc16: this game is so bad for the reputation of women’s football&lt;/div&gt;`)[0];\n",
       "            popup_6b30881f89adc0b97abbeed39c71a044.setContent(html_a2db5e6376bc255c065f5454df947c8b);\n",
       "        \n",
       "\n",
       "        marker_e8d7b70433ffa3b203eb209b25fbb41b.bindPopup(popup_6b30881f89adc0b97abbeed39c71a044)\n",
       "        ;\n",
       "\n",
       "        \n",
       "    \n",
       "    \n",
       "            var marker_a8be75cd52ad7c029af1a6b6779ee996 = L.marker(\n",
       "                [53.2336301, -0.5392172],\n",
       "                {}\n",
       "            ).addTo(map_934602b9a569e2efb9c830ba02ef65f4);\n",
       "        \n",
       "    \n",
       "        var popup_281e2be75151de242bd0e92e1f7b71d8 = L.popup({&quot;maxWidth&quot;: &quot;100%&quot;});\n",
       "\n",
       "        \n",
       "            var html_181e0290c8c83c47ef451f1c82d6f553 = $(`&lt;div id=&quot;html_181e0290c8c83c47ef451f1c82d6f553&quot; style=&quot;width: 100.0%; height: 100.0%;&quot;&gt;The_Kitsman: 🤔 Could you design a football shirt?&lt;/div&gt;`)[0];\n",
       "            popup_281e2be75151de242bd0e92e1f7b71d8.setContent(html_181e0290c8c83c47ef451f1c82d6f553);\n",
       "        \n",
       "\n",
       "        marker_a8be75cd52ad7c029af1a6b6779ee996.bindPopup(popup_281e2be75151de242bd0e92e1f7b71d8)\n",
       "        ;\n",
       "\n",
       "        \n",
       "    \n",
       "    \n",
       "            var marker_a4b6e8c3d793e4c15573bd1c8efe4c06 = L.marker(\n",
       "                [29.9482695, -93.9171155],\n",
       "                {}\n",
       "            ).addTo(map_934602b9a569e2efb9c830ba02ef65f4);\n",
       "        \n",
       "    \n",
       "        var popup_b00da70fd0ac4e9157cdc56c2891405d = L.popup({&quot;maxWidth&quot;: &quot;100%&quot;});\n",
       "\n",
       "        \n",
       "            var html_74c25de7bc009340aa337f0e28aa8f64 = $(`&lt;div id=&quot;html_74c25de7bc009340aa337f0e28aa8f64&quot; style=&quot;width: 100.0%; height: 100.0%;&quot;&gt;AshlyElamSports: Lamar AD Jeff O’Malley says Cardinals will play full Southland schedules in all sports and will be eligible for championships.  Football will likely lack one conference game due to scheduling conflicts. Non-conference schedule remains the same. #409Sports #WeAreLU https://t.co/HlDhhtLbHM&lt;/div&gt;`)[0];\n",
       "            popup_b00da70fd0ac4e9157cdc56c2891405d.setContent(html_74c25de7bc009340aa337f0e28aa8f64);\n",
       "        \n",
       "\n",
       "        marker_a4b6e8c3d793e4c15573bd1c8efe4c06.bindPopup(popup_b00da70fd0ac4e9157cdc56c2891405d)\n",
       "        ;\n",
       "\n",
       "        \n",
       "    \n",
       "    \n",
       "            var marker_d33820080a01c6f52c6c5339a9f59e06 = L.marker(\n",
       "                [51.5613683, -1.7856853],\n",
       "                {}\n",
       "            ).addTo(map_934602b9a569e2efb9c830ba02ef65f4);\n",
       "        \n",
       "    \n",
       "        var popup_da25f43f18940b7d1d572fc9df0e6789 = L.popup({&quot;maxWidth&quot;: &quot;100%&quot;});\n",
       "\n",
       "        \n",
       "            var html_ea164e3d681ff3eef7630c8849fe3bb8 = $(`&lt;div id=&quot;html_ea164e3d681ff3eef7630c8849fe3bb8&quot; style=&quot;width: 100.0%; height: 100.0%;&quot;&gt;MarkKeenan5: @PaulD_70 I would absolutely love it if they made it all the way. Remember watching a friendly at the Cg with my girls and the football was class&lt;/div&gt;`)[0];\n",
       "            popup_da25f43f18940b7d1d572fc9df0e6789.setContent(html_ea164e3d681ff3eef7630c8849fe3bb8);\n",
       "        \n",
       "\n",
       "        marker_d33820080a01c6f52c6c5339a9f59e06.bindPopup(popup_da25f43f18940b7d1d572fc9df0e6789)\n",
       "        ;\n",
       "\n",
       "        \n",
       "    \n",
       "    \n",
       "            var marker_b78dd9ecbb2a4ab6aace80ad33112668 = L.marker(\n",
       "                [24.8667795, 67.0311286],\n",
       "                {}\n",
       "            ).addTo(map_934602b9a569e2efb9c830ba02ef65f4);\n",
       "        \n",
       "    \n",
       "        var popup_6c83ef1ab141b20fa34d95667b0cfbff = L.popup({&quot;maxWidth&quot;: &quot;100%&quot;});\n",
       "\n",
       "        \n",
       "            var html_d18b32084dfe1b62067382efb8d67ecb = $(`&lt;div id=&quot;html_d18b32084dfe1b62067382efb8d67ecb&quot; style=&quot;width: 100.0%; height: 100.0%;&quot;&gt;tar_uwu: was watching the women&#x27;s england vs norway football match. the english were having fun on the pitch, showboating, it was obvious that they had more heart than the men&#x27;s team. 30,000 fans in the stadium, this is a good sign for women&#x27;s football and even football in general.&lt;/div&gt;`)[0];\n",
       "            popup_6c83ef1ab141b20fa34d95667b0cfbff.setContent(html_d18b32084dfe1b62067382efb8d67ecb);\n",
       "        \n",
       "\n",
       "        marker_b78dd9ecbb2a4ab6aace80ad33112668.bindPopup(popup_6c83ef1ab141b20fa34d95667b0cfbff)\n",
       "        ;\n",
       "\n",
       "        \n",
       "    \n",
       "    \n",
       "            var marker_139233723d81af1d92ba97bb754eaa32 = L.marker(\n",
       "                [46.500283, -66.750183],\n",
       "                {}\n",
       "            ).addTo(map_934602b9a569e2efb9c830ba02ef65f4);\n",
       "        \n",
       "    \n",
       "        var popup_d3ab3ca9b1fb39260da524eecea40948 = L.popup({&quot;maxWidth&quot;: &quot;100%&quot;});\n",
       "\n",
       "        \n",
       "            var html_1e29b8c0280a747181a221175600b604 = $(`&lt;div id=&quot;html_1e29b8c0280a747181a221175600b604&quot; style=&quot;width: 100.0%; height: 100.0%;&quot;&gt;Airsculpture: Football is what football does Brian 8-0 https://t.co/EOjxnPPJq5&lt;/div&gt;`)[0];\n",
       "            popup_d3ab3ca9b1fb39260da524eecea40948.setContent(html_1e29b8c0280a747181a221175600b604);\n",
       "        \n",
       "\n",
       "        marker_139233723d81af1d92ba97bb754eaa32.bindPopup(popup_d3ab3ca9b1fb39260da524eecea40948)\n",
       "        ;\n",
       "\n",
       "        \n",
       "    \n",
       "    \n",
       "            var marker_9a21fe695e6cbf1734b26893092bea8f = L.marker(\n",
       "                [51.3351685, 7.26320898126877],\n",
       "                {}\n",
       "            ).addTo(map_934602b9a569e2efb9c830ba02ef65f4);\n",
       "        \n",
       "    \n",
       "        var popup_49cea5e42660ba58e09efe4bd549db75 = L.popup({&quot;maxWidth&quot;: &quot;100%&quot;});\n",
       "\n",
       "        \n",
       "            var html_a824404518f41ef12e8a5ef9e047c4d9 = $(`&lt;div id=&quot;html_a824404518f41ef12e8a5ef9e047c4d9&quot; style=&quot;width: 100.0%; height: 100.0%;&quot;&gt;hardmandesign: How are Norway ranked 11th in the FIFA rankings? I don’t watch much of women’s football but this team just look like they shouldn’t have made the euros. England dominating&lt;/div&gt;`)[0];\n",
       "            popup_49cea5e42660ba58e09efe4bd549db75.setContent(html_a824404518f41ef12e8a5ef9e047c4d9);\n",
       "        \n",
       "\n",
       "        marker_9a21fe695e6cbf1734b26893092bea8f.bindPopup(popup_49cea5e42660ba58e09efe4bd549db75)\n",
       "        ;\n",
       "\n",
       "        \n",
       "    \n",
       "    \n",
       "            var marker_39fb19345b26e54033a57d7cc3f785bc = L.marker(\n",
       "                [52.7954791, -0.540240286617432],\n",
       "                {}\n",
       "            ).addTo(map_934602b9a569e2efb9c830ba02ef65f4);\n",
       "        \n",
       "    \n",
       "        var popup_7f9fccc65e9c15e7aa5f936daf4fcf0c = L.popup({&quot;maxWidth&quot;: &quot;100%&quot;});\n",
       "\n",
       "        \n",
       "            var html_dde13b681ba43763df6f6159b20474fc = $(`&lt;div id=&quot;html_dde13b681ba43763df6f6159b20474fc&quot; style=&quot;width: 100.0%; height: 100.0%;&quot;&gt;LFC_Hunt96: It&#x27;s actually very refreshing watching an England team playing attacking football. 😂 #EURO2022&lt;/div&gt;`)[0];\n",
       "            popup_7f9fccc65e9c15e7aa5f936daf4fcf0c.setContent(html_dde13b681ba43763df6f6159b20474fc);\n",
       "        \n",
       "\n",
       "        marker_39fb19345b26e54033a57d7cc3f785bc.bindPopup(popup_7f9fccc65e9c15e7aa5f936daf4fcf0c)\n",
       "        ;\n",
       "\n",
       "        \n",
       "    \n",
       "    \n",
       "            var marker_265171b9a751cae7583bdb5dac2bf205 = L.marker(\n",
       "                [35.2270869, -80.8431268],\n",
       "                {}\n",
       "            ).addTo(map_934602b9a569e2efb9c830ba02ef65f4);\n",
       "        \n",
       "    \n",
       "        var popup_ac431659a12d1aaf75468dadf925674e = L.popup({&quot;maxWidth&quot;: &quot;100%&quot;});\n",
       "\n",
       "        \n",
       "            var html_83b17ccff69a675934446dd80c3f14da = $(`&lt;div id=&quot;html_83b17ccff69a675934446dd80c3f14da&quot; style=&quot;width: 100.0%; height: 100.0%;&quot;&gt;mark_hokie: @CFBNerds The NFL has a salary cap, player draft, and a formula for scheduling games.   College football lets each team spend as much as they want, sign the best players they can get, and play as many cupcakes as they like.   You could argue that CFB is broken...&lt;/div&gt;`)[0];\n",
       "            popup_ac431659a12d1aaf75468dadf925674e.setContent(html_83b17ccff69a675934446dd80c3f14da);\n",
       "        \n",
       "\n",
       "        marker_265171b9a751cae7583bdb5dac2bf205.bindPopup(popup_ac431659a12d1aaf75468dadf925674e)\n",
       "        ;\n",
       "\n",
       "        \n",
       "    \n",
       "    \n",
       "            var marker_3fdd809275b2e93b6b343f85f83b42e4 = L.marker(\n",
       "                [42.6711513, -88.5467715],\n",
       "                {}\n",
       "            ).addTo(map_934602b9a569e2efb9c830ba02ef65f4);\n",
       "        \n",
       "    \n",
       "        var popup_88e624c67f53e124ca7bf8af7af365e4 = L.popup({&quot;maxWidth&quot;: &quot;100%&quot;});\n",
       "\n",
       "        \n",
       "            var html_45efd6bec63d9e3af80f1c1cd335458d = $(`&lt;div id=&quot;html_45efd6bec63d9e3af80f1c1cd335458d&quot; style=&quot;width: 100.0%; height: 100.0%;&quot;&gt;ENiedfeldt: Does anybody feel that the Badgers football recruiting are losing ground in the NIL era?&lt;/div&gt;`)[0];\n",
       "            popup_88e624c67f53e124ca7bf8af7af365e4.setContent(html_45efd6bec63d9e3af80f1c1cd335458d);\n",
       "        \n",
       "\n",
       "        marker_3fdd809275b2e93b6b343f85f83b42e4.bindPopup(popup_88e624c67f53e124ca7bf8af7af365e4)\n",
       "        ;\n",
       "\n",
       "        \n",
       "    \n",
       "    \n",
       "            var marker_7bd08359bbf0c9f53f09e233b4741080 = L.marker(\n",
       "                [41.3082138, -72.9250518],\n",
       "                {}\n",
       "            ).addTo(map_934602b9a569e2efb9c830ba02ef65f4);\n",
       "        \n",
       "    \n",
       "        var popup_f827a647cd2a0166b07cef439b422b79 = L.popup({&quot;maxWidth&quot;: &quot;100%&quot;});\n",
       "\n",
       "        \n",
       "            var html_3828eb888e169310d76c6992d1c22528 = $(`&lt;div id=&quot;html_3828eb888e169310d76c6992d1c22528&quot; style=&quot;width: 100.0%; height: 100.0%;&quot;&gt;ImThatSupi: @MatthewBerryTMR Congratulations and thank you for everything you’ve done for fantasy football&lt;/div&gt;`)[0];\n",
       "            popup_f827a647cd2a0166b07cef439b422b79.setContent(html_3828eb888e169310d76c6992d1c22528);\n",
       "        \n",
       "\n",
       "        marker_7bd08359bbf0c9f53f09e233b4741080.bindPopup(popup_f827a647cd2a0166b07cef439b422b79)\n",
       "        ;\n",
       "\n",
       "        \n",
       "    \n",
       "    \n",
       "            var marker_71a889453331ad33b34098cf464e6a79 = L.marker(\n",
       "                [52.7954791, -0.540240286617432],\n",
       "                {}\n",
       "            ).addTo(map_934602b9a569e2efb9c830ba02ef65f4);\n",
       "        \n",
       "    \n",
       "        var popup_e1a5e5b51c40d06a087de2960cadcf11 = L.popup({&quot;maxWidth&quot;: &quot;100%&quot;});\n",
       "\n",
       "        \n",
       "            var html_08339feb92caf201029d18eb23456bad = $(`&lt;div id=&quot;html_08339feb92caf201029d18eb23456bad&quot; style=&quot;width: 100.0%; height: 100.0%;&quot;&gt;Andrewswain11: Double England winner love womens football https://t.co/Ja19VgQxc2&lt;/div&gt;`)[0];\n",
       "            popup_e1a5e5b51c40d06a087de2960cadcf11.setContent(html_08339feb92caf201029d18eb23456bad);\n",
       "        \n",
       "\n",
       "        marker_71a889453331ad33b34098cf464e6a79.bindPopup(popup_e1a5e5b51c40d06a087de2960cadcf11)\n",
       "        ;\n",
       "\n",
       "        \n",
       "    \n",
       "    \n",
       "            var marker_d48b6547a9ff4b869c3a409c2d3d6fc4 = L.marker(\n",
       "                [51.5073219, -0.1276474],\n",
       "                {}\n",
       "            ).addTo(map_934602b9a569e2efb9c830ba02ef65f4);\n",
       "        \n",
       "    \n",
       "        var popup_02d3c1b0489fc29f43e017da33229409 = L.popup({&quot;maxWidth&quot;: &quot;100%&quot;});\n",
       "\n",
       "        \n",
       "            var html_4d466ad07e5edf76e7cf69c57c9e752a = $(`&lt;div id=&quot;html_4d466ad07e5edf76e7cf69c57c9e752a&quot; style=&quot;width: 100.0%; height: 100.0%;&quot;&gt;RidzHuncho: Imagine a world without football, life wouldn’t be as funny 😂😂😂&lt;/div&gt;`)[0];\n",
       "            popup_02d3c1b0489fc29f43e017da33229409.setContent(html_4d466ad07e5edf76e7cf69c57c9e752a);\n",
       "        \n",
       "\n",
       "        marker_d48b6547a9ff4b869c3a409c2d3d6fc4.bindPopup(popup_02d3c1b0489fc29f43e017da33229409)\n",
       "        ;\n",
       "\n",
       "        \n",
       "    \n",
       "    \n",
       "            var marker_c4febd27433d42465ab8c5ba2b2f8982 = L.marker(\n",
       "                [30.6253463, -96.3271538],\n",
       "                {}\n",
       "            ).addTo(map_934602b9a569e2efb9c830ba02ef65f4);\n",
       "        \n",
       "    \n",
       "        var popup_775f7f2c2e648835c9b400df1d16a4ff = L.popup({&quot;maxWidth&quot;: &quot;100%&quot;});\n",
       "\n",
       "        \n",
       "            var html_d20f3d11f904c28a52108acc54be4aca = $(`&lt;div id=&quot;html_d20f3d11f904c28a52108acc54be4aca&quot; style=&quot;width: 100.0%; height: 100.0%;&quot;&gt;GigEm247: GigEm247 Podcast: Texas A&amp;amp;M football and recruiting mailbag.   https://t.co/c3RjTAK4ls https://t.co/msxQvuaf5B&lt;/div&gt;`)[0];\n",
       "            popup_775f7f2c2e648835c9b400df1d16a4ff.setContent(html_d20f3d11f904c28a52108acc54be4aca);\n",
       "        \n",
       "\n",
       "        marker_c4febd27433d42465ab8c5ba2b2f8982.bindPopup(popup_775f7f2c2e648835c9b400df1d16a4ff)\n",
       "        ;\n",
       "\n",
       "        \n",
       "    \n",
       "    \n",
       "            var marker_1bc867e6d213690117ed506458451783 = L.marker(\n",
       "                [51.5073219, -0.1276474],\n",
       "                {}\n",
       "            ).addTo(map_934602b9a569e2efb9c830ba02ef65f4);\n",
       "        \n",
       "    \n",
       "        var popup_7d0cc7da047faa6bd49b4d41f67174b1 = L.popup({&quot;maxWidth&quot;: &quot;100%&quot;});\n",
       "\n",
       "        \n",
       "            var html_71dc3f57f7af973b001fd0e98bcd769e = $(`&lt;div id=&quot;html_71dc3f57f7af973b001fd0e98bcd769e&quot; style=&quot;width: 100.0%; height: 100.0%;&quot;&gt;ozerthinking: Football&#x27;s coming home&lt;/div&gt;`)[0];\n",
       "            popup_7d0cc7da047faa6bd49b4d41f67174b1.setContent(html_71dc3f57f7af973b001fd0e98bcd769e);\n",
       "        \n",
       "\n",
       "        marker_1bc867e6d213690117ed506458451783.bindPopup(popup_7d0cc7da047faa6bd49b4d41f67174b1)\n",
       "        ;\n",
       "\n",
       "        \n",
       "    \n",
       "    \n",
       "            var marker_297ef48e1093fd0dc8634aeb0792317e = L.marker(\n",
       "                [9.6000359, 7.9999721],\n",
       "                {}\n",
       "            ).addTo(map_934602b9a569e2efb9c830ba02ef65f4);\n",
       "        \n",
       "    \n",
       "        var popup_ecd91b772821e720148a392aeb39de48 = L.popup({&quot;maxWidth&quot;: &quot;100%&quot;});\n",
       "\n",
       "        \n",
       "            var html_acef68b4fc83323bdd10891f9885ab84 = $(`&lt;div id=&quot;html_acef68b4fc83323bdd10891f9885ab84&quot; style=&quot;width: 100.0%; height: 100.0%;&quot;&gt;opeolu_wa: @Glued2C You&#x27;re mad and I&#x27;m here to tell you that, if you can’t handle football bants use the unfollow button dimwit!&lt;/div&gt;`)[0];\n",
       "            popup_ecd91b772821e720148a392aeb39de48.setContent(html_acef68b4fc83323bdd10891f9885ab84);\n",
       "        \n",
       "\n",
       "        marker_297ef48e1093fd0dc8634aeb0792317e.bindPopup(popup_ecd91b772821e720148a392aeb39de48)\n",
       "        ;\n",
       "\n",
       "        \n",
       "    \n",
       "    \n",
       "            var marker_7e7f59df886ab1a860211f2f6c7d7748 = L.marker(\n",
       "                [52.9534161, -1.1492773],\n",
       "                {}\n",
       "            ).addTo(map_934602b9a569e2efb9c830ba02ef65f4);\n",
       "        \n",
       "    \n",
       "        var popup_c4e1b53bd97b63857137503ac00226ed = L.popup({&quot;maxWidth&quot;: &quot;100%&quot;});\n",
       "\n",
       "        \n",
       "            var html_859fceab8753992c0976a8155c3bec27 = $(`&lt;div id=&quot;html_859fceab8753992c0976a8155c3bec27&quot; style=&quot;width: 100.0%; height: 100.0%;&quot;&gt;dannypea: Knowing nothing about women&#x27;s football I actually thought Norway had a sniff of beating England tonight 🤦🏻 Naughty performance!!! #EURO2022 ⚽&lt;/div&gt;`)[0];\n",
       "            popup_c4e1b53bd97b63857137503ac00226ed.setContent(html_859fceab8753992c0976a8155c3bec27);\n",
       "        \n",
       "\n",
       "        marker_7e7f59df886ab1a860211f2f6c7d7748.bindPopup(popup_c4e1b53bd97b63857137503ac00226ed)\n",
       "        ;\n",
       "\n",
       "        \n",
       "    \n",
       "    \n",
       "            var marker_ca04f47c89699c5c9b5ebd2019a2f22e = L.marker(\n",
       "                [52.7954791, -0.540240286617432],\n",
       "                {}\n",
       "            ).addTo(map_934602b9a569e2efb9c830ba02ef65f4);\n",
       "        \n",
       "    \n",
       "        var popup_62affdc59e67e2b19370d6f6579b6d04 = L.popup({&quot;maxWidth&quot;: &quot;100%&quot;});\n",
       "\n",
       "        \n",
       "            var html_caa3f03a2cdac0f03020c970c9cdb527 = $(`&lt;div id=&quot;html_caa3f03a2cdac0f03020c970c9cdb527&quot; style=&quot;width: 100.0%; height: 100.0%;&quot;&gt;KayeVentures: I&#x27;m convinced we need to have a white wash rule in football still&lt;/div&gt;`)[0];\n",
       "            popup_62affdc59e67e2b19370d6f6579b6d04.setContent(html_caa3f03a2cdac0f03020c970c9cdb527);\n",
       "        \n",
       "\n",
       "        marker_ca04f47c89699c5c9b5ebd2019a2f22e.bindPopup(popup_62affdc59e67e2b19370d6f6579b6d04)\n",
       "        ;\n",
       "\n",
       "        \n",
       "    \n",
       "    \n",
       "            var marker_5580649d5e4f7d6469fe0fd8fa722720 = L.marker(\n",
       "                [39.5162234, -76.9382069],\n",
       "                {}\n",
       "            ).addTo(map_934602b9a569e2efb9c830ba02ef65f4);\n",
       "        \n",
       "    \n",
       "        var popup_f48cfc4090ba0fc39e303b1650c61d45 = L.popup({&quot;maxWidth&quot;: &quot;100%&quot;});\n",
       "\n",
       "        \n",
       "            var html_320b3d61804c1043900aa343360bfe8a = $(`&lt;div id=&quot;html_320b3d61804c1043900aa343360bfe8a&quot; style=&quot;width: 100.0%; height: 100.0%;&quot;&gt;explodeyourself: Hot Take:  if the future of college football is going to be dominated by two “superconferences” composed of either blue-bloods or programs that happen to be in big tv markets, then a few of those teams have to go because they are neither.&lt;/div&gt;`)[0];\n",
       "            popup_f48cfc4090ba0fc39e303b1650c61d45.setContent(html_320b3d61804c1043900aa343360bfe8a);\n",
       "        \n",
       "\n",
       "        marker_5580649d5e4f7d6469fe0fd8fa722720.bindPopup(popup_f48cfc4090ba0fc39e303b1650c61d45)\n",
       "        ;\n",
       "\n",
       "        \n",
       "    \n",
       "    \n",
       "            var marker_b00d456f09d98206da1965510ccd5f1a = L.marker(\n",
       "                [36.8906589, -82.3776465],\n",
       "                {}\n",
       "            ).addTo(map_934602b9a569e2efb9c830ba02ef65f4);\n",
       "        \n",
       "    \n",
       "        var popup_440d71566c6d4a16290e7d67d87190fc = L.popup({&quot;maxWidth&quot;: &quot;100%&quot;});\n",
       "\n",
       "        \n",
       "            var html_659acdb12085dcc7656c0b72ff3e54ef = $(`&lt;div id=&quot;html_659acdb12085dcc7656c0b72ff3e54ef&quot; style=&quot;width: 100.0%; height: 100.0%;&quot;&gt;Rardeenus: It’s all well and good playing football, their husbands haven’t had their dinners!!! https://t.co/CRHgQ5FwHT&lt;/div&gt;`)[0];\n",
       "            popup_440d71566c6d4a16290e7d67d87190fc.setContent(html_659acdb12085dcc7656c0b72ff3e54ef);\n",
       "        \n",
       "\n",
       "        marker_b00d456f09d98206da1965510ccd5f1a.bindPopup(popup_440d71566c6d4a16290e7d67d87190fc)\n",
       "        ;\n",
       "\n",
       "        \n",
       "    \n",
       "    \n",
       "            var marker_0a8cc22389346cbd895d0005bf3ce809 = L.marker(\n",
       "                [52.34106825, -8.14501527662338],\n",
       "                {}\n",
       "            ).addTo(map_934602b9a569e2efb9c830ba02ef65f4);\n",
       "        \n",
       "    \n",
       "        var popup_4237d264910f98a4c137ea678ce97e16 = L.popup({&quot;maxWidth&quot;: &quot;100%&quot;});\n",
       "\n",
       "        \n",
       "            var html_46da990ec0c352673f72f4e7ae0c5cee = $(`&lt;div id=&quot;html_46da990ec0c352673f72f4e7ae0c5cee&quot; style=&quot;width: 100.0%; height: 100.0%;&quot;&gt;Fr_SheehysGAA: WedJuly 13 U19B Football KMD Gaels v Carrick Swan Newcastle at 7.30PM  Th July 14 U13C Hurling Fr Sheehy’s v Moyle Rovers  Clogheen at 7PM  U15B Hurling KMD Gaels v Skeheenarinky  Ballyporeen at 7PM  Fri July 15 Junior A Hurling  Fr Sheehy’s v Fethard In Goatenbridge at 7.30PM&lt;/div&gt;`)[0];\n",
       "            popup_4237d264910f98a4c137ea678ce97e16.setContent(html_46da990ec0c352673f72f4e7ae0c5cee);\n",
       "        \n",
       "\n",
       "        marker_0a8cc22389346cbd895d0005bf3ce809.bindPopup(popup_4237d264910f98a4c137ea678ce97e16)\n",
       "        ;\n",
       "\n",
       "        \n",
       "    \n",
       "    \n",
       "            var marker_44f71dcfc86cc59420658990a30a001d = L.marker(\n",
       "                [51.5073219, -0.1276474],\n",
       "                {}\n",
       "            ).addTo(map_934602b9a569e2efb9c830ba02ef65f4);\n",
       "        \n",
       "    \n",
       "        var popup_ecf8ea7394c714b28f71b2df2a712c67 = L.popup({&quot;maxWidth&quot;: &quot;100%&quot;});\n",
       "\n",
       "        \n",
       "            var html_f1ef3e7c50c3d430cf80717c6dae6190 = $(`&lt;div id=&quot;html_f1ef3e7c50c3d430cf80717c6dae6190&quot; style=&quot;width: 100.0%; height: 100.0%;&quot;&gt;ChesneyStalks: Maybe, just maybe our mens team FULL of talent should play attractive and attacking football just like our ladies? Over to you Gareth Southgate 🤔 #eng #ENGNOR @England @FA @EnglandFootball&lt;/div&gt;`)[0];\n",
       "            popup_ecf8ea7394c714b28f71b2df2a712c67.setContent(html_f1ef3e7c50c3d430cf80717c6dae6190);\n",
       "        \n",
       "\n",
       "        marker_44f71dcfc86cc59420658990a30a001d.bindPopup(popup_ecf8ea7394c714b28f71b2df2a712c67)\n",
       "        ;\n",
       "\n",
       "        \n",
       "    \n",
       "    \n",
       "            var marker_d8bc37d44ecb437dda33d98755a575f3 = L.marker(\n",
       "                [39.1014537, -84.5124602],\n",
       "                {}\n",
       "            ).addTo(map_934602b9a569e2efb9c830ba02ef65f4);\n",
       "        \n",
       "    \n",
       "        var popup_e489b662f01cc2f4c7982287841d08d3 = L.popup({&quot;maxWidth&quot;: &quot;100%&quot;});\n",
       "\n",
       "        \n",
       "            var html_e96671e15eec77effbcbc02cbbebf810 = $(`&lt;div id=&quot;html_e96671e15eec77effbcbc02cbbebf810&quot; style=&quot;width: 100.0%; height: 100.0%;&quot;&gt;WCPO: Lakota West football player Ben Minich in spotlight for athletics and academics https://t.co/0RNnan5OVu&lt;/div&gt;`)[0];\n",
       "            popup_e489b662f01cc2f4c7982287841d08d3.setContent(html_e96671e15eec77effbcbc02cbbebf810);\n",
       "        \n",
       "\n",
       "        marker_d8bc37d44ecb437dda33d98755a575f3.bindPopup(popup_e489b662f01cc2f4c7982287841d08d3)\n",
       "        ;\n",
       "\n",
       "        \n",
       "    \n",
       "    \n",
       "            var marker_f29307ae7c3e38eeeb87bd0f35764819 = L.marker(\n",
       "                [39.7837304, -100.4458825],\n",
       "                {}\n",
       "            ).addTo(map_934602b9a569e2efb9c830ba02ef65f4);\n",
       "        \n",
       "    \n",
       "        var popup_c05b76a46a8174fff0923736e64ed510 = L.popup({&quot;maxWidth&quot;: &quot;100%&quot;});\n",
       "\n",
       "        \n",
       "            var html_aff6cab4cdce7affee62a7a030d018fb = $(`&lt;div id=&quot;html_aff6cab4cdce7affee62a7a030d018fb&quot; style=&quot;width: 100.0%; height: 100.0%;&quot;&gt;StableGenius84: @OwnWorstEnemy25 @TheValuesVoter @AP Football helmets just incase an asteroid comes down to land on their head. Since you like dwelling on astronomically small numbers, we might as well plan for the worst - am I right?&lt;/div&gt;`)[0];\n",
       "            popup_c05b76a46a8174fff0923736e64ed510.setContent(html_aff6cab4cdce7affee62a7a030d018fb);\n",
       "        \n",
       "\n",
       "        marker_f29307ae7c3e38eeeb87bd0f35764819.bindPopup(popup_c05b76a46a8174fff0923736e64ed510)\n",
       "        ;\n",
       "\n",
       "        \n",
       "    \n",
       "    \n",
       "            var marker_fe944dd88d40936abb0b1c1d568b1ac4 = L.marker(\n",
       "                [27.7567667, -81.4639835],\n",
       "                {}\n",
       "            ).addTo(map_934602b9a569e2efb9c830ba02ef65f4);\n",
       "        \n",
       "    \n",
       "        var popup_d650f0ec36514407214ec666c66d224e = L.popup({&quot;maxWidth&quot;: &quot;100%&quot;});\n",
       "\n",
       "        \n",
       "            var html_9b52bce4694f3198b43bc0df218b5973 = $(`&lt;div id=&quot;html_9b52bce4694f3198b43bc0df218b5973&quot; style=&quot;width: 100.0%; height: 100.0%;&quot;&gt;GridironHelmets: Biggest News and Rumors in College Football.. LIVE SHOW!! https://t.co/NhFZ9bvUMd via @YouTube  @GoldandBlueDude . https://t.co/8OBDKh8fEU is enjoying this channel !!! two thumbs up. Check out https://t.co/XFGvR9aOUT and their youtube channel.&lt;/div&gt;`)[0];\n",
       "            popup_d650f0ec36514407214ec666c66d224e.setContent(html_9b52bce4694f3198b43bc0df218b5973);\n",
       "        \n",
       "\n",
       "        marker_fe944dd88d40936abb0b1c1d568b1ac4.bindPopup(popup_d650f0ec36514407214ec666c66d224e)\n",
       "        ;\n",
       "\n",
       "        \n",
       "    \n",
       "    \n",
       "            var marker_8169e9d8765bf88c119ce341dd128971 = L.marker(\n",
       "                [51.5073219, -0.1276474],\n",
       "                {}\n",
       "            ).addTo(map_934602b9a569e2efb9c830ba02ef65f4);\n",
       "        \n",
       "    \n",
       "        var popup_1e8b2499df76a0b3c2cdfe532d58fb2e = L.popup({&quot;maxWidth&quot;: &quot;100%&quot;});\n",
       "\n",
       "        \n",
       "            var html_93ce9c3fc6b1956cf43c0226c8aef976 = $(`&lt;div id=&quot;html_93ce9c3fc6b1956cf43c0226c8aef976&quot; style=&quot;width: 100.0%; height: 100.0%;&quot;&gt;Sabah_ChotuAFC: I always said players play better when they’ve also played abroad and around other international players. Women’s football has had the shackles off in the last few years, players from across the globe playing at each other’s clubs. Look at the quality in that England team now.&lt;/div&gt;`)[0];\n",
       "            popup_1e8b2499df76a0b3c2cdfe532d58fb2e.setContent(html_93ce9c3fc6b1956cf43c0226c8aef976);\n",
       "        \n",
       "\n",
       "        marker_8169e9d8765bf88c119ce341dd128971.bindPopup(popup_1e8b2499df76a0b3c2cdfe532d58fb2e)\n",
       "        ;\n",
       "\n",
       "        \n",
       "    \n",
       "    \n",
       "            var marker_72dfc0325f58d68d3a78f0c61db674e5 = L.marker(\n",
       "                [54.7023545, -3.2765753],\n",
       "                {}\n",
       "            ).addTo(map_934602b9a569e2efb9c830ba02ef65f4);\n",
       "        \n",
       "    \n",
       "        var popup_791019177a781a4e6f4a4ae7861552b2 = L.popup({&quot;maxWidth&quot;: &quot;100%&quot;});\n",
       "\n",
       "        \n",
       "            var html_969e26894b48730e28f3f9db25df20a2 = $(`&lt;div id=&quot;html_969e26894b48730e28f3f9db25df20a2&quot; style=&quot;width: 100.0%; height: 100.0%;&quot;&gt;mmhiggins7: @loumacarichippy @BBCSport @BBCOne @BBCiPlayer Shhhhhh. I’m still watching pub standard football&lt;/div&gt;`)[0];\n",
       "            popup_791019177a781a4e6f4a4ae7861552b2.setContent(html_969e26894b48730e28f3f9db25df20a2);\n",
       "        \n",
       "\n",
       "        marker_72dfc0325f58d68d3a78f0c61db674e5.bindPopup(popup_791019177a781a4e6f4a4ae7861552b2)\n",
       "        ;\n",
       "\n",
       "        \n",
       "    \n",
       "    \n",
       "            var marker_e732fc28e4e2b08c067e1260d7535cdc = L.marker(\n",
       "                [52.4081812, -1.510477],\n",
       "                {}\n",
       "            ).addTo(map_934602b9a569e2efb9c830ba02ef65f4);\n",
       "        \n",
       "    \n",
       "        var popup_ad1d7d1a7d2cd6bddbcd95d92e6e5906 = L.popup({&quot;maxWidth&quot;: &quot;100%&quot;});\n",
       "\n",
       "        \n",
       "            var html_d8df377e746253f71c92398c2fbabdc8 = $(`&lt;div id=&quot;html_d8df377e746253f71c92398c2fbabdc8&quot; style=&quot;width: 100.0%; height: 100.0%;&quot;&gt;simontodd89: But according to some 🦖🦖 people don’t watch Women’s football.&lt;/div&gt;`)[0];\n",
       "            popup_ad1d7d1a7d2cd6bddbcd95d92e6e5906.setContent(html_d8df377e746253f71c92398c2fbabdc8);\n",
       "        \n",
       "\n",
       "        marker_e732fc28e4e2b08c067e1260d7535cdc.bindPopup(popup_ad1d7d1a7d2cd6bddbcd95d92e6e5906)\n",
       "        ;\n",
       "\n",
       "        \n",
       "    \n",
       "&lt;/script&gt;\" style=\"position:absolute;width:100%;height:100%;left:0;top:0;border:none !important;\" allowfullscreen webkitallowfullscreen mozallowfullscreen></iframe></div></div>"
      ],
      "text/plain": [
       "<folium.folium.Map at 0x1adab1120>"
      ]
     },
     "execution_count": 58,
     "metadata": {},
     "output_type": "execute_result"
    }
   ],
   "source": [
    "usmap"
   ]
  },
  {
   "cell_type": "markdown",
   "metadata": {},
   "source": [
    "<!--\n",
    "#from IPython.display import IFrame\n",
    "#IFrame(src=\"./tweet_map.html\", width=800, height=450)\n",
    "-->"
   ]
  },
  {
   "cell_type": "markdown",
   "metadata": {},
   "source": [
    "<hr style=\"height:2px; border:none; color:#000; background-color:#000;\">"
   ]
  },
  {
   "cell_type": "markdown",
   "metadata": {},
   "source": [
    "## Utility Functions\n",
    "See the following for details: \n",
    "* [**Python Fundamentals LiveLessons video**](https://learning.oreilly.com/videos/python-fundamentals/9780135917411/9780135917411-PFLL_Lesson12_26) \n",
    "* [Sections 12.5.2-12.5.3 in **Python for Programmers**](https://learning.oreilly.com/library/view/python-for-programmers/9780135231364/ch12.xhtml#ch12lev2sec10)\n",
    "\n",
    "### `get_tweet_content` Utility Function (2 of 2)\n",
    "```python\n",
    "def get_tweet_content(tweet, location=False):\n",
    "    \"\"\"Return dictionary with data from tweet (a Status object).\"\"\"\n",
    "    fields = {}\n",
    "    fields['screen_name'] = tweet.user.screen_name\n",
    "\n",
    "    # get the tweet's text\n",
    "    try:  \n",
    "        fields['text'] = tweet.extended_tweet[\"full_text\"]\n",
    "    except: \n",
    "        fields['text'] = tweet.text\n",
    "\n",
    "    if location:\n",
    "        fields['location'] = tweet.user.location\n",
    "\n",
    "    return fields\n",
    "\n",
    "```"
   ]
  },
  {
   "cell_type": "markdown",
   "metadata": {},
   "source": [
    "<hr style=\"height:2px; border:none; color:#000; background-color:#000;\">"
   ]
  },
  {
   "cell_type": "markdown",
   "metadata": {},
   "source": [
    "### `get_geocodes` Utility Function (1 of 3)\n",
    "* Receives a **list of dictionaries** containing tweets and **geocodes their locations**\n",
    "* If **geocoding** is **successful** for a tweet, adds the **latitude** and **longitude** to the tweet’s **dictionary in `tweet_list`**\n",
    "* Requires class **`OpenMapQuest`** from the **geopy module**"
   ]
  },
  {
   "cell_type": "markdown",
   "metadata": {},
   "source": [
    "<hr style=\"height:2px; border:none; color:#000; background-color:#000;\">"
   ]
  },
  {
   "cell_type": "markdown",
   "metadata": {},
   "source": [
    "### `get_geocodes` Utility Function (2 of 3)\n",
    "```python\n",
    "from geopy import OpenMapQuest\n",
    "```\n",
    "\n",
    "```python\n",
    "def get_geocodes(tweet_list):\n",
    "    \"\"\"Get the latitude and longitude for each tweet's location.\n",
    "    Returns the number of tweets with invalid location data.\"\"\"\n",
    "    print('Getting coordinates for tweet locations...')\n",
    "    geo = OpenMapQuest(api_key=keys.mapquest_key)  # geocoder\n",
    "    bad_locations = 0  \n",
    "\n",
    "    for tweet in tweet_list:\n",
    "        processed = False\n",
    "        delay = .1  # used if OpenMapQuest times out to delay next call\n",
    "        while not processed:\n",
    "            try:  # get coordinates for tweet['location']\n",
    "                geo_location = geo.geocode(tweet['location'])\n",
    "                processed = True\n",
    "            except:  # timed out, so wait before trying again\n",
    "                print('OpenMapQuest service timed out. Waiting.')\n",
    "                time.sleep(delay)\n",
    "                delay += .1\n",
    "\n",
    "        if geo_location:  \n",
    "            tweet['latitude'] = geo_location.latitude\n",
    "            tweet['longitude'] = geo_location.longitude\n",
    "        else:  \n",
    "            bad_locations += 1  # tweet['location'] was invalid\n",
    "    \n",
    "    print('Done geocoding')\n",
    "    return bad_locations\n",
    "\n",
    "```"
   ]
  },
  {
   "cell_type": "markdown",
   "metadata": {},
   "source": [
    "<hr style=\"height:2px; border:none; color:#000; background-color:#000;\">"
   ]
  },
  {
   "cell_type": "markdown",
   "metadata": {},
   "source": [
    "## 12.15.3 Class `LocationListener`\n",
    "See the file `LocationListener.py` in this chapter's folder\n"
   ]
  },
  {
   "cell_type": "markdown",
   "metadata": {},
   "source": [
    "<hr style=\"height:2px; border:none; color:#000; background-color:#000;\">"
   ]
  },
  {
   "cell_type": "markdown",
   "metadata": {},
   "source": [
    "# More Info \n",
    "* See Lesson 12 in [**Python Fundamentals LiveLessons** here on O'Reilly Online Learning](https://learning.oreilly.com/videos/python-fundamentals/9780135917411)\n",
    "* See Chapter 12 in [**Python for Programmers** on O'Reilly Online Learning](https://learning.oreilly.com/library/view/python-for-programmers/9780135231364/)\n",
    "* See Chapter 13 in [**Intro Python for Computer Science and Data Science** on O'Reilly Online Learning](https://learning.oreilly.com/library/view/intro-to-python/9780135404799/)\n",
    "* Interested in a print book? Check out:\n",
    "\n",
    "| Python for Programmers<br>(640-page professional book) | Intro to Python for Computer<br>Science and Data Science<br>(880-page college textbook)\n",
    "| :------ | :------\n",
    "| <a href=\"https://amzn.to/2VvdnxE\"><img alt=\"Python for Programmers cover\" src=\"../images/PyFPCover.png\" width=\"150\" border=\"1\"/></a> | <a href=\"https://amzn.to/2LiDCmt\"><img alt=\"Intro to Python for Computer Science and Data Science: Learning to Program with AI, Big Data and the Cloud\" src=\"../images/IntroToPythonCover.png\" width=\"159\" border=\"1\"></a>\n",
    "\n",
    ">Please **do not** purchase both books&mdash;_Python for Programmers_ is a subset of _Intro to Python for Computer Science and Data Science_"
   ]
  },
  {
   "cell_type": "markdown",
   "metadata": {},
   "source": [
    "&copy; 2019 by Pearson Education, Inc. All Rights Reserved. The content in this notebook is based on the book [**Python for Programmers**](https://amzn.to/2VvdnxE)."
   ]
  }
 ],
 "metadata": {
  "kernelspec": {
   "display_name": "Python 3 (ipykernel)",
   "language": "python",
   "name": "python3"
  },
  "language_info": {
   "codemirror_mode": {
    "name": "ipython",
    "version": 3
   },
   "file_extension": ".py",
   "mimetype": "text/x-python",
   "name": "python",
   "nbconvert_exporter": "python",
   "pygments_lexer": "ipython3",
   "version": "3.10.5"
  }
 },
 "nbformat": 4,
 "nbformat_minor": 4
}

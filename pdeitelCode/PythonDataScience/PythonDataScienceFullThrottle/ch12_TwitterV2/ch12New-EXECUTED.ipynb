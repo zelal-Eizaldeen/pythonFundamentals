{
 "cells": [
  {
   "cell_type": "markdown",
   "metadata": {
    "jp-MarkdownHeadingCollapsed": true,
    "tags": []
   },
   "source": [
    "# 12. Data Mining Twitter\n",
    "> [Chapter 12, Data Mining Twitter (Updated for the Twitter v2 APIs)](https://deitel.com/wp-content/uploads/2022/09/python-for-programmers-chapter-12-data-mining-twitter-v2.pdf)"
   ]
  },
  {
   "cell_type": "markdown",
   "metadata": {
    "tags": []
   },
   "source": [
    "# Objectives\n",
    "* **Data-mine Twitter** with **Tweepy** library\n",
    "* Use various **Twitter v2** API methods\n",
    "* **Get information** about a specific Twitter account\n",
    "* **Search for past tweets** that meet your criteria\n",
    "* **Sample the stream of live tweets** as they’re happening\n",
    "* **Request additional metadata** in Twitter responses via the Twitter v2 API’s **expansions** and **fields**\n",
    "* **Clean and preprocess tweets** to prepare them for analysis\n",
    "* **Translate foreign language tweets** into English and to perform **sentiment analysis** on tweets\n",
    "* **Spot trends** with the Twitter v1.1 **Trends API**\n",
    "* **Map tweets** using **folium** and OpenStreetMap map tiles"
   ]
  },
  {
   "cell_type": "markdown",
   "metadata": {},
   "source": [
    "------"
   ]
  },
  {
   "cell_type": "markdown",
   "metadata": {},
   "source": [
    "# 12.1 Introduction \n",
    "* Popular **big-data source**  \n",
    "* **Data mining** &mdash; searching large collections of data for **insights**\n",
    "* **Sentiment** in tweets can help **make predictions**  \n",
    "    * **Stock prices**\n",
    "    * **Election results**\n",
    "    * Likely **revenues** for a **new movie**\n",
    "    * **Success** of a company’s **marketing campaign**\n",
    "* Spot **faults in competitors’ products** \n",
    "* Spot **trending topics**\n",
    "* **Connect to Twitter** with easy-to-use **Web services**"
   ]
  },
  {
   "cell_type": "markdown",
   "metadata": {},
   "source": [
    "### What Is Twitter?\n",
    "* Tweets\n",
    "    * Short messages\n",
    "    * Initially limited to **140 characters**\n",
    "    * Now limited to **280 characters**\n",
    "* Anyone can generally choose to follow anyone else"
   ]
  },
  {
   "cell_type": "markdown",
   "metadata": {},
   "source": [
    "### Twitter Statistics\n",
    "* [Hundreds of millions of tweets are sent every day with many thousands sent per second](http://www.internetlivestats.com/twitter-statistics/)\n",
    "* Can **tap into the live stream** of tweets\n",
    "    * Like **“drinking from a fire hose”** "
   ]
  },
  {
   "cell_type": "markdown",
   "metadata": {
    "tags": []
   },
   "source": [
    "### Twitter and Big Data \n",
    "* A **favorite big data source** for researchers and business people worldwide\n",
    "* **Free** access to a small portion of recent tweets\n",
    "* Can pay for access to much larger portions the all-time tweets database"
   ]
  },
  {
   "cell_type": "markdown",
   "metadata": {},
   "source": [
    "------"
   ]
  },
  {
   "cell_type": "markdown",
   "metadata": {},
   "source": [
    "# 12.2 Overview of the Twitter APIs \n",
    "* **Web services** are methods that you call in the **cloud**\n",
    "* Each method has a **web service endpoint** represented by a **URL**\n",
    "* **Caution**: Internet connections can be lost, services can change and some services are not available in all countries, so **apps can be brittle**\n",
    "* **API categories** we'll look at\n",
    "    * **Users API** — Access information about **Twitter user accounts**\n",
    "    * **Tweets API** — Search through **past tweets**, access **live tweet streams**\n",
    "    * **Trends API (Twitter v1.1)** — Find locations and lists of **trending topics**\n",
    "* **Additional Twitter API categories**  \n",
    ">https://developer.twitter.com/en/docs/api-reference-index"
   ]
  },
  {
   "cell_type": "markdown",
   "metadata": {},
   "source": [
    "### Rate Limits: A Word of Caution \n",
    "* Twitter expects developers to use its services responsibly\n",
    "* **Understand rate limits** before using any method\n",
    "    * Twitter may **block you** for repeated violations\n",
    "    * **Tweepy** can be configured to **wait when it encounters rate limits**\n",
    "* Some methods list both **user rate limits** and **app rate limits**\n",
    "    * We use **app rate limits** in the demos\n",
    "    * **User rate limits** are for apps that enable individuals to log into their Twitter accounts\n",
    "* [Details on rate limiting](https://developer.twitter.com/en/docs/basics/rate-limiting)\n",
    "* [Specific rate limits on individual API methods](https://developer.twitter.com/en/docs/basics/rate-limits) — also see each API method’s documentation. "
   ]
  },
  {
   "cell_type": "markdown",
   "metadata": {},
   "source": [
    "### Other Restrictions\n",
    "* **Follow Twitter’s rules/regulations** \n",
    "\t* Terms of service — https://twitter.com/tos"
   ]
  },
  {
   "cell_type": "markdown",
   "metadata": {},
   "source": [
    "------"
   ]
  },
  {
   "cell_type": "markdown",
   "metadata": {},
   "source": [
    "# 12.3 Creating a Twitter Account\n",
    "* [Apply for a developer account](https://developer.twitter.com/) to use the APIs\n",
    "* Every application is subject to approval"
   ]
  },
  {
   "cell_type": "markdown",
   "metadata": {},
   "source": [
    "### Twitter Developer Account Levels\n",
    "https://developer.twitter.com/en/products/twitter-api\n",
    "* Some Twitter v2 APIs are accessible only to Elevated-level and higher accounts. \n",
    "    * **Essentials** — “The best way to get started quickly, test, and build across all endpoints.”\n",
    "    * **Elevated** — “More access for solutions that are beginning to experience growth or who prefer to work with multiple App environments.”\n",
    "    * **Academic Research** — “Access to public data on nearly any topic to advance research objectives of Master’s students, doctoral candidates, post-docs, and faculty at an academic institution or university.”\n",
    "* Twitter documentation specifies the minimum account level and the rate-limit differences between levels, if any."
   ]
  },
  {
   "cell_type": "markdown",
   "metadata": {},
   "source": [
    "### Choosing a Developer Account Application Type\n",
    "* **Professional**, **Hobbyist**, and **Academic Research** use\n",
    "    * choose the type most appropriate for your use case\n",
    "    * For our examples, can choose **Hobbyist** then **Exploring the API**\n",
    "* If asked to apply for an **Elevated** application, click **Get started**, then:\n",
    "    1. On the **Basic info** tab, fill in the form with your information and click **Next**.\n",
    "    2. On the **Intended use** tab, describe how you intend to use the APIs. \n",
    "    3. Answer the other questions provided—For this chapter’s examples, you will not \n",
    "        * use the tweet, retweet, like, follow or direct message functionality\n",
    "        * will not display tweets or aggregate data about Twitter content outside of Twitter\n",
    "        * will not make Twitter content available to a government entity\n",
    "    4. Click **Next** to review your answers, then click **Next** again. \n",
    "    5. Carefully read and agree to Twitter’s **Developer agreement & policy**, then click **Submit** to complete the application. You will be asked to confirm your email address."
   ]
  },
  {
   "cell_type": "markdown",
   "metadata": {},
   "source": [
    "### Essentials Level Accounts and the Twitter v1.1 APIs\n",
    "* As of mid-2022, Twitter requires new developer accounts to use the Twitter v2 APIs\n",
    "* Twitter has not yet migrated some v1.1 APIs to v2"
   ]
  },
  {
   "cell_type": "markdown",
   "metadata": {},
   "source": [
    "------"
   ]
  },
  {
   "cell_type": "markdown",
   "metadata": {},
   "source": [
    "# 12.5 What’s in a Twitter API Response?\n",
    "* Twitter API methods return **JSON (JavaScript Object Notation)** objects\n",
    "* Text-based **data-interchange format** \n",
    "* Represents objects as **collections of name–value pairs** (like dictionaries)\n",
    "* Commonly used in web services\n",
    "* Human and computer readable"
   ]
  },
  {
   "cell_type": "markdown",
   "metadata": {},
   "source": [
    "# 12.5 What’s in a Twitter API Response? (cont.)\n",
    "* **JSON object format**:\n",
    "> ```\n",
    "> {propertyName1: value1, propertyName2: value2}\n",
    "> ```\n",
    "* **JSON array format (like Python list)**:\n",
    "> ```\n",
    "> [value1, value2, value3]\n",
    "> ```\n",
    "* **Tweepy handles the JSON for you** behind the scenes"
   ]
  },
  {
   "cell_type": "markdown",
   "metadata": {},
   "source": [
    "### Default Properties of a Tweet Object\n",
    "Twitter returns a JSON object that, by default, contains \n",
    "* the tweet’s unique ID number \n",
    "* its text (up to a maximum of 280 characters)"
   ]
  },
  {
   "cell_type": "markdown",
   "metadata": {},
   "source": [
    "### Twitter Metadata and the Twitter v1.1 APIs \n",
    "In Twitter v1.1 APIs, a tweet’s JSON object automatically included many additional metadata attributes that described aspects of the tweet, such as:\n",
    "* when it was created, \n",
    "* who created it, \n",
    "* lists of the hashtags, URLs, @-mentions and media (such as images and videos) included in the tweet,\n",
    "* and more. "
   ]
  },
  {
   "cell_type": "markdown",
   "metadata": {},
   "source": [
    "### Twitter v2 API Expansions and Fields \n",
    "* Now must use **fields** and **expansions** to request metadata your app requires\n",
    "* **Fields** are **additional metadata attributes** you’d like Twitter to return to your app\n",
    "* When you get a tweet, you might need \n",
    "    * the unique `author_id` attribute, indicating a tweet’s sender\n",
    "    * the tweet’s `created_at` attribute, indicating when the user sent the tweet was sent\n",
    "* Complete list of tweet fields, visit\n",
    "> https://developer.twitter.com/en/docs/twitter-api/data-dictionary/object-model/tweet"
   ]
  },
  {
   "cell_type": "markdown",
   "metadata": {},
   "source": [
    "### Twitter v2 API Expansions and Fields \n",
    "* Some **fields** are associated with **other metadata objects** with their own fields\n",
    "* Associated with a tweet’s **`author_id`** attribute is a **user JSON object** \n",
    "* Use an **Expansion** to request associated metadata objects\n",
    "* Each will contain its default attributes\n",
    "    * For a user object, these would be the user’s **unique id number**, **name** and **username**\n",
    "    * Can request more from the list of user fields \n",
    "    > https://developer.twitter.com/en/docs/twitter-api/data-dictionary/object-model/user\n",
    "* **Overview of all JSON objects** Twitter APIs return, and links to details\n",
    "> https://developer.twitter.com/en/docs/twitter-api/data-dictionary/introduction"
   ]
  },
  {
   "cell_type": "markdown",
   "metadata": {},
   "source": [
    "### Sample JSON for the NASA Account’s 10 Most Recent Tweets\n",
    "* Some of the JSON response to a request for recent tweets from `@NASA`\n",
    "\n",
    "```json\n",
    "{\n",
    "  \"data\": [\n",
    "    {\n",
    "      \"id\": \"1562156100136292352\",\n",
    "      \"text\": \"RT @NASAInSight: Thanks again for all the kind \n",
    "               thoughts you’ve been sending. There’s still \n",
    "               time to write me a note for the mission team to…\"\n",
    "    },\n",
    "    {\n",
    "      \"id\": \"1561886047331487744\",\n",
    "      \"text\": \"We see Martian dust devils (whirlwinds) from the \n",
    "              ground, as in this shot from the Opportunity rover\n",
    "              in 2016, left. From space, we can see the tracks \n",
    "              they leave behind, as in this view of dunes from \n",
    "              Mars Reconnaissance Orbiter in 2009, right. More: \n",
    "              https://t.co/kd1BNEDBUD https://t.co/RxeKTI5Fv5\"\n",
    "    },\n",
    "    ...\n",
    "  ],\n",
    "  \"meta\": {\n",
    "    \"result_count\": 10,\n",
    "    \"newest_id\": \"1562156100136292352\",\n",
    "    \"oldest_id\": \"1555635141728382976\",\n",
    "    \"next_token\": \"7140dibdnow9c7btw422nm76p6owdso7rqahg96mulyd2\"\n",
    "  }\n",
    "}\n",
    "```"
   ]
  },
  {
   "cell_type": "markdown",
   "metadata": {},
   "source": [
    "------"
   ]
  },
  {
   "cell_type": "markdown",
   "metadata": {},
   "source": [
    "# 12.6 Installing `tweepy`, `geopy`, `folium` and `deep-translator`"
   ]
  },
  {
   "cell_type": "markdown",
   "metadata": {},
   "source": [
    "<hr style=\"height:2px; border:none; color:#AAA; background-color:#AAA;\">"
   ]
  },
  {
   "cell_type": "markdown",
   "metadata": {},
   "source": [
    "### Installing Tweepy \n",
    "* [**Tweepy library**](http://www.tweepy.org/) — **one of the most popular Python Twitter clients**\n",
    "* Easy access to Twitter’s capabilities\n",
    "* [Tweepy’s documentation](https://docs.tweepy.org/en/stable/)\n",
    "> `pip install tweepy`\n",
    "* Windows users **should run the Anaconda Prompt as an Administrator**\n",
    "\n"
   ]
  },
  {
   "cell_type": "markdown",
   "metadata": {},
   "source": [
    "<hr style=\"height:2px; border:none; color:#AAA; background-color:#AAA;\">"
   ]
  },
  {
   "cell_type": "markdown",
   "metadata": {},
   "source": [
    "### Installing geopy \n",
    "* One function from our `tweetutilities.py` file (in the ch13 folder) depends on [**geopy**](https://github.com/geopy/geopy) (a geocoding library we'll use later to plot tweet locations on a map\n",
    ">`conda install -c conda-forge geopy`\n",
    "* Windows users **should run the Anaconda Prompt as an Administrator**\n"
   ]
  },
  {
   "cell_type": "markdown",
   "metadata": {},
   "source": [
    "<hr style=\"height:2px; border:none; color:#AAA; background-color:#AAA;\">"
   ]
  },
  {
   "cell_type": "markdown",
   "metadata": {
    "tags": []
   },
   "source": [
    "### OpenMapQuest Geocoding API\n",
    "* Section 12.15 uses the **OpenMapQuest Geocoding API** to convert locations, such as **Boston, MA**, into their latitudes and longitudes, such as **42.3602534** and **-71.0582912**, for plotting on maps\n",
    "* Currently allows **15,000 transactions per month** on their free tier\n",
    "* Sign up at \n",
    "> https://developer.mapquest.com/\n",
    "* Go to https://developer.mapquest.com/user/me/apps \n",
    "    * Click **Create a New Key**, fill in the **App Name** field with a name of your choosing, leave the **Callback URL** empty and click **Create App** to create an API key\n",
    "    * Click your app’s name to see your consumer key\n",
    "    * In the `keys.py` file, store the consumer key by replacing `YourKeyHere` in the line\n",
    "    > `mapquest_key = 'YourKeyHere'`"
   ]
  },
  {
   "cell_type": "markdown",
   "metadata": {},
   "source": [
    "<hr style=\"height:2px; border:none; color:#AAA; background-color:#AAA;\">"
   ]
  },
  {
   "cell_type": "markdown",
   "metadata": {},
   "source": [
    "### Folium Library and Leaflet.js JavaScript Mapping Library\n",
    "* Section 12.15 uses folium to create an interactive map\n",
    "> https://github.com/python-visualization/folium\n",
    "\n",
    "> `pip install folium`"
   ]
  },
  {
   "cell_type": "markdown",
   "metadata": {},
   "source": [
    "<hr style=\"height:2px; border:none; color:#AAA; background-color:#AAA;\">"
   ]
  },
  {
   "cell_type": "markdown",
   "metadata": {},
   "source": [
    "### Maps from OpenStreetMap.org\n",
    "* Leaflet.js uses open-source maps from `OpenStreetMap.org`. \n",
    "* Copyrighted by the OpenStreetMap.org contributors\n",
    "* www.openstreetmap.org/copyright \n",
    "* www.opendatacommons.org/licenses/odbl"
   ]
  },
  {
   "cell_type": "markdown",
   "metadata": {},
   "source": [
    "<hr style=\"height:2px; border:none; color:#AAA; background-color:#AAA;\">"
   ]
  },
  {
   "cell_type": "markdown",
   "metadata": {},
   "source": [
    "### deep-translator Library\n",
    "Supports several translation services\n",
    "> `pip install -U deep_translator`"
   ]
  },
  {
   "cell_type": "markdown",
   "metadata": {},
   "source": [
    "------"
   ]
  },
  {
   "cell_type": "markdown",
   "metadata": {},
   "source": [
    "# 12.7 Authenticating with Twitter Via Tweepy to Access Twitter v2 APIs\n",
    "* A **Tweepy `Client` object** is your gateway to using the Twitter v2 APIs\n",
    "* Must first **authenticate with Twitter**"
   ]
  },
  {
   "cell_type": "code",
   "execution_count": 1,
   "metadata": {},
   "outputs": [],
   "source": [
    "import tweepy"
   ]
  },
  {
   "cell_type": "code",
   "execution_count": 2,
   "metadata": {},
   "outputs": [],
   "source": [
    "# before executing this cell, ensure that your copy of keys.py \n",
    "# contains your Twitter credentials as described earlier\n",
    "import keys  "
   ]
  },
  {
   "cell_type": "markdown",
   "metadata": {},
   "source": [
    "<hr style=\"height:2px; border:none; color:#AAA; background-color:#AAA;\">"
   ]
  },
  {
   "cell_type": "markdown",
   "metadata": {},
   "source": [
    "### Creating a `Client` Object"
   ]
  },
  {
   "cell_type": "markdown",
   "metadata": {},
   "source": [
    "* To use the Twitter v2 APIs, **create a `Client` object**"
   ]
  },
  {
   "cell_type": "code",
   "execution_count": 3,
   "metadata": {},
   "outputs": [],
   "source": [
    "client = tweepy.Client(bearer_token=keys.bearer_token,\n",
    "                       wait_on_rate_limit=True)"
   ]
  },
  {
   "cell_type": "markdown",
   "metadata": {},
   "source": [
    "* `bearer_token` is your bearer token \n",
    "* `wait_on_rate_limit=True` lets Tweepy **manage rate limits** for you\n",
    "    * For most Twitter APIs, the rate-limit interval is 15 minutes"
   ]
  },
  {
   "cell_type": "markdown",
   "metadata": {},
   "source": [
    "<hr style=\"height:2px; border:none; color:#AAA; background-color:#AAA;\">"
   ]
  },
  {
   "cell_type": "markdown",
   "metadata": {},
   "source": [
    "# 12.8 Getting Information About a Twitter Account\n",
    "* `Client` object’s `get_user` method gets a `tweepy.Response` object containing information about a `@NASA`’s Twitter account"
   ]
  },
  {
   "cell_type": "code",
   "execution_count": 4,
   "metadata": {},
   "outputs": [],
   "source": [
    "nasa = client.get_user(username='NASA',\n",
    "    user_fields=['description', 'public_metrics'])"
   ]
  },
  {
   "cell_type": "markdown",
   "metadata": {},
   "source": [
    "* `get_user` with the `username` keyword argument calls Twitter API method \n",
    "> `/2/users/by/username/:username`\n",
    "* Returns JSON data that Tweepy converts into a **`tweepy.Response`** \n",
    "    * Contains account’s **ID number**, **name** and **user name** by default\n",
    "* Can request additional fields via the **`user_fields`** keyword argument\n",
    "    * We requested the account’s **`description`** and **`public_metrics`**\n",
    "* Complete **list of user fields**\n",
    "> https://developer.twitter.com/en/docs/twitter-api/data-dictionary/object-model/user\n",
    "* **Rate limit** for `/2/users/by/username/:username`\n",
    "    * Can call up to 900 times every 15 minutes "
   ]
  },
  {
   "cell_type": "markdown",
   "metadata": {},
   "source": [
    "<hr style=\"height:2px; border:none; color:#AAA; background-color:#AAA;\">"
   ]
  },
  {
   "cell_type": "markdown",
   "metadata": {
    "tags": []
   },
   "source": [
    "### `tweepy.Response` Object\n",
    "* Contains four fields:\n",
    "    * **`data`** — contains the data returned by Twitter, including any additional fields you request  \n",
    "    * **`includes`** — contains related objects specified via the method’s `expansions` parameter \n",
    "    * **`errors`** — information about any errors that occurred\n",
    "    * **`meta`** — method-specific information that can be useful in processing the response"
   ]
  },
  {
   "cell_type": "markdown",
   "metadata": {},
   "source": [
    "<hr style=\"height:2px; border:none; color:#AAA; background-color:#AAA;\">"
   ]
  },
  {
   "cell_type": "markdown",
   "metadata": {},
   "source": [
    "### Getting a User’s Basic Account Information\n",
    "* For a **user JSON object**, `Response`’s `data` attribute is a **named tuple** containing default fields\n",
    "    * `id` is the account’s unique ID number.\n",
    "    * `name` is the name associated with the user’s account.\n",
    "    * `username` is the user’s Twitter handle (`@NASA`) \n",
    "* Additional `user_fields` `description` and `public_metrics` (discussed momentarily) also are in the `Response` object’s `data` attribute"
   ]
  },
  {
   "cell_type": "code",
   "execution_count": 5,
   "metadata": {},
   "outputs": [
    {
     "data": {
      "text/plain": [
       "11348282"
      ]
     },
     "execution_count": 5,
     "metadata": {},
     "output_type": "execute_result"
    }
   ],
   "source": [
    "nasa.data.id"
   ]
  },
  {
   "cell_type": "code",
   "execution_count": 6,
   "metadata": {},
   "outputs": [
    {
     "data": {
      "text/plain": [
       "'NASA'"
      ]
     },
     "execution_count": 6,
     "metadata": {},
     "output_type": "execute_result"
    }
   ],
   "source": [
    "nasa.data.name"
   ]
  },
  {
   "cell_type": "code",
   "execution_count": 7,
   "metadata": {},
   "outputs": [
    {
     "data": {
      "text/plain": [
       "'NASA'"
      ]
     },
     "execution_count": 7,
     "metadata": {},
     "output_type": "execute_result"
    }
   ],
   "source": [
    "nasa.data.username"
   ]
  },
  {
   "cell_type": "code",
   "execution_count": 8,
   "metadata": {},
   "outputs": [
    {
     "data": {
      "text/plain": [
       "\"There's space for everybody. ✨\""
      ]
     },
     "execution_count": 8,
     "metadata": {},
     "output_type": "execute_result"
    }
   ],
   "source": [
    "nasa.data.description"
   ]
  },
  {
   "cell_type": "markdown",
   "metadata": {},
   "source": [
    "<hr style=\"height:2px; border:none; color:#AAA; background-color:#AAA;\">"
   ]
  },
  {
   "cell_type": "markdown",
   "metadata": {},
   "source": [
    "### Getting the Number of Accounts That Follow This Account and the Number of Accounts This Account Follows\n",
    "* **`public_metrics`** are returned as a dictionary with keys\n",
    "    * **`'followers_count'`** — number of users who follow this account, \n",
    "    * **`'following_count'`** — number of users that this account follows, \n",
    "    * **`'tweet_count'`** — total number of tweets (and retweets) sent by this user\n",
    "    * **`'listed_count'`** — total number of Twitter lists that include this user"
   ]
  },
  {
   "cell_type": "code",
   "execution_count": 9,
   "metadata": {},
   "outputs": [
    {
     "data": {
      "text/plain": [
       "71698219"
      ]
     },
     "execution_count": 9,
     "metadata": {},
     "output_type": "execute_result"
    }
   ],
   "source": [
    "nasa.data.public_metrics['followers_count']"
   ]
  },
  {
   "cell_type": "code",
   "execution_count": 10,
   "metadata": {},
   "outputs": [
    {
     "data": {
      "text/plain": [
       "178"
      ]
     },
     "execution_count": 10,
     "metadata": {},
     "output_type": "execute_result"
    }
   ],
   "source": [
    "nasa.data.public_metrics['following_count']"
   ]
  },
  {
   "cell_type": "markdown",
   "metadata": {},
   "source": [
    "<hr style=\"height:2px; border:none; color:#AAA; background-color:#AAA;\">"
   ]
  },
  {
   "cell_type": "markdown",
   "metadata": {},
   "source": [
    "### Getting Your Own Account’s Information\n",
    "* Get via `Client` object’s `get_me` method\n",
    "> `me = client.get_me()`\n",
    "* Returns a **User object** for the account you used to authenticate with Twitter"
   ]
  },
  {
   "cell_type": "markdown",
   "metadata": {
    "tags": []
   },
   "source": [
    "# 12.9 Intro to Tweepy `Paginator`s: Getting More than One Page of Results \n",
    "* Twitter API methods often **return collections of objects**\n",
    "    * tweets sent by a particular user\n",
    "    * tweets matching specified search criteria \n",
    "    * tweets in a user’s timeline (tweets sent by a user and by other accounts that user follows)\n",
    "* Each Twitter API can return a maximum number of items per call\n",
    "    * known as a **page of results**\n",
    "* Tweepy **`Paginator`** handles paging details\n",
    "* Invokes a specified `Client` method and checks whether there is another page of results\n",
    "    * If so, the `Paginator` automatically calls the method again to get next page\n",
    "    * Continues (subject to the method’s rate limits) until there are no more results to process"
   ]
  },
  {
   "cell_type": "markdown",
   "metadata": {},
   "source": [
    "<hr style=\"height:2px; border:none; color:#AAA; background-color:#AAA;\">"
   ]
  },
  {
   "cell_type": "markdown",
   "metadata": {},
   "source": [
    "## 12.9.1 Determining an Account’s Followers  \n",
    "* Use a `Paginator` to invoke the `Client` object’s `get_users_followers` method\n",
    "* Calls the Twitter API’s method\n",
    "> `/2/users/:id/followers`\n",
    "* Returns followers in groups of 100 by default\n",
    "* Can request up to 1000 at a time\n",
    "* We’ll grab 10 of NASA’s followers, five at a time, so we receive two pages of results\n",
    "* Create a list to store the followers’ Twitter user names"
   ]
  },
  {
   "cell_type": "code",
   "execution_count": 11,
   "metadata": {},
   "outputs": [],
   "source": [
    "followers = []"
   ]
  },
  {
   "cell_type": "markdown",
   "metadata": {},
   "source": [
    "### Creating a `Paginator`\n",
    "* `Paginator` to call `get_users_followers` for NASA’s account  "
   ]
  },
  {
   "cell_type": "code",
   "execution_count": 12,
   "metadata": {},
   "outputs": [],
   "source": [
    "paginator = tweepy.Paginator(\n",
    "   client.get_users_followers, nasa.data.id, max_results=5)"
   ]
  },
  {
   "cell_type": "markdown",
   "metadata": {},
   "source": [
    "* arguments are the method to call and any arguments that should be passed to that method\n",
    "    * `client.get_users_followers` indicates that the `Paginator` will call the `client` object’s `get_users_followers` method, \n",
    "    * `nasa.data.id` — ID number (obtained in Section 12.8) of the NASA Twitter account for which we’ll get followers, and \n",
    "    * `max_results=5` — results per page."
   ]
  },
  {
   "cell_type": "markdown",
   "metadata": {},
   "source": [
    "### Getting Results\n",
    "* Use the `Paginator` to get some followers\n",
    "    * `paginator.flatten(10)` initiates the call to `client.get_users_followers`\n",
    "    * `10` indicates number of results to obtain"
   ]
  },
  {
   "cell_type": "code",
   "execution_count": 13,
   "metadata": {},
   "outputs": [],
   "source": [
    "for follower in paginator.flatten(limit=10):\n",
    "    followers.append(follower.username)"
   ]
  },
  {
   "cell_type": "code",
   "execution_count": 14,
   "metadata": {},
   "outputs": [
    {
     "name": "stdout",
     "output_type": "stream",
     "text": [
      "Followers: anishani1168136 AygulTehli19217 Bones08823 fckwildone InvictusSweden JimBourg1 kap4435 kingnibs_ MalaPrincesss PanesitoSu56935\n"
     ]
    }
   ],
   "source": [
    "print('Followers:', \n",
    "    ' '.join(sorted(followers, key=lambda s: s.lower())))"
   ]
  },
  {
   "cell_type": "markdown",
   "metadata": {},
   "source": [
    "### Automatic Paging\n",
    "* `flatten` automatically “pages” through the results by making multiple calls to `client.get_users_followers` as necessary\n",
    "* `flatten` makes multiple pages appear to be a sequence of results\n",
    "* If you do not specify an argument to `flatten`, the `Paginator` attempts to get all of the account’s followers\n",
    "    * This could take significant time due to Twitter’s rate limits \n",
    "    * `/2/users/:id/followers` can return a maximum of 1000 followers at a time, and Twitter allows up to 15 calls every 15 minutes\n",
    "    * 15,000 followers every 15 minutes using Twitter’s free APIs\n",
    "    * At 60,000 followers per hour, it would take over 40 days to get all of NASA’s followers"
   ]
  },
  {
   "cell_type": "markdown",
   "metadata": {
    "tags": []
   },
   "source": [
    "<hr style=\"height:2px; border:none; color:#AAA; background-color:#AAA;\">"
   ]
  },
  {
   "cell_type": "markdown",
   "metadata": {
    "tags": []
   },
   "source": [
    "## 12.9.2 Determining Whom an Account Follows \n",
    "* `Client` object’s `get_users_following` method calls the Twitter API’s \n",
    "`/2/users/:id/following` method to get a list of Twitter users an account follows\n",
    "* Returns groups of 100 by default, but you can request up to 1000 at a time\n",
    "* Can call this method up to 15 times every 15 minutes\n",
    "* Get 10 accounts that NASA follows:"
   ]
  },
  {
   "cell_type": "code",
   "execution_count": 15,
   "metadata": {
    "tags": []
   },
   "outputs": [
    {
     "name": "stdout",
     "output_type": "stream",
     "text": [
      "Following: Astro_AndreD astro_anil Astro_Ayers astro_berrios Astro_ChrisW astro_deniz astro_watkins librarycongress NASASolarSystem NASASpaceSci\n"
     ]
    }
   ],
   "source": [
    "following = []\n",
    "\n",
    "paginator = tweepy.Paginator(\n",
    "    client.get_users_following, nasa.data.id, max_results=5)\n",
    "\n",
    "for user_followed in paginator.flatten(limit=10):\n",
    "    following.append(user_followed.username)\n",
    "\n",
    "print('Following:', \n",
    "      ' '.join(sorted(following, key=lambda s: s.lower())))"
   ]
  },
  {
   "cell_type": "markdown",
   "metadata": {},
   "source": [
    "<hr style=\"height:2px; border:none; color:#AAA; background-color:#AAA;\">"
   ]
  },
  {
   "cell_type": "markdown",
   "metadata": {
    "tags": []
   },
   "source": [
    "## 12.9.3 Getting a User’s Recent Tweets \n",
    "* `Client` method `get_users_tweets` returns a `tweepy.Response` containing tweets from a specified user\n",
    "* Calls the Twitter API’s `/2/users/:id/tweets` method\n",
    "* Returns the most recent 10 tweets but can between 5 and 100 at a time\n",
    "* Can return only an account’s 3200 most recent tweets\n",
    "* May call this method up to 1500 times every 15 minutes "
   ]
  },
  {
   "cell_type": "markdown",
   "metadata": {
    "tags": []
   },
   "source": [
    "## 12.9.3 Getting a User’s Recent Tweets (cont.) \n",
    "* The `data` attribute of the `tweepy.Response` contains a list of the returned tweets\n",
    "    * Each object in that list has a dictionary `data` attribute containing the keys `'id'` and `'text'` for each tweet’s unique ID and its text\n",
    "* Display five tweets from the `@NASA` account using its ID number that we obtained previously: "
   ]
  },
  {
   "cell_type": "code",
   "execution_count": 16,
   "metadata": {
    "tags": []
   },
   "outputs": [
    {
     "name": "stdout",
     "output_type": "stream",
     "text": [
      "NASA: Looking to do some stargazing? We’ve put together a handy guide with tips to help you find the best times and locations for enjoying the night sky: https://t.co/S0HWQqi2G6 https://t.co/MEibyzoCbQ\n",
      "\n",
      "NASA: Our #Crew5 mission returned from the @Space_Station, @POTUS announced our proposed budget for the 2024 fiscal year, and the prototype spacesuit for our return to the lunar surface was revealed—This Week at NASA. \n",
      "\n",
      "Subscribe for weekly updates at https://t.co/MGGi7zOQWF https://t.co/VmhLzS9iee\n",
      "\n",
      "NASA: RT @NASAHubble: This newly released Hubble image shows M55 – a loosely concentrated globular star cluster about 20,000 light-years away.…\n",
      "\n",
      "NASA: \"People need to realize not to make assumptions. Be open and curious about the abilities of everybody.\"\n",
      " \n",
      "Dana Bolles is an External Information Technology Lead at NASA Headquarters. Discover how her community shapes her life, professionally and personally https://t.co/k2Ct6U4yj1 https://t.co/nuaHChhTRZ\n",
      "\n",
      "NASA: When Irish skies are smiling...\n",
      "\n",
      "This cloud-free view of Ireland, the Emerald Isle, was captured from space by our Aqua satellite back in 2010. Happy #StPatricksDay! https://t.co/O37USEp9Yg\n",
      "\n"
     ]
    }
   ],
   "source": [
    "nasa_tweets = client.get_users_tweets(\n",
    "     id=nasa.data.id, max_results=5)\n",
    "\n",
    "for tweet in nasa_tweets.data:\n",
    "    print(f\"NASA: {tweet.data['text']}\\n\")"
   ]
  },
  {
   "cell_type": "markdown",
   "metadata": {},
   "source": [
    "<hr style=\"height:2px; border:none; color:#AAA; background-color:#AAA;\">"
   ]
  },
  {
   "cell_type": "markdown",
   "metadata": {
    "tags": []
   },
   "source": [
    "## 12.9.3 Getting a User’s Recent Tweets (cont.)\n",
    "* We called the `get_users_tweets` method directly and used the keyword argument `max_results` to specify the number of tweets to retrieve\n",
    "* For more than the maximum number of tweets per call (100), use a `Paginator` to call `get_users_tweets` "
   ]
  },
  {
   "cell_type": "markdown",
   "metadata": {},
   "source": [
    "<hr style=\"height:2px; border:none; color:#AAA; background-color:#AAA;\">"
   ]
  },
  {
   "cell_type": "markdown",
   "metadata": {},
   "source": [
    "### Grabbing Recent Tweets from Your Own Timeline\n",
    "* `Client` method `get_home_timeline` gets tweets from your home timeline\n",
    "    * your tweets and retweets, as well as tweets and retweets from the Twitter users you follow\n",
    "> `client.get_home_timeline()`\n",
    "* Calls Twitter’s `/2/users/:id/timelines/reverse_chronological` method \n",
    "* Returns up to 100 tweets by default"
   ]
  },
  {
   "cell_type": "markdown",
   "metadata": {
    "tags": []
   },
   "source": [
    "# 12.10 Searching Recent Tweets; Intro to Twitter v2 API Search Operators \n",
    "* `Client` method `search_recent_tweets` \n",
    "    * Returns tweets from the last seven days that match a query string you provide\n",
    "    * Calls Twitter method `/2/tweets/search/recent`, \n",
    "    * **Returns a minimum of 10 tweets** at a time (the default) but **can return up to 100** (specified with keyword argument **`max_results`**)\n",
    "    * It’s possible that fewer than 10 tweets will match the specified query string."
   ]
  },
  {
   "cell_type": "markdown",
   "metadata": {},
   "source": [
    "### Utility Function `print_tweets` from `tweetutilities.py`\n",
    "* Receives the results of a call to API method `search` and for each tweet displays the user’s `screen_name` and the tweet’s `text`. \n",
    "* If the tweet is not in English and the `tweet.lang` is not `'und'` (undefined), we’ll also translate the tweet to English  "
   ]
  },
  {
   "cell_type": "code",
   "execution_count": 17,
   "metadata": {},
   "outputs": [],
   "source": [
    "from tweetutilities import print_tweets"
   ]
  },
  {
   "cell_type": "markdown",
   "metadata": {},
   "source": [
    "```python\n",
    "def print_tweets(tweets):\n",
    "    # translator to autodetect source language and return English\n",
    "    translator = GoogleTranslator(source='auto', target='en')\n",
    "\n",
    "    \"\"\"For each tweet in tweets, display the username of the sender\n",
    "    and tweet text. If the language is not English, translate the text \n",
    "    with the deep-translator library's GoogleTranslator.\"\"\"\n",
    "    for tweet, user in zip(tweets.data, tweets.includes['users']):\n",
    "        print(f'{user.username}:', end=' ')\n",
    "\n",
    "        if 'en' in tweet.lang:\n",
    "            print(f'{tweet.text}\\n')\n",
    "        elif 'und' not in tweet.lang: # translate to English first\n",
    "            print(f'\\n  ORIGINAL: {tweet.text}')\n",
    "            print(f'TRANSLATED: {translator.translate(tweet.text)}\\n')\n",
    "```"
   ]
  },
  {
   "cell_type": "markdown",
   "metadata": {},
   "source": [
    "### Searching for Specific Words\n",
    "* Call `Client` object’s `search_recent_tweets` method to search for 10 recent tweets about the Webb Space Telescope\n",
    "* Returns a `Response` object in which the data attribute contains a list of matching tweets"
   ]
  },
  {
   "cell_type": "code",
   "execution_count": 18,
   "metadata": {},
   "outputs": [],
   "source": [
    "tweets = client.search_recent_tweets(\n",
    "    query='Webb Space Telescope -is:retweet', \n",
    "    expansions=['author_id'], tweet_fields=['lang']) "
   ]
  },
  {
   "cell_type": "markdown",
   "metadata": {},
   "source": [
    "* `query` keyword argument specifies the query string containing your search criteria\n",
    "* Twitter returns only each tweet’s unique ID and text by default\n",
    "* `'lang'` is an additional field you may request via the `tweet_fields` parameter\n",
    "* **Complete list of tweet fields**\n",
    "> https://developer.twitter.com/en/docs/twitter-api/data-dictionary/object-model/tweet\n",
    "* The **expansion `'author_id'`** indicates that for each tweet, Twitter also should return the **user JSON object for the user who sent the tweet**—`id`, `name` and `username` by default\n",
    "* Tweepy places the **expansion objects** in the **`Response`’s `includes` dictionary attribute**\n",
    "    * For the `'author_id'` expansion, a **list of tweet authors** is stored with the key **`'users'`**\n",
    "    * **Each tweet has a corresponding user in this list**\n",
    "    * The following expression in line 8 of `print_tweets` creates tuples in which the first element represents a tweet and the second element represents the user object for the sender\n",
    "    > `zip(tweets.data, tweets.includes['users'])`"
   ]
  },
  {
   "cell_type": "markdown",
   "metadata": {},
   "source": [
    "* Display the tweets "
   ]
  },
  {
   "cell_type": "code",
   "execution_count": 19,
   "metadata": {},
   "outputs": [
    {
     "name": "stdout",
     "output_type": "stream",
     "text": [
      "avbenefits: https://t.co/TEyBIHbjih Photo: NASA's Webb Telescope spots rare star about to go supernova - Business Insider https://t.co/tYbB2cC2Y1\n",
      "\n",
      "drhafezster: This image from the James Webb Space Telescope shows IC 5332, a spiral galaxy, in unprecedented detail.\n",
      "\n",
      "IC 5332 lies over 29 million light-years from Earth, and has a diameter of roughly 66 000 light-years, making it about a third smaller than the Milky Way. ⬇️ https://t.co/ldZHS9FcUa\n",
      "\n",
      "hardknoxfirst: James Webb Space Telescope captures the beauty of a rare, violent phenomena https://t.co/OozlrVVvTG\n",
      "\n",
      "QLDriver: @SwiftOnSecurity I enjoy the fact that Ball corporation make drinks containers and instruments for the James Webb Space Telescope. https://t.co/HDX3PAB4M9\n",
      "\n",
      "worldzalexie: NASA James Webb Space Telescope Tracking Jupiter Planet With Never Seen Details\n",
      "https://t.co/LVqwUk5KRs https://t.co/CzrQdcc91c\n",
      "\n",
      "mountainmama50: James Webb Space Telescope spots huge star about to go supernova (video, photos) https://t.co/vrjyPPiFUP\n",
      "\n",
      "felixssoto: The James Webb Space Telescope discovers enormous distant galaxies that should not exist https://t.co/SRM6kMHzOX\n",
      "\n",
      "Tarunn_b: NASA/JPL-Caltech/STScI/CXC/SAO This pre-supernova stage of a star's life is called Wolf-Rayet. https://t.co/1LGt6U90bk via @biuk_tech\n",
      "\n",
      "yuetsu: James Webb Space Telescope spots galaxy from early universe rich in star formation\n",
      "https://t.co/EVqjZnkKs7\n",
      "/cc @TWIScience @drkiki @blairsmenagerie @Jacksonfly\n",
      "\n",
      "CharlenemeYoung: \n",
      "  ORIGINAL: https://t.co/LXbbjKOunW\n",
      "TRANSLATED: https://t.co/LXbbjKOunW\n",
      "\n"
     ]
    }
   ],
   "source": [
    "print_tweets(tweets)"
   ]
  },
  {
   "cell_type": "markdown",
   "metadata": {},
   "source": [
    "### Searching with Twitter v2 API Search Operators\n",
    "* Can use **Twitter search operators** in query strings to refine search results\n",
    "* **Max query-string length** is limited by your developer account type:\n",
    "    * For **Essentials** and **Elevated** accounts: up to **512 characters**\n",
    "    * For **Academic Research** accounts: up to **1024 characters**\n",
    "* Some operators are available only for Elevated accounts or higher\n",
    "* The Twitter v2 operators are categorized as **standalone** or **conjunction-required**\n",
    "    * **Standalone operators** can be used alone or combined with other operators in a query string\n",
    "    * **Conjunction-required operators** must be combined with at least one standalone operator in a query string\n",
    "* The following table shows several Twitter search operators, as well as logical AND, logical OR and logical negation capabilities\n",
    "    * parentheses can be used to group query-string subexpressions\n",
    "    * matching is performed using case-insensitive searching"
   ]
  },
  {
   "cell_type": "markdown",
   "metadata": {},
   "source": [
    "| Example&nbsp;&nbsp;&nbsp;&nbsp;&nbsp;&nbsp;&nbsp;&nbsp;&nbsp;&nbsp;&nbsp;&nbsp;&nbsp;&nbsp;&nbsp;&nbsp;&nbsp;&nbsp;&nbsp;&nbsp;&nbsp;&nbsp;&nbsp;&nbsp;&nbsp;&nbsp;&nbsp;&nbsp;&nbsp;&nbsp;&nbsp;&nbsp;&nbsp;&nbsp;&nbsp;&nbsp;&nbsp;&nbsp; | Finds tweets containing |\n",
    "| --- | --- |\n",
    "| `python twitter` | Finds tweets containing `python` AND `twitter`. Spaces between query string terms and operators are implicitly treated as logical AND operations. In this query string, `python` and `twitter` are terms to search for—these are considered **standalone operators**.\n",
    "| `python OR twitter` \t| Finds tweets containing `python` `OR` `twitter` `OR` both. The logical `OR` operator is case-sensitive.\n",
    "| `planets -mars` \t| `-` (minus sign)—Finds tweets containing `planets` but not `mars`. The minus is the logical NOT operator and can be applied to any operator.\n",
    "| An emoji | Use emojis as standalone operators to find tweets containing those emojis. \n",
    "| `has:hashtags`, `has:links`, `has:mentions`, `has:media`, … | You can combine these **conjunction-required operators** with standalone operators to find tweets containing hashtags, links, mentions of other users, media and more. \n",
    "| `is:retweet`, `is:reply`, `is:verified`, … | You can combine these **conjunction-required operators** with standalone operators to determine whether a tweet is a retweet, a tweet is a reply, the sender is a verified Twitter account and more. \n",
    "| `place:\"New York City\"` | Finds tweets that were sent near `\"New York City\"`. Multiword places should be quoted as shown here. \n",
    "| `from:NASA` \t| Finds tweets from the account `@NASA`.\n",
    "| `to:NASA` \t| Finds tweets to the account `@NASA`. You also may use `to:id`, where `id` is the unique ID number of the user account."
   ]
  },
  {
   "cell_type": "markdown",
   "metadata": {},
   "source": [
    "### Operator Documentation and Tutorial\n",
    "* All operators with examples of each  \n",
    "> https://developer.twitter.com/en/docs/twitter-api/tweets/search/integrate/build-a-query\n",
    "* Twitter’s tutorial on building high-quality Twitter v2 API query strings to obtain the targeted results\n",
    "> https://developer.twitter.com/en/docs/tutorials/building-high-quality-filters\n",
    "* Twitter online tool to help you build Twitter v2 API query strings\n",
    "> https://developer.twitter.com/apitools/query?query="
   ]
  },
  {
   "cell_type": "markdown",
   "metadata": {
    "tags": []
   },
   "source": [
    "### Searching for Tweets From NASA Containing Links\n",
    "* Use `from` and `has:links` operators to get recent tweets from `NASA` that contain hyperlinks"
   ]
  },
  {
   "cell_type": "code",
   "execution_count": 20,
   "metadata": {},
   "outputs": [],
   "source": [
    "tweets = client.search_recent_tweets(\n",
    "    query='from:NASA has:links', \n",
    "    expansions=['author_id'], tweet_fields=['lang'])"
   ]
  },
  {
   "cell_type": "code",
   "execution_count": 21,
   "metadata": {},
   "outputs": [
    {
     "name": "stdout",
     "output_type": "stream",
     "text": [
      "NASA: Looking to do some stargazing? We’ve put together a handy guide with tips to help you find the best times and locations for enjoying the night sky: https://t.co/S0HWQqi2G6 https://t.co/MEibyzoCbQ\n",
      "\n"
     ]
    }
   ],
   "source": [
    "print_tweets(tweets)"
   ]
  },
  {
   "cell_type": "markdown",
   "metadata": {
    "tags": []
   },
   "source": [
    "### Searching for a Hashtag\n",
    "* Get tweets containing the hashtag `#metaverse`"
   ]
  },
  {
   "cell_type": "code",
   "execution_count": 22,
   "metadata": {
    "tags": []
   },
   "outputs": [],
   "source": [
    "tweets = client.search_recent_tweets(query='#metaverse', \n",
    "    expansions=['author_id'], tweet_fields=['lang'])"
   ]
  },
  {
   "cell_type": "code",
   "execution_count": 23,
   "metadata": {
    "tags": []
   },
   "outputs": [
    {
     "name": "stdout",
     "output_type": "stream",
     "text": [
      "ihsandenizli: \n",
      "  ORIGINAL: RT @hmutlu72: OXRO, piyasa koşullarına göre otomatik kararlar verir.\n",
      "#oxro #bitcoin #dxgm #dexgame #btc #binance #coinbase #crypto #machine…\n",
      "TRANSLATED: RT @hmutlu72: OXRO makes automatic decisions based on market conditions.\n",
      "#oxro #bitcoin #dxgm #dexgame #btc #binance #coinbase #crypto #machine...\n",
      "\n",
      "HanbalYunus: \n",
      "  ORIGINAL: RT @hmutlu72: Yapay zeka ile geliştirilmiş OXRO, kripto paralar için daha doğru kararlar verebilir.\n",
      "#oxro #bitcoin #dxgm #dexgame #btc #bin…\n",
      "TRANSLATED: RT @hmutlu72: AI-enhanced OXRO can make more accurate decisions for cryptocurrencies.\n",
      "#oxro #bitcoin #dxgm #dexgame #btc #bin...\n",
      "\n",
      "0xBigWin0xWin: RT @bcvvirtual: ✅AI ✅Metaverse ✅Utility NFTs ✅Partnerships\n",
      "\n",
      "Everything is in place for the biggest launch of 2023.\n",
      "\n",
      "Join our telegram airdr…\n",
      "\n",
      "AldenBerge25462: RT @paraverse_world: Welcome to PARAVERSE, the Augmented World.\n",
      "Explore, interact and play in a world of endless possibilities.\n",
      "Be the prou…\n",
      "\n",
      "JoyceCook731829: RT @paraverse_world: Welcome to PARAVERSE, the Augmented World.\n",
      "Explore, interact and play in a world of endless possibilities.\n",
      "Be the prou…\n",
      "\n",
      "Erkangunaydin1: RT @mardukida: @BinanceUS #Hamstercoin\n",
      "@_hamster_coin is a serious project that includes #NFT, #GAME, #WEB3, #WALLET, #SWAP, #METAVERSE, #A…\n",
      "\n",
      "DorkKnight2455: @ArchieNeko_ Good information to take note on! #ARCHIE #ArchieNeko $ARCHIE #ArchieChain #ArchienekoNFT  #ETH #BNB #BSC #Crypto #Metaverse #NFT #Blockchain @ArchieNeko_ \n",
      "#ArchieAggregator $ARC #USDC\n",
      "\n",
      "QuintenMoo32852: RT @paraverse_world: Welcome to PARAVERSE, the Augmented World.\n",
      "Explore, interact and play in a world of endless possibilities.\n",
      "Be the prou…\n",
      "\n",
      "kriptoparatakip: \n",
      "  ORIGINAL: @avmustafa3874 #oxro #bitcoin #dxgm #dexgame #btc #binance #coinbase #crypto #machinelearning #artificialIntelligence #mexc #metaverse #ethereum #altcoin #ceek #YapayZeka #solana\n",
      "TRANSLATED: @avmustafa3874 #oxro #bitcoin #dxgm #dexgame #btc #binance #coinbase #crypto #machinelearning #artificialIntelligence #mexc #metaverse #ethereum #altcoin #ceek #YapayZeka #solana\n",
      "\n",
      "Zakir000143: RT @BlockChain_CK: #CUS 2AND is running a massive 2,000KLAY #airdrop campaign in  tokens!\n",
      "\n",
      "Join our gleam competition:\n",
      "🔗https://t.co/u2AO6k…\n",
      "\n"
     ]
    }
   ],
   "source": [
    "print_tweets(tweets)"
   ]
  },
  {
   "cell_type": "markdown",
   "metadata": {},
   "source": [
    "# 12.11 Spotting Trends: Twitter Trends API\n",
    "**Note: At the time of this writing, Twitter had not yet migrated their Trending Topics APIs from v1.1 to v2. The v1.1 APIs used in this section are accessible only to Twitter Developer accounts with “Elevated” access and higher.**\n",
    "\n",
    "* If a topic **“goes viral,”** thousands or even millions of people could tweet about it\n",
    "* Twitter calls these **trending topics** and maintains lists of them worldwide\n",
    "* Via the Twitter v1.1 Trends API, you can get lists of locations with trending topics and lists of the top 50 trending topics for each location\n",
    "* To use the v1.1 APIs in Tweepy, initialize an object of class `OAuth2BearerHandler` with your bearer token, then create an `API` object that uses the `OAuth2BearerHandler` object to authenticate with Twitter:"
   ]
  },
  {
   "cell_type": "code",
   "execution_count": 24,
   "metadata": {},
   "outputs": [],
   "source": [
    "auth = tweepy.OAuth2BearerHandler(keys.bearer_token)\n",
    "\n",
    "api = tweepy.API(auth=auth, wait_on_rate_limit=True)"
   ]
  },
  {
   "cell_type": "markdown",
   "metadata": {},
   "source": [
    "## 12.11.1 Places with Trending Topics \n",
    "* See how to find places with trending topics: https://learning.oreilly.com/videos/python-fundamentals/9780135917411/9780135917411-PFLL_Lesson12_15"
   ]
  },
  {
   "cell_type": "markdown",
   "metadata": {},
   "source": [
    "## 12.11.2 Getting a List of Trending Topics \n",
    "* Via Tweepy `API`’s **`get_place_trends` method** \n",
    "* Calls **Twitter Trends API’s [`trends/place` method](https://developer.twitter.com/en/docs/trends/trends-for-location/api-reference/get-trends-place)**\n",
    "* Returns top 50 trending topics for the location \n",
    "* [Look up WOEIDs](http://www.woeidlookup.com) \n",
    "* Look up WOEID’s programmatically using **Yahoo!’s web services** via [Python libraries like `woeid`](https://github.com/Ray-SunR/woeid)"
   ]
  },
  {
   "cell_type": "markdown",
   "metadata": {},
   "source": [
    "### Worldwide Trending Topics "
   ]
  },
  {
   "cell_type": "code",
   "execution_count": 25,
   "metadata": {},
   "outputs": [],
   "source": [
    "world_trends = api.get_place_trends(id=1)  # list containing one dictionary"
   ]
  },
  {
   "cell_type": "markdown",
   "metadata": {},
   "source": [
    "* **`'trends'` key** refers to a list of dictionaries representing each trend"
   ]
  },
  {
   "cell_type": "code",
   "execution_count": 26,
   "metadata": {},
   "outputs": [],
   "source": [
    "trends_list = world_trends[0]['trends']"
   ]
  },
  {
   "cell_type": "markdown",
   "metadata": {},
   "source": [
    "* Each trend has **`name`**, **`url`**, **`promoted_content`** (whether it's an advertisement), **`query`** and **`tweet_volume`** keys"
   ]
  },
  {
   "cell_type": "code",
   "execution_count": 27,
   "metadata": {},
   "outputs": [
    {
     "data": {
      "text/plain": [
       "{'name': '#SaudiArabianGP',\n",
       " 'url': 'http://twitter.com/search?q=%23SaudiArabianGP',\n",
       " 'promoted_content': None,\n",
       " 'query': '%23SaudiArabianGP',\n",
       " 'tweet_volume': 228944}"
      ]
     },
     "execution_count": 27,
     "metadata": {},
     "output_type": "execute_result"
    }
   ],
   "source": [
    "trends_list[0]"
   ]
  },
  {
   "cell_type": "markdown",
   "metadata": {},
   "source": [
    "### Get Today's Worldwide Trending Topics (cont.)\n",
    "* For **trends with more than 10,000 tweets**, the `tweet_volume` is the number of tweets; otherwise, it’s `None`\n",
    "* Filter the list so that it contains only trends with more than 10,000 tweets:"
   ]
  },
  {
   "cell_type": "code",
   "execution_count": 28,
   "metadata": {},
   "outputs": [],
   "source": [
    "trends_list = [t for t in trends_list if t['tweet_volume']]"
   ]
  },
  {
   "cell_type": "markdown",
   "metadata": {},
   "source": [
    "* Sort the trends in _descending_ order by `tweet_volume`:"
   ]
  },
  {
   "cell_type": "code",
   "execution_count": 29,
   "metadata": {},
   "outputs": [],
   "source": [
    "from operator import itemgetter "
   ]
  },
  {
   "cell_type": "code",
   "execution_count": 30,
   "metadata": {},
   "outputs": [],
   "source": [
    "trends_list.sort(key=itemgetter('tweet_volume'), reverse=True) "
   ]
  },
  {
   "cell_type": "markdown",
   "metadata": {},
   "source": [
    "### Get Today's Worldwide Trending Topics (cont.)\n",
    "* Display names of the **top five trending topics**"
   ]
  },
  {
   "cell_type": "code",
   "execution_count": 31,
   "metadata": {},
   "outputs": [
    {
     "name": "stdout",
     "output_type": "stream",
     "text": [
      "Fenerbahçe\n",
      "#SaudiArabianGP\n",
      "Alonso\n",
      "Antony\n",
      "Mother's Day\n",
      "Nana\n",
      "Credit Suisse\n",
      "#MUFC\n",
      "Verstappen\n",
      "Fulham\n",
      "Checo\n",
      "Lewis\n",
      "Russell\n",
      "Hamilton\n",
      "#FACup\n",
      "Ferrari\n",
      "Mitrovic\n",
      "Sancho\n",
      "Rennes\n",
      "Kanaga\n",
      "Mete Kalkavan\n",
      "Wembley\n",
      "Brighton\n",
      "Sabitzer\n",
      "Stroll\n",
      "Aston Martin\n",
      "La FIA\n",
      "Willian\n",
      "Safety Car\n",
      "#MUNFUL\n",
      "Sainz\n",
      "Maguire\n",
      "McLaren\n",
      "Red Bull\n",
      "Old Trafford\n",
      "Bruno Fernandes\n",
      "Weghorst\n"
     ]
    }
   ],
   "source": [
    "for trend in trends_list:\n",
    "    print(trend['name'])"
   ]
  },
  {
   "cell_type": "markdown",
   "metadata": {},
   "source": [
    "------       "
   ]
  },
  {
   "cell_type": "markdown",
   "metadata": {},
   "source": [
    "# 12.12 Cleaning/Preprocessing Tweets for Analysis\n",
    "* **Data cleaning** is one of data scientists' most common tasks \n",
    "* Some NLP tasks for normalizing tweets\n",
    "    * Converting all text to the same case\n",
    "    * Removing `#` from hashtags, `@`-mentions, duplicates, hashtags\n",
    "    * Removing excess whitespace, punctuation, **stop words**, URLs\n",
    "    * Removing `RT` (retweet) and `FAV` (favorite) \n",
    "    * **Stemming** and **lemmatization**\n",
    "    * **Tokenization**"
   ]
  },
  {
   "cell_type": "markdown",
   "metadata": {},
   "source": [
    "### [**tweet-preprocessor**](https://github.com/s/preprocessor) Library and TextBlob Utility Functions\n",
    "* `pip install tweet-preprocessor`\n",
    "* Can automatically remove any combination of:\n",
    "\n",
    "| Option | Option constant |\n",
    "| :--- | :--- |\n",
    "| **`OPT.MENTION`** | @-Mentions (e.g., `@nasa`) |\n",
    "| **`OPT.EMOJI`** | Emoji |\n",
    "| **`OPT.HASHTAG`** | Hashtag (e.g., `#mars`) |\n",
    "| **`OPT.NUMBER`** | Number |\n",
    "| **`OPT.RESERVED`** | Reserved Words (`RT` and `FAV`) |\n",
    "| **`OPT.SMILEY`** | Smiley |\n",
    "| **`OPT.URL`** | URL |"
   ]
  },
  {
   "cell_type": "markdown",
   "metadata": {},
   "source": [
    "### Cleaning a Tweet Containing a Reserved word and a URL\n",
    "* The tweet-preprocessor library’s module name is **`preprocessor`**"
   ]
  },
  {
   "cell_type": "code",
   "execution_count": 32,
   "metadata": {},
   "outputs": [],
   "source": [
    "import preprocessor as p"
   ]
  },
  {
   "cell_type": "code",
   "execution_count": 33,
   "metadata": {},
   "outputs": [],
   "source": [
    "p.set_options(p.OPT.URL, p.OPT.RESERVED)"
   ]
  },
  {
   "cell_type": "code",
   "execution_count": 34,
   "metadata": {},
   "outputs": [],
   "source": [
    "tweet_text = 'RT A sample retweet with a URL https://nasa.gov'"
   ]
  },
  {
   "cell_type": "code",
   "execution_count": 35,
   "metadata": {},
   "outputs": [
    {
     "data": {
      "text/plain": [
       "'A sample retweet with a URL'"
      ]
     },
     "execution_count": 35,
     "metadata": {},
     "output_type": "execute_result"
    }
   ],
   "source": [
    "p.clean(tweet_text)"
   ]
  },
  {
   "cell_type": "markdown",
   "metadata": {},
   "source": [
    "------"
   ]
  },
  {
   "cell_type": "markdown",
   "metadata": {
    "tags": []
   },
   "source": [
    "# 12.13 Twitter Streaming API\n",
    "* Your app can receive tweets as they occur in real-time\n",
    "* Based on the Twitter Statistics page at [InternetLiveStats.com](http://www.internetlivestats.com/twitter-statistics/)\n",
    "    * **over 10,000 tweets per second**\n",
    "    * approximately **880 million tweets per day**\n",
    "* Most developer accounts are subject to a **tweet cap** — a maximum number of tweets per month that an account’s Twitter apps can acquire using the Twitter APIs\n",
    "    * 500,000 for Essentials accounts \n",
    "    * two million for Elevated accounts\n",
    "    * academic research and paid accounts can get more"
   ]
  },
  {
   "cell_type": "markdown",
   "metadata": {},
   "source": [
    "<hr style=\"height:2px; border:none; color:#AAA; background-color:#AAA;\">"
   ]
  },
  {
   "cell_type": "markdown",
   "metadata": {},
   "source": [
    "## 12.13.1 Creating a Subclass of `StreamingClient` \n",
    "* A stream uses a **persistent** connection to **push** tweets to your app\n",
    "* Streaming rate varies, based on search criteria specified with **`StreamRule`s** \n",
    "* Twitter uses all the `StreamRule`s you set to find tweets, including those set previously\n",
    "* You may want to **delete existing `StreamRule`s before creating new ones**"
   ]
  },
  {
   "cell_type": "markdown",
   "metadata": {},
   "source": [
    "<hr style=\"height:2px; border:none; color:#AAA; background-color:#AAA;\">"
   ]
  },
  {
   "cell_type": "markdown",
   "metadata": {},
   "source": [
    "## 12.13.1 Creating a Subclass of `StreamingClient` (cont.)\n",
    "* Create a subclass of Tweepy’s `StreamingClient` class to process the tweet stream\n",
    "* Tweepy calls the methods on an object of this class as it receives each new tweet (or other message, such as an error) from Twitter\n",
    "    * `on_connect(self)` is called when your app successfully connects to the Twitter stream\n",
    "    * `on_respone(self, response)` is called when a response arrives from the Twitter stream—`response` parameter is a Tweepy `StreamResponse` named tuple object containing the tweet data, any expansion objects you requested and more\n",
    "* `StreamingClient` already defines these and other \"on_\" methods \n",
    "* Override only the methods your app needs\n",
    "* `StreamingClient` methods\n",
    "> https://docs.tweepy.org/en/latest/streamingclient.html  "
   ]
  },
  {
   "cell_type": "markdown",
   "metadata": {},
   "source": [
    "<hr style=\"height:2px; border:none; color:#AAA; background-color:#AAA;\">"
   ]
  },
  {
   "cell_type": "markdown",
   "metadata": {
    "jp-MarkdownHeadingCollapsed": true,
    "tags": []
   },
   "source": [
    "### Class `TweetListener`\n",
    "`StreamingClient` subclass `TweetListener` is defined in `tweetlistener.py`"
   ]
  },
  {
   "cell_type": "markdown",
   "metadata": {
    "jp-MarkdownHeadingCollapsed": true,
    "tags": []
   },
   "source": [
    "```python\n",
    "# tweetlistener.py\n",
    "\"\"\"StreamingClient subclass that processes tweets as they arrive.\"\"\"\n",
    "from deep_translator import GoogleTranslator\n",
    "import tweepy\n",
    "\n",
    "class TweetListener(tweepy.StreamingClient):\n",
    "    \"\"\"Handles incoming Tweet stream.\"\"\"\n",
    "```"
   ]
  },
  {
   "cell_type": "markdown",
   "metadata": {},
   "source": [
    "<hr style=\"height:2px; border:none; color:#AAA; background-color:#AAA;\">"
   ]
  },
  {
   "cell_type": "markdown",
   "metadata": {
    "tags": []
   },
   "source": [
    "### Class `TweetListener`: `__init__` Method \n",
    "* called when you create a new `TweetListener` object\n",
    "* `bearer_token` is used to authenticate with Twitter\n",
    "* `limit` parameter is the number of tweets to process\n",
    "* Line 11: instance variable to track the number of tweets processed so far\n",
    "* Line 12: constant to store the limit\n",
    "* `GoogleTranslator` object for translating tweets into English\n",
    "* Line 17 passes the `bearer_token` to the superclass’s `__init__`\n",
    "\n",
    "```python\n",
    "    def __init__(self, bearer_token, limit=10):\n",
    "        \"\"\"Create instance variables for tracking number of tweets.\"\"\"\n",
    "        self.tweet_count = 0\n",
    "        self.TWEET_LIMIT = limit\n",
    "        \n",
    "        # GoogleTranslator object for translating tweets to English \n",
    "        self.translator = GoogleTranslator(source='auto', target='en')\n",
    "\n",
    "        super().__init__(bearer_token, wait_on_rate_limit=True)  \n",
    "\n",
    "```"
   ]
  },
  {
   "cell_type": "markdown",
   "metadata": {},
   "source": [
    "<hr style=\"height:2px; border:none; color:#AAA; background-color:#AAA;\">"
   ]
  },
  {
   "cell_type": "markdown",
   "metadata": {
    "tags": []
   },
   "source": [
    "### Class `TweetListener`: `on_connect` Method \n",
    "* Called when your app successfully connects to the Twitter stream\n",
    "\n",
    "```python\n",
    "    def on_connect(self):\n",
    "        \"\"\"Called when your connection attempt is successful, enabling \n",
    "        you to perform appropriate application tasks at that point.\"\"\"\n",
    "        print('Connection successful\\n')\n",
    "```"
   ]
  },
  {
   "cell_type": "markdown",
   "metadata": {},
   "source": [
    "<hr style=\"height:2px; border:none; color:#AAA; background-color:#AAA;\">"
   ]
  },
  {
   "cell_type": "markdown",
   "metadata": {
    "tags": []
   },
   "source": [
    "### Class `TweetListener`: `on_response` Method \n",
    "* Called by when each tweet arrives\n",
    "* second parameter is a Tweepy `StreamResponse` named tuple object containing:\n",
    "    * `data` — the tweet’s attributes\n",
    "    * `includes` — any requested expansion objects\n",
    "    * `errors` — any errors that occurred\n",
    "    * `matching_rules` — `StreamRules` that the returned tweet matched\n",
    "* This example uses an expansion to include in the `StreamResponse` the user JSON object for each tweet’s sender\n",
    "    * Twitter also returns user objects for accounts mentioned in the tweet’s text"
   ]
  },
  {
   "cell_type": "markdown",
   "metadata": {
    "tags": []
   },
   "source": [
    "```python\n",
    "    def on_response(self, response):\n",
    "        \"\"\"Called when Twitter pushes a new tweet to you.\"\"\"\n",
    "        \n",
    "        try:\n",
    "            # get username of user who sent the tweet\n",
    "            username = response.includes['users'][0].username\n",
    "            print(f'Screen name: {username}')\n",
    "            print(f'   Language: {response.data.lang}')\n",
    "            print(f' Tweet text: {response.data.text}')\n",
    "\n",
    "            if response.data.lang != 'en' and response.data.lang != 'und':\n",
    "                english = self.translator.translate(response.data.text)\n",
    "                print(f' Translated: {english}')\n",
    "\n",
    "            print()\n",
    "            self.tweet_count += 1 \n",
    "        except Exception as e:\n",
    "            print(f'Exception occured: {e}')\n",
    "            self.disconnect()\n",
    "            \n",
    "        # if TWEET_LIMIT is reached, terminate streaming\n",
    "        if self.tweet_count == self.TWEET_LIMIT:\n",
    "            self.disconnect()\n",
    "```"
   ]
  },
  {
   "cell_type": "markdown",
   "metadata": {
    "tags": []
   },
   "source": [
    "* Line 29 gets the sender’s username\n",
    "    * List element 0 of `response.includes['users']` contains the tweet sender’s user object\n",
    "    * Subsequent elements would contain accounts mentioned in the tweet\n",
    "* Lines 30–32 display the tweet sender’s `username`, the tweet’s language (`lang`) and the tweet’s `text`\n",
    "* If necessary, lines 34–36 translate the tweet to English and display it\n",
    "* Line 39 increments `self.tweet_count`\n",
    "* Lines 45–46 determine whether to terminate streaming. \n"
   ]
  },
  {
   "cell_type": "markdown",
   "metadata": {},
   "source": [
    "<hr style=\"height:2px; border:none; color:#AAA; background-color:#AAA;\">"
   ]
  },
  {
   "cell_type": "markdown",
   "metadata": {
    "tags": []
   },
   "source": [
    "# 12.13.2 Initiating Stream Processing"
   ]
  },
  {
   "cell_type": "markdown",
   "metadata": {
    "tags": []
   },
   "source": [
    "### Creating a TweetListener \n",
    "* `StreamingClient` subclass `TweetListener` manages the connection to the Twitter stream and receives and processes the tweets"
   ]
  },
  {
   "cell_type": "code",
   "execution_count": 36,
   "metadata": {
    "tags": []
   },
   "outputs": [],
   "source": [
    "from tweetlistener import TweetListener\n",
    "\n",
    "tweet_listener = TweetListener(\n",
    "    bearer_token=keys.bearer_token, limit=3)"
   ]
  },
  {
   "cell_type": "markdown",
   "metadata": {
    "tags": []
   },
   "source": [
    "### Redirecting the Standard Error Stream to the Standard Output Stream\n",
    "* When `StreamingClient` subclass’s `disconnect` method is called to terminate the tweet stream, the method sends the following message to `sys.stderr` which is not synchronized with the standard output stream\n",
    "> `Stream connection closed by Twitter`\n",
    "* Sometimes causes the preceding message to be interspersed with other messages that this app sends to the standard output stream\n",
    "* To prevent this, redirect the standard error stream to the standard output stream"
   ]
  },
  {
   "cell_type": "code",
   "execution_count": 37,
   "metadata": {
    "jp-MarkdownHeadingCollapsed": true,
    "tags": []
   },
   "outputs": [],
   "source": [
    "import sys\n",
    "\n",
    "sys.stderr = sys.stdout"
   ]
  },
  {
   "cell_type": "markdown",
   "metadata": {
    "tags": []
   },
   "source": [
    "### Deleting Existing Stream Rules\n",
    "* Twitter uses all the `StreamRule`s you’ve specified previously to filter the tweets it pushes to your app\n",
    "* Twitter does not automatically remove your `StreamRule`s after you terminate the tweet stream\n",
    "* If your app filters the tweet stream with different rules each time you run it, you should delete any existing `StreamRule`s before creating new ones"
   ]
  },
  {
   "cell_type": "markdown",
   "metadata": {
    "tags": []
   },
   "source": [
    "* Get the `StreamRule`s by calling your `StreamingClient`’s `get_rules` method\n",
    "    * `Response`’s `data` attribute contains a `list` of `StreamRule`s"
   ]
  },
  {
   "cell_type": "code",
   "execution_count": 38,
   "metadata": {
    "tags": []
   },
   "outputs": [],
   "source": [
    "rules = tweet_listener.get_rules().data"
   ]
  },
  {
   "cell_type": "markdown",
   "metadata": {
    "tags": []
   },
   "source": [
    "* Get the rule IDs"
   ]
  },
  {
   "cell_type": "code",
   "execution_count": 39,
   "metadata": {
    "tags": []
   },
   "outputs": [],
   "source": [
    "# execute only if you have rules previously saved; \n",
    "# Twitter recently started deleting saved rules that have not been used recently\n",
    "rule_ids = [rule.id for rule in rules]"
   ]
  },
  {
   "cell_type": "markdown",
   "metadata": {
    "tags": []
   },
   "source": [
    "* Call `StreamingClient`’s `delete_rules` method with a list of rule IDs to delete\n",
    "    * response contains a `'summary'` dictionary with information about the number of deleted rules"
   ]
  },
  {
   "cell_type": "code",
   "execution_count": 40,
   "metadata": {
    "tags": []
   },
   "outputs": [
    {
     "data": {
      "text/plain": [
       "Response(data=None, includes={}, errors=[], meta={'sent': '2023-03-19T19:36:17.226Z', 'summary': {'deleted': 1, 'not_deleted': 0}})"
      ]
     },
     "execution_count": 40,
     "metadata": {},
     "output_type": "execute_result"
    }
   ],
   "source": [
    "# execute only if you have rules previously saved; \n",
    "tweet_listener.delete_rules(rule_ids)    "
   ]
  },
  {
   "cell_type": "markdown",
   "metadata": {
    "tags": []
   },
   "source": [
    "### Creating and Adding a Stream Rule\n",
    "* Create a rule to filter the live tweet stream looking for tweets about football\n",
    "* Then, add the rule\n",
    "    * `add_rules`’ Response contains a `'summary'` dictionary with information about the `StreamRule` you set and whether it was valid"
   ]
  },
  {
   "cell_type": "code",
   "execution_count": 41,
   "metadata": {
    "tags": []
   },
   "outputs": [],
   "source": [
    "filter_rule = tweepy.StreamRule('football')"
   ]
  },
  {
   "cell_type": "code",
   "execution_count": 42,
   "metadata": {
    "tags": []
   },
   "outputs": [
    {
     "data": {
      "text/plain": [
       "Response(data=[StreamRule(value='football', tag=None, id='1637538501104136192')], includes={}, errors=[], meta={'sent': '2023-03-19T19:36:18.446Z', 'summary': {'created': 1, 'not_created': 0, 'valid': 1, 'invalid': 0}})"
      ]
     },
     "execution_count": 42,
     "metadata": {},
     "output_type": "execute_result"
    }
   ],
   "source": [
    "tweet_listener.add_rules(filter_rule)"
   ]
  },
  {
   "cell_type": "markdown",
   "metadata": {
    "tags": []
   },
   "source": [
    "### Starting the Tweet Stream\n",
    "* `StreamingClient`'s `filter` method begins streaming \n",
    "    * `expansions` argument indicates that we’d like the response for each tweet to include the sender’s user JSON object\n",
    "    * `tweet_fields` argument indicates that the tweet’s language should be included in the responses tweet JSON object"
   ]
  },
  {
   "cell_type": "code",
   "execution_count": 43,
   "metadata": {
    "tags": []
   },
   "outputs": [
    {
     "name": "stdout",
     "output_type": "stream",
     "text": [
      "Connection successful\n",
      "\n",
      "Screen name: hunnay_x\n",
      "   Language: en\n",
      " Tweet text: She’s the reason then https://t.co/NiKDPgD1Dc\n",
      "\n",
      "Screen name: Silvanosbhandit\n",
      "   Language: en\n",
      " Tweet text: @Blue_Footy Twickenham not Wembley\n",
      "\n",
      "Screen name: RichardEghosa\n",
      "   Language: en\n",
      " Tweet text: RT @Blue_Footy: I'm not sure I can stand playing in small Craven Cottage for four years. Wembley's big pitch is better for our football but…\n",
      "\n",
      "Stream connection closed by Twitter\n"
     ]
    }
   ],
   "source": [
    "tweet_listener.filter( \n",
    "    expansions=['author_id'], tweet_fields=['lang'])"
   ]
  },
  {
   "cell_type": "markdown",
   "metadata": {
    "tags": []
   },
   "source": [
    "### Asynchronous vs. Synchronous Streams\n",
    "* Tweepy supports asynchronous tweet streams by creating a subclass of `AsyncStreamingClient`\n",
    "* Allows your application to continue executing while your listener waits to receive tweets\n",
    "* Convenient in GUI applications, so users can continue interacting with other parts of the application while tweets arrive"
   ]
  },
  {
   "cell_type": "markdown",
   "metadata": {},
   "source": [
    "------"
   ]
  },
  {
   "cell_type": "markdown",
   "metadata": {},
   "source": [
    "# 12.14 Tweet Sentiment Analysis \n",
    "* Political researchers might use during elections to understand how people feel about specific politicians and issues, and **how they're likely to vote**\n",
    "* Companies might use to see what people are saying about their products and competitors’ products\n",
    "* Script `sentimentlistener.py` checks sentiment on a specified topic for a specified number of tweets"
   ]
  },
  {
   "cell_type": "code",
   "execution_count": 44,
   "metadata": {},
   "outputs": [
    {
     "name": "stdout",
     "output_type": "stream",
     "text": [
      "- mhussein_fcb: These people have never watched a game of football I’m convinced\n",
      "\n",
      "+ cuongdien2468: @Football__Tweet The first pic Mitrovic slandering the ref said it all\n",
      "\n",
      "+ MCFCTone: Enjoy a couple of the City podcasts but one of the more established ones they sound so bored when talking City / football, why even bother 😁😁\n",
      "\n",
      "+ FrannyReilly: @Joanna54006491 Where you been hiding lol 😂 I've deleted people and I'm suddenly finding people I used to message Awww I've just had a quiet one,watched football and F1 and packed a few things for leaving tomorrow,back to nightshifts next week xx\n",
      "\n",
      "- _aas20_: I skipped a lime to watch football and FLOW just fucking up😡😡😡😡😡😡😡😡😡😡😡😡😡😡😡😡😡😡😡😡😡😡😡😡😡😡😡😡😡😡\n",
      "\n",
      "  Adriana10474322: Football vfk The strongest round games 👍👍 Barcelona vs Real Madrid • Mobile ➤👍 • PC ➤👍 #ElClásico\n",
      "\n",
      "- wendlofc: @MambaSZN explain how that was bad in football terms\n",
      "\n",
      "+ YoungArab61: We might not be playing the best football but baldy always has a plan.\n",
      "\n",
      "+ HabibiCity21: @Predaxxx @ESPNFC Lol football isnt only about scoring it’s a team sport just cause u have a really nice scorer almost never means you’ll win the prem by a landslide that just not how the league works but rashfords the only one stat padding in Europa that’s why I can’t respect him\n",
      "\n",
      "  1878_RedDevil: @Football__Tweet Looks like dat guy Welbz to me\n",
      "\n",
      "Stream connection closed by Twitter\n",
      "Tweet sentiment for \"football\"\n",
      "Positive: 5\n",
      " Neutral: 2\n",
      "Negative: 3\n"
     ]
    }
   ],
   "source": [
    "run sentimentlistener.py football 10"
   ]
  },
  {
   "cell_type": "markdown",
   "metadata": {},
   "source": [
    "<hr style=\"height:2px; border:none; color:#AAA; background-color:#AAA;\">"
   ]
  },
  {
   "cell_type": "markdown",
   "metadata": {
    "tags": []
   },
   "source": [
    "### Class `SentimentListener`"
   ]
  },
  {
   "cell_type": "markdown",
   "metadata": {
    "tags": []
   },
   "source": [
    "* Import the keys.py file and the libraries used throughout the script"
   ]
  },
  {
   "cell_type": "markdown",
   "metadata": {
    "tags": []
   },
   "source": [
    "```python\n",
    "# sentimentlisener.py\n",
    "\"\"\"Script that searches for tweets that match a search string\n",
    "and tallies the number of positive, neutral and negative tweets.\"\"\"\n",
    "import keys\n",
    "import preprocessor as p \n",
    "import sys\n",
    "from textblob import TextBlob\n",
    "import tweepy\n",
    "```"
   ]
  },
  {
   "cell_type": "markdown",
   "metadata": {
    "tags": []
   },
   "source": [
    "### Class `SentimentListener`: `__init__` Method\n",
    "* Receives:\n",
    "    * `bearer_token` for authentication\n",
    "    * `sentiment_dict` dictionary in which we’ll keep track of the tweet sentiments\n",
    "    * `topic` we’re searching for so we can ensure that it appears in the tweet text  \n",
    "    * `limit` of tweets to process (not including the ones we eliminate)\n",
    "* Each of these is stored in the current `SentimentListener` object (`self`)"
   ]
  },
  {
   "cell_type": "markdown",
   "metadata": {
    "tags": []
   },
   "source": [
    "```python\n",
    "class SentimentListener(tweepy.StreamingClient):\n",
    "    \"\"\"Handles incoming Tweet stream.\"\"\"\n",
    "\n",
    "    def __init__(self, bearer_token, sentiment_dict, topic, limit=10):\n",
    "        \"\"\"Configure the SentimentListener.\"\"\"\n",
    "        self.sentiment_dict = sentiment_dict\n",
    "        self.tweet_count = 0\n",
    "        self.topic = topic\n",
    "        self.TWEET_LIMIT = limit\n",
    "\n",
    "        # set tweet-preprocessor to remove URLs/reserved words\n",
    "        p.set_options(p.OPT.URL, p.OPT.RESERVED) \n",
    "        super().__init__(bearer_token, wait_on_rate_limit=True)\n",
    "```"
   ]
  },
  {
   "cell_type": "markdown",
   "metadata": {
    "tags": []
   },
   "source": [
    "### Method `on_response `\n",
    "* If the tweet is not a retweet (line 28):\n",
    "    * Line 29 gets and cleans the tweet’s text \n",
    "    * Lines 32–33 skip the tweet if it does not contain `topic` in the tweet text\n",
    "    * Lines 36–45 use a `TextBlob` to check the tweet’s sentiment and update the `sentiment_dict` accordingly\n",
    "    * Line 48 gets the sender’s `username` from `response.includes['users']` — we’ll use an expansion to include this user object \n",
    "    * Line 49 prints the tweet text preceded by `+` for positive sentiment, a space for neutral sentiment or `-` for negative sentiment\n",
    "    * Line 51 increments the `tweet_count`, and lines 54–55 check whether the app should disconnect from the tweet stream"
   ]
  },
  {
   "cell_type": "markdown",
   "metadata": {
    "tags": []
   },
   "source": [
    "```python\n",
    "    def on_response(self, response):\n",
    "        \"\"\"Called when Twitter pushes a new tweet to you.\"\"\"\n",
    "\n",
    "        # if the tweet is not a retweet\n",
    "        if not response.data.text.startswith('RT'):\n",
    "            text = p.clean(response.data.text) # clean the tweet\n",
    "\n",
    "            # ignore tweet if the topic is not in the tweet text\n",
    "            if self.topic.lower() not in text.lower():\n",
    "                return\n",
    "\n",
    "            # update self.sentiment_dict with the polarity\n",
    "            blob = TextBlob(text)\n",
    "            if blob.sentiment.polarity > 0:\n",
    "                sentiment = '+'\n",
    "                self.sentiment_dict['positive'] += 1 \n",
    "            elif blob.sentiment.polarity == 0:\n",
    "                sentiment = ' '\n",
    "                self.sentiment_dict['neutral'] += 1 \n",
    "            else:\n",
    "                sentiment = '-'\n",
    "                self.sentiment_dict['negative'] += 1 \n",
    "\n",
    "            # display the tweet\n",
    "            username = response.includes['users'][0].username\n",
    "            print(f'{sentiment} {username}: {text}\\n')\n",
    "\n",
    "            self.tweet_count += 1 # track number of tweets processed\n",
    "\n",
    "            # if TWEET_LIMIT is reached, terminate streaming\n",
    "            if self.tweet_count == self.TWEET_LIMIT:\n",
    "                self.disconnect()\n",
    "```"
   ]
  },
  {
   "cell_type": "markdown",
   "metadata": {
    "tags": []
   },
   "source": [
    "### Main Application\n",
    "* The main application is defined in the function `main` (lines 57–87; discussed after the code), which is called by lines 90–91 when you execute the file as a script\n",
    "* `sentimentlistener.py` also can be imported into IPython or other modules to use class `SentimentListener` as we did with `TweetListener`"
   ]
  },
  {
   "cell_type": "markdown",
   "metadata": {
    "tags": []
   },
   "source": [
    "```python\n",
    "def main():\n",
    "    # get search term and number of tweets\n",
    "    search_key = sys.argv[1]\n",
    "    limit = int(sys.argv[2]) # number of tweets to tally\n",
    "\n",
    "    # set up the sentiment dictionary\n",
    "    sentiment_dict = {'positive': 0, 'neutral': 0, 'negative': 0}\n",
    "\n",
    "    # create the StreamingClient subclass object\n",
    "    sentiment_listener = SentimentListener(keys.bearer_token, \n",
    "        sentiment_dict, search_key, limit)\n",
    "\n",
    "    # redirect sys.stderr to sys.stdout\n",
    "    sys.stderr = sys.stdout\n",
    "\n",
    "    # delete existing stream rules\n",
    "    rules = sentiment_listener.get_rules().data\n",
    "    rule_ids = [rule.id for rule in rules]\n",
    "    sentiment_listener.delete_rules(rule_ids)    \n",
    "\n",
    "    # create stream rule\n",
    "    sentiment_listener.add_rules(\n",
    "        tweepy.StreamRule(f'{search_key} lang:en'))\n",
    "\n",
    "    # start filtering English tweets containing search_key\n",
    "    sentiment_listener.filter(expansions=['author_id'])\n",
    "\n",
    "    print(f'Tweet sentiment for \"{search_key}\"')\n",
    "    print('Positive:', sentiment_dict['positive'])\n",
    "    print(' Neutral:', sentiment_dict['neutral'])\n",
    "    print('Negative:', sentiment_dict['negative'])\n",
    "\n",
    "# call main if this file is executed as a script\n",
    "if __name__ == '__main__':\n",
    "    main()\n",
    "```"
   ]
  },
  {
   "cell_type": "markdown",
   "metadata": {
    "tags": []
   },
   "source": [
    "* In `main`:\n",
    "    * Lines 59–60 get the command-line arguments\n",
    "    * Line 63 creates the `sentiment_dict` dictionary that keeps track of the tweet sentiments\n",
    "    * Lines 66–67 create the `SentimentListener` \n",
    "    * Line 70 redirects the standard error stream to the standard output stream\n",
    "    * Lines 73–75 delete any existing `StreamRule`s\n",
    "    * Lines 78–79 create a new `StreamRule` that searches for English (`lang:en`) tweets that match the `search_key`\n",
    "    * Line 82 starts the stream — `expansions` indicates that we’d like Twitter to include the tweet sender’s user object in the response\n",
    "    * Lines 84–87 display the sentiment report"
   ]
  },
  {
   "cell_type": "markdown",
   "metadata": {},
   "source": [
    "------"
   ]
  },
  {
   "cell_type": "markdown",
   "metadata": {},
   "source": [
    "# 12.15 Geocoding and Mapping\n",
    "* Collect streaming tweets, then plot their locations on an interactive map\n",
    "* **Twitter disables precise location info (latitude/longitude) by default** (users must opt in to allowing Twitter to track locations) \n",
    "* Large percentage include the user’s home location information\n",
    "    * Sometimes invalid or fictitious \n",
    "* Map markers will show the sender's `location` and tweet text"
   ]
  },
  {
   "cell_type": "markdown",
   "metadata": {
    "jp-MarkdownHeadingCollapsed": true,
    "tags": []
   },
   "source": [
    "### [**geopy** library](https://github.com/geopy/geopy)\n",
    "* Setup in Section 12.6\n",
    "* **Geocoding**&mdash;translate locations into **latitude** and **longitude**\n",
    "* **geopy** supports dozens of **geocoding web services**, many with **free or lite tiers**\n",
    "* We’ll use **OpenMapQuest geocoding service** "
   ]
  },
  {
   "cell_type": "markdown",
   "metadata": {},
   "source": [
    "### OpenMapQuest Geocoding API\n",
    "* Sign-up instructions in Section 12.6\n",
    "* Convert locations, such as **Boston, MA** into their **latitudes** and **longitudes**, such as **42.3602534** and **-71.0582912**, for plotting on maps\n"
   ]
  },
  {
   "cell_type": "markdown",
   "metadata": {},
   "source": [
    "### [**folium library**](https://github.com/python-visualization/folium) and Leaflet.js JavaScript Mapping Library\n",
    "* Setup in Section 12.6\n",
    "* For maps — uses **Leaflet.js JavaScript mapping library** to display maps in a web page \n",
    "* Folium save as HTML files that you can view in your web browser"
   ]
  },
  {
   "cell_type": "markdown",
   "metadata": {
    "tags": []
   },
   "source": [
    "## 12.15.1 Getting and Mapping the Tweets\n",
    "* We’ll use utility functions from our **`tweetutilities.py`** file and class **`LocationListener`** in **`locationlistener.py`**"
   ]
  },
  {
   "cell_type": "markdown",
   "metadata": {},
   "source": [
    "### Collections Required By LocationListener\n",
    "* a list (`tweets`) to store the data from the tweets we collect \n",
    "* a dictionary (`counts`) to track the total number of tweets we collect and the number that have location data"
   ]
  },
  {
   "cell_type": "code",
   "execution_count": 45,
   "metadata": {},
   "outputs": [],
   "source": [
    "tweets = [] \n",
    "\n",
    "counts = {'total_tweets': 0, 'locations': 0}"
   ]
  },
  {
   "cell_type": "markdown",
   "metadata": {},
   "source": [
    "### Creating the LocationListener \n",
    "* Collect 50 tweets about `'football'`\n",
    "* `LocationListener` will use utility function `get_tweet_content` (located in `tweetutilities.py`; discussed in Section 12.15.2) to place in a dictionary the `username`, tweet `text` and user `location` from each tweet"
   ]
  },
  {
   "cell_type": "code",
   "execution_count": 46,
   "metadata": {},
   "outputs": [],
   "source": [
    "from locationlistener import LocationListener\n",
    "\n",
    "location_listener = LocationListener(\n",
    "    keys.bearer_token, counts_dict=counts, tweets_list=tweets,\n",
    "    topic='football', limit=50)"
   ]
  },
  {
   "cell_type": "markdown",
   "metadata": {
    "tags": []
   },
   "source": [
    "### Redirect sys.stderr to sys.stdout"
   ]
  },
  {
   "cell_type": "code",
   "execution_count": 47,
   "metadata": {
    "jp-MarkdownHeadingCollapsed": true,
    "tags": []
   },
   "outputs": [],
   "source": [
    "import sys\n",
    "\n",
    "sys.stderr = sys.stdout"
   ]
  },
  {
   "cell_type": "markdown",
   "metadata": {},
   "source": [
    "### Delete Existing StreamRules"
   ]
  },
  {
   "cell_type": "code",
   "execution_count": 48,
   "metadata": {},
   "outputs": [
    {
     "data": {
      "text/plain": [
       "Response(data=None, includes={}, errors=[], meta={'sent': '2023-03-19T19:36:36.330Z', 'summary': {'deleted': 1, 'not_deleted': 0}})"
      ]
     },
     "execution_count": 48,
     "metadata": {},
     "output_type": "execute_result"
    }
   ],
   "source": [
    "rules = location_listener.get_rules().data\n",
    "\n",
    "rule_ids = [rule.id for rule in rules]\n",
    "\n",
    "location_listener.delete_rules(rule_ids)    "
   ]
  },
  {
   "cell_type": "markdown",
   "metadata": {},
   "source": [
    "### Create a StreamRule\n",
    "* Rule to get tweets in English (`lang:en`) about football "
   ]
  },
  {
   "cell_type": "code",
   "execution_count": 49,
   "metadata": {},
   "outputs": [
    {
     "data": {
      "text/plain": [
       "Response(data=[StreamRule(value='football lang:en', tag=None, id='1637538581475389444')], includes={}, errors=[], meta={'sent': '2023-03-19T19:36:37.793Z', 'summary': {'created': 1, 'not_created': 0, 'valid': 1, 'invalid': 0}})"
      ]
     },
     "execution_count": 49,
     "metadata": {},
     "output_type": "execute_result"
    }
   ],
   "source": [
    "location_listener.add_rules(\n",
    "    tweepy.StreamRule('football lang:en'))"
   ]
  },
  {
   "cell_type": "markdown",
   "metadata": {},
   "source": [
    "### Configure and Start the Stream of Tweets\n",
    "* start streaming the tweets\n",
    "    * expansion `'author_id'` gets information about the user who sent the tweet, including the `username`\n",
    "    * `user_fields` argument specifies that the user information should include the account’s `'location'` \n",
    "    * `tweet_fields` argument specifies additional information to include with each tweet—in this case, the tweet’s `language`\n"
   ]
  },
  {
   "cell_type": "code",
   "execution_count": 50,
   "metadata": {},
   "outputs": [
    {
     "name": "stdout",
     "output_type": "stream",
     "text": [
      "50: wandcfc: We would like to welcome new girls to ‘The Beautiful Game’ at our Wildcats sessions. Our sessions are fun, inclusive and a great place to make new friends and enjoy playing football. https://t.co/XAqB0VrN0x\n",
      "\n",
      "Stream connection closed by Twitter\n"
     ]
    }
   ],
   "source": [
    "location_listener.filter(expansions=['author_id'], \n",
    "    user_fields=['location'], tweet_fields=['lang'])"
   ]
  },
  {
   "cell_type": "markdown",
   "metadata": {
    "tags": []
   },
   "source": [
    "### Displaying the Location Statistics\n",
    "* check how many tweets we processed, how many had locations and the percentage that had locations"
   ]
  },
  {
   "cell_type": "code",
   "execution_count": 51,
   "metadata": {},
   "outputs": [
    {
     "data": {
      "text/plain": [
       "82"
      ]
     },
     "execution_count": 51,
     "metadata": {},
     "output_type": "execute_result"
    }
   ],
   "source": [
    "counts['total_tweets']"
   ]
  },
  {
   "cell_type": "code",
   "execution_count": 52,
   "metadata": {},
   "outputs": [
    {
     "data": {
      "text/plain": [
       "50"
      ]
     },
     "execution_count": 52,
     "metadata": {},
     "output_type": "execute_result"
    }
   ],
   "source": [
    "counts['locations']"
   ]
  },
  {
   "cell_type": "code",
   "execution_count": 53,
   "metadata": {},
   "outputs": [
    {
     "name": "stdout",
     "output_type": "stream",
     "text": [
      "61.0%\n"
     ]
    }
   ],
   "source": [
    "print(f'{counts[\"locations\"] / counts[\"total_tweets\"]:.1%}')"
   ]
  },
  {
   "cell_type": "markdown",
   "metadata": {},
   "source": [
    "### Geocoding the Locations\n",
    "* Use `get_geocodes` utility function (from `tweetutilities.py`; discussed in Section 12.15.2) to geocode the location of each tweet stored in the list of tweets"
   ]
  },
  {
   "cell_type": "code",
   "execution_count": 54,
   "metadata": {},
   "outputs": [
    {
     "name": "stdout",
     "output_type": "stream",
     "text": [
      "Getting coordinates for tweet locations...\n",
      "Done geocoding\n"
     ]
    }
   ],
   "source": [
    "from tweetutilities import get_geocodes\n",
    "\n",
    "bad_locations = get_geocodes(tweets)"
   ]
  },
  {
   "cell_type": "markdown",
   "metadata": {},
   "source": [
    "* For each tweet with a valid location, the `get_geocodes` function adds the new keys `'latitude'` and `'longitude'` to that tweet’s dictionary in the `tweets` list — these will be used to plot map markers on our interactive map"
   ]
  },
  {
   "cell_type": "markdown",
   "metadata": {},
   "source": [
    "### Displaying the Bad Location Statistics"
   ]
  },
  {
   "cell_type": "code",
   "execution_count": 55,
   "metadata": {},
   "outputs": [
    {
     "data": {
      "text/plain": [
       "5"
      ]
     },
     "execution_count": 55,
     "metadata": {},
     "output_type": "execute_result"
    }
   ],
   "source": [
    "bad_locations"
   ]
  },
  {
   "cell_type": "code",
   "execution_count": 56,
   "metadata": {},
   "outputs": [
    {
     "name": "stdout",
     "output_type": "stream",
     "text": [
      "10.0%\n"
     ]
    }
   ],
   "source": [
    "print(f'{bad_locations / counts[\"locations\"]:.1%}')"
   ]
  },
  {
   "cell_type": "markdown",
   "metadata": {},
   "source": [
    "### Cleaning the Data\n",
    "* Before we plot the tweet locations on a map, let’s use a pandas `DataFrame` to clean the data\n",
    "* When you create a * DataFrame* from the `tweets` list, it will contain the value `NaN` for the `'latitude'` and `'longitude'` of any tweet that does not have a valid location\n",
    "* `NaN` cannot be plotted on a map, so remove any rows containing `NaN` by calling the `DataFrame`’s `dropna` method"
   ]
  },
  {
   "cell_type": "code",
   "execution_count": 57,
   "metadata": {},
   "outputs": [],
   "source": [
    "import pandas as pd"
   ]
  },
  {
   "cell_type": "code",
   "execution_count": 58,
   "metadata": {},
   "outputs": [],
   "source": [
    "df = pd.DataFrame(tweets)"
   ]
  },
  {
   "cell_type": "code",
   "execution_count": 59,
   "metadata": {},
   "outputs": [
    {
     "data": {
      "text/html": [
       "<div>\n",
       "<style scoped>\n",
       "    .dataframe tbody tr th:only-of-type {\n",
       "        vertical-align: middle;\n",
       "    }\n",
       "\n",
       "    .dataframe tbody tr th {\n",
       "        vertical-align: top;\n",
       "    }\n",
       "\n",
       "    .dataframe thead th {\n",
       "        text-align: right;\n",
       "    }\n",
       "</style>\n",
       "<table border=\"1\" class=\"dataframe\">\n",
       "  <thead>\n",
       "    <tr style=\"text-align: right;\">\n",
       "      <th></th>\n",
       "      <th>username</th>\n",
       "      <th>text</th>\n",
       "      <th>location</th>\n",
       "      <th>latitude</th>\n",
       "      <th>longitude</th>\n",
       "    </tr>\n",
       "  </thead>\n",
       "  <tbody>\n",
       "    <tr>\n",
       "      <th>0</th>\n",
       "      <td>Chrisob1985</td>\n",
       "      <td>@AngelD53416774 Someone who doesn't know rules...</td>\n",
       "      <td>Ireland</td>\n",
       "      <td>53.175880</td>\n",
       "      <td>-8.146006</td>\n",
       "    </tr>\n",
       "    <tr>\n",
       "      <th>1</th>\n",
       "      <td>JJShreeve</td>\n",
       "      <td>Updating my football music playlist for my fut...</td>\n",
       "      <td>London</td>\n",
       "      <td>51.507408</td>\n",
       "      <td>-0.127699</td>\n",
       "    </tr>\n",
       "    <tr>\n",
       "      <th>2</th>\n",
       "      <td>Mango_the_OG</td>\n",
       "      <td>@lobzin_soul Amazing football watch the game</td>\n",
       "      <td>Mogwase, South Africa</td>\n",
       "      <td>-25.274700</td>\n",
       "      <td>27.210430</td>\n",
       "    </tr>\n",
       "    <tr>\n",
       "      <th>3</th>\n",
       "      <td>Ravennfer</td>\n",
       "      <td>Arbi is going down in history! 📚 @SignalsRiley...</td>\n",
       "      <td>Charlotte, NC</td>\n",
       "      <td>35.222860</td>\n",
       "      <td>-80.837960</td>\n",
       "    </tr>\n",
       "    <tr>\n",
       "      <th>4</th>\n",
       "      <td>FrnzJaeger</td>\n",
       "      <td>@Sachinettiyil Yesterday. Rakow Częstochowa  f...</td>\n",
       "      <td>Knoxville, TN</td>\n",
       "      <td>35.960680</td>\n",
       "      <td>-83.921030</td>\n",
       "    </tr>\n",
       "    <tr>\n",
       "      <th>5</th>\n",
       "      <td>MadVee_98</td>\n",
       "      <td>@Football__Stage Supersport is running with it</td>\n",
       "      <td>Durban</td>\n",
       "      <td>-29.857560</td>\n",
       "      <td>31.027810</td>\n",
       "    </tr>\n",
       "    <tr>\n",
       "      <th>6</th>\n",
       "      <td>leonsbilliards</td>\n",
       "      <td>@colin_dunlap how about go all in for football...</td>\n",
       "      <td>Wexford, PA</td>\n",
       "      <td>40.623340</td>\n",
       "      <td>-80.053800</td>\n",
       "    </tr>\n",
       "    <tr>\n",
       "      <th>7</th>\n",
       "      <td>Kyle_xcy</td>\n",
       "      <td>In terms of general football tweets is there a...</td>\n",
       "      <td>A galaxy far far away</td>\n",
       "      <td>-26.212320</td>\n",
       "      <td>152.400620</td>\n",
       "    </tr>\n",
       "    <tr>\n",
       "      <th>8</th>\n",
       "      <td>slickDA1st</td>\n",
       "      <td>@Olag0ke The way we watch football has changed...</td>\n",
       "      <td>Sane part of life</td>\n",
       "      <td>26.798370</td>\n",
       "      <td>80.885920</td>\n",
       "    </tr>\n",
       "    <tr>\n",
       "      <th>9</th>\n",
       "      <td>osmanuludag8888</td>\n",
       "      <td>@UEFAcom @Turbine_Potsdam Referees and politic...</td>\n",
       "      <td>Türkiye cumhuriyeti</td>\n",
       "      <td>39.066251</td>\n",
       "      <td>35.142286</td>\n",
       "    </tr>\n",
       "    <tr>\n",
       "      <th>10</th>\n",
       "      <td>liam_lightowler</td>\n",
       "      <td>@JayKelly00 It’s practically common knowledge ...</td>\n",
       "      <td>Leeds</td>\n",
       "      <td>53.800719</td>\n",
       "      <td>-1.550268</td>\n",
       "    </tr>\n",
       "    <tr>\n",
       "      <th>11</th>\n",
       "      <td>vact_amanur</td>\n",
       "      <td>#FCBarcelona \\n#LaLiga \\n#football \\n\\nWatch t...</td>\n",
       "      <td>Dhaka, Bangladesh</td>\n",
       "      <td>23.713250</td>\n",
       "      <td>90.399590</td>\n",
       "    </tr>\n",
       "    <tr>\n",
       "      <th>12</th>\n",
       "      <td>lfceIliot</td>\n",
       "      <td>@DunceDarion @KaguyaHive Hero card in EA Sport...</td>\n",
       "      <td>Liverpool, England</td>\n",
       "      <td>53.409367</td>\n",
       "      <td>-2.978495</td>\n",
       "    </tr>\n",
       "    <tr>\n",
       "      <th>13</th>\n",
       "      <td>TheBrazzo</td>\n",
       "      <td>@jin3proxy @raulfcbayern @MCFC__BH Doesn't mat...</td>\n",
       "      <td>Allianz Arena</td>\n",
       "      <td>48.218650</td>\n",
       "      <td>11.624670</td>\n",
       "    </tr>\n",
       "    <tr>\n",
       "      <th>14</th>\n",
       "      <td>ben_brumby</td>\n",
       "      <td>@GarethBricknel1 @Clarkeyy106 Football in Bury...</td>\n",
       "      <td>Bury, England</td>\n",
       "      <td>53.592708</td>\n",
       "      <td>-2.298768</td>\n",
       "    </tr>\n",
       "    <tr>\n",
       "      <th>15</th>\n",
       "      <td>PaulMountaineer</td>\n",
       "      <td>Going LIVE at 4pm EASTERN to talk Spring Footb...</td>\n",
       "      <td>South Point, OH</td>\n",
       "      <td>38.421870</td>\n",
       "      <td>-82.575520</td>\n",
       "    </tr>\n",
       "    <tr>\n",
       "      <th>16</th>\n",
       "      <td>Kyalutations</td>\n",
       "      <td>@ManUtd Playing that sh*t football 🚮, some hab...</td>\n",
       "      <td>🇰🇪</td>\n",
       "      <td>NaN</td>\n",
       "      <td>NaN</td>\n",
       "    </tr>\n",
       "    <tr>\n",
       "      <th>17</th>\n",
       "      <td>James07910075</td>\n",
       "      <td>@ArianeSherine It can be any sport, Ariane. I ...</td>\n",
       "      <td>Lawrenceville, GA</td>\n",
       "      <td>33.953120</td>\n",
       "      <td>-83.988040</td>\n",
       "    </tr>\n",
       "    <tr>\n",
       "      <th>18</th>\n",
       "      <td>burntdiodes</td>\n",
       "      <td>@BCrawford247 The program goes as football and...</td>\n",
       "      <td>Yuma, AZ</td>\n",
       "      <td>32.685490</td>\n",
       "      <td>-114.624610</td>\n",
       "    </tr>\n",
       "    <tr>\n",
       "      <th>19</th>\n",
       "      <td>L1I2M3I</td>\n",
       "      <td>@WPage14 @FulhamFC that was very selfish of Mi...</td>\n",
       "      <td>Manchester</td>\n",
       "      <td>53.478956</td>\n",
       "      <td>-2.245276</td>\n",
       "    </tr>\n",
       "    <tr>\n",
       "      <th>20</th>\n",
       "      <td>LagMetropolitan</td>\n",
       "      <td>Serie A overwhelming favourite Napoli defeats ...</td>\n",
       "      <td>Lagos, Nigeria</td>\n",
       "      <td>6.454700</td>\n",
       "      <td>3.388760</td>\n",
       "    </tr>\n",
       "    <tr>\n",
       "      <th>21</th>\n",
       "      <td>SportsByBLinder</td>\n",
       "      <td>Dartmouth lineman, for Pa. high school footbal...</td>\n",
       "      <td>Mechanicsburg, PA</td>\n",
       "      <td>40.213200</td>\n",
       "      <td>-77.008340</td>\n",
       "    </tr>\n",
       "    <tr>\n",
       "      <th>22</th>\n",
       "      <td>Avenue_Health</td>\n",
       "      <td>Osteopathy could help to keep you match fit!\\n...</td>\n",
       "      <td>Cheam, Worcester Pk &amp; Surbiton</td>\n",
       "      <td>51.391480</td>\n",
       "      <td>-0.298250</td>\n",
       "    </tr>\n",
       "    <tr>\n",
       "      <th>23</th>\n",
       "      <td>manunitedrebel</td>\n",
       "      <td>After every single United game it's \\n\\n'Pench...</td>\n",
       "      <td>Ireland</td>\n",
       "      <td>53.175880</td>\n",
       "      <td>-8.146006</td>\n",
       "    </tr>\n",
       "    <tr>\n",
       "      <th>24</th>\n",
       "      <td>303Gonzo</td>\n",
       "      <td>Sandbox gets crowded #5A #football non confere...</td>\n",
       "      <td>Instagram as 303gonzo</td>\n",
       "      <td>NaN</td>\n",
       "      <td>NaN</td>\n",
       "    </tr>\n",
       "    <tr>\n",
       "      <th>25</th>\n",
       "      <td>NWSportDave</td>\n",
       "      <td>@sportsonly2021 @Dai_LT Steve is 44 now, so I ...</td>\n",
       "      <td>Rhyl, Wales</td>\n",
       "      <td>53.320716</td>\n",
       "      <td>-3.492399</td>\n",
       "    </tr>\n",
       "    <tr>\n",
       "      <th>26</th>\n",
       "      <td>Maurice46202398</td>\n",
       "      <td>Why is it that cricket &amp;amp; 🏉 rugby union can...</td>\n",
       "      <td>West Midlands</td>\n",
       "      <td>52.556970</td>\n",
       "      <td>-2.203580</td>\n",
       "    </tr>\n",
       "    <tr>\n",
       "      <th>27</th>\n",
       "      <td>vact_amanur</td>\n",
       "      <td>#FCBarcelona \\n#LaLiga \\n#football \\n\\nWatch t...</td>\n",
       "      <td>Dhaka, Bangladesh</td>\n",
       "      <td>23.713250</td>\n",
       "      <td>90.399590</td>\n",
       "    </tr>\n",
       "    <tr>\n",
       "      <th>28</th>\n",
       "      <td>Iconic_footbal1</td>\n",
       "      <td>95% of football fans know this guy https://t.c...</td>\n",
       "      <td>United Kingdom</td>\n",
       "      <td>53.408387</td>\n",
       "      <td>-1.969560</td>\n",
       "    </tr>\n",
       "    <tr>\n",
       "      <th>29</th>\n",
       "      <td>KurtGardner04</td>\n",
       "      <td>@C4Misogi My IRLs would crucify you for that l...</td>\n",
       "      <td>Saint Peter Port</td>\n",
       "      <td>49.457100</td>\n",
       "      <td>-2.535170</td>\n",
       "    </tr>\n",
       "    <tr>\n",
       "      <th>30</th>\n",
       "      <td>Enanmix</td>\n",
       "      <td>@AnfieldEdition Anyone that wants to keep Gome...</td>\n",
       "      <td>My body is in London</td>\n",
       "      <td>51.514450</td>\n",
       "      <td>-0.201400</td>\n",
       "    </tr>\n",
       "    <tr>\n",
       "      <th>31</th>\n",
       "      <td>TigerSuspended</td>\n",
       "      <td>@schwokk @huchukato @3YearLetterman We already...</td>\n",
       "      <td>Waco, TX</td>\n",
       "      <td>31.571820</td>\n",
       "      <td>-97.149500</td>\n",
       "    </tr>\n",
       "    <tr>\n",
       "      <th>32</th>\n",
       "      <td>NkanuEgbe</td>\n",
       "      <td>Serie A overwhelming favourite Napoli defeats ...</td>\n",
       "      <td>Lagos</td>\n",
       "      <td>6.454700</td>\n",
       "      <td>3.388760</td>\n",
       "    </tr>\n",
       "    <tr>\n",
       "      <th>33</th>\n",
       "      <td>jephszn</td>\n",
       "      <td>I went to show my football prowess today and n...</td>\n",
       "      <td>1k?</td>\n",
       "      <td>NaN</td>\n",
       "      <td>NaN</td>\n",
       "    </tr>\n",
       "    <tr>\n",
       "      <th>34</th>\n",
       "      <td>King_Anita_</td>\n",
       "      <td>@Naija_PR Football money is the best…</td>\n",
       "      <td>Warri, Nigeria</td>\n",
       "      <td>5.517370</td>\n",
       "      <td>5.750060</td>\n",
       "    </tr>\n",
       "    <tr>\n",
       "      <th>35</th>\n",
       "      <td>joshuapoindex10</td>\n",
       "      <td>@mikehawkinsj @jgpvisuals @OU_Football @TCUFoo...</td>\n",
       "      <td>Coweta, OK</td>\n",
       "      <td>35.951950</td>\n",
       "      <td>-95.650210</td>\n",
       "    </tr>\n",
       "    <tr>\n",
       "      <th>36</th>\n",
       "      <td>Jake_Edwards90</td>\n",
       "      <td>Too many quality football shirts for sale on t...</td>\n",
       "      <td>Carbondale, IL</td>\n",
       "      <td>37.727300</td>\n",
       "      <td>-89.215800</td>\n",
       "    </tr>\n",
       "    <tr>\n",
       "      <th>37</th>\n",
       "      <td>bhavik_daftary</td>\n",
       "      <td>@volklub @GAURAVMISHRA09 @TheAbhiz95 The more ...</td>\n",
       "      <td>Mumbai, Maharashtra, India</td>\n",
       "      <td>18.940170</td>\n",
       "      <td>72.834890</td>\n",
       "    </tr>\n",
       "    <tr>\n",
       "      <th>38</th>\n",
       "      <td>m_u_f_c___o_k</td>\n",
       "      <td>@Football__Tweet Absolutely.  Can’t fault any ...</td>\n",
       "      <td>England, United Kingdom</td>\n",
       "      <td>52.592734</td>\n",
       "      <td>-1.458627</td>\n",
       "    </tr>\n",
       "    <tr>\n",
       "      <th>39</th>\n",
       "      <td>SLGiftsZone</td>\n",
       "      <td>Kane did not need consoling after World Cup pe...</td>\n",
       "      <td>Usa</td>\n",
       "      <td>39.398703</td>\n",
       "      <td>-99.414619</td>\n",
       "    </tr>\n",
       "    <tr>\n",
       "      <th>40</th>\n",
       "      <td>ChelseaSmartest</td>\n",
       "      <td>@7soann @ESPNFC Manchester United should be in...</td>\n",
       "      <td>In your head 😭</td>\n",
       "      <td>NaN</td>\n",
       "      <td>NaN</td>\n",
       "    </tr>\n",
       "    <tr>\n",
       "      <th>41</th>\n",
       "      <td>Sh4331R</td>\n",
       "      <td>Marco’s Red, questions the Ref, Mitro’s Red, q...</td>\n",
       "      <td>London, England</td>\n",
       "      <td>51.507408</td>\n",
       "      <td>-0.127699</td>\n",
       "    </tr>\n",
       "    <tr>\n",
       "      <th>42</th>\n",
       "      <td>owusubineyisaac</td>\n",
       "      <td>@Andydotcom_gh Disgrace to Ghana football,#off...</td>\n",
       "      <td>Kumasi, Ghana</td>\n",
       "      <td>6.669280</td>\n",
       "      <td>-1.619420</td>\n",
       "    </tr>\n",
       "    <tr>\n",
       "      <th>43</th>\n",
       "      <td>MUFCRevival</td>\n",
       "      <td>Not one priemier league player and they say it...</td>\n",
       "      <td>England, United Kingdom</td>\n",
       "      <td>52.592734</td>\n",
       "      <td>-1.458627</td>\n",
       "    </tr>\n",
       "    <tr>\n",
       "      <th>44</th>\n",
       "      <td>AZAS_Ayta</td>\n",
       "      <td>@Football__Tweet I'm not sure what Fulham mana...</td>\n",
       "      <td>Stretford End</td>\n",
       "      <td>12.305850</td>\n",
       "      <td>76.687910</td>\n",
       "    </tr>\n",
       "    <tr>\n",
       "      <th>45</th>\n",
       "      <td>TrojanFan1969</td>\n",
       "      <td>@CCupo @DGerowPR Henry is chief Times football...</td>\n",
       "      <td>Long Eaton, Berlin, Duolingo</td>\n",
       "      <td>52.903687</td>\n",
       "      <td>-1.298469</td>\n",
       "    </tr>\n",
       "    <tr>\n",
       "      <th>46</th>\n",
       "      <td>AlexFfootball</td>\n",
       "      <td>@Football__Tweet Yep 100%. Clear hand ball. Si...</td>\n",
       "      <td>Manchester, England</td>\n",
       "      <td>53.478956</td>\n",
       "      <td>-2.245276</td>\n",
       "    </tr>\n",
       "    <tr>\n",
       "      <th>47</th>\n",
       "      <td>noikass</td>\n",
       "      <td>@Simbarbebleu @HE2S2P tape mockup jersey footb...</td>\n",
       "      <td>Pays Trop Mignon</td>\n",
       "      <td>33.178700</td>\n",
       "      <td>-86.250650</td>\n",
       "    </tr>\n",
       "    <tr>\n",
       "      <th>48</th>\n",
       "      <td>lincoln_jack1</td>\n",
       "      <td>@AlexBatt @terryflewers On the Football Terrac...</td>\n",
       "      <td>Anywhere that has a decent bed</td>\n",
       "      <td>NaN</td>\n",
       "      <td>NaN</td>\n",
       "    </tr>\n",
       "    <tr>\n",
       "      <th>49</th>\n",
       "      <td>wandcfc</td>\n",
       "      <td>We would like to welcome new girls to ‘The Bea...</td>\n",
       "      <td>Wallingford, Oxon</td>\n",
       "      <td>51.600980</td>\n",
       "      <td>-1.124543</td>\n",
       "    </tr>\n",
       "  </tbody>\n",
       "</table>\n",
       "</div>"
      ],
      "text/plain": [
       "           username                                               text  \\\n",
       "0       Chrisob1985  @AngelD53416774 Someone who doesn't know rules...   \n",
       "1         JJShreeve  Updating my football music playlist for my fut...   \n",
       "2      Mango_the_OG       @lobzin_soul Amazing football watch the game   \n",
       "3         Ravennfer  Arbi is going down in history! 📚 @SignalsRiley...   \n",
       "4        FrnzJaeger  @Sachinettiyil Yesterday. Rakow Częstochowa  f...   \n",
       "5         MadVee_98     @Football__Stage Supersport is running with it   \n",
       "6    leonsbilliards  @colin_dunlap how about go all in for football...   \n",
       "7          Kyle_xcy  In terms of general football tweets is there a...   \n",
       "8        slickDA1st  @Olag0ke The way we watch football has changed...   \n",
       "9   osmanuludag8888  @UEFAcom @Turbine_Potsdam Referees and politic...   \n",
       "10  liam_lightowler  @JayKelly00 It’s practically common knowledge ...   \n",
       "11      vact_amanur  #FCBarcelona \\n#LaLiga \\n#football \\n\\nWatch t...   \n",
       "12        lfceIliot  @DunceDarion @KaguyaHive Hero card in EA Sport...   \n",
       "13        TheBrazzo  @jin3proxy @raulfcbayern @MCFC__BH Doesn't mat...   \n",
       "14       ben_brumby  @GarethBricknel1 @Clarkeyy106 Football in Bury...   \n",
       "15  PaulMountaineer  Going LIVE at 4pm EASTERN to talk Spring Footb...   \n",
       "16     Kyalutations  @ManUtd Playing that sh*t football 🚮, some hab...   \n",
       "17    James07910075  @ArianeSherine It can be any sport, Ariane. I ...   \n",
       "18      burntdiodes  @BCrawford247 The program goes as football and...   \n",
       "19          L1I2M3I  @WPage14 @FulhamFC that was very selfish of Mi...   \n",
       "20  LagMetropolitan  Serie A overwhelming favourite Napoli defeats ...   \n",
       "21  SportsByBLinder  Dartmouth lineman, for Pa. high school footbal...   \n",
       "22    Avenue_Health  Osteopathy could help to keep you match fit!\\n...   \n",
       "23   manunitedrebel  After every single United game it's \\n\\n'Pench...   \n",
       "24         303Gonzo  Sandbox gets crowded #5A #football non confere...   \n",
       "25      NWSportDave  @sportsonly2021 @Dai_LT Steve is 44 now, so I ...   \n",
       "26  Maurice46202398  Why is it that cricket &amp; 🏉 rugby union can...   \n",
       "27      vact_amanur  #FCBarcelona \\n#LaLiga \\n#football \\n\\nWatch t...   \n",
       "28  Iconic_footbal1  95% of football fans know this guy https://t.c...   \n",
       "29    KurtGardner04  @C4Misogi My IRLs would crucify you for that l...   \n",
       "30          Enanmix  @AnfieldEdition Anyone that wants to keep Gome...   \n",
       "31   TigerSuspended  @schwokk @huchukato @3YearLetterman We already...   \n",
       "32        NkanuEgbe  Serie A overwhelming favourite Napoli defeats ...   \n",
       "33          jephszn  I went to show my football prowess today and n...   \n",
       "34      King_Anita_              @Naija_PR Football money is the best…   \n",
       "35  joshuapoindex10  @mikehawkinsj @jgpvisuals @OU_Football @TCUFoo...   \n",
       "36   Jake_Edwards90  Too many quality football shirts for sale on t...   \n",
       "37   bhavik_daftary  @volklub @GAURAVMISHRA09 @TheAbhiz95 The more ...   \n",
       "38    m_u_f_c___o_k  @Football__Tweet Absolutely.  Can’t fault any ...   \n",
       "39      SLGiftsZone  Kane did not need consoling after World Cup pe...   \n",
       "40  ChelseaSmartest  @7soann @ESPNFC Manchester United should be in...   \n",
       "41          Sh4331R  Marco’s Red, questions the Ref, Mitro’s Red, q...   \n",
       "42  owusubineyisaac  @Andydotcom_gh Disgrace to Ghana football,#off...   \n",
       "43      MUFCRevival  Not one priemier league player and they say it...   \n",
       "44        AZAS_Ayta  @Football__Tweet I'm not sure what Fulham mana...   \n",
       "45    TrojanFan1969  @CCupo @DGerowPR Henry is chief Times football...   \n",
       "46    AlexFfootball  @Football__Tweet Yep 100%. Clear hand ball. Si...   \n",
       "47          noikass  @Simbarbebleu @HE2S2P tape mockup jersey footb...   \n",
       "48    lincoln_jack1  @AlexBatt @terryflewers On the Football Terrac...   \n",
       "49          wandcfc  We would like to welcome new girls to ‘The Bea...   \n",
       "\n",
       "                          location   latitude   longitude  \n",
       "0                          Ireland  53.175880   -8.146006  \n",
       "1                           London  51.507408   -0.127699  \n",
       "2           Mogwase, South Africa  -25.274700   27.210430  \n",
       "3                    Charlotte, NC  35.222860  -80.837960  \n",
       "4                    Knoxville, TN  35.960680  -83.921030  \n",
       "5                           Durban -29.857560   31.027810  \n",
       "6                      Wexford, PA  40.623340  -80.053800  \n",
       "7            A galaxy far far away -26.212320  152.400620  \n",
       "8                Sane part of life  26.798370   80.885920  \n",
       "9             Türkiye cumhuriyeti   39.066251   35.142286  \n",
       "10                           Leeds  53.800719   -1.550268  \n",
       "11               Dhaka, Bangladesh  23.713250   90.399590  \n",
       "12              Liverpool, England  53.409367   -2.978495  \n",
       "13                   Allianz Arena  48.218650   11.624670  \n",
       "14                   Bury, England  53.592708   -2.298768  \n",
       "15                 South Point, OH  38.421870  -82.575520  \n",
       "16                              🇰🇪        NaN         NaN  \n",
       "17               Lawrenceville, GA  33.953120  -83.988040  \n",
       "18                        Yuma, AZ  32.685490 -114.624610  \n",
       "19                      Manchester  53.478956   -2.245276  \n",
       "20                  Lagos, Nigeria   6.454700    3.388760  \n",
       "21               Mechanicsburg, PA  40.213200  -77.008340  \n",
       "22  Cheam, Worcester Pk & Surbiton  51.391480   -0.298250  \n",
       "23                         Ireland  53.175880   -8.146006  \n",
       "24           Instagram as 303gonzo        NaN         NaN  \n",
       "25                     Rhyl, Wales  53.320716   -3.492399  \n",
       "26                   West Midlands  52.556970   -2.203580  \n",
       "27               Dhaka, Bangladesh  23.713250   90.399590  \n",
       "28                 United Kingdom   53.408387   -1.969560  \n",
       "29                Saint Peter Port  49.457100   -2.535170  \n",
       "30            My body is in London  51.514450   -0.201400  \n",
       "31                        Waco, TX  31.571820  -97.149500  \n",
       "32                           Lagos   6.454700    3.388760  \n",
       "33                             1k?        NaN         NaN  \n",
       "34                  Warri, Nigeria   5.517370    5.750060  \n",
       "35                      Coweta, OK  35.951950  -95.650210  \n",
       "36                  Carbondale, IL  37.727300  -89.215800  \n",
       "37      Mumbai, Maharashtra, India  18.940170   72.834890  \n",
       "38         England, United Kingdom  52.592734   -1.458627  \n",
       "39                             Usa  39.398703  -99.414619  \n",
       "40                  In your head 😭        NaN         NaN  \n",
       "41                 London, England  51.507408   -0.127699  \n",
       "42                   Kumasi, Ghana   6.669280   -1.619420  \n",
       "43         England, United Kingdom  52.592734   -1.458627  \n",
       "44                   Stretford End  12.305850   76.687910  \n",
       "45   Long Eaton, Berlin, Duolingo   52.903687   -1.298469  \n",
       "46             Manchester, England  53.478956   -2.245276  \n",
       "47                Pays Trop Mignon  33.178700  -86.250650  \n",
       "48  Anywhere that has a decent bed        NaN         NaN  \n",
       "49               Wallingford, Oxon  51.600980   -1.124543  "
      ]
     },
     "execution_count": 59,
     "metadata": {},
     "output_type": "execute_result"
    }
   ],
   "source": [
    "df"
   ]
  },
  {
   "cell_type": "code",
   "execution_count": 60,
   "metadata": {},
   "outputs": [],
   "source": [
    "df = df.dropna()"
   ]
  },
  {
   "cell_type": "code",
   "execution_count": 61,
   "metadata": {},
   "outputs": [
    {
     "data": {
      "text/html": [
       "<div>\n",
       "<style scoped>\n",
       "    .dataframe tbody tr th:only-of-type {\n",
       "        vertical-align: middle;\n",
       "    }\n",
       "\n",
       "    .dataframe tbody tr th {\n",
       "        vertical-align: top;\n",
       "    }\n",
       "\n",
       "    .dataframe thead th {\n",
       "        text-align: right;\n",
       "    }\n",
       "</style>\n",
       "<table border=\"1\" class=\"dataframe\">\n",
       "  <thead>\n",
       "    <tr style=\"text-align: right;\">\n",
       "      <th></th>\n",
       "      <th>username</th>\n",
       "      <th>text</th>\n",
       "      <th>location</th>\n",
       "      <th>latitude</th>\n",
       "      <th>longitude</th>\n",
       "    </tr>\n",
       "  </thead>\n",
       "  <tbody>\n",
       "    <tr>\n",
       "      <th>0</th>\n",
       "      <td>Chrisob1985</td>\n",
       "      <td>@AngelD53416774 Someone who doesn't know rules...</td>\n",
       "      <td>Ireland</td>\n",
       "      <td>53.175880</td>\n",
       "      <td>-8.146006</td>\n",
       "    </tr>\n",
       "    <tr>\n",
       "      <th>1</th>\n",
       "      <td>JJShreeve</td>\n",
       "      <td>Updating my football music playlist for my fut...</td>\n",
       "      <td>London</td>\n",
       "      <td>51.507408</td>\n",
       "      <td>-0.127699</td>\n",
       "    </tr>\n",
       "    <tr>\n",
       "      <th>2</th>\n",
       "      <td>Mango_the_OG</td>\n",
       "      <td>@lobzin_soul Amazing football watch the game</td>\n",
       "      <td>Mogwase, South Africa</td>\n",
       "      <td>-25.274700</td>\n",
       "      <td>27.210430</td>\n",
       "    </tr>\n",
       "    <tr>\n",
       "      <th>3</th>\n",
       "      <td>Ravennfer</td>\n",
       "      <td>Arbi is going down in history! 📚 @SignalsRiley...</td>\n",
       "      <td>Charlotte, NC</td>\n",
       "      <td>35.222860</td>\n",
       "      <td>-80.837960</td>\n",
       "    </tr>\n",
       "    <tr>\n",
       "      <th>4</th>\n",
       "      <td>FrnzJaeger</td>\n",
       "      <td>@Sachinettiyil Yesterday. Rakow Częstochowa  f...</td>\n",
       "      <td>Knoxville, TN</td>\n",
       "      <td>35.960680</td>\n",
       "      <td>-83.921030</td>\n",
       "    </tr>\n",
       "    <tr>\n",
       "      <th>5</th>\n",
       "      <td>MadVee_98</td>\n",
       "      <td>@Football__Stage Supersport is running with it</td>\n",
       "      <td>Durban</td>\n",
       "      <td>-29.857560</td>\n",
       "      <td>31.027810</td>\n",
       "    </tr>\n",
       "    <tr>\n",
       "      <th>6</th>\n",
       "      <td>leonsbilliards</td>\n",
       "      <td>@colin_dunlap how about go all in for football...</td>\n",
       "      <td>Wexford, PA</td>\n",
       "      <td>40.623340</td>\n",
       "      <td>-80.053800</td>\n",
       "    </tr>\n",
       "    <tr>\n",
       "      <th>7</th>\n",
       "      <td>Kyle_xcy</td>\n",
       "      <td>In terms of general football tweets is there a...</td>\n",
       "      <td>A galaxy far far away</td>\n",
       "      <td>-26.212320</td>\n",
       "      <td>152.400620</td>\n",
       "    </tr>\n",
       "    <tr>\n",
       "      <th>8</th>\n",
       "      <td>slickDA1st</td>\n",
       "      <td>@Olag0ke The way we watch football has changed...</td>\n",
       "      <td>Sane part of life</td>\n",
       "      <td>26.798370</td>\n",
       "      <td>80.885920</td>\n",
       "    </tr>\n",
       "    <tr>\n",
       "      <th>9</th>\n",
       "      <td>osmanuludag8888</td>\n",
       "      <td>@UEFAcom @Turbine_Potsdam Referees and politic...</td>\n",
       "      <td>Türkiye cumhuriyeti</td>\n",
       "      <td>39.066251</td>\n",
       "      <td>35.142286</td>\n",
       "    </tr>\n",
       "    <tr>\n",
       "      <th>10</th>\n",
       "      <td>liam_lightowler</td>\n",
       "      <td>@JayKelly00 It’s practically common knowledge ...</td>\n",
       "      <td>Leeds</td>\n",
       "      <td>53.800719</td>\n",
       "      <td>-1.550268</td>\n",
       "    </tr>\n",
       "    <tr>\n",
       "      <th>11</th>\n",
       "      <td>vact_amanur</td>\n",
       "      <td>#FCBarcelona \\n#LaLiga \\n#football \\n\\nWatch t...</td>\n",
       "      <td>Dhaka, Bangladesh</td>\n",
       "      <td>23.713250</td>\n",
       "      <td>90.399590</td>\n",
       "    </tr>\n",
       "    <tr>\n",
       "      <th>12</th>\n",
       "      <td>lfceIliot</td>\n",
       "      <td>@DunceDarion @KaguyaHive Hero card in EA Sport...</td>\n",
       "      <td>Liverpool, England</td>\n",
       "      <td>53.409367</td>\n",
       "      <td>-2.978495</td>\n",
       "    </tr>\n",
       "    <tr>\n",
       "      <th>13</th>\n",
       "      <td>TheBrazzo</td>\n",
       "      <td>@jin3proxy @raulfcbayern @MCFC__BH Doesn't mat...</td>\n",
       "      <td>Allianz Arena</td>\n",
       "      <td>48.218650</td>\n",
       "      <td>11.624670</td>\n",
       "    </tr>\n",
       "    <tr>\n",
       "      <th>14</th>\n",
       "      <td>ben_brumby</td>\n",
       "      <td>@GarethBricknel1 @Clarkeyy106 Football in Bury...</td>\n",
       "      <td>Bury, England</td>\n",
       "      <td>53.592708</td>\n",
       "      <td>-2.298768</td>\n",
       "    </tr>\n",
       "    <tr>\n",
       "      <th>15</th>\n",
       "      <td>PaulMountaineer</td>\n",
       "      <td>Going LIVE at 4pm EASTERN to talk Spring Footb...</td>\n",
       "      <td>South Point, OH</td>\n",
       "      <td>38.421870</td>\n",
       "      <td>-82.575520</td>\n",
       "    </tr>\n",
       "    <tr>\n",
       "      <th>17</th>\n",
       "      <td>James07910075</td>\n",
       "      <td>@ArianeSherine It can be any sport, Ariane. I ...</td>\n",
       "      <td>Lawrenceville, GA</td>\n",
       "      <td>33.953120</td>\n",
       "      <td>-83.988040</td>\n",
       "    </tr>\n",
       "    <tr>\n",
       "      <th>18</th>\n",
       "      <td>burntdiodes</td>\n",
       "      <td>@BCrawford247 The program goes as football and...</td>\n",
       "      <td>Yuma, AZ</td>\n",
       "      <td>32.685490</td>\n",
       "      <td>-114.624610</td>\n",
       "    </tr>\n",
       "    <tr>\n",
       "      <th>19</th>\n",
       "      <td>L1I2M3I</td>\n",
       "      <td>@WPage14 @FulhamFC that was very selfish of Mi...</td>\n",
       "      <td>Manchester</td>\n",
       "      <td>53.478956</td>\n",
       "      <td>-2.245276</td>\n",
       "    </tr>\n",
       "    <tr>\n",
       "      <th>20</th>\n",
       "      <td>LagMetropolitan</td>\n",
       "      <td>Serie A overwhelming favourite Napoli defeats ...</td>\n",
       "      <td>Lagos, Nigeria</td>\n",
       "      <td>6.454700</td>\n",
       "      <td>3.388760</td>\n",
       "    </tr>\n",
       "    <tr>\n",
       "      <th>21</th>\n",
       "      <td>SportsByBLinder</td>\n",
       "      <td>Dartmouth lineman, for Pa. high school footbal...</td>\n",
       "      <td>Mechanicsburg, PA</td>\n",
       "      <td>40.213200</td>\n",
       "      <td>-77.008340</td>\n",
       "    </tr>\n",
       "    <tr>\n",
       "      <th>22</th>\n",
       "      <td>Avenue_Health</td>\n",
       "      <td>Osteopathy could help to keep you match fit!\\n...</td>\n",
       "      <td>Cheam, Worcester Pk &amp; Surbiton</td>\n",
       "      <td>51.391480</td>\n",
       "      <td>-0.298250</td>\n",
       "    </tr>\n",
       "    <tr>\n",
       "      <th>23</th>\n",
       "      <td>manunitedrebel</td>\n",
       "      <td>After every single United game it's \\n\\n'Pench...</td>\n",
       "      <td>Ireland</td>\n",
       "      <td>53.175880</td>\n",
       "      <td>-8.146006</td>\n",
       "    </tr>\n",
       "    <tr>\n",
       "      <th>25</th>\n",
       "      <td>NWSportDave</td>\n",
       "      <td>@sportsonly2021 @Dai_LT Steve is 44 now, so I ...</td>\n",
       "      <td>Rhyl, Wales</td>\n",
       "      <td>53.320716</td>\n",
       "      <td>-3.492399</td>\n",
       "    </tr>\n",
       "    <tr>\n",
       "      <th>26</th>\n",
       "      <td>Maurice46202398</td>\n",
       "      <td>Why is it that cricket &amp;amp; 🏉 rugby union can...</td>\n",
       "      <td>West Midlands</td>\n",
       "      <td>52.556970</td>\n",
       "      <td>-2.203580</td>\n",
       "    </tr>\n",
       "    <tr>\n",
       "      <th>27</th>\n",
       "      <td>vact_amanur</td>\n",
       "      <td>#FCBarcelona \\n#LaLiga \\n#football \\n\\nWatch t...</td>\n",
       "      <td>Dhaka, Bangladesh</td>\n",
       "      <td>23.713250</td>\n",
       "      <td>90.399590</td>\n",
       "    </tr>\n",
       "    <tr>\n",
       "      <th>28</th>\n",
       "      <td>Iconic_footbal1</td>\n",
       "      <td>95% of football fans know this guy https://t.c...</td>\n",
       "      <td>United Kingdom</td>\n",
       "      <td>53.408387</td>\n",
       "      <td>-1.969560</td>\n",
       "    </tr>\n",
       "    <tr>\n",
       "      <th>29</th>\n",
       "      <td>KurtGardner04</td>\n",
       "      <td>@C4Misogi My IRLs would crucify you for that l...</td>\n",
       "      <td>Saint Peter Port</td>\n",
       "      <td>49.457100</td>\n",
       "      <td>-2.535170</td>\n",
       "    </tr>\n",
       "    <tr>\n",
       "      <th>30</th>\n",
       "      <td>Enanmix</td>\n",
       "      <td>@AnfieldEdition Anyone that wants to keep Gome...</td>\n",
       "      <td>My body is in London</td>\n",
       "      <td>51.514450</td>\n",
       "      <td>-0.201400</td>\n",
       "    </tr>\n",
       "    <tr>\n",
       "      <th>31</th>\n",
       "      <td>TigerSuspended</td>\n",
       "      <td>@schwokk @huchukato @3YearLetterman We already...</td>\n",
       "      <td>Waco, TX</td>\n",
       "      <td>31.571820</td>\n",
       "      <td>-97.149500</td>\n",
       "    </tr>\n",
       "    <tr>\n",
       "      <th>32</th>\n",
       "      <td>NkanuEgbe</td>\n",
       "      <td>Serie A overwhelming favourite Napoli defeats ...</td>\n",
       "      <td>Lagos</td>\n",
       "      <td>6.454700</td>\n",
       "      <td>3.388760</td>\n",
       "    </tr>\n",
       "    <tr>\n",
       "      <th>34</th>\n",
       "      <td>King_Anita_</td>\n",
       "      <td>@Naija_PR Football money is the best…</td>\n",
       "      <td>Warri, Nigeria</td>\n",
       "      <td>5.517370</td>\n",
       "      <td>5.750060</td>\n",
       "    </tr>\n",
       "    <tr>\n",
       "      <th>35</th>\n",
       "      <td>joshuapoindex10</td>\n",
       "      <td>@mikehawkinsj @jgpvisuals @OU_Football @TCUFoo...</td>\n",
       "      <td>Coweta, OK</td>\n",
       "      <td>35.951950</td>\n",
       "      <td>-95.650210</td>\n",
       "    </tr>\n",
       "    <tr>\n",
       "      <th>36</th>\n",
       "      <td>Jake_Edwards90</td>\n",
       "      <td>Too many quality football shirts for sale on t...</td>\n",
       "      <td>Carbondale, IL</td>\n",
       "      <td>37.727300</td>\n",
       "      <td>-89.215800</td>\n",
       "    </tr>\n",
       "    <tr>\n",
       "      <th>37</th>\n",
       "      <td>bhavik_daftary</td>\n",
       "      <td>@volklub @GAURAVMISHRA09 @TheAbhiz95 The more ...</td>\n",
       "      <td>Mumbai, Maharashtra, India</td>\n",
       "      <td>18.940170</td>\n",
       "      <td>72.834890</td>\n",
       "    </tr>\n",
       "    <tr>\n",
       "      <th>38</th>\n",
       "      <td>m_u_f_c___o_k</td>\n",
       "      <td>@Football__Tweet Absolutely.  Can’t fault any ...</td>\n",
       "      <td>England, United Kingdom</td>\n",
       "      <td>52.592734</td>\n",
       "      <td>-1.458627</td>\n",
       "    </tr>\n",
       "    <tr>\n",
       "      <th>39</th>\n",
       "      <td>SLGiftsZone</td>\n",
       "      <td>Kane did not need consoling after World Cup pe...</td>\n",
       "      <td>Usa</td>\n",
       "      <td>39.398703</td>\n",
       "      <td>-99.414619</td>\n",
       "    </tr>\n",
       "    <tr>\n",
       "      <th>41</th>\n",
       "      <td>Sh4331R</td>\n",
       "      <td>Marco’s Red, questions the Ref, Mitro’s Red, q...</td>\n",
       "      <td>London, England</td>\n",
       "      <td>51.507408</td>\n",
       "      <td>-0.127699</td>\n",
       "    </tr>\n",
       "    <tr>\n",
       "      <th>42</th>\n",
       "      <td>owusubineyisaac</td>\n",
       "      <td>@Andydotcom_gh Disgrace to Ghana football,#off...</td>\n",
       "      <td>Kumasi, Ghana</td>\n",
       "      <td>6.669280</td>\n",
       "      <td>-1.619420</td>\n",
       "    </tr>\n",
       "    <tr>\n",
       "      <th>43</th>\n",
       "      <td>MUFCRevival</td>\n",
       "      <td>Not one priemier league player and they say it...</td>\n",
       "      <td>England, United Kingdom</td>\n",
       "      <td>52.592734</td>\n",
       "      <td>-1.458627</td>\n",
       "    </tr>\n",
       "    <tr>\n",
       "      <th>44</th>\n",
       "      <td>AZAS_Ayta</td>\n",
       "      <td>@Football__Tweet I'm not sure what Fulham mana...</td>\n",
       "      <td>Stretford End</td>\n",
       "      <td>12.305850</td>\n",
       "      <td>76.687910</td>\n",
       "    </tr>\n",
       "    <tr>\n",
       "      <th>45</th>\n",
       "      <td>TrojanFan1969</td>\n",
       "      <td>@CCupo @DGerowPR Henry is chief Times football...</td>\n",
       "      <td>Long Eaton, Berlin, Duolingo</td>\n",
       "      <td>52.903687</td>\n",
       "      <td>-1.298469</td>\n",
       "    </tr>\n",
       "    <tr>\n",
       "      <th>46</th>\n",
       "      <td>AlexFfootball</td>\n",
       "      <td>@Football__Tweet Yep 100%. Clear hand ball. Si...</td>\n",
       "      <td>Manchester, England</td>\n",
       "      <td>53.478956</td>\n",
       "      <td>-2.245276</td>\n",
       "    </tr>\n",
       "    <tr>\n",
       "      <th>47</th>\n",
       "      <td>noikass</td>\n",
       "      <td>@Simbarbebleu @HE2S2P tape mockup jersey footb...</td>\n",
       "      <td>Pays Trop Mignon</td>\n",
       "      <td>33.178700</td>\n",
       "      <td>-86.250650</td>\n",
       "    </tr>\n",
       "    <tr>\n",
       "      <th>49</th>\n",
       "      <td>wandcfc</td>\n",
       "      <td>We would like to welcome new girls to ‘The Bea...</td>\n",
       "      <td>Wallingford, Oxon</td>\n",
       "      <td>51.600980</td>\n",
       "      <td>-1.124543</td>\n",
       "    </tr>\n",
       "  </tbody>\n",
       "</table>\n",
       "</div>"
      ],
      "text/plain": [
       "           username                                               text  \\\n",
       "0       Chrisob1985  @AngelD53416774 Someone who doesn't know rules...   \n",
       "1         JJShreeve  Updating my football music playlist for my fut...   \n",
       "2      Mango_the_OG       @lobzin_soul Amazing football watch the game   \n",
       "3         Ravennfer  Arbi is going down in history! 📚 @SignalsRiley...   \n",
       "4        FrnzJaeger  @Sachinettiyil Yesterday. Rakow Częstochowa  f...   \n",
       "5         MadVee_98     @Football__Stage Supersport is running with it   \n",
       "6    leonsbilliards  @colin_dunlap how about go all in for football...   \n",
       "7          Kyle_xcy  In terms of general football tweets is there a...   \n",
       "8        slickDA1st  @Olag0ke The way we watch football has changed...   \n",
       "9   osmanuludag8888  @UEFAcom @Turbine_Potsdam Referees and politic...   \n",
       "10  liam_lightowler  @JayKelly00 It’s practically common knowledge ...   \n",
       "11      vact_amanur  #FCBarcelona \\n#LaLiga \\n#football \\n\\nWatch t...   \n",
       "12        lfceIliot  @DunceDarion @KaguyaHive Hero card in EA Sport...   \n",
       "13        TheBrazzo  @jin3proxy @raulfcbayern @MCFC__BH Doesn't mat...   \n",
       "14       ben_brumby  @GarethBricknel1 @Clarkeyy106 Football in Bury...   \n",
       "15  PaulMountaineer  Going LIVE at 4pm EASTERN to talk Spring Footb...   \n",
       "17    James07910075  @ArianeSherine It can be any sport, Ariane. I ...   \n",
       "18      burntdiodes  @BCrawford247 The program goes as football and...   \n",
       "19          L1I2M3I  @WPage14 @FulhamFC that was very selfish of Mi...   \n",
       "20  LagMetropolitan  Serie A overwhelming favourite Napoli defeats ...   \n",
       "21  SportsByBLinder  Dartmouth lineman, for Pa. high school footbal...   \n",
       "22    Avenue_Health  Osteopathy could help to keep you match fit!\\n...   \n",
       "23   manunitedrebel  After every single United game it's \\n\\n'Pench...   \n",
       "25      NWSportDave  @sportsonly2021 @Dai_LT Steve is 44 now, so I ...   \n",
       "26  Maurice46202398  Why is it that cricket &amp; 🏉 rugby union can...   \n",
       "27      vact_amanur  #FCBarcelona \\n#LaLiga \\n#football \\n\\nWatch t...   \n",
       "28  Iconic_footbal1  95% of football fans know this guy https://t.c...   \n",
       "29    KurtGardner04  @C4Misogi My IRLs would crucify you for that l...   \n",
       "30          Enanmix  @AnfieldEdition Anyone that wants to keep Gome...   \n",
       "31   TigerSuspended  @schwokk @huchukato @3YearLetterman We already...   \n",
       "32        NkanuEgbe  Serie A overwhelming favourite Napoli defeats ...   \n",
       "34      King_Anita_              @Naija_PR Football money is the best…   \n",
       "35  joshuapoindex10  @mikehawkinsj @jgpvisuals @OU_Football @TCUFoo...   \n",
       "36   Jake_Edwards90  Too many quality football shirts for sale on t...   \n",
       "37   bhavik_daftary  @volklub @GAURAVMISHRA09 @TheAbhiz95 The more ...   \n",
       "38    m_u_f_c___o_k  @Football__Tweet Absolutely.  Can’t fault any ...   \n",
       "39      SLGiftsZone  Kane did not need consoling after World Cup pe...   \n",
       "41          Sh4331R  Marco’s Red, questions the Ref, Mitro’s Red, q...   \n",
       "42  owusubineyisaac  @Andydotcom_gh Disgrace to Ghana football,#off...   \n",
       "43      MUFCRevival  Not one priemier league player and they say it...   \n",
       "44        AZAS_Ayta  @Football__Tweet I'm not sure what Fulham mana...   \n",
       "45    TrojanFan1969  @CCupo @DGerowPR Henry is chief Times football...   \n",
       "46    AlexFfootball  @Football__Tweet Yep 100%. Clear hand ball. Si...   \n",
       "47          noikass  @Simbarbebleu @HE2S2P tape mockup jersey footb...   \n",
       "49          wandcfc  We would like to welcome new girls to ‘The Bea...   \n",
       "\n",
       "                          location   latitude   longitude  \n",
       "0                          Ireland  53.175880   -8.146006  \n",
       "1                           London  51.507408   -0.127699  \n",
       "2           Mogwase, South Africa  -25.274700   27.210430  \n",
       "3                    Charlotte, NC  35.222860  -80.837960  \n",
       "4                    Knoxville, TN  35.960680  -83.921030  \n",
       "5                           Durban -29.857560   31.027810  \n",
       "6                      Wexford, PA  40.623340  -80.053800  \n",
       "7            A galaxy far far away -26.212320  152.400620  \n",
       "8                Sane part of life  26.798370   80.885920  \n",
       "9             Türkiye cumhuriyeti   39.066251   35.142286  \n",
       "10                           Leeds  53.800719   -1.550268  \n",
       "11               Dhaka, Bangladesh  23.713250   90.399590  \n",
       "12              Liverpool, England  53.409367   -2.978495  \n",
       "13                   Allianz Arena  48.218650   11.624670  \n",
       "14                   Bury, England  53.592708   -2.298768  \n",
       "15                 South Point, OH  38.421870  -82.575520  \n",
       "17               Lawrenceville, GA  33.953120  -83.988040  \n",
       "18                        Yuma, AZ  32.685490 -114.624610  \n",
       "19                      Manchester  53.478956   -2.245276  \n",
       "20                  Lagos, Nigeria   6.454700    3.388760  \n",
       "21               Mechanicsburg, PA  40.213200  -77.008340  \n",
       "22  Cheam, Worcester Pk & Surbiton  51.391480   -0.298250  \n",
       "23                         Ireland  53.175880   -8.146006  \n",
       "25                     Rhyl, Wales  53.320716   -3.492399  \n",
       "26                   West Midlands  52.556970   -2.203580  \n",
       "27               Dhaka, Bangladesh  23.713250   90.399590  \n",
       "28                 United Kingdom   53.408387   -1.969560  \n",
       "29                Saint Peter Port  49.457100   -2.535170  \n",
       "30            My body is in London  51.514450   -0.201400  \n",
       "31                        Waco, TX  31.571820  -97.149500  \n",
       "32                           Lagos   6.454700    3.388760  \n",
       "34                  Warri, Nigeria   5.517370    5.750060  \n",
       "35                      Coweta, OK  35.951950  -95.650210  \n",
       "36                  Carbondale, IL  37.727300  -89.215800  \n",
       "37      Mumbai, Maharashtra, India  18.940170   72.834890  \n",
       "38         England, United Kingdom  52.592734   -1.458627  \n",
       "39                             Usa  39.398703  -99.414619  \n",
       "41                 London, England  51.507408   -0.127699  \n",
       "42                   Kumasi, Ghana   6.669280   -1.619420  \n",
       "43         England, United Kingdom  52.592734   -1.458627  \n",
       "44                   Stretford End  12.305850   76.687910  \n",
       "45   Long Eaton, Berlin, Duolingo   52.903687   -1.298469  \n",
       "46             Manchester, England  53.478956   -2.245276  \n",
       "47                Pays Trop Mignon  33.178700  -86.250650  \n",
       "49               Wallingford, Oxon  51.600980   -1.124543  "
      ]
     },
     "execution_count": 61,
     "metadata": {},
     "output_type": "execute_result"
    }
   ],
   "source": [
    "df"
   ]
  },
  {
   "cell_type": "markdown",
   "metadata": {},
   "source": [
    "### Creating a Map with Folium\n",
    "Create a folium Map on which we’ll plot the tweet locations"
   ]
  },
  {
   "cell_type": "code",
   "execution_count": 62,
   "metadata": {},
   "outputs": [],
   "source": [
    "import folium"
   ]
  },
  {
   "cell_type": "code",
   "execution_count": 63,
   "metadata": {},
   "outputs": [],
   "source": [
    "usmap = folium.Map(location=[39.8283, -98.5795], \n",
    "    tiles='Stamen Terrain', zoom_start=5, detect_retina=True)"
   ]
  },
  {
   "cell_type": "markdown",
   "metadata": {},
   "source": [
    "* `location` keyword argument specifies a sequence containing latitude and longitude coordinates for the **map’s center point** \n",
    "    * The values in this snippet are the **geographic center of the continental United States**\n",
    "    * In many places worldwide, the term `'football'` describes the sport we call soccer in the U.S., so some of the tweets we plot may be outside the U.S\n",
    "    * You can zoom using the **+** and **–** buttons at the map’s top-left, or you can dragging the map with the mouse (that is, pan) to see anywhere in the world\n",
    "*  `zoom_start` keyword argument specifies the map’s initial zoom level, lower values show more of the world\n",
    "* `detect_retina` keyword argument enables folium to detect high-resolution screens to use higher-resolution maps from `OpenStreetMap.org`"
   ]
  },
  {
   "cell_type": "markdown",
   "metadata": {},
   "source": [
    "### Creating Popup Markers for the Tweet Locations\n",
    "* Create `folium` `Popup` objects containing each tweet’s text and add them to the `Map`\n",
    "* `DataFrame` method `itertuples` creates a named tuple from each row containing properties corresponding to each `DataFrame` column"
   ]
  },
  {
   "cell_type": "code",
   "execution_count": 64,
   "metadata": {},
   "outputs": [],
   "source": [
    "for t in df.itertuples():\n",
    "    text = ': '.join([t.username, t.text])\n",
    "    popup = folium.Popup(text, parse_html=True)\n",
    "    marker = folium.Marker((t.latitude, t.longitude), \n",
    "                           popup=popup)\n",
    "    marker.add_to(usmap)"
   ]
  },
  {
   "cell_type": "markdown",
   "metadata": {},
   "source": [
    "* Creates a string (`text`) containing the user’s `username` and tweet `text` \n",
    "* Creates a `folium` `Popup` to display the `text`\n",
    "* Creates a `folium` `Marker`\n",
    "    * tuple to specify the `Marker`’s latitude and longitude\n",
    "    * `popup` keyword argument associates the tweet’s `Popup` object with the new `Marker`\n",
    "* Calls the `Marker`’s `add_to` method to specify the `Map` that will display the `Marker`"
   ]
  },
  {
   "cell_type": "markdown",
   "metadata": {},
   "source": [
    "### Saving the Map\n",
    "* Call the `Map`’s `save` method to store the map in an HTML file, which you can then double-click to open in your web browser"
   ]
  },
  {
   "cell_type": "code",
   "execution_count": 65,
   "metadata": {},
   "outputs": [],
   "source": [
    "usmap.save('tweet_map.html')"
   ]
  },
  {
   "cell_type": "code",
   "execution_count": 66,
   "metadata": {
    "tags": []
   },
   "outputs": [
    {
     "data": {
      "text/html": [
       "<div style=\"width:100%;\"><div style=\"position:relative;width:100%;height:0;padding-bottom:60%;\"><span style=\"color:#565656\">Make this Notebook Trusted to load map: File -> Trust Notebook</span><iframe srcdoc=\"&lt;!DOCTYPE html&gt;\n",
       "&lt;html&gt;\n",
       "&lt;head&gt;\n",
       "    \n",
       "    &lt;meta http-equiv=&quot;content-type&quot; content=&quot;text/html; charset=UTF-8&quot; /&gt;\n",
       "    \n",
       "        &lt;script&gt;\n",
       "            L_NO_TOUCH = false;\n",
       "            L_DISABLE_3D = false;\n",
       "        &lt;/script&gt;\n",
       "    \n",
       "    &lt;style&gt;html, body {width: 100%;height: 100%;margin: 0;padding: 0;}&lt;/style&gt;\n",
       "    &lt;style&gt;#map {position:absolute;top:0;bottom:0;right:0;left:0;}&lt;/style&gt;\n",
       "    &lt;script src=&quot;https://cdn.jsdelivr.net/npm/leaflet@1.9.3/dist/leaflet.js&quot;&gt;&lt;/script&gt;\n",
       "    &lt;script src=&quot;https://code.jquery.com/jquery-1.12.4.min.js&quot;&gt;&lt;/script&gt;\n",
       "    &lt;script src=&quot;https://cdn.jsdelivr.net/npm/bootstrap@5.2.2/dist/js/bootstrap.bundle.min.js&quot;&gt;&lt;/script&gt;\n",
       "    &lt;script src=&quot;https://cdnjs.cloudflare.com/ajax/libs/Leaflet.awesome-markers/2.0.2/leaflet.awesome-markers.js&quot;&gt;&lt;/script&gt;\n",
       "    &lt;link rel=&quot;stylesheet&quot; href=&quot;https://cdn.jsdelivr.net/npm/leaflet@1.9.3/dist/leaflet.css&quot;/&gt;\n",
       "    &lt;link rel=&quot;stylesheet&quot; href=&quot;https://cdn.jsdelivr.net/npm/bootstrap@5.2.2/dist/css/bootstrap.min.css&quot;/&gt;\n",
       "    &lt;link rel=&quot;stylesheet&quot; href=&quot;https://netdna.bootstrapcdn.com/bootstrap/3.0.0/css/bootstrap.min.css&quot;/&gt;\n",
       "    &lt;link rel=&quot;stylesheet&quot; href=&quot;https://cdn.jsdelivr.net/npm/@fortawesome/fontawesome-free@6.2.0/css/all.min.css&quot;/&gt;\n",
       "    &lt;link rel=&quot;stylesheet&quot; href=&quot;https://cdnjs.cloudflare.com/ajax/libs/Leaflet.awesome-markers/2.0.2/leaflet.awesome-markers.css&quot;/&gt;\n",
       "    &lt;link rel=&quot;stylesheet&quot; href=&quot;https://cdn.jsdelivr.net/gh/python-visualization/folium/folium/templates/leaflet.awesome.rotate.min.css&quot;/&gt;\n",
       "    \n",
       "            &lt;meta name=&quot;viewport&quot; content=&quot;width=device-width,\n",
       "                initial-scale=1.0, maximum-scale=1.0, user-scalable=no&quot; /&gt;\n",
       "            &lt;style&gt;\n",
       "                #map_8d4a6ca3b4593e4d87bc05aa5e3d2276 {\n",
       "                    position: relative;\n",
       "                    width: 100.0%;\n",
       "                    height: 100.0%;\n",
       "                    left: 0.0%;\n",
       "                    top: 0.0%;\n",
       "                }\n",
       "                .leaflet-container { font-size: 1rem; }\n",
       "            &lt;/style&gt;\n",
       "        \n",
       "&lt;/head&gt;\n",
       "&lt;body&gt;\n",
       "    \n",
       "    \n",
       "            &lt;div class=&quot;folium-map&quot; id=&quot;map_8d4a6ca3b4593e4d87bc05aa5e3d2276&quot; &gt;&lt;/div&gt;\n",
       "        \n",
       "&lt;/body&gt;\n",
       "&lt;script&gt;\n",
       "    \n",
       "    \n",
       "            var map_8d4a6ca3b4593e4d87bc05aa5e3d2276 = L.map(\n",
       "                &quot;map_8d4a6ca3b4593e4d87bc05aa5e3d2276&quot;,\n",
       "                {\n",
       "                    center: [39.8283, -98.5795],\n",
       "                    crs: L.CRS.EPSG3857,\n",
       "                    zoom: 5,\n",
       "                    zoomControl: true,\n",
       "                    preferCanvas: false,\n",
       "                    detectRetina: true,\n",
       "                }\n",
       "            );\n",
       "\n",
       "            \n",
       "\n",
       "        \n",
       "    \n",
       "            var tile_layer_903892e6e3e56015eb3310b3738cf700 = L.tileLayer(\n",
       "                &quot;https://stamen-tiles-{s}.a.ssl.fastly.net/terrain/{z}/{x}/{y}.jpg&quot;,\n",
       "                {&quot;attribution&quot;: &quot;Map tiles by \\u003ca target=\\&quot;_blank\\&quot; href=\\&quot;http://stamen.com\\&quot;\\u003eStamen Design\\u003c/a\\u003e, under \\u003ca target=\\&quot;_blank\\&quot; href=\\&quot;http://creativecommons.org/licenses/by/3.0\\&quot;\\u003eCC BY 3.0\\u003c/a\\u003e. Data by \\u0026copy; \\u003ca target=\\&quot;_blank\\&quot; href=\\&quot;http://openstreetmap.org\\&quot;\\u003eOpenStreetMap\\u003c/a\\u003e, under \\u003ca target=\\&quot;_blank\\&quot; href=\\&quot;http://creativecommons.org/licenses/by-sa/3.0\\&quot;\\u003eCC BY SA\\u003c/a\\u003e.&quot;, &quot;detectRetina&quot;: false, &quot;maxNativeZoom&quot;: 18, &quot;maxZoom&quot;: 18, &quot;minZoom&quot;: 0, &quot;noWrap&quot;: false, &quot;opacity&quot;: 1, &quot;subdomains&quot;: &quot;abc&quot;, &quot;tms&quot;: false}\n",
       "            ).addTo(map_8d4a6ca3b4593e4d87bc05aa5e3d2276);\n",
       "        \n",
       "    \n",
       "            var marker_e19807254c08b021c56f337037c95f51 = L.marker(\n",
       "                [53.17587984600004, -8.14600614699998],\n",
       "                {}\n",
       "            ).addTo(map_8d4a6ca3b4593e4d87bc05aa5e3d2276);\n",
       "        \n",
       "    \n",
       "        var popup_91b574cd024bba78df55f1a640e52306 = L.popup({&quot;maxWidth&quot;: &quot;100%&quot;});\n",
       "\n",
       "        \n",
       "            \n",
       "                var html_53979bb800bc2ebd6bc927f778264c1e = $(`&lt;div id=&quot;html_53979bb800bc2ebd6bc927f778264c1e&quot; style=&quot;width: 100.0%; height: 100.0%;&quot;&gt;Chrisob1985: @AngelD53416774 Someone who doesn&amp;#39;t know rules of football ffs 🙄 😒 😑&lt;/div&gt;`)[0];\n",
       "                popup_91b574cd024bba78df55f1a640e52306.setContent(html_53979bb800bc2ebd6bc927f778264c1e);\n",
       "            \n",
       "        \n",
       "\n",
       "        marker_e19807254c08b021c56f337037c95f51.bindPopup(popup_91b574cd024bba78df55f1a640e52306)\n",
       "        ;\n",
       "\n",
       "        \n",
       "    \n",
       "    \n",
       "            var marker_012c27db48d4ec39e8cf181c5c82e495 = L.marker(\n",
       "                [51.507408346000034, -0.12769887399997515],\n",
       "                {}\n",
       "            ).addTo(map_8d4a6ca3b4593e4d87bc05aa5e3d2276);\n",
       "        \n",
       "    \n",
       "        var popup_bb9d9e6f2f11873875a9943d40b1848e = L.popup({&quot;maxWidth&quot;: &quot;100%&quot;});\n",
       "\n",
       "        \n",
       "            \n",
       "                var html_52ddf5d3b46c4c12b2dd6626cc76d158 = $(`&lt;div id=&quot;html_52ddf5d3b46c4c12b2dd6626cc76d158&quot; style=&quot;width: 100.0%; height: 100.0%;&quot;&gt;JJShreeve: Updating my football music playlist for my future @voices__radio shows. What tunes remind you of football? Could be stadium anthems, TV adverts, FIFA soundtracks etc. if it’s linked to football I want to know! https://t.co/rbZNPVfs6q&lt;/div&gt;`)[0];\n",
       "                popup_bb9d9e6f2f11873875a9943d40b1848e.setContent(html_52ddf5d3b46c4c12b2dd6626cc76d158);\n",
       "            \n",
       "        \n",
       "\n",
       "        marker_012c27db48d4ec39e8cf181c5c82e495.bindPopup(popup_bb9d9e6f2f11873875a9943d40b1848e)\n",
       "        ;\n",
       "\n",
       "        \n",
       "    \n",
       "    \n",
       "            var marker_751a1fd1d725afa0585f5e2fcfc81191 = L.marker(\n",
       "                [-25.27469999999994, 27.21043000000003],\n",
       "                {}\n",
       "            ).addTo(map_8d4a6ca3b4593e4d87bc05aa5e3d2276);\n",
       "        \n",
       "    \n",
       "        var popup_469799c034533bce1db36d6690435c74 = L.popup({&quot;maxWidth&quot;: &quot;100%&quot;});\n",
       "\n",
       "        \n",
       "            \n",
       "                var html_07ec8d4c097ce559ab489afc79b746e0 = $(`&lt;div id=&quot;html_07ec8d4c097ce559ab489afc79b746e0&quot; style=&quot;width: 100.0%; height: 100.0%;&quot;&gt;Mango_the_OG: @lobzin_soul Amazing football watch the game&lt;/div&gt;`)[0];\n",
       "                popup_469799c034533bce1db36d6690435c74.setContent(html_07ec8d4c097ce559ab489afc79b746e0);\n",
       "            \n",
       "        \n",
       "\n",
       "        marker_751a1fd1d725afa0585f5e2fcfc81191.bindPopup(popup_469799c034533bce1db36d6690435c74)\n",
       "        ;\n",
       "\n",
       "        \n",
       "    \n",
       "    \n",
       "            var marker_9fe4875b97f47a1cff0d1963f3ca9897 = L.marker(\n",
       "                [35.222860000000026, -80.83795999999995],\n",
       "                {}\n",
       "            ).addTo(map_8d4a6ca3b4593e4d87bc05aa5e3d2276);\n",
       "        \n",
       "    \n",
       "        var popup_9edbb9a596594f6bbfee2e607dff809e = L.popup({&quot;maxWidth&quot;: &quot;100%&quot;});\n",
       "\n",
       "        \n",
       "            \n",
       "                var html_b7e980dfe8bbdef887faa4201f14e144 = $(`&lt;div id=&quot;html_b7e980dfe8bbdef887faa4201f14e144&quot; style=&quot;width: 100.0%; height: 100.0%;&quot;&gt;Ravennfer: Arbi is going down in history! 📚 @SignalsRiley @Svinovich1 @xavi8kNFT @Beam52068370 @DrImranShahbaz @mateo_football @wise_BB_ @cheshboy @BcashFuck @maryh09042887 @diuvins @TusarIm77736504 https://t.co/vcFYfy8en1&lt;/div&gt;`)[0];\n",
       "                popup_9edbb9a596594f6bbfee2e607dff809e.setContent(html_b7e980dfe8bbdef887faa4201f14e144);\n",
       "            \n",
       "        \n",
       "\n",
       "        marker_9fe4875b97f47a1cff0d1963f3ca9897.bindPopup(popup_9edbb9a596594f6bbfee2e607dff809e)\n",
       "        ;\n",
       "\n",
       "        \n",
       "    \n",
       "    \n",
       "            var marker_476d0770c527aaaf03b64f7da94bd605 = L.marker(\n",
       "                [35.960680000000025, -83.92102999999997],\n",
       "                {}\n",
       "            ).addTo(map_8d4a6ca3b4593e4d87bc05aa5e3d2276);\n",
       "        \n",
       "    \n",
       "        var popup_31dbf700c8777974a840a2c7f80e6df2 = L.popup({&quot;maxWidth&quot;: &quot;100%&quot;});\n",
       "\n",
       "        \n",
       "            \n",
       "                var html_8e0b525691265717e99c9efbce4d6c34 = $(`&lt;div id=&quot;html_8e0b525691265717e99c9efbce4d6c34&quot; style=&quot;width: 100.0%; height: 100.0%;&quot;&gt;FrnzJaeger: @Sachinettiyil Yesterday. Rakow Częstochowa  football fans defending JP2. It says &amp;#39;communist security police couldn&amp;#39;t win with him and polish tvn tv won&amp;#39;t win with him after his death https://t.co/UNt2HjrjZf&lt;/div&gt;`)[0];\n",
       "                popup_31dbf700c8777974a840a2c7f80e6df2.setContent(html_8e0b525691265717e99c9efbce4d6c34);\n",
       "            \n",
       "        \n",
       "\n",
       "        marker_476d0770c527aaaf03b64f7da94bd605.bindPopup(popup_31dbf700c8777974a840a2c7f80e6df2)\n",
       "        ;\n",
       "\n",
       "        \n",
       "    \n",
       "    \n",
       "            var marker_6fce98066ed53ed0f16077990cc8fbba = L.marker(\n",
       "                [-29.857559999999978, 31.027810000000045],\n",
       "                {}\n",
       "            ).addTo(map_8d4a6ca3b4593e4d87bc05aa5e3d2276);\n",
       "        \n",
       "    \n",
       "        var popup_b0a3854c1f991777b7a5e10c59783a21 = L.popup({&quot;maxWidth&quot;: &quot;100%&quot;});\n",
       "\n",
       "        \n",
       "            \n",
       "                var html_7ec9d12d21e70de029632bcaaab20ab1 = $(`&lt;div id=&quot;html_7ec9d12d21e70de029632bcaaab20ab1&quot; style=&quot;width: 100.0%; height: 100.0%;&quot;&gt;MadVee_98: @Football__Stage Supersport is running with it&lt;/div&gt;`)[0];\n",
       "                popup_b0a3854c1f991777b7a5e10c59783a21.setContent(html_7ec9d12d21e70de029632bcaaab20ab1);\n",
       "            \n",
       "        \n",
       "\n",
       "        marker_6fce98066ed53ed0f16077990cc8fbba.bindPopup(popup_b0a3854c1f991777b7a5e10c59783a21)\n",
       "        ;\n",
       "\n",
       "        \n",
       "    \n",
       "    \n",
       "            var marker_eb6168ad5c10a9078f3b2a267877d461 = L.marker(\n",
       "                [40.62334000000004, -80.05379999999997],\n",
       "                {}\n",
       "            ).addTo(map_8d4a6ca3b4593e4d87bc05aa5e3d2276);\n",
       "        \n",
       "    \n",
       "        var popup_3a9fb4fbb16ad6986ecb1e8a83bbeb76 = L.popup({&quot;maxWidth&quot;: &quot;100%&quot;});\n",
       "\n",
       "        \n",
       "            \n",
       "                var html_4b69052f27ce5ea1ddbebfafe4f3d9d7 = $(`&lt;div id=&quot;html_4b69052f27ce5ea1ddbebfafe4f3d9d7&quot; style=&quot;width: 100.0%; height: 100.0%;&quot;&gt;leonsbilliards: @colin_dunlap how about go all in for football instead https://t.co/WvMFPcdOP0&lt;/div&gt;`)[0];\n",
       "                popup_3a9fb4fbb16ad6986ecb1e8a83bbeb76.setContent(html_4b69052f27ce5ea1ddbebfafe4f3d9d7);\n",
       "            \n",
       "        \n",
       "\n",
       "        marker_eb6168ad5c10a9078f3b2a267877d461.bindPopup(popup_3a9fb4fbb16ad6986ecb1e8a83bbeb76)\n",
       "        ;\n",
       "\n",
       "        \n",
       "    \n",
       "    \n",
       "            var marker_f8b0463ed5636974326d24b35dcb055d = L.marker(\n",
       "                [-26.212319999999977, 152.40062000000012],\n",
       "                {}\n",
       "            ).addTo(map_8d4a6ca3b4593e4d87bc05aa5e3d2276);\n",
       "        \n",
       "    \n",
       "        var popup_f7271dec2f38cfba3949408dbe67c4f8 = L.popup({&quot;maxWidth&quot;: &quot;100%&quot;});\n",
       "\n",
       "        \n",
       "            \n",
       "                var html_8ce1228bd361c184f445c620f6dd4b9b = $(`&lt;div id=&quot;html_8ce1228bd361c184f445c620f6dd4b9b&quot; style=&quot;width: 100.0%; height: 100.0%;&quot;&gt;Kyle_xcy: In terms of general football tweets is there a worse account https://t.co/qrqiTDTcwj&lt;/div&gt;`)[0];\n",
       "                popup_f7271dec2f38cfba3949408dbe67c4f8.setContent(html_8ce1228bd361c184f445c620f6dd4b9b);\n",
       "            \n",
       "        \n",
       "\n",
       "        marker_f8b0463ed5636974326d24b35dcb055d.bindPopup(popup_f7271dec2f38cfba3949408dbe67c4f8)\n",
       "        ;\n",
       "\n",
       "        \n",
       "    \n",
       "    \n",
       "            var marker_b0090bb711d5a90a51640336b0d47322 = L.marker(\n",
       "                [26.798370000000034, 80.88592000000006],\n",
       "                {}\n",
       "            ).addTo(map_8d4a6ca3b4593e4d87bc05aa5e3d2276);\n",
       "        \n",
       "    \n",
       "        var popup_dcc0c2322aaf2709c308c208c2f3aae4 = L.popup({&quot;maxWidth&quot;: &quot;100%&quot;});\n",
       "\n",
       "        \n",
       "            \n",
       "                var html_571b1da0bfc31c8823256664a3f40d9c = $(`&lt;div id=&quot;html_571b1da0bfc31c8823256664a3f40d9c&quot; style=&quot;width: 100.0%; height: 100.0%;&quot;&gt;slickDA1st: @Olag0ke The way we watch football has changed I feel it was much more better than when we had easy access to stats&lt;/div&gt;`)[0];\n",
       "                popup_dcc0c2322aaf2709c308c208c2f3aae4.setContent(html_571b1da0bfc31c8823256664a3f40d9c);\n",
       "            \n",
       "        \n",
       "\n",
       "        marker_b0090bb711d5a90a51640336b0d47322.bindPopup(popup_dcc0c2322aaf2709c308c208c2f3aae4)\n",
       "        ;\n",
       "\n",
       "        \n",
       "    \n",
       "    \n",
       "            var marker_1bda97b2f262962754f1144f537967dc = L.marker(\n",
       "                [39.066250645000025, 35.142286272000035],\n",
       "                {}\n",
       "            ).addTo(map_8d4a6ca3b4593e4d87bc05aa5e3d2276);\n",
       "        \n",
       "    \n",
       "        var popup_831257fabb8e038d53a01cf441a52b9f = L.popup({&quot;maxWidth&quot;: &quot;100%&quot;});\n",
       "\n",
       "        \n",
       "            \n",
       "                var html_eed78d3753e60eb34c3485e2cefc545b = $(`&lt;div id=&quot;html_eed78d3753e60eb34c3485e2cefc545b&quot; style=&quot;width: 100.0%; height: 100.0%;&quot;&gt;osmanuludag8888: @UEFAcom @Turbine_Potsdam Referees and politics design football in Turkey @UEFAcom&lt;/div&gt;`)[0];\n",
       "                popup_831257fabb8e038d53a01cf441a52b9f.setContent(html_eed78d3753e60eb34c3485e2cefc545b);\n",
       "            \n",
       "        \n",
       "\n",
       "        marker_1bda97b2f262962754f1144f537967dc.bindPopup(popup_831257fabb8e038d53a01cf441a52b9f)\n",
       "        ;\n",
       "\n",
       "        \n",
       "    \n",
       "    \n",
       "            var marker_cb65a467acb4dfd3b32ae5a79342cc57 = L.marker(\n",
       "                [53.80071858400004, -1.5502681409999468],\n",
       "                {}\n",
       "            ).addTo(map_8d4a6ca3b4593e4d87bc05aa5e3d2276);\n",
       "        \n",
       "    \n",
       "        var popup_30f123cd0ba127007a1dba8f301ac1c4 = L.popup({&quot;maxWidth&quot;: &quot;100%&quot;});\n",
       "\n",
       "        \n",
       "            \n",
       "                var html_6a2e7bac2f37a7d7cbcfc83933470441 = $(`&lt;div id=&quot;html_6a2e7bac2f37a7d7cbcfc83933470441&quot; style=&quot;width: 100.0%; height: 100.0%;&quot;&gt;liam_lightowler: @JayKelly00 It’s practically common knowledge given how famous Willian is and the fact Lee Dixon has been doing punditry for the last 20 years in football, you’d like to think he’d know about it 👍🏼&lt;/div&gt;`)[0];\n",
       "                popup_30f123cd0ba127007a1dba8f301ac1c4.setContent(html_6a2e7bac2f37a7d7cbcfc83933470441);\n",
       "            \n",
       "        \n",
       "\n",
       "        marker_cb65a467acb4dfd3b32ae5a79342cc57.bindPopup(popup_30f123cd0ba127007a1dba8f301ac1c4)\n",
       "        ;\n",
       "\n",
       "        \n",
       "    \n",
       "    \n",
       "            var marker_f86614f9cd5ac85563c8a7e04c5054fc = L.marker(\n",
       "                [23.713250000000073, 90.39959000000005],\n",
       "                {}\n",
       "            ).addTo(map_8d4a6ca3b4593e4d87bc05aa5e3d2276);\n",
       "        \n",
       "    \n",
       "        var popup_f475a8cdc602b5fda962ab160aac84d4 = L.popup({&quot;maxWidth&quot;: &quot;100%&quot;});\n",
       "\n",
       "        \n",
       "            \n",
       "                var html_d1053d527f27279bf94a31822217fc8c = $(`&lt;div id=&quot;html_d1053d527f27279bf94a31822217fc8c&quot; style=&quot;width: 100.0%; height: 100.0%;&quot;&gt;vact_amanur: #FCBarcelona  #LaLiga  #football   Watch tonight football live!! Please visit link :  https://t.co/hJPqORx98R   https://t.co/4HFGFB9nFK https://t.co/RDJUFj9heA&lt;/div&gt;`)[0];\n",
       "                popup_f475a8cdc602b5fda962ab160aac84d4.setContent(html_d1053d527f27279bf94a31822217fc8c);\n",
       "            \n",
       "        \n",
       "\n",
       "        marker_f86614f9cd5ac85563c8a7e04c5054fc.bindPopup(popup_f475a8cdc602b5fda962ab160aac84d4)\n",
       "        ;\n",
       "\n",
       "        \n",
       "    \n",
       "    \n",
       "            var marker_d861da464dbc032d33c9c2a54b5e1d6b = L.marker(\n",
       "                [53.40936677000008, -2.9784949999999526],\n",
       "                {}\n",
       "            ).addTo(map_8d4a6ca3b4593e4d87bc05aa5e3d2276);\n",
       "        \n",
       "    \n",
       "        var popup_4c6c2e108c131023f47b6169208866ea = L.popup({&quot;maxWidth&quot;: &quot;100%&quot;});\n",
       "\n",
       "        \n",
       "            \n",
       "                var html_f312025c0bf024c31ace87ac59b4c1db = $(`&lt;div id=&quot;html_f312025c0bf024c31ace87ac59b4c1db&quot; style=&quot;width: 100.0%; height: 100.0%;&quot;&gt;lfceIliot: @DunceDarion @KaguyaHive Hero card in EA Sports football loading&lt;/div&gt;`)[0];\n",
       "                popup_4c6c2e108c131023f47b6169208866ea.setContent(html_f312025c0bf024c31ace87ac59b4c1db);\n",
       "            \n",
       "        \n",
       "\n",
       "        marker_d861da464dbc032d33c9c2a54b5e1d6b.bindPopup(popup_4c6c2e108c131023f47b6169208866ea)\n",
       "        ;\n",
       "\n",
       "        \n",
       "    \n",
       "    \n",
       "            var marker_d6291f1923b6749fd724211fd2598eae = L.marker(\n",
       "                [48.218650000000025, 11.624670000000037],\n",
       "                {}\n",
       "            ).addTo(map_8d4a6ca3b4593e4d87bc05aa5e3d2276);\n",
       "        \n",
       "    \n",
       "        var popup_0b68c06c1833b3fefee013436bbc9df9 = L.popup({&quot;maxWidth&quot;: &quot;100%&quot;});\n",
       "\n",
       "        \n",
       "            \n",
       "                var html_1253a0aeff4c541533d8a1978d74e467 = $(`&lt;div id=&quot;html_1253a0aeff4c541533d8a1978d74e467&quot; style=&quot;width: 100.0%; height: 100.0%;&quot;&gt;TheBrazzo: @jin3proxy @raulfcbayern @MCFC__BH Doesn&amp;#39;t matter who mentioned it first. Fact is: You&amp;#39;re a small club with no history in international football.&lt;/div&gt;`)[0];\n",
       "                popup_0b68c06c1833b3fefee013436bbc9df9.setContent(html_1253a0aeff4c541533d8a1978d74e467);\n",
       "            \n",
       "        \n",
       "\n",
       "        marker_d6291f1923b6749fd724211fd2598eae.bindPopup(popup_0b68c06c1833b3fefee013436bbc9df9)\n",
       "        ;\n",
       "\n",
       "        \n",
       "    \n",
       "    \n",
       "            var marker_c497c7d0f005e852df5c58876d059655 = L.marker(\n",
       "                [53.59270784700004, -2.2987681179999413],\n",
       "                {}\n",
       "            ).addTo(map_8d4a6ca3b4593e4d87bc05aa5e3d2276);\n",
       "        \n",
       "    \n",
       "        var popup_f81088e92030bc917cd68d81dc92195d = L.popup({&quot;maxWidth&quot;: &quot;100%&quot;});\n",
       "\n",
       "        \n",
       "            \n",
       "                var html_dfa2bf931b5eb83aaf221e23d5128eee = $(`&lt;div id=&quot;html_dfa2bf931b5eb83aaf221e23d5128eee&quot; style=&quot;width: 100.0%; height: 100.0%;&quot;&gt;ben_brumby: @GarethBricknel1 @Clarkeyy106 Football in Bury needs as much unity as possible - your comments only serve to alienate previous no voters in my opinion, making another no vote more likely&lt;/div&gt;`)[0];\n",
       "                popup_f81088e92030bc917cd68d81dc92195d.setContent(html_dfa2bf931b5eb83aaf221e23d5128eee);\n",
       "            \n",
       "        \n",
       "\n",
       "        marker_c497c7d0f005e852df5c58876d059655.bindPopup(popup_f81088e92030bc917cd68d81dc92195d)\n",
       "        ;\n",
       "\n",
       "        \n",
       "    \n",
       "    \n",
       "            var marker_fe62e6292439ab4575cdbf297bf1ff20 = L.marker(\n",
       "                [38.42187000000007, -82.57551999999998],\n",
       "                {}\n",
       "            ).addTo(map_8d4a6ca3b4593e4d87bc05aa5e3d2276);\n",
       "        \n",
       "    \n",
       "        var popup_20a7684e59e44b0a4a368507f01c0fa9 = L.popup({&quot;maxWidth&quot;: &quot;100%&quot;});\n",
       "\n",
       "        \n",
       "            \n",
       "                var html_e251e039aec7141cac8994a94ee4dd3d = $(`&lt;div id=&quot;html_e251e039aec7141cac8994a94ee4dd3d&quot; style=&quot;width: 100.0%; height: 100.0%;&quot;&gt;PaulMountaineer: Going LIVE at 4pm EASTERN to talk Spring Football, Portal needs, and the like. Come with your questions! Link HERE https://t.co/Le9loDVuEz https://t.co/ilSvkLFK5X&lt;/div&gt;`)[0];\n",
       "                popup_20a7684e59e44b0a4a368507f01c0fa9.setContent(html_e251e039aec7141cac8994a94ee4dd3d);\n",
       "            \n",
       "        \n",
       "\n",
       "        marker_fe62e6292439ab4575cdbf297bf1ff20.bindPopup(popup_20a7684e59e44b0a4a368507f01c0fa9)\n",
       "        ;\n",
       "\n",
       "        \n",
       "    \n",
       "    \n",
       "            var marker_e5a019b73fc560fab9e44ad222de3209 = L.marker(\n",
       "                [33.95312000000007, -83.98803999999996],\n",
       "                {}\n",
       "            ).addTo(map_8d4a6ca3b4593e4d87bc05aa5e3d2276);\n",
       "        \n",
       "    \n",
       "        var popup_421504c3d5de76ba269d02d2a8d53949 = L.popup({&quot;maxWidth&quot;: &quot;100%&quot;});\n",
       "\n",
       "        \n",
       "            \n",
       "                var html_a6867f4decd40e86689991f914bf68fa = $(`&lt;div id=&quot;html_a6867f4decd40e86689991f914bf68fa&quot; style=&quot;width: 100.0%; height: 100.0%;&quot;&gt;James07910075: @ArianeSherine It can be any sport, Ariane. I live in Atlanta. American college football is like a religion here. Yes, even the women.   But yeah, some of it correlates to DNA and testosterone. https://t.co/oItRUWl7s3&lt;/div&gt;`)[0];\n",
       "                popup_421504c3d5de76ba269d02d2a8d53949.setContent(html_a6867f4decd40e86689991f914bf68fa);\n",
       "            \n",
       "        \n",
       "\n",
       "        marker_e5a019b73fc560fab9e44ad222de3209.bindPopup(popup_421504c3d5de76ba269d02d2a8d53949)\n",
       "        ;\n",
       "\n",
       "        \n",
       "    \n",
       "    \n",
       "            var marker_b1e39b8eba7242e7f8f328ec0051be83 = L.marker(\n",
       "                [32.68549000000007, -114.62460999999996],\n",
       "                {}\n",
       "            ).addTo(map_8d4a6ca3b4593e4d87bc05aa5e3d2276);\n",
       "        \n",
       "    \n",
       "        var popup_978616f5f47dd7517446f4886b4ae4c1 = L.popup({&quot;maxWidth&quot;: &quot;100%&quot;});\n",
       "\n",
       "        \n",
       "            \n",
       "                var html_172a0975267d5956fb87657814261652 = $(`&lt;div id=&quot;html_172a0975267d5956fb87657814261652&quot; style=&quot;width: 100.0%; height: 100.0%;&quot;&gt;burntdiodes: @BCrawford247 The program goes as football and baseball go&lt;/div&gt;`)[0];\n",
       "                popup_978616f5f47dd7517446f4886b4ae4c1.setContent(html_172a0975267d5956fb87657814261652);\n",
       "            \n",
       "        \n",
       "\n",
       "        marker_b1e39b8eba7242e7f8f328ec0051be83.bindPopup(popup_978616f5f47dd7517446f4886b4ae4c1)\n",
       "        ;\n",
       "\n",
       "        \n",
       "    \n",
       "    \n",
       "            var marker_b1ce7b3acc02c74d14b8aff08cb151ff = L.marker(\n",
       "                [53.47895622000004, -2.245275941999978],\n",
       "                {}\n",
       "            ).addTo(map_8d4a6ca3b4593e4d87bc05aa5e3d2276);\n",
       "        \n",
       "    \n",
       "        var popup_58bb7e17517bae281859dbe799a3922f = L.popup({&quot;maxWidth&quot;: &quot;100%&quot;});\n",
       "\n",
       "        \n",
       "            \n",
       "                var html_008dcd3e5934139e2ebef1ec39a1606a = $(`&lt;div id=&quot;html_008dcd3e5934139e2ebef1ec39a1606a&quot; style=&quot;width: 100.0%; height: 100.0%;&quot;&gt;L1I2M3I: @WPage14 @FulhamFC that was very selfish of Mitrovic to react that way because tbf Fulham had the upperhand... Big lesson for the players. You guys played the better football but at the end of the day it is the goals that matters the most.&lt;/div&gt;`)[0];\n",
       "                popup_58bb7e17517bae281859dbe799a3922f.setContent(html_008dcd3e5934139e2ebef1ec39a1606a);\n",
       "            \n",
       "        \n",
       "\n",
       "        marker_b1ce7b3acc02c74d14b8aff08cb151ff.bindPopup(popup_58bb7e17517bae281859dbe799a3922f)\n",
       "        ;\n",
       "\n",
       "        \n",
       "    \n",
       "    \n",
       "            var marker_631d242b2cd6ac2217175fe2d27bfe83 = L.marker(\n",
       "                [6.454700000000059, 3.3887600000000475],\n",
       "                {}\n",
       "            ).addTo(map_8d4a6ca3b4593e4d87bc05aa5e3d2276);\n",
       "        \n",
       "    \n",
       "        var popup_a69be8727e43aa2b4a3c58a041a11729 = L.popup({&quot;maxWidth&quot;: &quot;100%&quot;});\n",
       "\n",
       "        \n",
       "            \n",
       "                var html_e9b716d31333df67b1c0a177e4b1f9b5 = $(`&lt;div id=&quot;html_e9b716d31333df67b1c0a177e4b1f9b5&quot; style=&quot;width: 100.0%; height: 100.0%;&quot;&gt;LagMetropolitan: Serie A overwhelming favourite Napoli defeats Torino 4-0 away &amp;#39;...Napoli hammered Torino 4-0 away on Sunday to edge closer to the championship.&amp;#39; @lagmetropolitan #napoli #torino #seriea #football https://t.co/x80yJ9xgCj&lt;/div&gt;`)[0];\n",
       "                popup_a69be8727e43aa2b4a3c58a041a11729.setContent(html_e9b716d31333df67b1c0a177e4b1f9b5);\n",
       "            \n",
       "        \n",
       "\n",
       "        marker_631d242b2cd6ac2217175fe2d27bfe83.bindPopup(popup_a69be8727e43aa2b4a3c58a041a11729)\n",
       "        ;\n",
       "\n",
       "        \n",
       "    \n",
       "    \n",
       "            var marker_7e32aa12f8303542c221cc3a274738c5 = L.marker(\n",
       "                [40.21320000000003, -77.00833999999998],\n",
       "                {}\n",
       "            ).addTo(map_8d4a6ca3b4593e4d87bc05aa5e3d2276);\n",
       "        \n",
       "    \n",
       "        var popup_5122f84a88e8a145c0575b546cc531bb = L.popup({&quot;maxWidth&quot;: &quot;100%&quot;});\n",
       "\n",
       "        \n",
       "            \n",
       "                var html_bc93ac03dd30e3f251229bc0472dbccb = $(`&lt;div id=&quot;html_bc93ac03dd30e3f251229bc0472dbccb&quot; style=&quot;width: 100.0%; height: 100.0%;&quot;&gt;SportsByBLinder: Dartmouth lineman, for Pa. high school football star, dies at 21 following cancer battle https://t.co/GTnv6mJVru&lt;/div&gt;`)[0];\n",
       "                popup_5122f84a88e8a145c0575b546cc531bb.setContent(html_bc93ac03dd30e3f251229bc0472dbccb);\n",
       "            \n",
       "        \n",
       "\n",
       "        marker_7e32aa12f8303542c221cc3a274738c5.bindPopup(popup_5122f84a88e8a145c0575b546cc531bb)\n",
       "        ;\n",
       "\n",
       "        \n",
       "    \n",
       "    \n",
       "            var marker_0efc1e29b8ca9efb5088f8b7d32e6c2d = L.marker(\n",
       "                [51.39148000000006, -0.29824999999993906],\n",
       "                {}\n",
       "            ).addTo(map_8d4a6ca3b4593e4d87bc05aa5e3d2276);\n",
       "        \n",
       "    \n",
       "        var popup_6e101c5dd9513c31a9124b957712d791 = L.popup({&quot;maxWidth&quot;: &quot;100%&quot;});\n",
       "\n",
       "        \n",
       "            \n",
       "                var html_038fbed86c9e430d9d48904837c711e0 = $(`&lt;div id=&quot;html_038fbed86c9e430d9d48904837c711e0&quot; style=&quot;width: 100.0%; height: 100.0%;&quot;&gt;Avenue_Health: Osteopathy could help to keep you match fit!  Call us on 020 8395 1177 or book on line via https://t.co/wZX9iBtfQB today!   #Osteopathy #football #sidelines #hamstring #achilles #surrey #heretohelp #keepfit #stayfit #exercise #balancedlife https://t.co/pCZSXVRYD5&lt;/div&gt;`)[0];\n",
       "                popup_6e101c5dd9513c31a9124b957712d791.setContent(html_038fbed86c9e430d9d48904837c711e0);\n",
       "            \n",
       "        \n",
       "\n",
       "        marker_0efc1e29b8ca9efb5088f8b7d32e6c2d.bindPopup(popup_6e101c5dd9513c31a9124b957712d791)\n",
       "        ;\n",
       "\n",
       "        \n",
       "    \n",
       "    \n",
       "            var marker_7c569f6522c21e2e057481df724b3ee0 = L.marker(\n",
       "                [53.17587984600004, -8.14600614699998],\n",
       "                {}\n",
       "            ).addTo(map_8d4a6ca3b4593e4d87bc05aa5e3d2276);\n",
       "        \n",
       "    \n",
       "        var popup_2326fccfe3d3a519f22b276374a6da77 = L.popup({&quot;maxWidth&quot;: &quot;100%&quot;});\n",
       "\n",
       "        \n",
       "            \n",
       "                var html_5411a9dd5b10e513c366d2cefb8e834c = $(`&lt;div id=&quot;html_5411a9dd5b10e513c366d2cefb8e834c&quot; style=&quot;width: 100.0%; height: 100.0%;&quot;&gt;manunitedrebel: After every single United game it&amp;#39;s   &amp;#39;Penchester United&amp;#39; &amp;#39;Varchester United&amp;#39; &amp;#39;Ferguson in charge of VAR again&amp;#39; &amp;#39;Ref in United&amp;#39;s pockets&amp;#39;  I get banter but its a bit tiresome now. Normal people watch a game of football+can acknowledge that a team played poor but did well to win.&lt;/div&gt;`)[0];\n",
       "                popup_2326fccfe3d3a519f22b276374a6da77.setContent(html_5411a9dd5b10e513c366d2cefb8e834c);\n",
       "            \n",
       "        \n",
       "\n",
       "        marker_7c569f6522c21e2e057481df724b3ee0.bindPopup(popup_2326fccfe3d3a519f22b276374a6da77)\n",
       "        ;\n",
       "\n",
       "        \n",
       "    \n",
       "    \n",
       "            var marker_2b485c5a247f7b7509e26b1305c0537f = L.marker(\n",
       "                [53.32071641400006, -3.492399465999938],\n",
       "                {}\n",
       "            ).addTo(map_8d4a6ca3b4593e4d87bc05aa5e3d2276);\n",
       "        \n",
       "    \n",
       "        var popup_a295cc72ee867dd2b1fbec7d5d06c6fd = L.popup({&quot;maxWidth&quot;: &quot;100%&quot;});\n",
       "\n",
       "        \n",
       "            \n",
       "                var html_c749cafec1ed257892bd73edfa314fa2 = $(`&lt;div id=&quot;html_c749cafec1ed257892bd73edfa314fa2&quot; style=&quot;width: 100.0%; height: 100.0%;&quot;&gt;NWSportDave: @sportsonly2021 @Dai_LT Steve is 44 now, so I think he was maybe 42 in his short spell at Caernarfon? Yes, still a class act right till the end and now doing superbly as Bay manager after so many great years at TNS. Past seasons there&amp;#39;s been some good CPL football, this season I agree, found it turgid&lt;/div&gt;`)[0];\n",
       "                popup_a295cc72ee867dd2b1fbec7d5d06c6fd.setContent(html_c749cafec1ed257892bd73edfa314fa2);\n",
       "            \n",
       "        \n",
       "\n",
       "        marker_2b485c5a247f7b7509e26b1305c0537f.bindPopup(popup_a295cc72ee867dd2b1fbec7d5d06c6fd)\n",
       "        ;\n",
       "\n",
       "        \n",
       "    \n",
       "    \n",
       "            var marker_14cb5bbd8a3076c3a2ca5fcd1aa3a1d8 = L.marker(\n",
       "                [52.556970000000035, -2.2035799999999313],\n",
       "                {}\n",
       "            ).addTo(map_8d4a6ca3b4593e4d87bc05aa5e3d2276);\n",
       "        \n",
       "    \n",
       "        var popup_67101250a43bcf6a3973c7f6fd8d8989 = L.popup({&quot;maxWidth&quot;: &quot;100%&quot;});\n",
       "\n",
       "        \n",
       "            \n",
       "                var html_182b536ab5d14c051ade336b94ab79d1 = $(`&lt;div id=&quot;html_182b536ab5d14c051ade336b94ab79d1&quot; style=&quot;width: 100.0%; height: 100.0%;&quot;&gt;Maurice46202398: Why is it that cricket &amp;amp;amp; 🏉 rugby union can get the correct decisions on VAR when asked by referee &amp;amp;amp; umpires but football ⚽ can&amp;#39;t? Rugby &amp;amp;amp; cricket referees &amp;amp;amp; umpires don&amp;#39;t need to watch the replay on a screen. Are football ⚽ referees thick &amp;amp;amp; stupid?&lt;/div&gt;`)[0];\n",
       "                popup_67101250a43bcf6a3973c7f6fd8d8989.setContent(html_182b536ab5d14c051ade336b94ab79d1);\n",
       "            \n",
       "        \n",
       "\n",
       "        marker_14cb5bbd8a3076c3a2ca5fcd1aa3a1d8.bindPopup(popup_67101250a43bcf6a3973c7f6fd8d8989)\n",
       "        ;\n",
       "\n",
       "        \n",
       "    \n",
       "    \n",
       "            var marker_9c83ea69b8a3527ab3ce1eeed81288f2 = L.marker(\n",
       "                [23.713250000000073, 90.39959000000005],\n",
       "                {}\n",
       "            ).addTo(map_8d4a6ca3b4593e4d87bc05aa5e3d2276);\n",
       "        \n",
       "    \n",
       "        var popup_8953a57e39b45c069fae6fe82f1912e1 = L.popup({&quot;maxWidth&quot;: &quot;100%&quot;});\n",
       "\n",
       "        \n",
       "            \n",
       "                var html_90af25cad9b85ce1f254c12204fd4077 = $(`&lt;div id=&quot;html_90af25cad9b85ce1f254c12204fd4077&quot; style=&quot;width: 100.0%; height: 100.0%;&quot;&gt;vact_amanur: #FCBarcelona  #LaLiga  #football   Watch tonight football live!! Please visit link :  https://t.co/hJPqORx98R   https://t.co/4HFGFB9nFK https://t.co/EcwSDyb7nU&lt;/div&gt;`)[0];\n",
       "                popup_8953a57e39b45c069fae6fe82f1912e1.setContent(html_90af25cad9b85ce1f254c12204fd4077);\n",
       "            \n",
       "        \n",
       "\n",
       "        marker_9c83ea69b8a3527ab3ce1eeed81288f2.bindPopup(popup_8953a57e39b45c069fae6fe82f1912e1)\n",
       "        ;\n",
       "\n",
       "        \n",
       "    \n",
       "    \n",
       "            var marker_616dd04733a929d26677e6b3493430cb = L.marker(\n",
       "                [53.40838660500003, -1.9695595439999352],\n",
       "                {}\n",
       "            ).addTo(map_8d4a6ca3b4593e4d87bc05aa5e3d2276);\n",
       "        \n",
       "    \n",
       "        var popup_28aa8e6c4fc83244c643f7eca6739532 = L.popup({&quot;maxWidth&quot;: &quot;100%&quot;});\n",
       "\n",
       "        \n",
       "            \n",
       "                var html_523de9e7b4202170e2ea9039138e7d7a = $(`&lt;div id=&quot;html_523de9e7b4202170e2ea9039138e7d7a&quot; style=&quot;width: 100.0%; height: 100.0%;&quot;&gt;Iconic_footbal1: 95% of football fans know this guy https://t.co/JHOLAB39MD&lt;/div&gt;`)[0];\n",
       "                popup_28aa8e6c4fc83244c643f7eca6739532.setContent(html_523de9e7b4202170e2ea9039138e7d7a);\n",
       "            \n",
       "        \n",
       "\n",
       "        marker_616dd04733a929d26677e6b3493430cb.bindPopup(popup_28aa8e6c4fc83244c643f7eca6739532)\n",
       "        ;\n",
       "\n",
       "        \n",
       "    \n",
       "    \n",
       "            var marker_4dd3046ce264ce05ddfe7147d6e13f19 = L.marker(\n",
       "                [49.457100000000025, -2.535169999999937],\n",
       "                {}\n",
       "            ).addTo(map_8d4a6ca3b4593e4d87bc05aa5e3d2276);\n",
       "        \n",
       "    \n",
       "        var popup_69a6acdc6d5d2c4fde6cf4ca0cdeeb7e = L.popup({&quot;maxWidth&quot;: &quot;100%&quot;});\n",
       "\n",
       "        \n",
       "            \n",
       "                var html_c81b22105044970a26b3939fe5292e89 = $(`&lt;div id=&quot;html_c81b22105044970a26b3939fe5292e89&quot; style=&quot;width: 100.0%; height: 100.0%;&quot;&gt;KurtGardner04: @C4Misogi My IRLs would crucify you for that lol, I’m just not gonna watch it cus I don’t like football&lt;/div&gt;`)[0];\n",
       "                popup_69a6acdc6d5d2c4fde6cf4ca0cdeeb7e.setContent(html_c81b22105044970a26b3939fe5292e89);\n",
       "            \n",
       "        \n",
       "\n",
       "        marker_4dd3046ce264ce05ddfe7147d6e13f19.bindPopup(popup_69a6acdc6d5d2c4fde6cf4ca0cdeeb7e)\n",
       "        ;\n",
       "\n",
       "        \n",
       "    \n",
       "    \n",
       "            var marker_d7b74c192eb96a2470a86bea2055cd12 = L.marker(\n",
       "                [51.51445000000007, -0.20139999999997826],\n",
       "                {}\n",
       "            ).addTo(map_8d4a6ca3b4593e4d87bc05aa5e3d2276);\n",
       "        \n",
       "    \n",
       "        var popup_1529be983b8370443fc70f0cdd7537c0 = L.popup({&quot;maxWidth&quot;: &quot;100%&quot;});\n",
       "\n",
       "        \n",
       "            \n",
       "                var html_7f3729b3d844e3b10fddf0296f0172c8 = $(`&lt;div id=&quot;html_7f3729b3d844e3b10fddf0296f0172c8&quot; style=&quot;width: 100.0%; height: 100.0%;&quot;&gt;Enanmix: @AnfieldEdition Anyone that wants to keep Gomez doesn’t know about football and hasn’t watched Liverpool with him at CB. He has no game awareness and is accident waiting to happen&lt;/div&gt;`)[0];\n",
       "                popup_1529be983b8370443fc70f0cdd7537c0.setContent(html_7f3729b3d844e3b10fddf0296f0172c8);\n",
       "            \n",
       "        \n",
       "\n",
       "        marker_d7b74c192eb96a2470a86bea2055cd12.bindPopup(popup_1529be983b8370443fc70f0cdd7537c0)\n",
       "        ;\n",
       "\n",
       "        \n",
       "    \n",
       "    \n",
       "            var marker_1b91f2ff2b94dfd26ff65aa74bb1cef7 = L.marker(\n",
       "                [31.57182000000006, -97.14949999999999],\n",
       "                {}\n",
       "            ).addTo(map_8d4a6ca3b4593e4d87bc05aa5e3d2276);\n",
       "        \n",
       "    \n",
       "        var popup_cc0281b0511b32818c1e4617934fbbdc = L.popup({&quot;maxWidth&quot;: &quot;100%&quot;});\n",
       "\n",
       "        \n",
       "            \n",
       "                var html_b659f45da06e6d76ccd1285c387851b3 = $(`&lt;div id=&quot;html_b659f45da06e6d76ccd1285c387851b3&quot; style=&quot;width: 100.0%; height: 100.0%;&quot;&gt;TigerSuspended: @schwokk @huchukato @3YearLetterman We already have a Coliseum of College Football.  Bc Louisiana &amp;amp;gt; Italy. https://t.co/EOgktxb0Sn&lt;/div&gt;`)[0];\n",
       "                popup_cc0281b0511b32818c1e4617934fbbdc.setContent(html_b659f45da06e6d76ccd1285c387851b3);\n",
       "            \n",
       "        \n",
       "\n",
       "        marker_1b91f2ff2b94dfd26ff65aa74bb1cef7.bindPopup(popup_cc0281b0511b32818c1e4617934fbbdc)\n",
       "        ;\n",
       "\n",
       "        \n",
       "    \n",
       "    \n",
       "            var marker_b61fee8a80374e629e65532825155d6f = L.marker(\n",
       "                [6.454700000000059, 3.3887600000000475],\n",
       "                {}\n",
       "            ).addTo(map_8d4a6ca3b4593e4d87bc05aa5e3d2276);\n",
       "        \n",
       "    \n",
       "        var popup_2b1f97ffaf9763905973f0e7b6a01b06 = L.popup({&quot;maxWidth&quot;: &quot;100%&quot;});\n",
       "\n",
       "        \n",
       "            \n",
       "                var html_c3fdae395c9c38fa1fb60f8ee0a1a500 = $(`&lt;div id=&quot;html_c3fdae395c9c38fa1fb60f8ee0a1a500&quot; style=&quot;width: 100.0%; height: 100.0%;&quot;&gt;NkanuEgbe: Serie A overwhelming favourite Napoli defeats Torino 4-0 away &amp;#39;...Napoli hammered Torino 4-0 away on Sunday to edge closer to the championship.&amp;#39; @lagmetropolitan #napoli #torino #seriea #football https://t.co/Ft0tptGxZw&lt;/div&gt;`)[0];\n",
       "                popup_2b1f97ffaf9763905973f0e7b6a01b06.setContent(html_c3fdae395c9c38fa1fb60f8ee0a1a500);\n",
       "            \n",
       "        \n",
       "\n",
       "        marker_b61fee8a80374e629e65532825155d6f.bindPopup(popup_2b1f97ffaf9763905973f0e7b6a01b06)\n",
       "        ;\n",
       "\n",
       "        \n",
       "    \n",
       "    \n",
       "            var marker_fc4914ee931c7dde4fea135b9eca8cf9 = L.marker(\n",
       "                [5.517370000000028, 5.750060000000076],\n",
       "                {}\n",
       "            ).addTo(map_8d4a6ca3b4593e4d87bc05aa5e3d2276);\n",
       "        \n",
       "    \n",
       "        var popup_ef59b48d9e11a394547baae97ef094c3 = L.popup({&quot;maxWidth&quot;: &quot;100%&quot;});\n",
       "\n",
       "        \n",
       "            \n",
       "                var html_a82b3b6cb0b28b95183f3e75117645fb = $(`&lt;div id=&quot;html_a82b3b6cb0b28b95183f3e75117645fb&quot; style=&quot;width: 100.0%; height: 100.0%;&quot;&gt;King_Anita_: @Naija_PR Football money is the best…&lt;/div&gt;`)[0];\n",
       "                popup_ef59b48d9e11a394547baae97ef094c3.setContent(html_a82b3b6cb0b28b95183f3e75117645fb);\n",
       "            \n",
       "        \n",
       "\n",
       "        marker_fc4914ee931c7dde4fea135b9eca8cf9.bindPopup(popup_ef59b48d9e11a394547baae97ef094c3)\n",
       "        ;\n",
       "\n",
       "        \n",
       "    \n",
       "    \n",
       "            var marker_9183a2eaee8122bdf89d46b06920b43f = L.marker(\n",
       "                [35.95195000000007, -95.65020999999996],\n",
       "                {}\n",
       "            ).addTo(map_8d4a6ca3b4593e4d87bc05aa5e3d2276);\n",
       "        \n",
       "    \n",
       "        var popup_aa7b662f7cd524ebfc6082fa339d92cd = L.popup({&quot;maxWidth&quot;: &quot;100%&quot;});\n",
       "\n",
       "        \n",
       "            \n",
       "                var html_fd3f5cfa41095896f441ee4e10e4565d = $(`&lt;div id=&quot;html_fd3f5cfa41095896f441ee4e10e4565d&quot; style=&quot;width: 100.0%; height: 100.0%;&quot;&gt;joshuapoindex10: @mikehawkinsj @jgpvisuals @OU_Football @TCUFootball Boomer!!&lt;/div&gt;`)[0];\n",
       "                popup_aa7b662f7cd524ebfc6082fa339d92cd.setContent(html_fd3f5cfa41095896f441ee4e10e4565d);\n",
       "            \n",
       "        \n",
       "\n",
       "        marker_9183a2eaee8122bdf89d46b06920b43f.bindPopup(popup_aa7b662f7cd524ebfc6082fa339d92cd)\n",
       "        ;\n",
       "\n",
       "        \n",
       "    \n",
       "    \n",
       "            var marker_703498a3240ef63d2813db92a2097e7a = L.marker(\n",
       "                [37.72730000000007, -89.21579999999994],\n",
       "                {}\n",
       "            ).addTo(map_8d4a6ca3b4593e4d87bc05aa5e3d2276);\n",
       "        \n",
       "    \n",
       "        var popup_61d613baab8e0e2174514b378818a390 = L.popup({&quot;maxWidth&quot;: &quot;100%&quot;});\n",
       "\n",
       "        \n",
       "            \n",
       "                var html_2e6a3fa844f8d98803c1a92841e6ef74 = $(`&lt;div id=&quot;html_2e6a3fa844f8d98803c1a92841e6ef74&quot; style=&quot;width: 100.0%; height: 100.0%;&quot;&gt;Jake_Edwards90: Too many quality football shirts for sale on the threads tonight. Me bank account is panicking&lt;/div&gt;`)[0];\n",
       "                popup_61d613baab8e0e2174514b378818a390.setContent(html_2e6a3fa844f8d98803c1a92841e6ef74);\n",
       "            \n",
       "        \n",
       "\n",
       "        marker_703498a3240ef63d2813db92a2097e7a.bindPopup(popup_61d613baab8e0e2174514b378818a390)\n",
       "        ;\n",
       "\n",
       "        \n",
       "    \n",
       "    \n",
       "            var marker_c63b63c2b6abaea0ab815e22dc346c72 = L.marker(\n",
       "                [18.940170000000023, 72.83489000000003],\n",
       "                {}\n",
       "            ).addTo(map_8d4a6ca3b4593e4d87bc05aa5e3d2276);\n",
       "        \n",
       "    \n",
       "        var popup_52b374f2e6a515b15e43c33a2a51adc5 = L.popup({&quot;maxWidth&quot;: &quot;100%&quot;});\n",
       "\n",
       "        \n",
       "            \n",
       "                var html_5b09b6d75ee1fdb5b348674444fa369a = $(`&lt;div id=&quot;html_5b09b6d75ee1fdb5b348674444fa369a&quot; style=&quot;width: 100.0%; height: 100.0%;&quot;&gt;bhavik_daftary: @volklub @GAURAVMISHRA09 @TheAbhiz95 The more cups you schedule, lower is the value of trophy.  Is saal 2 cup hai, test final &amp;amp;amp; odi. Players sochege agar ye hara to koi na, agle me dekh lege.  Cricket should also slowly become like football officially, everybody loves league, keeping all 3 WCs once in 4 or 5 years.&lt;/div&gt;`)[0];\n",
       "                popup_52b374f2e6a515b15e43c33a2a51adc5.setContent(html_5b09b6d75ee1fdb5b348674444fa369a);\n",
       "            \n",
       "        \n",
       "\n",
       "        marker_c63b63c2b6abaea0ab815e22dc346c72.bindPopup(popup_52b374f2e6a515b15e43c33a2a51adc5)\n",
       "        ;\n",
       "\n",
       "        \n",
       "    \n",
       "    \n",
       "            var marker_dbd19d1221cda646ff7f737c3f64498d = L.marker(\n",
       "                [52.592733578000036, -1.458626737999964],\n",
       "                {}\n",
       "            ).addTo(map_8d4a6ca3b4593e4d87bc05aa5e3d2276);\n",
       "        \n",
       "    \n",
       "        var popup_b8a9fd3c77604debde87eb5706a9747a = L.popup({&quot;maxWidth&quot;: &quot;100%&quot;});\n",
       "\n",
       "        \n",
       "            \n",
       "                var html_6a54cdca2b5e03aa18623d38c9dbed8a = $(`&lt;div id=&quot;html_6a54cdca2b5e03aa18623d38c9dbed8a&quot; style=&quot;width: 100.0%; height: 100.0%;&quot;&gt;m_u_f_c___o_k: @Football__Tweet Absolutely.  Can’t fault any of those refs (and not because I am a red).&lt;/div&gt;`)[0];\n",
       "                popup_b8a9fd3c77604debde87eb5706a9747a.setContent(html_6a54cdca2b5e03aa18623d38c9dbed8a);\n",
       "            \n",
       "        \n",
       "\n",
       "        marker_dbd19d1221cda646ff7f737c3f64498d.bindPopup(popup_b8a9fd3c77604debde87eb5706a9747a)\n",
       "        ;\n",
       "\n",
       "        \n",
       "    \n",
       "    \n",
       "            var marker_b38506f2d7f552b8be0114fa55e3de82 = L.marker(\n",
       "                [39.39870315600007, -99.41461918999994],\n",
       "                {}\n",
       "            ).addTo(map_8d4a6ca3b4593e4d87bc05aa5e3d2276);\n",
       "        \n",
       "    \n",
       "        var popup_a0647f237ea28d9ef9af109e0e951b44 = L.popup({&quot;maxWidth&quot;: &quot;100%&quot;});\n",
       "\n",
       "        \n",
       "            \n",
       "                var html_dbee21c933a6827fd12145cf296490cd = $(`&lt;div id=&quot;html_dbee21c933a6827fd12145cf296490cd&quot; style=&quot;width: 100.0%; height: 100.0%;&quot;&gt;SLGiftsZone: Kane did not need consoling after World Cup penalty miss, says Southgate - The Guardian Read More-https://t.co/8QuTDKreWz  #News #football #footballtoday&lt;/div&gt;`)[0];\n",
       "                popup_a0647f237ea28d9ef9af109e0e951b44.setContent(html_dbee21c933a6827fd12145cf296490cd);\n",
       "            \n",
       "        \n",
       "\n",
       "        marker_b38506f2d7f552b8be0114fa55e3de82.bindPopup(popup_a0647f237ea28d9ef9af109e0e951b44)\n",
       "        ;\n",
       "\n",
       "        \n",
       "    \n",
       "    \n",
       "            var marker_1900584b05ab7b6c8e4fe9f4e2be999f = L.marker(\n",
       "                [51.507408346000034, -0.12769887399997515],\n",
       "                {}\n",
       "            ).addTo(map_8d4a6ca3b4593e4d87bc05aa5e3d2276);\n",
       "        \n",
       "    \n",
       "        var popup_521a2d9e0c746de6553dac1022fbccf5 = L.popup({&quot;maxWidth&quot;: &quot;100%&quot;});\n",
       "\n",
       "        \n",
       "            \n",
       "                var html_a72e52081cc9da37eee59e557e4d03df = $(`&lt;div id=&quot;html_a72e52081cc9da37eee59e557e4d03df&quot; style=&quot;width: 100.0%; height: 100.0%;&quot;&gt;Sh4331R: Marco’s Red, questions the Ref, Mitro’s Red, questions the Ref, Ref walking away, grabs his arm, we’ve all done it to someone at a point in time. Yes it’s football and it’s not allowed. But fans stating both should apologise!? Seriously need a think. #ffc&lt;/div&gt;`)[0];\n",
       "                popup_521a2d9e0c746de6553dac1022fbccf5.setContent(html_a72e52081cc9da37eee59e557e4d03df);\n",
       "            \n",
       "        \n",
       "\n",
       "        marker_1900584b05ab7b6c8e4fe9f4e2be999f.bindPopup(popup_521a2d9e0c746de6553dac1022fbccf5)\n",
       "        ;\n",
       "\n",
       "        \n",
       "    \n",
       "    \n",
       "            var marker_f3236ea2644a1d908f1511a957444cb0 = L.marker(\n",
       "                [6.669280000000072, -1.6194199999999341],\n",
       "                {}\n",
       "            ).addTo(map_8d4a6ca3b4593e4d87bc05aa5e3d2276);\n",
       "        \n",
       "    \n",
       "        var popup_790446befbe965e9fead535ae59092b2 = L.popup({&quot;maxWidth&quot;: &quot;100%&quot;});\n",
       "\n",
       "        \n",
       "            \n",
       "                var html_c46b94b7cc14428647c624c22f11cf38 = $(`&lt;div id=&quot;html_c46b94b7cc14428647c624c22f11cf38&quot; style=&quot;width: 100.0%; height: 100.0%;&quot;&gt;owusubineyisaac: @Andydotcom_gh Disgrace to Ghana football,#offside&lt;/div&gt;`)[0];\n",
       "                popup_790446befbe965e9fead535ae59092b2.setContent(html_c46b94b7cc14428647c624c22f11cf38);\n",
       "            \n",
       "        \n",
       "\n",
       "        marker_f3236ea2644a1d908f1511a957444cb0.bindPopup(popup_790446befbe965e9fead535ae59092b2)\n",
       "        ;\n",
       "\n",
       "        \n",
       "    \n",
       "    \n",
       "            var marker_6c349052e994de4a316b09e965caee34 = L.marker(\n",
       "                [52.592733578000036, -1.458626737999964],\n",
       "                {}\n",
       "            ).addTo(map_8d4a6ca3b4593e4d87bc05aa5e3d2276);\n",
       "        \n",
       "    \n",
       "        var popup_b471091e9b4149cd2681841d3ab71481 = L.popup({&quot;maxWidth&quot;: &quot;100%&quot;});\n",
       "\n",
       "        \n",
       "            \n",
       "                var html_8f958c9e4cc4a39b8bfc16455197a0f9 = $(`&lt;div id=&quot;html_8f958c9e4cc4a39b8bfc16455197a0f9&quot; style=&quot;width: 100.0%; height: 100.0%;&quot;&gt;MUFCRevival: Not one priemier league player and they say it&amp;#39;s ruining football https://t.co/4297PnJTVq&lt;/div&gt;`)[0];\n",
       "                popup_b471091e9b4149cd2681841d3ab71481.setContent(html_8f958c9e4cc4a39b8bfc16455197a0f9);\n",
       "            \n",
       "        \n",
       "\n",
       "        marker_6c349052e994de4a316b09e965caee34.bindPopup(popup_b471091e9b4149cd2681841d3ab71481)\n",
       "        ;\n",
       "\n",
       "        \n",
       "    \n",
       "    \n",
       "            var marker_c47d3ce55a50bb2a6b6e98b3687c8f89 = L.marker(\n",
       "                [12.30585000000002, 76.68791000000004],\n",
       "                {}\n",
       "            ).addTo(map_8d4a6ca3b4593e4d87bc05aa5e3d2276);\n",
       "        \n",
       "    \n",
       "        var popup_16c71d69dd75a7049ae6ff3b03e35000 = L.popup({&quot;maxWidth&quot;: &quot;100%&quot;});\n",
       "\n",
       "        \n",
       "            \n",
       "                var html_08a9837d1e83a61e2efaa8a9d15ae535 = $(`&lt;div id=&quot;html_08a9837d1e83a61e2efaa8a9d15ae535&quot; style=&quot;width: 100.0%; height: 100.0%;&quot;&gt;AZAS_Ayta: @Football__Tweet I&amp;#39;m not sure what Fulham manager said to be shown Red, it was the main reason Mitrovic got triggered aswell.  But this is football,  passion is part of it and you can learn how to control your tempo, but you can&amp;#39;t become soulless.&lt;/div&gt;`)[0];\n",
       "                popup_16c71d69dd75a7049ae6ff3b03e35000.setContent(html_08a9837d1e83a61e2efaa8a9d15ae535);\n",
       "            \n",
       "        \n",
       "\n",
       "        marker_c47d3ce55a50bb2a6b6e98b3687c8f89.bindPopup(popup_16c71d69dd75a7049ae6ff3b03e35000)\n",
       "        ;\n",
       "\n",
       "        \n",
       "    \n",
       "    \n",
       "            var marker_fb7a55f6985e60ff7320748954f014c8 = L.marker(\n",
       "                [52.90368706538537, -1.2984694226989009],\n",
       "                {}\n",
       "            ).addTo(map_8d4a6ca3b4593e4d87bc05aa5e3d2276);\n",
       "        \n",
       "    \n",
       "        var popup_553eb72c8236952ca34c300a574044ff = L.popup({&quot;maxWidth&quot;: &quot;100%&quot;});\n",
       "\n",
       "        \n",
       "            \n",
       "                var html_5cf644932261114ce5272988f6e442cf = $(`&lt;div id=&quot;html_5cf644932261114ce5272988f6e442cf&quot; style=&quot;width: 100.0%; height: 100.0%;&quot;&gt;TrojanFan1969: @CCupo @DGerowPR Henry is chief Times football writer. 1.3m followers. Certainly one of the more credible sports writers in the UK.   Napoli have some horrific &amp;#39;ultras&amp;#39; (knife carrying scum).&lt;/div&gt;`)[0];\n",
       "                popup_553eb72c8236952ca34c300a574044ff.setContent(html_5cf644932261114ce5272988f6e442cf);\n",
       "            \n",
       "        \n",
       "\n",
       "        marker_fb7a55f6985e60ff7320748954f014c8.bindPopup(popup_553eb72c8236952ca34c300a574044ff)\n",
       "        ;\n",
       "\n",
       "        \n",
       "    \n",
       "    \n",
       "            var marker_f1629df87a6ce417289152a9be806558 = L.marker(\n",
       "                [53.47895622000004, -2.245275941999978],\n",
       "                {}\n",
       "            ).addTo(map_8d4a6ca3b4593e4d87bc05aa5e3d2276);\n",
       "        \n",
       "    \n",
       "        var popup_5916966e2f2d81180adb44f90f9196ab = L.popup({&quot;maxWidth&quot;: &quot;100%&quot;});\n",
       "\n",
       "        \n",
       "            \n",
       "                var html_872910f621318e422149017d201381e8 = $(`&lt;div id=&quot;html_872910f621318e422149017d201381e8&quot; style=&quot;width: 100.0%; height: 100.0%;&quot;&gt;AlexFfootball: @Football__Tweet Yep 100%. Clear hand ball. Silva doesn’t need to approach the ref. Mitrovic is a c@ck&lt;/div&gt;`)[0];\n",
       "                popup_5916966e2f2d81180adb44f90f9196ab.setContent(html_872910f621318e422149017d201381e8);\n",
       "            \n",
       "        \n",
       "\n",
       "        marker_f1629df87a6ce417289152a9be806558.bindPopup(popup_5916966e2f2d81180adb44f90f9196ab)\n",
       "        ;\n",
       "\n",
       "        \n",
       "    \n",
       "    \n",
       "            var marker_8ddcf0a9c0b96203290b00d3507def4c = L.marker(\n",
       "                [33.17870000000005, -86.25064999999995],\n",
       "                {}\n",
       "            ).addTo(map_8d4a6ca3b4593e4d87bc05aa5e3d2276);\n",
       "        \n",
       "    \n",
       "        var popup_1fbf57e0672feb97d721ced58969700d = L.popup({&quot;maxWidth&quot;: &quot;100%&quot;});\n",
       "\n",
       "        \n",
       "            \n",
       "                var html_63b91b8b2f011ac59c9aeff7e5f25b1b = $(`&lt;div id=&quot;html_63b91b8b2f011ac59c9aeff7e5f25b1b&quot; style=&quot;width: 100.0%; height: 100.0%;&quot;&gt;noikass: @Simbarbebleu @HE2S2P tape mockup jersey football/soccer free tu vas trouver&lt;/div&gt;`)[0];\n",
       "                popup_1fbf57e0672feb97d721ced58969700d.setContent(html_63b91b8b2f011ac59c9aeff7e5f25b1b);\n",
       "            \n",
       "        \n",
       "\n",
       "        marker_8ddcf0a9c0b96203290b00d3507def4c.bindPopup(popup_1fbf57e0672feb97d721ced58969700d)\n",
       "        ;\n",
       "\n",
       "        \n",
       "    \n",
       "    \n",
       "            var marker_c9aa609846410157b93cbc887c3061df = L.marker(\n",
       "                [51.60097975200006, -1.124543226999947],\n",
       "                {}\n",
       "            ).addTo(map_8d4a6ca3b4593e4d87bc05aa5e3d2276);\n",
       "        \n",
       "    \n",
       "        var popup_26f6c1c755f526949c164b72bb3e0a4a = L.popup({&quot;maxWidth&quot;: &quot;100%&quot;});\n",
       "\n",
       "        \n",
       "            \n",
       "                var html_025fc40f68742e97cf836c43c94d2bc3 = $(`&lt;div id=&quot;html_025fc40f68742e97cf836c43c94d2bc3&quot; style=&quot;width: 100.0%; height: 100.0%;&quot;&gt;wandcfc: We would like to welcome new girls to ‘The Beautiful Game’ at our Wildcats sessions. Our sessions are fun, inclusive and a great place to make new friends and enjoy playing football. https://t.co/XAqB0VrN0x&lt;/div&gt;`)[0];\n",
       "                popup_26f6c1c755f526949c164b72bb3e0a4a.setContent(html_025fc40f68742e97cf836c43c94d2bc3);\n",
       "            \n",
       "        \n",
       "\n",
       "        marker_c9aa609846410157b93cbc887c3061df.bindPopup(popup_26f6c1c755f526949c164b72bb3e0a4a)\n",
       "        ;\n",
       "\n",
       "        \n",
       "    \n",
       "&lt;/script&gt;\n",
       "&lt;/html&gt;\" style=\"position:absolute;width:100%;height:100%;left:0;top:0;border:none !important;\" allowfullscreen webkitallowfullscreen mozallowfullscreen></iframe></div></div>"
      ],
      "text/plain": [
       "<folium.folium.Map at 0x1a2f66bf0>"
      ]
     },
     "execution_count": 66,
     "metadata": {},
     "output_type": "execute_result"
    }
   ],
   "source": [
    "usmap # displays the map in the notebook"
   ]
  },
  {
   "cell_type": "markdown",
   "metadata": {},
   "source": [
    "## 12.15.2 Utility Functions in `tweetutilities.py` \n",
    "### `get_tweet_content` Utility Function \n",
    "* Receives a **`StreamResponse` object (`response`)** and creates a **dictionary** containing the **tweet’s `username`, `text` and `location`**\n",
    "\n",
    "```python\n",
    "def get_tweet_content(response):\n",
    "    \"\"\"Return dictionary with data from tweet.\"\"\"\n",
    "    fields = {}\n",
    "    fields['username'] = response.includes['users'][0].username\n",
    "    fields['text'] = response.data.text\n",
    "    fields['location'] = response.includes['users'][0].location\n",
    "\n",
    "    return fields\n",
    "```"
   ]
  },
  {
   "cell_type": "markdown",
   "metadata": {},
   "source": [
    "### `get_geocodes` Utility Function \n",
    "* Receives a list of dictionaries containing tweets and **geocodes their locations**\n",
    "* If geocoding is successful for a tweet, adds the **latitude** and **longitude** to the tweet’s **dictionary in `tweet_list`**\n",
    "* Requires class **`OpenMapQuest`** from the **geopy module**\n",
    "\n",
    "```python\n",
    "from geopy import OpenMapQuest\n",
    "```\n",
    "\n",
    "```python\n",
    "def get_geocodes(tweet_list):\n",
    "    \"\"\"Get the latitude and longitude for each tweet's location.\n",
    "    Returns the number of tweets with invalid location data.\"\"\"\n",
    "    print('Getting coordinates for tweet locations...')\n",
    "    geo = OpenMapQuest(api_key=keys.mapquest_key)  # geocoder\n",
    "    bad_locations = 0  \n",
    "\n",
    "    for tweet in tweet_list:\n",
    "        processed = False\n",
    "        delay = .1  # used if OpenMapQuest times out to delay next call\n",
    "        while not processed:\n",
    "            try:  # get coordinates for tweet['location']\n",
    "                geo_location = geo.geocode(tweet['location'])\n",
    "                processed = True\n",
    "            except:  # timed out, so wait before trying again\n",
    "                print('OpenMapQuest service timed out. Waiting.')\n",
    "                time.sleep(delay)\n",
    "                delay += .1\n",
    "\n",
    "        if geo_location:  \n",
    "            tweet['latitude'] = geo_location.latitude\n",
    "            tweet['longitude'] = geo_location.longitude\n",
    "        else:  \n",
    "            bad_locations += 1  # tweet['location'] was invalid\n",
    "    \n",
    "    print('Done geocoding')\n",
    "    return bad_locations\n",
    "\n",
    "```"
   ]
  },
  {
   "cell_type": "markdown",
   "metadata": {},
   "source": [
    "### `get_geocodes` Utility Function (cont.)\n",
    "* Creates the **`OpenMapQuest` object** we’ll use to geocode locations\n",
    "* Initializes **`bad_locations`** which we use to keep track of the number of invalid locations in the tweet objects we collected\n",
    "* Attempts to **geocode the current tweet’s location**\n",
    "* Prints a message that it’s done geocoding and returns the `bad_locations` value"
   ]
  },
  {
   "cell_type": "markdown",
   "metadata": {},
   "source": [
    "## 12.15.3 Class `LocationListener`\n",
    "```python\n",
    "# locationlistener.py\n",
    "\"\"\"Receives tweets matching a search string and stores a list of\n",
    "dictionaries containing each tweet's username/text/location.\"\"\"\n",
    "import tweepy\n",
    "from tweetutilities import get_tweet_content\n",
    "\n",
    "class LocationListener(tweepy.StreamingClient):\n",
    "    \"\"\"Handles incoming Tweet stream to get location data.\"\"\"\n",
    "```"
   ]
  },
  {
   "cell_type": "markdown",
   "metadata": {},
   "source": [
    "```python\n",
    "    def __init__(self, bearer_token, counts_dict, \n",
    "                 tweets_list, topic, limit=10):\n",
    "        \"\"\"Configure the LocationListener.\"\"\"\n",
    "        self.tweets_list = tweets_list\n",
    "        self.counts_dict = counts_dict\n",
    "        self.topic = topic\n",
    "        self.TWEET_LIMIT = limit\n",
    "        super().__init__(bearer_token, wait_on_rate_limit=True)\n",
    "```"
   ]
  },
  {
   "cell_type": "markdown",
   "metadata": {},
   "source": [
    "```python\n",
    "    def on_response(self, response):\n",
    "        \"\"\"Called when Twitter pushes a new tweet to you.\"\"\"\n",
    "\n",
    "        # get each tweet's username, text and location\n",
    "        tweet_data = get_tweet_content(response)  \n",
    "\n",
    "        # ignore retweets and tweets that do not contain the topic\n",
    "        if (tweet_data['text'].startswith('RT') or\n",
    "            self.topic.lower() not in tweet_data['text'].lower()):\n",
    "            return\n",
    "\n",
    "        self.counts_dict['total_tweets'] += 1 # it's an original tweet\n",
    "\n",
    "        # ignore tweets with no location \n",
    "        if not tweet_data.get('location'):  \n",
    "            return\n",
    "\n",
    "        self.counts_dict['locations'] += 1 # user account has location\n",
    "        self.tweets_list.append(tweet_data) # store the tweet\n",
    "        print(f\"{tweet_data['username']}: {tweet_data['text']}\\n\")\n",
    "        \n",
    "        # if TWEET_LIMIT is reached, terminate streaming\n",
    "        if self.counts_dict['locations'] == self.TWEET_LIMIT:\n",
    "            self.disconnect()\n",
    "```"
   ]
  },
  {
   "cell_type": "markdown",
   "metadata": {},
   "source": [
    "## 12.15.3 Class `LocationListener` (cont.)\n",
    "* `__init__` receives \n",
    "    * the `bearer_token` \n",
    "    * the number of tweets to process (`limit`)\n",
    "    * `counts` dictionary that we use to keep track of the total number of tweets processed\n",
    "    * `tweet_list` in which we store the dictionaries returned by the `get_tweet_content` utility function\n",
    "    * a string representing the topic so we can confirm that its text is contained in the tweet text"
   ]
  },
  {
   "cell_type": "markdown",
   "metadata": {},
   "source": [
    "## 12.15.3 Class `LocationListener` (cont.)\n",
    "* In method `on_response`\n",
    "   * Line 23 calls `get_tweet_content` to get each tweet’s screen name, text and location.\n",
    "    * Lines 26–28 ignore the tweet if it is a retweet or if the text does not include the topic we’re searching for\n",
    "    * Line 30 adds 1 to the value of the `'total_tweets'` key in the `counts` dictionary to track the number of original tweets\n",
    "    * Lines 33–34 ignore tweets that have no location data\n",
    "    * Line 36 adds 1 to the value of the `counts` dictionary’s `'locations'` key to indicate that we found a tweet with a location\n",
    "    * Line 37 appends the `tweet_data` dictionary to the `tweets_list`\n",
    "    * Line 38 displays the tweet’s screen name and tweet text so you can see that the app is making progress\n",
    "    * Lines 41–42 check whether the `TWEET_LIMIT` has been reached, and if so, disconnect from the stream."
   ]
  },
  {
   "cell_type": "markdown",
   "metadata": {},
   "source": [
    "------"
   ]
  },
  {
   "cell_type": "markdown",
   "metadata": {
    "jp-MarkdownHeadingCollapsed": true,
    "tags": []
   },
   "source": [
    "# More Info \n",
    "* See Lesson 12 in [**Python Fundamentals LiveLessons** here on O'Reilly Online Learning](https://learning.oreilly.com/videos/python-fundamentals/9780135917411)\n",
    "* See Chapter 12 in [**Python for Programmers** on O'Reilly Online Learning](https://learning.oreilly.com/library/view/python-for-programmers/9780135231364/)\n",
    "* See Chapter 13 in [**Intro Python for Computer Science and Data Science** on O'Reilly Online Learning](https://learning.oreilly.com/library/view/intro-to-python/9780135404799/)\n",
    "* Interested in a print book? Check out:\n",
    "\n",
    "| Python for Programmers<br>(640-page professional book) | Intro to Python for Computer<br>Science and Data Science<br>(880-page college textbook)\n",
    "| :------ | :------\n",
    "| <a href=\"https://amzn.to/2VvdnxE\"><img alt=\"Python for Programmers cover\" src=\"../images/PyFPCover.png\" width=\"150\" border=\"1\"/></a> | <a href=\"https://amzn.to/2LiDCmt\"><img alt=\"Intro to Python for Computer Science and Data Science: Learning to Program with AI, Big Data and the Cloud\" src=\"../images/IntroToPythonCover.png\" width=\"159\" border=\"1\"></a>\n",
    "\n",
    ">Please **do not** purchase both books&mdash;_Python for Programmers_ is a subset of _Intro to Python for Computer Science and Data Science_"
   ]
  },
  {
   "cell_type": "markdown",
   "metadata": {},
   "source": [
    "------\n",
    "&copy;1992&ndash;2020 by Pearson Education, Inc. All Rights Reserved. This content is based on Chapter 5 of the book [**Intro to Python for Computer Science and Data Science: Learning to Program with AI, Big Data and the Cloud**](https://amzn.to/2VvdnxE).\n",
    "\n",
    "DISCLAIMER: The authors and publisher of this book have used their \n",
    "best efforts in preparing the book. These efforts include the \n",
    "development, research, and testing of the theories and programs \n",
    "to determine their effectiveness. The authors and publisher make \n",
    "no warranty of any kind, expressed or implied, with regard to these \n",
    "programs or to the documentation contained in these books. The authors \n",
    "and publisher shall not be liable in any event for incidental or \n",
    "consequential damages in connection with, or arising out of, the \n",
    "furnishing, performance, or use of these programs.                  "
   ]
  }
 ],
 "metadata": {
  "celltoolbar": "Slideshow",
  "kernelspec": {
   "display_name": "Python 3 (ipykernel)",
   "language": "python",
   "name": "python3"
  },
  "language_info": {
   "codemirror_mode": {
    "name": "ipython",
    "version": 3
   },
   "file_extension": ".py",
   "mimetype": "text/x-python",
   "name": "python",
   "nbconvert_exporter": "python",
   "pygments_lexer": "ipython3",
   "version": "3.10.8"
  }
 },
 "nbformat": 4,
 "nbformat_minor": 4
}

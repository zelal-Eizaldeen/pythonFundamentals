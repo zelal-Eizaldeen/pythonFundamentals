{
 "cells": [
  {
   "cell_type": "markdown",
   "metadata": {},
   "source": [
    "&copy; 2023 by Pearson Education, Inc. All Rights Reserved. The content in this notebook is based on the textbook [**Intro Python for Computer Science and Data Science**](https://amzn.to/2YU0QTJ) and our professional book [**Python for Programmers**](https://amzn.to/2VvdnxE) — Please do not purchase both. The professional book is a subset of the textbook."
   ]
  },
  {
   "cell_type": "code",
   "execution_count": 1,
   "metadata": {
    "tags": []
   },
   "outputs": [
    {
     "data": {
      "text/html": [
       "<!-- CSS settings for this notbook -->\n",
       "<style>\n",
       "    h1 {color:#BB0000}\n",
       "    h2 {color:purple}\n",
       "    h3 {color:#0099ff}\n",
       "    hr {    \n",
       "        border: 0;\n",
       "        height: 3px;\n",
       "        background: #333;\n",
       "        background-image: linear-gradient(to right, #ccc, black, #ccc);\n",
       "    }\n",
       "</style>\n"
      ],
      "text/plain": [
       "<IPython.core.display.HTML object>"
      ]
     },
     "metadata": {},
     "output_type": "display_data"
    }
   ],
   "source": [
    "%%html\n",
    "<!-- CSS settings for this notbook -->\n",
    "<style>\n",
    "    h1 {color:#BB0000}\n",
    "    h2 {color:purple}\n",
    "    h3 {color:#0099ff}\n",
    "    hr {    \n",
    "        border: 0;\n",
    "        height: 3px;\n",
    "        background: #333;\n",
    "        background-image: linear-gradient(to right, #ccc, black, #ccc);\n",
    "    }\n",
    "</style>"
   ]
  },
  {
   "cell_type": "markdown",
   "metadata": {
    "slideshow": {
     "slide_type": "slide"
    }
   },
   "source": [
    "# Python Data Science Full Throttle: <br/>Introductory Artificial Intelligence (AI), <br/>Big Data and Cloud Case Studies\n",
    "<img alt=\"DeitelLogo\" src=\"./images/deitellogo.png\" style=\"float:left;padding-left:20px\" width=\"150\"/><img alt=\"Python Fundamentals LiveLessons cover\" src=\"./images/course_image.jpg\" style=\"float:left;padding-left:20px;padding-top:30px\" width=\"400\"/>\n"
   ]
  },
  {
   "cell_type": "markdown",
   "metadata": {
    "slideshow": {
     "slide_type": "slide"
    }
   },
   "source": [
    "**Paul Deitel, CEO  \n",
    "Deitel & Associates, Inc.**  \n",
    "* **Questions? <paul@deitel.com>**\n",
    "* https://deitel.com\n",
    "* **Deitel on O'Reilly:** https://deitel.com/LearnWithDeitel\n",
    "* Facebook: https://facebook.com/DeitelFan\n",
    "* Twitter: https://twitter.com/deitel (@deitel)\n",
    "* LinkedIn: https://linkedin.com/company/deitel-&-associates\n",
    "* YouTube: https://youtube.com/DeitelTV"
   ]
  },
  {
   "cell_type": "markdown",
   "metadata": {},
   "source": [
    "<hr style=\"height:2px; border:none; color:#000; background-color:#000;\">"
   ]
  },
  {
   "cell_type": "markdown",
   "metadata": {
    "slideshow": {
     "slide_type": "slide"
    },
    "tags": []
   },
   "source": [
    "# My Upcoming O'Reilly Live Training Courses\n",
    "https://deitel.com/LearnWithDeitel\n",
    "* **February 13**&mdash;Python Full Throttle\n",
    "* **February 27**&mdash;**(Previously title C++20 Full Throttle)** Modern C++ Full Throttle: Intro to C++20 & the Standard Library &mdash; A Presentation-Only Intro to Fundamentals, Arrays, Vectors, Pointers, OOP, Ranges, Views, Functional Programming; Brief Intro to Concepts, Modules & Coroutines \n",
    "* **March 12**&mdash;Python Full Throttle\n",
    "* **March 19**&mdash;Java Full Throttle"
   ]
  },
  {
   "cell_type": "markdown",
   "metadata": {},
   "source": [
    "<hr style=\"height:2px; border:none; color:#000; background-color:#000;\">"
   ]
  },
  {
   "cell_type": "markdown",
   "metadata": {
    "slideshow": {
     "slide_type": "slide"
    },
    "tags": []
   },
   "source": [
    "## New C++20-Based Full Throttle Courses\n",
    "Updated titles will appear on learning.oreilly.com soon\n",
    "\n",
    "1. **Modern C++ Full Throttle with Paul Deitel: Intro to C++20 & the Standard Library**\n",
    "> Presentation-Only Intro to Fundamentals, Arrays, Vectors, Pointers, OOP, Ranges, Views, Functional Programming; Brief Intro to Concepts, Modules & Coroutines\n",
    "\n",
    "2. **C++20 “Big Four” Full Throttle with Paul Deitel: Ranges, Concepts, Modules, Coroutines & More**  \n",
    "UNDER DEVELOPMENT, but you can watch the videos now at https://learning.oreilly.com/videos/c-20-fundamentals/9780136875185 \n",
    "> In-Depth, Presentation-Only Treatment of the Big Four, Containers, Iterators, Algorithms, Views, Functional Programming, Templates, Metaprogramming, Concurrency\n"
   ]
  },
  {
   "cell_type": "markdown",
   "metadata": {},
   "source": [
    "<hr style=\"height:2px; border:none; color:#000; background-color:#000;\">"
   ]
  },
  {
   "cell_type": "markdown",
   "metadata": {
    "slideshow": {
     "slide_type": "slide"
    },
    "tags": []
   },
   "source": [
    "# Now Available on O'Reilly:<br/>**C++20 for Programmers** and<br/>**C++20 LiveLessons** Sneak Peek  \n",
    "Lessons 1-16 now available  \n",
    "https://deitel.com/LearnWithDeitel\n",
    "\n",
    "<a href=\"https://learning.oreilly.com/videos/c20-fundamentals/9780136875185\"><img alt=\"C++ Fundamentals LiveLessons cover\" src=\"./images/cpp20ll.jpg\" width=\"200px\" border=\"1\"/></a>&nbsp;&nbsp;&nbsp;<a href=\"https://learning.oreilly.com/library/view/c20-for-programmers/9780136905776/\"><img alt=\"C++20 for Programmers cover\" src=\"./images/c-plus-plus-20-for-programmers.jpg\"  width=\"184px\" border=\"1\"/></a>\n"
   ]
  },
  {
   "cell_type": "markdown",
   "metadata": {
    "tags": []
   },
   "source": [
    "<hr style=\"height:2px; border:none; color:#000; background-color:#000;\">"
   ]
  },
  {
   "cell_type": "markdown",
   "metadata": {
    "slideshow": {
     "slide_type": "slide"
    },
    "tags": []
   },
   "source": [
    "# C++20 TextBook Currently in Production\n",
    "## C++ How to Program: An Objects-Natural Approach, 11/e\n",
    "\n",
    "<a style=\"float:left; padding-right:30px; width: 200px;\" href=\"https://deitel.com/cpphtp11\"><img alt=\"C++ How to Program, 11/e cover\" src=\"https://deitel.com/wp-content/uploads/2023/05/c-plus-plus-how-to-program-11-e-cover.png\" border=\"1\"/></a>\n",
    "\n",
    "* https://deitel.com/cpphtp11\n",
    "* No more print textbooks\n",
    "* e-book formats: **Amazon Kindle** (and other e-readers), **https://VitalSource.com**, **https://RedShelf.com**\n",
    "* **Pearson+ eText** (includes VideoNotes for Chapters 1-10) — https://pearson.com\n",
    "* **Pearson Revel** (Pearson eText + VideoNotes for Chapters 1-10 + graded assessments) — https://revel.pearson.com"
   ]
  },
  {
   "cell_type": "markdown",
   "metadata": {
    "tags": []
   },
   "source": [
    "<hr style=\"height:2px; border:none; color:#000; background-color:#000;\">"
   ]
  },
  {
   "cell_type": "markdown",
   "metadata": {},
   "source": [
    "# C How to Program, 9/e: with Application Programming and Systems Programming Case Studies\n",
    "**E-mail paul@deitel.com** with questions.\n",
    "\n",
    "<a style=\"float: left; padding-right:30px\" href=\"https://deitel.com/c-how-to-program-9-e/\"><img alt=\"C How to Program, 9/e\" src=\"https://deitel.com/wp-content/uploads/2021/02/c-how-to-program-9-e.jpg\" width=\"200px\" border=\"1\"/></a>\n",
    "\n",
    "**A Few Key Features:**\n",
    "* Rich coverage of programming fundamentals\n",
    "* **20+ rich case studies from computer science, artificial intelligence, data science and other fields**\n",
    "* 350+ integrated self-check exercises with answers\n",
    "* Enhanced security/data science per ACM™/IEEE™ guidelines\n",
    "* Use free open-source libraries and tools\n",
    "* gnuplot visualization\n",
    "* raylib game programming\n",
    "* AI: Machine learning, natural language processing\n",
    "* Robotics and 3D graphics with the Webots simulator\n"
   ]
  },
  {
   "cell_type": "markdown",
   "metadata": {},
   "source": [
    "<hr style=\"height:2px; border:none; color:#000; background-color:#000;\">"
   ]
  },
  {
   "cell_type": "markdown",
   "metadata": {},
   "source": [
    "# Note Regarding Code Execution\n",
    "* I don't intend for you to run everything in parallel with my presentation.\n",
    "* **Today's goal:** Expose you to **many data science and AI topics** in Python\n",
    "* Some **require complex software setups** that I can't cover in the course due to time constraints\n",
    "* I've provided **links to detailed setup instructions** in both my **Python Fundamentals LiveLessons videos** and in **Python for Programmers**"
   ]
  },
  {
   "cell_type": "markdown",
   "metadata": {},
   "source": [
    "<hr style=\"height:2px; border:none; color:#000; background-color:#000;\">"
   ]
  },
  {
   "cell_type": "markdown",
   "metadata": {
    "tags": []
   },
   "source": [
    "# Code and Jupyter Notebooks for Today's Presentation\n",
    "* Presenting in **Jupyter Notebooks** \n",
    "* [**Download the notebooks** from my GitHub repository](https://github.com/pdeitel/PythonDataScienceFullThrottle) \n",
    "* Root **`PythonDataScienceFullThrottle`** folder contains this **`StartHere.ipynb`** and **subfolders `ch11`-`ch16`** for the 6 sections of today's presentation\n",
    "    * Each folder corresponds to a lesson in my **Python Fundamentals LiveLessons videos** and a chapter in **Python for Programmers**\n"
   ]
  },
  {
   "cell_type": "markdown",
   "metadata": {},
   "source": [
    "<hr style=\"height:2px; border:none; color:#000; background-color:#000;\">"
   ]
  },
  {
   "cell_type": "markdown",
   "metadata": {
    "tags": []
   },
   "source": [
    "# Docker\n",
    "* Can build a docker container from the Dockerfile provided in the GitHub repository\n",
    "* After building it, you can run it from the `PythonDataScienceFullThrottle` folder on your system — type the entire command before pressing _Enter_\n",
    "\n",
    ">```\n",
    "docker run  --rm  -p 8888:8888  -p 4040:4040  -it  --user root  -v .:/home/jovyan/work deitelpydsft   start.sh jupyter lab\n",
    "```"
   ]
  },
  {
   "cell_type": "markdown",
   "metadata": {},
   "source": [
    "<hr style=\"height:2px; border:none; color:#000; background-color:#000;\">"
   ]
  },
  {
   "cell_type": "markdown",
   "metadata": {},
   "source": [
    "# Viewing the Notebooks Online\n",
    "* Many examples require license keys or more complex software setups that prevent running in parallel with me\n",
    "* You can view final executed notebooks online in the GitHub repository or by using the Jupyter team's NBViewer service:\n",
    "> https://nbviewer.jupyter.org/github/pdeitel/PythonDataScienceFullThrottle/tree/master/"
   ]
  },
  {
   "cell_type": "markdown",
   "metadata": {},
   "source": [
    "<hr style=\"height:2px; border:none; color:#000; background-color:#000;\">"
   ]
  },
  {
   "cell_type": "markdown",
   "metadata": {
    "slideshow": {
     "slide_type": "slide"
    }
   },
   "source": [
    "# Multitiered Learning Approach\n",
    "* No need to take extensive notes.\n",
    "* A video of this presentation will be available 24 hours after the course."
   ]
  },
  {
   "cell_type": "markdown",
   "metadata": {},
   "source": [
    "<hr style=\"height:2px; border:none; color:#000; background-color:#000;\">"
   ]
  },
  {
   "cell_type": "markdown",
   "metadata": {
    "slideshow": {
     "slide_type": "slide"
    }
   },
   "source": [
    "### Detailed Treatments of This Material \n",
    "Here on O'Reilly\n",
    "* **[_Python Fundamentals_ video training](https://learning.oreilly.com/videos/python-fundamentals/9780135917411)** \n",
    "* **[_Python for Programmers_ e-book](https://learning.oreilly.com/library/view/python-for-programmers/9780135231364/)**\n",
    "* **[_Intro to Python for Computer Science and Data Science_ e-book](https://learning.oreilly.com/library/view/intro-to-python/9780135404799/)**"
   ]
  },
  {
   "cell_type": "markdown",
   "metadata": {},
   "source": [
    "<hr style=\"height:2px; border:none; color:#000; background-color:#000;\">"
   ]
  },
  {
   "cell_type": "markdown",
   "metadata": {
    "slideshow": {
     "slide_type": "slide"
    }
   },
   "source": [
    "# Deitel Python on O'Reilly:<br/>https://deitel.com/LearnWithDeitel\n",
    "<div style=\"float: left; padding-right:10px;text-align:center\"><a href=\"https://learning.oreilly.com/videos/python-fundamentals/9780135917411\"><img alt=\"Python Fundamentals LiveLessons cover\" src=\"./images/PythonFundamentalsLiveLessons.jpg\" width=\"200\" border=\"1\"/></a></br>50+ hours of in-depth videos</div>\n",
    "<div style=\"float: left; padding-right:10px;text-align:center\"><a href=\"https://learning.oreilly.com/library/view/intro-to-python/9780135404799/\"><img alt=\"Intro to Python for Computer Science and Data Science: Learning to Program with AI, Big Data and the Cloud\" src=\"./images/IntroToPythonCover.png\" width=\"195\" border=\"1\"></a><br/><a href=\"https://amzn.to/2LiDCmt\">Buy on Amazon</a></div></div>\n",
    "<div style=\"float: left; padding-right:10px;text-align:center\"><a href=\"https://learning.oreilly.com/library/view/python-for-programmers/9780135231364\"><img alt=\"Python for Programmers cover\" src=\"./images/PyFPCover.png\" width=\"184\" border=\"1\"/></a><br/><a href=\"https://amzn.to/2VvdnxE\">Buy on Amazon</a></div>"
   ]
  },
  {
   "cell_type": "markdown",
   "metadata": {},
   "source": [
    "Please do not buy both books. **Python for Programmers** is a subset of **Intro to Python**."
   ]
  },
  {
   "cell_type": "markdown",
   "metadata": {},
   "source": [
    "<hr style=\"height:2px; border:none; color:#000; background-color:#000;\">"
   ]
  },
  {
   "cell_type": "markdown",
   "metadata": {
    "slideshow": {
     "slide_type": "slide"
    }
   },
   "source": [
    "# [Our Python Textbook for College Courses](https://learning.oreilly.com/library/view/intro-to-python/9780135404799/)\n",
    "<a style=\"float: left; padding-right:25px\" href=\"https://amzn.to/2LiDCmt\"><img alt=\"Intro to Python for Computer Science and Data Science: Learning to Program with AI, Big Data and the Cloud\" src=\"./images/IntroToPythonCover.png\" width=\"150\" border=\"1\"></a>\n",
    "\n",
    "* **College Professors/Instructors**:  \n",
    "[Pre-Recorded Webinar Overview](https://www.pearson.com/us/about/news-events/events/2019/04/intro-to-python-for-computer-science-and-data-science.html).  \n",
    "* [**Request an examination copy**](https://www.pearson.com/replocator) from your Pearson rep\n",
    "* Full color\n",
    "* 880 pages&mdash;240 more than **Python for Programmers**\n",
    "* **Programming fundamentals**, including **program development**\n",
    "* **557 self-check exercises**\n",
    "* **471 end-of-chapter exercises and projects**—Good for term projects, directed studies, capstone projects and thesis research topics across many fields\n",
    "* **More Info:**\n",
    "https://deitel.com/intro-to-python-for-computer-science-and-data-science/\n"
   ]
  },
  {
   "cell_type": "markdown",
   "metadata": {},
   "source": [
    "<hr style=\"height:2px; border:none; color:#000; background-color:#000;\">"
   ]
  },
  {
   "cell_type": "markdown",
   "metadata": {
    "slideshow": {
     "slide_type": "slide"
    }
   },
   "source": [
    "# Rhythm of the Course \n",
    "* **Whirlwind tour** of\n",
    "    * Natural Language Processing\n",
    "    * Data Mining Mastodon\n",
    "    * IBM Watson and Cognitive Computing\n",
    "    * Machine Learning (supervised and unsupervised)\n",
    "    * Deep learning\n",
    "    * Big Data with SQL, NoSQL, Hadoop, Spark and IoT\n",
    "* **Lecture only, source-code focused presentation**\n",
    "    * Six lecture segments and 5 breaks\n",
    "    * Two 7-minute breaks in first half\n",
    "    * 45-minute meal break after approximately 3 hours\n",
    "    * Two 7-minute breaks in last half"
   ]
  },
  {
   "cell_type": "markdown",
   "metadata": {},
   "source": [
    "<hr style=\"height:2px; border:none; color:#000; background-color:#000;\">"
   ]
  },
  {
   "cell_type": "markdown",
   "metadata": {
    "slideshow": {
     "slide_type": "slide"
    }
   },
   "source": [
    "# Need More Detail?\n",
    "* We **extensively indexed** [**Python for Programmers**](https://learning.oreilly.com/library/view/python-for-programmers/9780135231364/) here on O'Reilly\n",
    "    * Locating a topic in our book will help you locate its video presentation in my [**Python Fundamentals LiveLessons videos**](https://learning.oreilly.com/videos/python-fundamentals/9780135917411)\n",
    "* **Questions** after the course? **<paul@deitel.com>**"
   ]
  },
  {
   "cell_type": "markdown",
   "metadata": {},
   "source": [
    "<hr style=\"height:2px; border:none; color:#000; background-color:#000;\">"
   ]
  },
  {
   "cell_type": "markdown",
   "metadata": {},
   "source": [
    "# &nbsp;\n",
    "# &nbsp;\n",
    "# **\"If I have seen further it is by standing on the shoulders of giants.\"** &mdash; Isaac Newton (and others before him)\n",
    "# &nbsp;\n",
    "# &nbsp;"
   ]
  },
  {
   "cell_type": "markdown",
   "metadata": {},
   "source": [
    "<hr style=\"height:2px; border:none; color:#000; background-color:#000;\">"
   ]
  },
  {
   "cell_type": "markdown",
   "metadata": {},
   "source": [
    "&copy; 2023 by Pearson Education, Inc. All Rights Reserved. The content in this notebook is based on the textbook [**Intro Python for Computer Science and Data Science**](https://amzn.to/2YU0QTJ) and our professional book [**Python for Programmers**](https://amzn.to/2VvdnxE) — Please do not purchase both. The professional book is a subset of the textbook."
   ]
  }
 ],
 "metadata": {
  "kernelspec": {
   "display_name": "Python 3 (ipykernel)",
   "language": "python",
   "name": "python3"
  },
  "language_info": {
   "codemirror_mode": {
    "name": "ipython",
    "version": 3
   },
   "file_extension": ".py",
   "mimetype": "text/x-python",
   "name": "python",
   "nbconvert_exporter": "python",
   "pygments_lexer": "ipython3",
   "version": "3.11.5"
  },
  "nbTranslate": {
   "displayLangs": [
    "*"
   ],
   "hotkey": "alt-t",
   "langInMainMenu": true,
   "sourceLang": "en",
   "targetLang": "fr",
   "useGoogleTranslate": true
  }
 },
 "nbformat": 4,
 "nbformat_minor": 4
}
